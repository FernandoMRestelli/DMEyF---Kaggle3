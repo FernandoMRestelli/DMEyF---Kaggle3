{
 "cells": [
  {
   "cell_type": "markdown",
   "metadata": {
    "id": "1Vd-Rfyik62j"
   },
   "source": [
    "# Instalamos librerias necesarias\n",
    "\n",
    "Antes que nada, carguemos el entorno de trabajo\n"
   ]
  },
  {
   "cell_type": "code",
   "execution_count": null,
   "metadata": {},
   "outputs": [],
   "source": [
    "%pip install --upgrade pip setuptools wheel --break-system-packages"
   ]
  },
  {
   "cell_type": "code",
   "execution_count": null,
   "metadata": {},
   "outputs": [],
   "source": [
    "%pip install seaborn==0.13.1 numpy==1.26.4 matplotlib==3.7.1 pandas==2.1.4 lightgbm==4.4.0 optuna==3.6 scikit-learn==1.3.1 --break-system-packages\n",
    "\n",
    "\n",
    "\n"
   ]
  },
  {
   "cell_type": "code",
   "execution_count": 1,
   "metadata": {
    "id": "Cj-rL6xHlA2u"
   },
   "outputs": [
    {
     "data": {
      "text/html": [
       "<style type='text/css'>\n",
       ".datatable table.frame { margin-bottom: 0; }\n",
       ".datatable table.frame thead { border-bottom: none; }\n",
       ".datatable table.frame tr.coltypes td {  color: #FFFFFF;  line-height: 6px;  padding: 0 0.5em;}\n",
       ".datatable .bool    { background: #DDDD99; }\n",
       ".datatable .object  { background: #565656; }\n",
       ".datatable .int     { background: #5D9E5D; }\n",
       ".datatable .float   { background: #4040CC; }\n",
       ".datatable .str     { background: #CC4040; }\n",
       ".datatable .time    { background: #40CC40; }\n",
       ".datatable .row_index {  background: var(--jp-border-color3);  border-right: 1px solid var(--jp-border-color0);  color: var(--jp-ui-font-color3);  font-size: 9px;}\n",
       ".datatable .frame tbody td { text-align: left; }\n",
       ".datatable .frame tr.coltypes .row_index {  background: var(--jp-border-color0);}\n",
       ".datatable th:nth-child(2) { padding-left: 12px; }\n",
       ".datatable .hellipsis {  color: var(--jp-cell-editor-border-color);}\n",
       ".datatable .vellipsis {  background: var(--jp-layout-color0);  color: var(--jp-cell-editor-border-color);}\n",
       ".datatable .na {  color: var(--jp-cell-editor-border-color);  font-size: 80%;}\n",
       ".datatable .sp {  opacity: 0.25;}\n",
       ".datatable .footer { font-size: 9px; }\n",
       ".datatable .frame_dimensions {  background: var(--jp-border-color3);  border-top: 1px solid var(--jp-border-color0);  color: var(--jp-ui-font-color3);  display: inline-block;  opacity: 0.6;  padding: 1px 10px 1px 5px;}\n",
       ".datatable .frame thead tr.colnames {  background-image: url('data:image/png;base64,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');  background-repeat: repeat-x;  background-size: 14px;  height: 28px;}\n",
       "</style>\n"
      ],
      "text/plain": [
       "<IPython.core.display.HTML object>"
      ]
     },
     "metadata": {},
     "output_type": "display_data"
    },
    {
     "name": "stderr",
     "output_type": "stream",
     "text": [
      "/home/fernandomrestelli/.venv/lib/python3.12/site-packages/dask/dataframe/__init__.py:49: FutureWarning: \n",
      "Dask dataframe query planning is disabled because dask-expr is not installed.\n",
      "\n",
      "You can install it with `pip install dask[dataframe]` or `conda install dask`.\n",
      "This will raise in a future version.\n",
      "\n",
      "  warnings.warn(msg, FutureWarning)\n",
      "/home/fernandomrestelli/.venv/lib/python3.12/site-packages/tqdm/auto.py:21: TqdmWarning: IProgress not found. Please update jupyter and ipywidgets. See https://ipywidgets.readthedocs.io/en/stable/user_install.html\n",
      "  from .autonotebook import tqdm as notebook_tqdm\n"
     ]
    }
   ],
   "source": [
    "import pandas as pd\n",
    "import numpy as np\n",
    "import seaborn as sns\n",
    "import matplotlib.pyplot as plt\n",
    "\n",
    "from sklearn.model_selection import train_test_split\n",
    "from sklearn.model_selection import ShuffleSplit, StratifiedShuffleSplit\n",
    "from sklearn.ensemble import RandomForestClassifier\n",
    "from sklearn.impute import SimpleImputer\n",
    "\n",
    "import lightgbm as lgb\n",
    "\n",
    "import optuna\n",
    "from optuna.visualization import plot_optimization_history, plot_param_importances, plot_slice, plot_contour\n",
    "\n",
    "from time import time\n",
    "\n",
    "import pickle"
   ]
  },
  {
   "cell_type": "markdown",
   "metadata": {},
   "source": [
    "# Cargamos el Dataset de Competencia_03 y defino la ganancia\n",
    "\n",
    "Además de las semillas"
   ]
  },
  {
   "cell_type": "code",
   "execution_count": 2,
   "metadata": {
    "id": "8jGKjoN1lRho"
   },
   "outputs": [],
   "source": [
    "base_path = '/home/fernandomrestelli/dmeyf2024/Competencia02y03/'\n",
    "dataset_path = base_path + 'datos/'\n",
    "modelos_path = base_path + 'modelos/'\n",
    "db_path = base_path + 'db/'\n",
    "dataset_file = 'competencia_03_reduced.csv'\n",
    "\n",
    "ganancia_acierto = 273000\n",
    "costo_estimulo = 7000\n",
    "\n",
    "\n",
    "\n",
    "# agregue sus semillas\n",
    "semillas = [945787,945799,945809,945811,945817]\n",
    "\n",
    "data = pd.read_csv(dataset_path + dataset_file)"
   ]
  },
  {
   "cell_type": "markdown",
   "metadata": {},
   "source": [
    "# Defino que meses para el train y test: \n",
    "Train: 1 año antes.\n",
    "Test: Septiembre 2021."
   ]
  },
  {
   "cell_type": "code",
   "execution_count": 3,
   "metadata": {},
   "outputs": [],
   "source": [
    "# Define el rango de meses\n",
    "\n",
    "mes_inicio = 202008\n",
    "mes_fin = 202106\n",
    "\n",
    "\n",
    "mes_test = 202107\n",
    "\n",
    "Septiembre = 202109"
   ]
  },
  {
   "cell_type": "markdown",
   "metadata": {},
   "source": [
    "# Feature Enginering"
   ]
  },
  {
   "cell_type": "markdown",
   "metadata": {},
   "source": [
    "### Calculo deltas para usar data historica en la predicción\n",
    "\n",
    "Ordeno el dataset por nro. de Cliente y foto mes (Secuencial), Selecciono las columnas numericas y calculo los deltas para las columnas numericas. Es decir la diferencia entre un mes y el anterior para un cliente en una columna particular. "
   ]
  },
  {
   "cell_type": "code",
   "execution_count": 4,
   "metadata": {
    "scrolled": true
   },
   "outputs": [
    {
     "name": "stderr",
     "output_type": "stream",
     "text": [
      "/tmp/ipykernel_2453/3121938480.py:38: PerformanceWarning: DataFrame is highly fragmented.  This is usually the result of calling `frame.insert` many times, which has poor performance.  Consider joining all columns at once using pd.concat(axis=1) instead. To get a de-fragmented frame, use `newframe = frame.copy()`\n",
      "  lags_deltas[f'lag_1_{columna}'] = data.groupby('numero_de_cliente')[columna].shift(1)\n",
      "/tmp/ipykernel_2453/3121938480.py:39: PerformanceWarning: DataFrame is highly fragmented.  This is usually the result of calling `frame.insert` many times, which has poor performance.  Consider joining all columns at once using pd.concat(axis=1) instead. To get a de-fragmented frame, use `newframe = frame.copy()`\n",
      "  lags_deltas[f'lag_2_{columna}'] = data.groupby('numero_de_cliente')[columna].shift(2)\n",
      "/tmp/ipykernel_2453/3121938480.py:42: PerformanceWarning: DataFrame is highly fragmented.  This is usually the result of calling `frame.insert` many times, which has poor performance.  Consider joining all columns at once using pd.concat(axis=1) instead. To get a de-fragmented frame, use `newframe = frame.copy()`\n",
      "  lags_deltas[f'delta_1_{columna}'] = data[columna] - lags_deltas[f'lag_1_{columna}']\n",
      "/tmp/ipykernel_2453/3121938480.py:43: PerformanceWarning: DataFrame is highly fragmented.  This is usually the result of calling `frame.insert` many times, which has poor performance.  Consider joining all columns at once using pd.concat(axis=1) instead. To get a de-fragmented frame, use `newframe = frame.copy()`\n",
      "  lags_deltas[f'delta_2_{columna}'] = data[columna] - lags_deltas[f'lag_2_{columna}']\n",
      "/tmp/ipykernel_2453/3121938480.py:38: PerformanceWarning: DataFrame is highly fragmented.  This is usually the result of calling `frame.insert` many times, which has poor performance.  Consider joining all columns at once using pd.concat(axis=1) instead. To get a de-fragmented frame, use `newframe = frame.copy()`\n",
      "  lags_deltas[f'lag_1_{columna}'] = data.groupby('numero_de_cliente')[columna].shift(1)\n",
      "/tmp/ipykernel_2453/3121938480.py:39: PerformanceWarning: DataFrame is highly fragmented.  This is usually the result of calling `frame.insert` many times, which has poor performance.  Consider joining all columns at once using pd.concat(axis=1) instead. To get a de-fragmented frame, use `newframe = frame.copy()`\n",
      "  lags_deltas[f'lag_2_{columna}'] = data.groupby('numero_de_cliente')[columna].shift(2)\n",
      "/tmp/ipykernel_2453/3121938480.py:42: PerformanceWarning: DataFrame is highly fragmented.  This is usually the result of calling `frame.insert` many times, which has poor performance.  Consider joining all columns at once using pd.concat(axis=1) instead. To get a de-fragmented frame, use `newframe = frame.copy()`\n",
      "  lags_deltas[f'delta_1_{columna}'] = data[columna] - lags_deltas[f'lag_1_{columna}']\n",
      "/tmp/ipykernel_2453/3121938480.py:43: PerformanceWarning: DataFrame is highly fragmented.  This is usually the result of calling `frame.insert` many times, which has poor performance.  Consider joining all columns at once using pd.concat(axis=1) instead. To get a de-fragmented frame, use `newframe = frame.copy()`\n",
      "  lags_deltas[f'delta_2_{columna}'] = data[columna] - lags_deltas[f'lag_2_{columna}']\n",
      "/tmp/ipykernel_2453/3121938480.py:38: PerformanceWarning: DataFrame is highly fragmented.  This is usually the result of calling `frame.insert` many times, which has poor performance.  Consider joining all columns at once using pd.concat(axis=1) instead. To get a de-fragmented frame, use `newframe = frame.copy()`\n",
      "  lags_deltas[f'lag_1_{columna}'] = data.groupby('numero_de_cliente')[columna].shift(1)\n",
      "/tmp/ipykernel_2453/3121938480.py:39: PerformanceWarning: DataFrame is highly fragmented.  This is usually the result of calling `frame.insert` many times, which has poor performance.  Consider joining all columns at once using pd.concat(axis=1) instead. To get a de-fragmented frame, use `newframe = frame.copy()`\n",
      "  lags_deltas[f'lag_2_{columna}'] = data.groupby('numero_de_cliente')[columna].shift(2)\n",
      "/tmp/ipykernel_2453/3121938480.py:42: PerformanceWarning: DataFrame is highly fragmented.  This is usually the result of calling `frame.insert` many times, which has poor performance.  Consider joining all columns at once using pd.concat(axis=1) instead. To get a de-fragmented frame, use `newframe = frame.copy()`\n",
      "  lags_deltas[f'delta_1_{columna}'] = data[columna] - lags_deltas[f'lag_1_{columna}']\n",
      "/tmp/ipykernel_2453/3121938480.py:43: PerformanceWarning: DataFrame is highly fragmented.  This is usually the result of calling `frame.insert` many times, which has poor performance.  Consider joining all columns at once using pd.concat(axis=1) instead. To get a de-fragmented frame, use `newframe = frame.copy()`\n",
      "  lags_deltas[f'delta_2_{columna}'] = data[columna] - lags_deltas[f'lag_2_{columna}']\n",
      "/tmp/ipykernel_2453/3121938480.py:38: PerformanceWarning: DataFrame is highly fragmented.  This is usually the result of calling `frame.insert` many times, which has poor performance.  Consider joining all columns at once using pd.concat(axis=1) instead. To get a de-fragmented frame, use `newframe = frame.copy()`\n",
      "  lags_deltas[f'lag_1_{columna}'] = data.groupby('numero_de_cliente')[columna].shift(1)\n",
      "/tmp/ipykernel_2453/3121938480.py:39: PerformanceWarning: DataFrame is highly fragmented.  This is usually the result of calling `frame.insert` many times, which has poor performance.  Consider joining all columns at once using pd.concat(axis=1) instead. To get a de-fragmented frame, use `newframe = frame.copy()`\n",
      "  lags_deltas[f'lag_2_{columna}'] = data.groupby('numero_de_cliente')[columna].shift(2)\n",
      "/tmp/ipykernel_2453/3121938480.py:42: PerformanceWarning: DataFrame is highly fragmented.  This is usually the result of calling `frame.insert` many times, which has poor performance.  Consider joining all columns at once using pd.concat(axis=1) instead. To get a de-fragmented frame, use `newframe = frame.copy()`\n",
      "  lags_deltas[f'delta_1_{columna}'] = data[columna] - lags_deltas[f'lag_1_{columna}']\n",
      "/tmp/ipykernel_2453/3121938480.py:43: PerformanceWarning: DataFrame is highly fragmented.  This is usually the result of calling `frame.insert` many times, which has poor performance.  Consider joining all columns at once using pd.concat(axis=1) instead. To get a de-fragmented frame, use `newframe = frame.copy()`\n",
      "  lags_deltas[f'delta_2_{columna}'] = data[columna] - lags_deltas[f'lag_2_{columna}']\n",
      "/tmp/ipykernel_2453/3121938480.py:38: PerformanceWarning: DataFrame is highly fragmented.  This is usually the result of calling `frame.insert` many times, which has poor performance.  Consider joining all columns at once using pd.concat(axis=1) instead. To get a de-fragmented frame, use `newframe = frame.copy()`\n",
      "  lags_deltas[f'lag_1_{columna}'] = data.groupby('numero_de_cliente')[columna].shift(1)\n",
      "/tmp/ipykernel_2453/3121938480.py:39: PerformanceWarning: DataFrame is highly fragmented.  This is usually the result of calling `frame.insert` many times, which has poor performance.  Consider joining all columns at once using pd.concat(axis=1) instead. To get a de-fragmented frame, use `newframe = frame.copy()`\n",
      "  lags_deltas[f'lag_2_{columna}'] = data.groupby('numero_de_cliente')[columna].shift(2)\n",
      "/tmp/ipykernel_2453/3121938480.py:42: PerformanceWarning: DataFrame is highly fragmented.  This is usually the result of calling `frame.insert` many times, which has poor performance.  Consider joining all columns at once using pd.concat(axis=1) instead. To get a de-fragmented frame, use `newframe = frame.copy()`\n",
      "  lags_deltas[f'delta_1_{columna}'] = data[columna] - lags_deltas[f'lag_1_{columna}']\n",
      "/tmp/ipykernel_2453/3121938480.py:43: PerformanceWarning: DataFrame is highly fragmented.  This is usually the result of calling `frame.insert` many times, which has poor performance.  Consider joining all columns at once using pd.concat(axis=1) instead. To get a de-fragmented frame, use `newframe = frame.copy()`\n",
      "  lags_deltas[f'delta_2_{columna}'] = data[columna] - lags_deltas[f'lag_2_{columna}']\n",
      "/tmp/ipykernel_2453/3121938480.py:38: PerformanceWarning: DataFrame is highly fragmented.  This is usually the result of calling `frame.insert` many times, which has poor performance.  Consider joining all columns at once using pd.concat(axis=1) instead. To get a de-fragmented frame, use `newframe = frame.copy()`\n",
      "  lags_deltas[f'lag_1_{columna}'] = data.groupby('numero_de_cliente')[columna].shift(1)\n",
      "/tmp/ipykernel_2453/3121938480.py:39: PerformanceWarning: DataFrame is highly fragmented.  This is usually the result of calling `frame.insert` many times, which has poor performance.  Consider joining all columns at once using pd.concat(axis=1) instead. To get a de-fragmented frame, use `newframe = frame.copy()`\n",
      "  lags_deltas[f'lag_2_{columna}'] = data.groupby('numero_de_cliente')[columna].shift(2)\n",
      "/tmp/ipykernel_2453/3121938480.py:42: PerformanceWarning: DataFrame is highly fragmented.  This is usually the result of calling `frame.insert` many times, which has poor performance.  Consider joining all columns at once using pd.concat(axis=1) instead. To get a de-fragmented frame, use `newframe = frame.copy()`\n",
      "  lags_deltas[f'delta_1_{columna}'] = data[columna] - lags_deltas[f'lag_1_{columna}']\n",
      "/tmp/ipykernel_2453/3121938480.py:43: PerformanceWarning: DataFrame is highly fragmented.  This is usually the result of calling `frame.insert` many times, which has poor performance.  Consider joining all columns at once using pd.concat(axis=1) instead. To get a de-fragmented frame, use `newframe = frame.copy()`\n",
      "  lags_deltas[f'delta_2_{columna}'] = data[columna] - lags_deltas[f'lag_2_{columna}']\n",
      "/tmp/ipykernel_2453/3121938480.py:38: PerformanceWarning: DataFrame is highly fragmented.  This is usually the result of calling `frame.insert` many times, which has poor performance.  Consider joining all columns at once using pd.concat(axis=1) instead. To get a de-fragmented frame, use `newframe = frame.copy()`\n",
      "  lags_deltas[f'lag_1_{columna}'] = data.groupby('numero_de_cliente')[columna].shift(1)\n",
      "/tmp/ipykernel_2453/3121938480.py:39: PerformanceWarning: DataFrame is highly fragmented.  This is usually the result of calling `frame.insert` many times, which has poor performance.  Consider joining all columns at once using pd.concat(axis=1) instead. To get a de-fragmented frame, use `newframe = frame.copy()`\n",
      "  lags_deltas[f'lag_2_{columna}'] = data.groupby('numero_de_cliente')[columna].shift(2)\n",
      "/tmp/ipykernel_2453/3121938480.py:42: PerformanceWarning: DataFrame is highly fragmented.  This is usually the result of calling `frame.insert` many times, which has poor performance.  Consider joining all columns at once using pd.concat(axis=1) instead. To get a de-fragmented frame, use `newframe = frame.copy()`\n",
      "  lags_deltas[f'delta_1_{columna}'] = data[columna] - lags_deltas[f'lag_1_{columna}']\n",
      "/tmp/ipykernel_2453/3121938480.py:43: PerformanceWarning: DataFrame is highly fragmented.  This is usually the result of calling `frame.insert` many times, which has poor performance.  Consider joining all columns at once using pd.concat(axis=1) instead. To get a de-fragmented frame, use `newframe = frame.copy()`\n",
      "  lags_deltas[f'delta_2_{columna}'] = data[columna] - lags_deltas[f'lag_2_{columna}']\n",
      "/tmp/ipykernel_2453/3121938480.py:38: PerformanceWarning: DataFrame is highly fragmented.  This is usually the result of calling `frame.insert` many times, which has poor performance.  Consider joining all columns at once using pd.concat(axis=1) instead. To get a de-fragmented frame, use `newframe = frame.copy()`\n",
      "  lags_deltas[f'lag_1_{columna}'] = data.groupby('numero_de_cliente')[columna].shift(1)\n",
      "/tmp/ipykernel_2453/3121938480.py:39: PerformanceWarning: DataFrame is highly fragmented.  This is usually the result of calling `frame.insert` many times, which has poor performance.  Consider joining all columns at once using pd.concat(axis=1) instead. To get a de-fragmented frame, use `newframe = frame.copy()`\n",
      "  lags_deltas[f'lag_2_{columna}'] = data.groupby('numero_de_cliente')[columna].shift(2)\n",
      "/tmp/ipykernel_2453/3121938480.py:42: PerformanceWarning: DataFrame is highly fragmented.  This is usually the result of calling `frame.insert` many times, which has poor performance.  Consider joining all columns at once using pd.concat(axis=1) instead. To get a de-fragmented frame, use `newframe = frame.copy()`\n",
      "  lags_deltas[f'delta_1_{columna}'] = data[columna] - lags_deltas[f'lag_1_{columna}']\n",
      "/tmp/ipykernel_2453/3121938480.py:43: PerformanceWarning: DataFrame is highly fragmented.  This is usually the result of calling `frame.insert` many times, which has poor performance.  Consider joining all columns at once using pd.concat(axis=1) instead. To get a de-fragmented frame, use `newframe = frame.copy()`\n",
      "  lags_deltas[f'delta_2_{columna}'] = data[columna] - lags_deltas[f'lag_2_{columna}']\n",
      "/tmp/ipykernel_2453/3121938480.py:38: PerformanceWarning: DataFrame is highly fragmented.  This is usually the result of calling `frame.insert` many times, which has poor performance.  Consider joining all columns at once using pd.concat(axis=1) instead. To get a de-fragmented frame, use `newframe = frame.copy()`\n",
      "  lags_deltas[f'lag_1_{columna}'] = data.groupby('numero_de_cliente')[columna].shift(1)\n",
      "/tmp/ipykernel_2453/3121938480.py:39: PerformanceWarning: DataFrame is highly fragmented.  This is usually the result of calling `frame.insert` many times, which has poor performance.  Consider joining all columns at once using pd.concat(axis=1) instead. To get a de-fragmented frame, use `newframe = frame.copy()`\n",
      "  lags_deltas[f'lag_2_{columna}'] = data.groupby('numero_de_cliente')[columna].shift(2)\n",
      "/tmp/ipykernel_2453/3121938480.py:42: PerformanceWarning: DataFrame is highly fragmented.  This is usually the result of calling `frame.insert` many times, which has poor performance.  Consider joining all columns at once using pd.concat(axis=1) instead. To get a de-fragmented frame, use `newframe = frame.copy()`\n",
      "  lags_deltas[f'delta_1_{columna}'] = data[columna] - lags_deltas[f'lag_1_{columna}']\n",
      "/tmp/ipykernel_2453/3121938480.py:43: PerformanceWarning: DataFrame is highly fragmented.  This is usually the result of calling `frame.insert` many times, which has poor performance.  Consider joining all columns at once using pd.concat(axis=1) instead. To get a de-fragmented frame, use `newframe = frame.copy()`\n",
      "  lags_deltas[f'delta_2_{columna}'] = data[columna] - lags_deltas[f'lag_2_{columna}']\n",
      "/tmp/ipykernel_2453/3121938480.py:38: PerformanceWarning: DataFrame is highly fragmented.  This is usually the result of calling `frame.insert` many times, which has poor performance.  Consider joining all columns at once using pd.concat(axis=1) instead. To get a de-fragmented frame, use `newframe = frame.copy()`\n",
      "  lags_deltas[f'lag_1_{columna}'] = data.groupby('numero_de_cliente')[columna].shift(1)\n",
      "/tmp/ipykernel_2453/3121938480.py:39: PerformanceWarning: DataFrame is highly fragmented.  This is usually the result of calling `frame.insert` many times, which has poor performance.  Consider joining all columns at once using pd.concat(axis=1) instead. To get a de-fragmented frame, use `newframe = frame.copy()`\n",
      "  lags_deltas[f'lag_2_{columna}'] = data.groupby('numero_de_cliente')[columna].shift(2)\n",
      "/tmp/ipykernel_2453/3121938480.py:42: PerformanceWarning: DataFrame is highly fragmented.  This is usually the result of calling `frame.insert` many times, which has poor performance.  Consider joining all columns at once using pd.concat(axis=1) instead. To get a de-fragmented frame, use `newframe = frame.copy()`\n",
      "  lags_deltas[f'delta_1_{columna}'] = data[columna] - lags_deltas[f'lag_1_{columna}']\n",
      "/tmp/ipykernel_2453/3121938480.py:43: PerformanceWarning: DataFrame is highly fragmented.  This is usually the result of calling `frame.insert` many times, which has poor performance.  Consider joining all columns at once using pd.concat(axis=1) instead. To get a de-fragmented frame, use `newframe = frame.copy()`\n",
      "  lags_deltas[f'delta_2_{columna}'] = data[columna] - lags_deltas[f'lag_2_{columna}']\n",
      "/tmp/ipykernel_2453/3121938480.py:38: PerformanceWarning: DataFrame is highly fragmented.  This is usually the result of calling `frame.insert` many times, which has poor performance.  Consider joining all columns at once using pd.concat(axis=1) instead. To get a de-fragmented frame, use `newframe = frame.copy()`\n",
      "  lags_deltas[f'lag_1_{columna}'] = data.groupby('numero_de_cliente')[columna].shift(1)\n",
      "/tmp/ipykernel_2453/3121938480.py:39: PerformanceWarning: DataFrame is highly fragmented.  This is usually the result of calling `frame.insert` many times, which has poor performance.  Consider joining all columns at once using pd.concat(axis=1) instead. To get a de-fragmented frame, use `newframe = frame.copy()`\n",
      "  lags_deltas[f'lag_2_{columna}'] = data.groupby('numero_de_cliente')[columna].shift(2)\n",
      "/tmp/ipykernel_2453/3121938480.py:42: PerformanceWarning: DataFrame is highly fragmented.  This is usually the result of calling `frame.insert` many times, which has poor performance.  Consider joining all columns at once using pd.concat(axis=1) instead. To get a de-fragmented frame, use `newframe = frame.copy()`\n",
      "  lags_deltas[f'delta_1_{columna}'] = data[columna] - lags_deltas[f'lag_1_{columna}']\n",
      "/tmp/ipykernel_2453/3121938480.py:43: PerformanceWarning: DataFrame is highly fragmented.  This is usually the result of calling `frame.insert` many times, which has poor performance.  Consider joining all columns at once using pd.concat(axis=1) instead. To get a de-fragmented frame, use `newframe = frame.copy()`\n",
      "  lags_deltas[f'delta_2_{columna}'] = data[columna] - lags_deltas[f'lag_2_{columna}']\n",
      "/tmp/ipykernel_2453/3121938480.py:38: PerformanceWarning: DataFrame is highly fragmented.  This is usually the result of calling `frame.insert` many times, which has poor performance.  Consider joining all columns at once using pd.concat(axis=1) instead. To get a de-fragmented frame, use `newframe = frame.copy()`\n",
      "  lags_deltas[f'lag_1_{columna}'] = data.groupby('numero_de_cliente')[columna].shift(1)\n",
      "/tmp/ipykernel_2453/3121938480.py:39: PerformanceWarning: DataFrame is highly fragmented.  This is usually the result of calling `frame.insert` many times, which has poor performance.  Consider joining all columns at once using pd.concat(axis=1) instead. To get a de-fragmented frame, use `newframe = frame.copy()`\n",
      "  lags_deltas[f'lag_2_{columna}'] = data.groupby('numero_de_cliente')[columna].shift(2)\n",
      "/tmp/ipykernel_2453/3121938480.py:42: PerformanceWarning: DataFrame is highly fragmented.  This is usually the result of calling `frame.insert` many times, which has poor performance.  Consider joining all columns at once using pd.concat(axis=1) instead. To get a de-fragmented frame, use `newframe = frame.copy()`\n",
      "  lags_deltas[f'delta_1_{columna}'] = data[columna] - lags_deltas[f'lag_1_{columna}']\n",
      "/tmp/ipykernel_2453/3121938480.py:43: PerformanceWarning: DataFrame is highly fragmented.  This is usually the result of calling `frame.insert` many times, which has poor performance.  Consider joining all columns at once using pd.concat(axis=1) instead. To get a de-fragmented frame, use `newframe = frame.copy()`\n",
      "  lags_deltas[f'delta_2_{columna}'] = data[columna] - lags_deltas[f'lag_2_{columna}']\n",
      "/tmp/ipykernel_2453/3121938480.py:38: PerformanceWarning: DataFrame is highly fragmented.  This is usually the result of calling `frame.insert` many times, which has poor performance.  Consider joining all columns at once using pd.concat(axis=1) instead. To get a de-fragmented frame, use `newframe = frame.copy()`\n",
      "  lags_deltas[f'lag_1_{columna}'] = data.groupby('numero_de_cliente')[columna].shift(1)\n",
      "/tmp/ipykernel_2453/3121938480.py:39: PerformanceWarning: DataFrame is highly fragmented.  This is usually the result of calling `frame.insert` many times, which has poor performance.  Consider joining all columns at once using pd.concat(axis=1) instead. To get a de-fragmented frame, use `newframe = frame.copy()`\n",
      "  lags_deltas[f'lag_2_{columna}'] = data.groupby('numero_de_cliente')[columna].shift(2)\n",
      "/tmp/ipykernel_2453/3121938480.py:42: PerformanceWarning: DataFrame is highly fragmented.  This is usually the result of calling `frame.insert` many times, which has poor performance.  Consider joining all columns at once using pd.concat(axis=1) instead. To get a de-fragmented frame, use `newframe = frame.copy()`\n",
      "  lags_deltas[f'delta_1_{columna}'] = data[columna] - lags_deltas[f'lag_1_{columna}']\n",
      "/tmp/ipykernel_2453/3121938480.py:43: PerformanceWarning: DataFrame is highly fragmented.  This is usually the result of calling `frame.insert` many times, which has poor performance.  Consider joining all columns at once using pd.concat(axis=1) instead. To get a de-fragmented frame, use `newframe = frame.copy()`\n",
      "  lags_deltas[f'delta_2_{columna}'] = data[columna] - lags_deltas[f'lag_2_{columna}']\n",
      "/tmp/ipykernel_2453/3121938480.py:38: PerformanceWarning: DataFrame is highly fragmented.  This is usually the result of calling `frame.insert` many times, which has poor performance.  Consider joining all columns at once using pd.concat(axis=1) instead. To get a de-fragmented frame, use `newframe = frame.copy()`\n",
      "  lags_deltas[f'lag_1_{columna}'] = data.groupby('numero_de_cliente')[columna].shift(1)\n",
      "/tmp/ipykernel_2453/3121938480.py:39: PerformanceWarning: DataFrame is highly fragmented.  This is usually the result of calling `frame.insert` many times, which has poor performance.  Consider joining all columns at once using pd.concat(axis=1) instead. To get a de-fragmented frame, use `newframe = frame.copy()`\n",
      "  lags_deltas[f'lag_2_{columna}'] = data.groupby('numero_de_cliente')[columna].shift(2)\n",
      "/tmp/ipykernel_2453/3121938480.py:42: PerformanceWarning: DataFrame is highly fragmented.  This is usually the result of calling `frame.insert` many times, which has poor performance.  Consider joining all columns at once using pd.concat(axis=1) instead. To get a de-fragmented frame, use `newframe = frame.copy()`\n",
      "  lags_deltas[f'delta_1_{columna}'] = data[columna] - lags_deltas[f'lag_1_{columna}']\n",
      "/tmp/ipykernel_2453/3121938480.py:43: PerformanceWarning: DataFrame is highly fragmented.  This is usually the result of calling `frame.insert` many times, which has poor performance.  Consider joining all columns at once using pd.concat(axis=1) instead. To get a de-fragmented frame, use `newframe = frame.copy()`\n",
      "  lags_deltas[f'delta_2_{columna}'] = data[columna] - lags_deltas[f'lag_2_{columna}']\n",
      "/tmp/ipykernel_2453/3121938480.py:38: PerformanceWarning: DataFrame is highly fragmented.  This is usually the result of calling `frame.insert` many times, which has poor performance.  Consider joining all columns at once using pd.concat(axis=1) instead. To get a de-fragmented frame, use `newframe = frame.copy()`\n",
      "  lags_deltas[f'lag_1_{columna}'] = data.groupby('numero_de_cliente')[columna].shift(1)\n",
      "/tmp/ipykernel_2453/3121938480.py:39: PerformanceWarning: DataFrame is highly fragmented.  This is usually the result of calling `frame.insert` many times, which has poor performance.  Consider joining all columns at once using pd.concat(axis=1) instead. To get a de-fragmented frame, use `newframe = frame.copy()`\n",
      "  lags_deltas[f'lag_2_{columna}'] = data.groupby('numero_de_cliente')[columna].shift(2)\n",
      "/tmp/ipykernel_2453/3121938480.py:42: PerformanceWarning: DataFrame is highly fragmented.  This is usually the result of calling `frame.insert` many times, which has poor performance.  Consider joining all columns at once using pd.concat(axis=1) instead. To get a de-fragmented frame, use `newframe = frame.copy()`\n",
      "  lags_deltas[f'delta_1_{columna}'] = data[columna] - lags_deltas[f'lag_1_{columna}']\n",
      "/tmp/ipykernel_2453/3121938480.py:43: PerformanceWarning: DataFrame is highly fragmented.  This is usually the result of calling `frame.insert` many times, which has poor performance.  Consider joining all columns at once using pd.concat(axis=1) instead. To get a de-fragmented frame, use `newframe = frame.copy()`\n",
      "  lags_deltas[f'delta_2_{columna}'] = data[columna] - lags_deltas[f'lag_2_{columna}']\n",
      "/tmp/ipykernel_2453/3121938480.py:38: PerformanceWarning: DataFrame is highly fragmented.  This is usually the result of calling `frame.insert` many times, which has poor performance.  Consider joining all columns at once using pd.concat(axis=1) instead. To get a de-fragmented frame, use `newframe = frame.copy()`\n",
      "  lags_deltas[f'lag_1_{columna}'] = data.groupby('numero_de_cliente')[columna].shift(1)\n",
      "/tmp/ipykernel_2453/3121938480.py:39: PerformanceWarning: DataFrame is highly fragmented.  This is usually the result of calling `frame.insert` many times, which has poor performance.  Consider joining all columns at once using pd.concat(axis=1) instead. To get a de-fragmented frame, use `newframe = frame.copy()`\n",
      "  lags_deltas[f'lag_2_{columna}'] = data.groupby('numero_de_cliente')[columna].shift(2)\n",
      "/tmp/ipykernel_2453/3121938480.py:42: PerformanceWarning: DataFrame is highly fragmented.  This is usually the result of calling `frame.insert` many times, which has poor performance.  Consider joining all columns at once using pd.concat(axis=1) instead. To get a de-fragmented frame, use `newframe = frame.copy()`\n",
      "  lags_deltas[f'delta_1_{columna}'] = data[columna] - lags_deltas[f'lag_1_{columna}']\n",
      "/tmp/ipykernel_2453/3121938480.py:43: PerformanceWarning: DataFrame is highly fragmented.  This is usually the result of calling `frame.insert` many times, which has poor performance.  Consider joining all columns at once using pd.concat(axis=1) instead. To get a de-fragmented frame, use `newframe = frame.copy()`\n",
      "  lags_deltas[f'delta_2_{columna}'] = data[columna] - lags_deltas[f'lag_2_{columna}']\n",
      "/tmp/ipykernel_2453/3121938480.py:38: PerformanceWarning: DataFrame is highly fragmented.  This is usually the result of calling `frame.insert` many times, which has poor performance.  Consider joining all columns at once using pd.concat(axis=1) instead. To get a de-fragmented frame, use `newframe = frame.copy()`\n",
      "  lags_deltas[f'lag_1_{columna}'] = data.groupby('numero_de_cliente')[columna].shift(1)\n",
      "/tmp/ipykernel_2453/3121938480.py:39: PerformanceWarning: DataFrame is highly fragmented.  This is usually the result of calling `frame.insert` many times, which has poor performance.  Consider joining all columns at once using pd.concat(axis=1) instead. To get a de-fragmented frame, use `newframe = frame.copy()`\n",
      "  lags_deltas[f'lag_2_{columna}'] = data.groupby('numero_de_cliente')[columna].shift(2)\n",
      "/tmp/ipykernel_2453/3121938480.py:42: PerformanceWarning: DataFrame is highly fragmented.  This is usually the result of calling `frame.insert` many times, which has poor performance.  Consider joining all columns at once using pd.concat(axis=1) instead. To get a de-fragmented frame, use `newframe = frame.copy()`\n",
      "  lags_deltas[f'delta_1_{columna}'] = data[columna] - lags_deltas[f'lag_1_{columna}']\n",
      "/tmp/ipykernel_2453/3121938480.py:43: PerformanceWarning: DataFrame is highly fragmented.  This is usually the result of calling `frame.insert` many times, which has poor performance.  Consider joining all columns at once using pd.concat(axis=1) instead. To get a de-fragmented frame, use `newframe = frame.copy()`\n",
      "  lags_deltas[f'delta_2_{columna}'] = data[columna] - lags_deltas[f'lag_2_{columna}']\n",
      "/tmp/ipykernel_2453/3121938480.py:38: PerformanceWarning: DataFrame is highly fragmented.  This is usually the result of calling `frame.insert` many times, which has poor performance.  Consider joining all columns at once using pd.concat(axis=1) instead. To get a de-fragmented frame, use `newframe = frame.copy()`\n",
      "  lags_deltas[f'lag_1_{columna}'] = data.groupby('numero_de_cliente')[columna].shift(1)\n",
      "/tmp/ipykernel_2453/3121938480.py:39: PerformanceWarning: DataFrame is highly fragmented.  This is usually the result of calling `frame.insert` many times, which has poor performance.  Consider joining all columns at once using pd.concat(axis=1) instead. To get a de-fragmented frame, use `newframe = frame.copy()`\n",
      "  lags_deltas[f'lag_2_{columna}'] = data.groupby('numero_de_cliente')[columna].shift(2)\n",
      "/tmp/ipykernel_2453/3121938480.py:42: PerformanceWarning: DataFrame is highly fragmented.  This is usually the result of calling `frame.insert` many times, which has poor performance.  Consider joining all columns at once using pd.concat(axis=1) instead. To get a de-fragmented frame, use `newframe = frame.copy()`\n",
      "  lags_deltas[f'delta_1_{columna}'] = data[columna] - lags_deltas[f'lag_1_{columna}']\n",
      "/tmp/ipykernel_2453/3121938480.py:43: PerformanceWarning: DataFrame is highly fragmented.  This is usually the result of calling `frame.insert` many times, which has poor performance.  Consider joining all columns at once using pd.concat(axis=1) instead. To get a de-fragmented frame, use `newframe = frame.copy()`\n",
      "  lags_deltas[f'delta_2_{columna}'] = data[columna] - lags_deltas[f'lag_2_{columna}']\n",
      "/tmp/ipykernel_2453/3121938480.py:38: PerformanceWarning: DataFrame is highly fragmented.  This is usually the result of calling `frame.insert` many times, which has poor performance.  Consider joining all columns at once using pd.concat(axis=1) instead. To get a de-fragmented frame, use `newframe = frame.copy()`\n",
      "  lags_deltas[f'lag_1_{columna}'] = data.groupby('numero_de_cliente')[columna].shift(1)\n",
      "/tmp/ipykernel_2453/3121938480.py:39: PerformanceWarning: DataFrame is highly fragmented.  This is usually the result of calling `frame.insert` many times, which has poor performance.  Consider joining all columns at once using pd.concat(axis=1) instead. To get a de-fragmented frame, use `newframe = frame.copy()`\n",
      "  lags_deltas[f'lag_2_{columna}'] = data.groupby('numero_de_cliente')[columna].shift(2)\n",
      "/tmp/ipykernel_2453/3121938480.py:42: PerformanceWarning: DataFrame is highly fragmented.  This is usually the result of calling `frame.insert` many times, which has poor performance.  Consider joining all columns at once using pd.concat(axis=1) instead. To get a de-fragmented frame, use `newframe = frame.copy()`\n",
      "  lags_deltas[f'delta_1_{columna}'] = data[columna] - lags_deltas[f'lag_1_{columna}']\n",
      "/tmp/ipykernel_2453/3121938480.py:43: PerformanceWarning: DataFrame is highly fragmented.  This is usually the result of calling `frame.insert` many times, which has poor performance.  Consider joining all columns at once using pd.concat(axis=1) instead. To get a de-fragmented frame, use `newframe = frame.copy()`\n",
      "  lags_deltas[f'delta_2_{columna}'] = data[columna] - lags_deltas[f'lag_2_{columna}']\n",
      "/tmp/ipykernel_2453/3121938480.py:38: PerformanceWarning: DataFrame is highly fragmented.  This is usually the result of calling `frame.insert` many times, which has poor performance.  Consider joining all columns at once using pd.concat(axis=1) instead. To get a de-fragmented frame, use `newframe = frame.copy()`\n",
      "  lags_deltas[f'lag_1_{columna}'] = data.groupby('numero_de_cliente')[columna].shift(1)\n",
      "/tmp/ipykernel_2453/3121938480.py:39: PerformanceWarning: DataFrame is highly fragmented.  This is usually the result of calling `frame.insert` many times, which has poor performance.  Consider joining all columns at once using pd.concat(axis=1) instead. To get a de-fragmented frame, use `newframe = frame.copy()`\n",
      "  lags_deltas[f'lag_2_{columna}'] = data.groupby('numero_de_cliente')[columna].shift(2)\n",
      "/tmp/ipykernel_2453/3121938480.py:42: PerformanceWarning: DataFrame is highly fragmented.  This is usually the result of calling `frame.insert` many times, which has poor performance.  Consider joining all columns at once using pd.concat(axis=1) instead. To get a de-fragmented frame, use `newframe = frame.copy()`\n",
      "  lags_deltas[f'delta_1_{columna}'] = data[columna] - lags_deltas[f'lag_1_{columna}']\n",
      "/tmp/ipykernel_2453/3121938480.py:43: PerformanceWarning: DataFrame is highly fragmented.  This is usually the result of calling `frame.insert` many times, which has poor performance.  Consider joining all columns at once using pd.concat(axis=1) instead. To get a de-fragmented frame, use `newframe = frame.copy()`\n",
      "  lags_deltas[f'delta_2_{columna}'] = data[columna] - lags_deltas[f'lag_2_{columna}']\n",
      "/tmp/ipykernel_2453/3121938480.py:38: PerformanceWarning: DataFrame is highly fragmented.  This is usually the result of calling `frame.insert` many times, which has poor performance.  Consider joining all columns at once using pd.concat(axis=1) instead. To get a de-fragmented frame, use `newframe = frame.copy()`\n",
      "  lags_deltas[f'lag_1_{columna}'] = data.groupby('numero_de_cliente')[columna].shift(1)\n",
      "/tmp/ipykernel_2453/3121938480.py:39: PerformanceWarning: DataFrame is highly fragmented.  This is usually the result of calling `frame.insert` many times, which has poor performance.  Consider joining all columns at once using pd.concat(axis=1) instead. To get a de-fragmented frame, use `newframe = frame.copy()`\n",
      "  lags_deltas[f'lag_2_{columna}'] = data.groupby('numero_de_cliente')[columna].shift(2)\n",
      "/tmp/ipykernel_2453/3121938480.py:42: PerformanceWarning: DataFrame is highly fragmented.  This is usually the result of calling `frame.insert` many times, which has poor performance.  Consider joining all columns at once using pd.concat(axis=1) instead. To get a de-fragmented frame, use `newframe = frame.copy()`\n",
      "  lags_deltas[f'delta_1_{columna}'] = data[columna] - lags_deltas[f'lag_1_{columna}']\n",
      "/tmp/ipykernel_2453/3121938480.py:43: PerformanceWarning: DataFrame is highly fragmented.  This is usually the result of calling `frame.insert` many times, which has poor performance.  Consider joining all columns at once using pd.concat(axis=1) instead. To get a de-fragmented frame, use `newframe = frame.copy()`\n",
      "  lags_deltas[f'delta_2_{columna}'] = data[columna] - lags_deltas[f'lag_2_{columna}']\n",
      "/tmp/ipykernel_2453/3121938480.py:38: PerformanceWarning: DataFrame is highly fragmented.  This is usually the result of calling `frame.insert` many times, which has poor performance.  Consider joining all columns at once using pd.concat(axis=1) instead. To get a de-fragmented frame, use `newframe = frame.copy()`\n",
      "  lags_deltas[f'lag_1_{columna}'] = data.groupby('numero_de_cliente')[columna].shift(1)\n",
      "/tmp/ipykernel_2453/3121938480.py:39: PerformanceWarning: DataFrame is highly fragmented.  This is usually the result of calling `frame.insert` many times, which has poor performance.  Consider joining all columns at once using pd.concat(axis=1) instead. To get a de-fragmented frame, use `newframe = frame.copy()`\n",
      "  lags_deltas[f'lag_2_{columna}'] = data.groupby('numero_de_cliente')[columna].shift(2)\n",
      "/tmp/ipykernel_2453/3121938480.py:42: PerformanceWarning: DataFrame is highly fragmented.  This is usually the result of calling `frame.insert` many times, which has poor performance.  Consider joining all columns at once using pd.concat(axis=1) instead. To get a de-fragmented frame, use `newframe = frame.copy()`\n",
      "  lags_deltas[f'delta_1_{columna}'] = data[columna] - lags_deltas[f'lag_1_{columna}']\n",
      "/tmp/ipykernel_2453/3121938480.py:43: PerformanceWarning: DataFrame is highly fragmented.  This is usually the result of calling `frame.insert` many times, which has poor performance.  Consider joining all columns at once using pd.concat(axis=1) instead. To get a de-fragmented frame, use `newframe = frame.copy()`\n",
      "  lags_deltas[f'delta_2_{columna}'] = data[columna] - lags_deltas[f'lag_2_{columna}']\n",
      "/tmp/ipykernel_2453/3121938480.py:38: PerformanceWarning: DataFrame is highly fragmented.  This is usually the result of calling `frame.insert` many times, which has poor performance.  Consider joining all columns at once using pd.concat(axis=1) instead. To get a de-fragmented frame, use `newframe = frame.copy()`\n",
      "  lags_deltas[f'lag_1_{columna}'] = data.groupby('numero_de_cliente')[columna].shift(1)\n",
      "/tmp/ipykernel_2453/3121938480.py:39: PerformanceWarning: DataFrame is highly fragmented.  This is usually the result of calling `frame.insert` many times, which has poor performance.  Consider joining all columns at once using pd.concat(axis=1) instead. To get a de-fragmented frame, use `newframe = frame.copy()`\n",
      "  lags_deltas[f'lag_2_{columna}'] = data.groupby('numero_de_cliente')[columna].shift(2)\n",
      "/tmp/ipykernel_2453/3121938480.py:42: PerformanceWarning: DataFrame is highly fragmented.  This is usually the result of calling `frame.insert` many times, which has poor performance.  Consider joining all columns at once using pd.concat(axis=1) instead. To get a de-fragmented frame, use `newframe = frame.copy()`\n",
      "  lags_deltas[f'delta_1_{columna}'] = data[columna] - lags_deltas[f'lag_1_{columna}']\n",
      "/tmp/ipykernel_2453/3121938480.py:43: PerformanceWarning: DataFrame is highly fragmented.  This is usually the result of calling `frame.insert` many times, which has poor performance.  Consider joining all columns at once using pd.concat(axis=1) instead. To get a de-fragmented frame, use `newframe = frame.copy()`\n",
      "  lags_deltas[f'delta_2_{columna}'] = data[columna] - lags_deltas[f'lag_2_{columna}']\n",
      "/tmp/ipykernel_2453/3121938480.py:38: PerformanceWarning: DataFrame is highly fragmented.  This is usually the result of calling `frame.insert` many times, which has poor performance.  Consider joining all columns at once using pd.concat(axis=1) instead. To get a de-fragmented frame, use `newframe = frame.copy()`\n",
      "  lags_deltas[f'lag_1_{columna}'] = data.groupby('numero_de_cliente')[columna].shift(1)\n",
      "/tmp/ipykernel_2453/3121938480.py:39: PerformanceWarning: DataFrame is highly fragmented.  This is usually the result of calling `frame.insert` many times, which has poor performance.  Consider joining all columns at once using pd.concat(axis=1) instead. To get a de-fragmented frame, use `newframe = frame.copy()`\n",
      "  lags_deltas[f'lag_2_{columna}'] = data.groupby('numero_de_cliente')[columna].shift(2)\n",
      "/tmp/ipykernel_2453/3121938480.py:42: PerformanceWarning: DataFrame is highly fragmented.  This is usually the result of calling `frame.insert` many times, which has poor performance.  Consider joining all columns at once using pd.concat(axis=1) instead. To get a de-fragmented frame, use `newframe = frame.copy()`\n",
      "  lags_deltas[f'delta_1_{columna}'] = data[columna] - lags_deltas[f'lag_1_{columna}']\n",
      "/tmp/ipykernel_2453/3121938480.py:43: PerformanceWarning: DataFrame is highly fragmented.  This is usually the result of calling `frame.insert` many times, which has poor performance.  Consider joining all columns at once using pd.concat(axis=1) instead. To get a de-fragmented frame, use `newframe = frame.copy()`\n",
      "  lags_deltas[f'delta_2_{columna}'] = data[columna] - lags_deltas[f'lag_2_{columna}']\n",
      "/tmp/ipykernel_2453/3121938480.py:38: PerformanceWarning: DataFrame is highly fragmented.  This is usually the result of calling `frame.insert` many times, which has poor performance.  Consider joining all columns at once using pd.concat(axis=1) instead. To get a de-fragmented frame, use `newframe = frame.copy()`\n",
      "  lags_deltas[f'lag_1_{columna}'] = data.groupby('numero_de_cliente')[columna].shift(1)\n",
      "/tmp/ipykernel_2453/3121938480.py:39: PerformanceWarning: DataFrame is highly fragmented.  This is usually the result of calling `frame.insert` many times, which has poor performance.  Consider joining all columns at once using pd.concat(axis=1) instead. To get a de-fragmented frame, use `newframe = frame.copy()`\n",
      "  lags_deltas[f'lag_2_{columna}'] = data.groupby('numero_de_cliente')[columna].shift(2)\n",
      "/tmp/ipykernel_2453/3121938480.py:42: PerformanceWarning: DataFrame is highly fragmented.  This is usually the result of calling `frame.insert` many times, which has poor performance.  Consider joining all columns at once using pd.concat(axis=1) instead. To get a de-fragmented frame, use `newframe = frame.copy()`\n",
      "  lags_deltas[f'delta_1_{columna}'] = data[columna] - lags_deltas[f'lag_1_{columna}']\n",
      "/tmp/ipykernel_2453/3121938480.py:43: PerformanceWarning: DataFrame is highly fragmented.  This is usually the result of calling `frame.insert` many times, which has poor performance.  Consider joining all columns at once using pd.concat(axis=1) instead. To get a de-fragmented frame, use `newframe = frame.copy()`\n",
      "  lags_deltas[f'delta_2_{columna}'] = data[columna] - lags_deltas[f'lag_2_{columna}']\n",
      "/tmp/ipykernel_2453/3121938480.py:38: PerformanceWarning: DataFrame is highly fragmented.  This is usually the result of calling `frame.insert` many times, which has poor performance.  Consider joining all columns at once using pd.concat(axis=1) instead. To get a de-fragmented frame, use `newframe = frame.copy()`\n",
      "  lags_deltas[f'lag_1_{columna}'] = data.groupby('numero_de_cliente')[columna].shift(1)\n",
      "/tmp/ipykernel_2453/3121938480.py:39: PerformanceWarning: DataFrame is highly fragmented.  This is usually the result of calling `frame.insert` many times, which has poor performance.  Consider joining all columns at once using pd.concat(axis=1) instead. To get a de-fragmented frame, use `newframe = frame.copy()`\n",
      "  lags_deltas[f'lag_2_{columna}'] = data.groupby('numero_de_cliente')[columna].shift(2)\n",
      "/tmp/ipykernel_2453/3121938480.py:42: PerformanceWarning: DataFrame is highly fragmented.  This is usually the result of calling `frame.insert` many times, which has poor performance.  Consider joining all columns at once using pd.concat(axis=1) instead. To get a de-fragmented frame, use `newframe = frame.copy()`\n",
      "  lags_deltas[f'delta_1_{columna}'] = data[columna] - lags_deltas[f'lag_1_{columna}']\n",
      "/tmp/ipykernel_2453/3121938480.py:43: PerformanceWarning: DataFrame is highly fragmented.  This is usually the result of calling `frame.insert` many times, which has poor performance.  Consider joining all columns at once using pd.concat(axis=1) instead. To get a de-fragmented frame, use `newframe = frame.copy()`\n",
      "  lags_deltas[f'delta_2_{columna}'] = data[columna] - lags_deltas[f'lag_2_{columna}']\n",
      "/tmp/ipykernel_2453/3121938480.py:38: PerformanceWarning: DataFrame is highly fragmented.  This is usually the result of calling `frame.insert` many times, which has poor performance.  Consider joining all columns at once using pd.concat(axis=1) instead. To get a de-fragmented frame, use `newframe = frame.copy()`\n",
      "  lags_deltas[f'lag_1_{columna}'] = data.groupby('numero_de_cliente')[columna].shift(1)\n",
      "/tmp/ipykernel_2453/3121938480.py:39: PerformanceWarning: DataFrame is highly fragmented.  This is usually the result of calling `frame.insert` many times, which has poor performance.  Consider joining all columns at once using pd.concat(axis=1) instead. To get a de-fragmented frame, use `newframe = frame.copy()`\n",
      "  lags_deltas[f'lag_2_{columna}'] = data.groupby('numero_de_cliente')[columna].shift(2)\n",
      "/tmp/ipykernel_2453/3121938480.py:42: PerformanceWarning: DataFrame is highly fragmented.  This is usually the result of calling `frame.insert` many times, which has poor performance.  Consider joining all columns at once using pd.concat(axis=1) instead. To get a de-fragmented frame, use `newframe = frame.copy()`\n",
      "  lags_deltas[f'delta_1_{columna}'] = data[columna] - lags_deltas[f'lag_1_{columna}']\n",
      "/tmp/ipykernel_2453/3121938480.py:43: PerformanceWarning: DataFrame is highly fragmented.  This is usually the result of calling `frame.insert` many times, which has poor performance.  Consider joining all columns at once using pd.concat(axis=1) instead. To get a de-fragmented frame, use `newframe = frame.copy()`\n",
      "  lags_deltas[f'delta_2_{columna}'] = data[columna] - lags_deltas[f'lag_2_{columna}']\n",
      "/tmp/ipykernel_2453/3121938480.py:38: PerformanceWarning: DataFrame is highly fragmented.  This is usually the result of calling `frame.insert` many times, which has poor performance.  Consider joining all columns at once using pd.concat(axis=1) instead. To get a de-fragmented frame, use `newframe = frame.copy()`\n",
      "  lags_deltas[f'lag_1_{columna}'] = data.groupby('numero_de_cliente')[columna].shift(1)\n",
      "/tmp/ipykernel_2453/3121938480.py:39: PerformanceWarning: DataFrame is highly fragmented.  This is usually the result of calling `frame.insert` many times, which has poor performance.  Consider joining all columns at once using pd.concat(axis=1) instead. To get a de-fragmented frame, use `newframe = frame.copy()`\n",
      "  lags_deltas[f'lag_2_{columna}'] = data.groupby('numero_de_cliente')[columna].shift(2)\n",
      "/tmp/ipykernel_2453/3121938480.py:42: PerformanceWarning: DataFrame is highly fragmented.  This is usually the result of calling `frame.insert` many times, which has poor performance.  Consider joining all columns at once using pd.concat(axis=1) instead. To get a de-fragmented frame, use `newframe = frame.copy()`\n",
      "  lags_deltas[f'delta_1_{columna}'] = data[columna] - lags_deltas[f'lag_1_{columna}']\n",
      "/tmp/ipykernel_2453/3121938480.py:43: PerformanceWarning: DataFrame is highly fragmented.  This is usually the result of calling `frame.insert` many times, which has poor performance.  Consider joining all columns at once using pd.concat(axis=1) instead. To get a de-fragmented frame, use `newframe = frame.copy()`\n",
      "  lags_deltas[f'delta_2_{columna}'] = data[columna] - lags_deltas[f'lag_2_{columna}']\n",
      "/tmp/ipykernel_2453/3121938480.py:38: PerformanceWarning: DataFrame is highly fragmented.  This is usually the result of calling `frame.insert` many times, which has poor performance.  Consider joining all columns at once using pd.concat(axis=1) instead. To get a de-fragmented frame, use `newframe = frame.copy()`\n",
      "  lags_deltas[f'lag_1_{columna}'] = data.groupby('numero_de_cliente')[columna].shift(1)\n",
      "/tmp/ipykernel_2453/3121938480.py:39: PerformanceWarning: DataFrame is highly fragmented.  This is usually the result of calling `frame.insert` many times, which has poor performance.  Consider joining all columns at once using pd.concat(axis=1) instead. To get a de-fragmented frame, use `newframe = frame.copy()`\n",
      "  lags_deltas[f'lag_2_{columna}'] = data.groupby('numero_de_cliente')[columna].shift(2)\n",
      "/tmp/ipykernel_2453/3121938480.py:42: PerformanceWarning: DataFrame is highly fragmented.  This is usually the result of calling `frame.insert` many times, which has poor performance.  Consider joining all columns at once using pd.concat(axis=1) instead. To get a de-fragmented frame, use `newframe = frame.copy()`\n",
      "  lags_deltas[f'delta_1_{columna}'] = data[columna] - lags_deltas[f'lag_1_{columna}']\n",
      "/tmp/ipykernel_2453/3121938480.py:43: PerformanceWarning: DataFrame is highly fragmented.  This is usually the result of calling `frame.insert` many times, which has poor performance.  Consider joining all columns at once using pd.concat(axis=1) instead. To get a de-fragmented frame, use `newframe = frame.copy()`\n",
      "  lags_deltas[f'delta_2_{columna}'] = data[columna] - lags_deltas[f'lag_2_{columna}']\n",
      "/tmp/ipykernel_2453/3121938480.py:38: PerformanceWarning: DataFrame is highly fragmented.  This is usually the result of calling `frame.insert` many times, which has poor performance.  Consider joining all columns at once using pd.concat(axis=1) instead. To get a de-fragmented frame, use `newframe = frame.copy()`\n",
      "  lags_deltas[f'lag_1_{columna}'] = data.groupby('numero_de_cliente')[columna].shift(1)\n",
      "/tmp/ipykernel_2453/3121938480.py:39: PerformanceWarning: DataFrame is highly fragmented.  This is usually the result of calling `frame.insert` many times, which has poor performance.  Consider joining all columns at once using pd.concat(axis=1) instead. To get a de-fragmented frame, use `newframe = frame.copy()`\n",
      "  lags_deltas[f'lag_2_{columna}'] = data.groupby('numero_de_cliente')[columna].shift(2)\n",
      "/tmp/ipykernel_2453/3121938480.py:42: PerformanceWarning: DataFrame is highly fragmented.  This is usually the result of calling `frame.insert` many times, which has poor performance.  Consider joining all columns at once using pd.concat(axis=1) instead. To get a de-fragmented frame, use `newframe = frame.copy()`\n",
      "  lags_deltas[f'delta_1_{columna}'] = data[columna] - lags_deltas[f'lag_1_{columna}']\n",
      "/tmp/ipykernel_2453/3121938480.py:43: PerformanceWarning: DataFrame is highly fragmented.  This is usually the result of calling `frame.insert` many times, which has poor performance.  Consider joining all columns at once using pd.concat(axis=1) instead. To get a de-fragmented frame, use `newframe = frame.copy()`\n",
      "  lags_deltas[f'delta_2_{columna}'] = data[columna] - lags_deltas[f'lag_2_{columna}']\n",
      "/tmp/ipykernel_2453/3121938480.py:38: PerformanceWarning: DataFrame is highly fragmented.  This is usually the result of calling `frame.insert` many times, which has poor performance.  Consider joining all columns at once using pd.concat(axis=1) instead. To get a de-fragmented frame, use `newframe = frame.copy()`\n",
      "  lags_deltas[f'lag_1_{columna}'] = data.groupby('numero_de_cliente')[columna].shift(1)\n",
      "/tmp/ipykernel_2453/3121938480.py:39: PerformanceWarning: DataFrame is highly fragmented.  This is usually the result of calling `frame.insert` many times, which has poor performance.  Consider joining all columns at once using pd.concat(axis=1) instead. To get a de-fragmented frame, use `newframe = frame.copy()`\n",
      "  lags_deltas[f'lag_2_{columna}'] = data.groupby('numero_de_cliente')[columna].shift(2)\n",
      "/tmp/ipykernel_2453/3121938480.py:42: PerformanceWarning: DataFrame is highly fragmented.  This is usually the result of calling `frame.insert` many times, which has poor performance.  Consider joining all columns at once using pd.concat(axis=1) instead. To get a de-fragmented frame, use `newframe = frame.copy()`\n",
      "  lags_deltas[f'delta_1_{columna}'] = data[columna] - lags_deltas[f'lag_1_{columna}']\n",
      "/tmp/ipykernel_2453/3121938480.py:43: PerformanceWarning: DataFrame is highly fragmented.  This is usually the result of calling `frame.insert` many times, which has poor performance.  Consider joining all columns at once using pd.concat(axis=1) instead. To get a de-fragmented frame, use `newframe = frame.copy()`\n",
      "  lags_deltas[f'delta_2_{columna}'] = data[columna] - lags_deltas[f'lag_2_{columna}']\n",
      "/tmp/ipykernel_2453/3121938480.py:38: PerformanceWarning: DataFrame is highly fragmented.  This is usually the result of calling `frame.insert` many times, which has poor performance.  Consider joining all columns at once using pd.concat(axis=1) instead. To get a de-fragmented frame, use `newframe = frame.copy()`\n",
      "  lags_deltas[f'lag_1_{columna}'] = data.groupby('numero_de_cliente')[columna].shift(1)\n",
      "/tmp/ipykernel_2453/3121938480.py:39: PerformanceWarning: DataFrame is highly fragmented.  This is usually the result of calling `frame.insert` many times, which has poor performance.  Consider joining all columns at once using pd.concat(axis=1) instead. To get a de-fragmented frame, use `newframe = frame.copy()`\n",
      "  lags_deltas[f'lag_2_{columna}'] = data.groupby('numero_de_cliente')[columna].shift(2)\n",
      "/tmp/ipykernel_2453/3121938480.py:42: PerformanceWarning: DataFrame is highly fragmented.  This is usually the result of calling `frame.insert` many times, which has poor performance.  Consider joining all columns at once using pd.concat(axis=1) instead. To get a de-fragmented frame, use `newframe = frame.copy()`\n",
      "  lags_deltas[f'delta_1_{columna}'] = data[columna] - lags_deltas[f'lag_1_{columna}']\n",
      "/tmp/ipykernel_2453/3121938480.py:43: PerformanceWarning: DataFrame is highly fragmented.  This is usually the result of calling `frame.insert` many times, which has poor performance.  Consider joining all columns at once using pd.concat(axis=1) instead. To get a de-fragmented frame, use `newframe = frame.copy()`\n",
      "  lags_deltas[f'delta_2_{columna}'] = data[columna] - lags_deltas[f'lag_2_{columna}']\n",
      "/tmp/ipykernel_2453/3121938480.py:38: PerformanceWarning: DataFrame is highly fragmented.  This is usually the result of calling `frame.insert` many times, which has poor performance.  Consider joining all columns at once using pd.concat(axis=1) instead. To get a de-fragmented frame, use `newframe = frame.copy()`\n",
      "  lags_deltas[f'lag_1_{columna}'] = data.groupby('numero_de_cliente')[columna].shift(1)\n",
      "/tmp/ipykernel_2453/3121938480.py:39: PerformanceWarning: DataFrame is highly fragmented.  This is usually the result of calling `frame.insert` many times, which has poor performance.  Consider joining all columns at once using pd.concat(axis=1) instead. To get a de-fragmented frame, use `newframe = frame.copy()`\n",
      "  lags_deltas[f'lag_2_{columna}'] = data.groupby('numero_de_cliente')[columna].shift(2)\n",
      "/tmp/ipykernel_2453/3121938480.py:42: PerformanceWarning: DataFrame is highly fragmented.  This is usually the result of calling `frame.insert` many times, which has poor performance.  Consider joining all columns at once using pd.concat(axis=1) instead. To get a de-fragmented frame, use `newframe = frame.copy()`\n",
      "  lags_deltas[f'delta_1_{columna}'] = data[columna] - lags_deltas[f'lag_1_{columna}']\n",
      "/tmp/ipykernel_2453/3121938480.py:43: PerformanceWarning: DataFrame is highly fragmented.  This is usually the result of calling `frame.insert` many times, which has poor performance.  Consider joining all columns at once using pd.concat(axis=1) instead. To get a de-fragmented frame, use `newframe = frame.copy()`\n",
      "  lags_deltas[f'delta_2_{columna}'] = data[columna] - lags_deltas[f'lag_2_{columna}']\n",
      "/tmp/ipykernel_2453/3121938480.py:38: PerformanceWarning: DataFrame is highly fragmented.  This is usually the result of calling `frame.insert` many times, which has poor performance.  Consider joining all columns at once using pd.concat(axis=1) instead. To get a de-fragmented frame, use `newframe = frame.copy()`\n",
      "  lags_deltas[f'lag_1_{columna}'] = data.groupby('numero_de_cliente')[columna].shift(1)\n",
      "/tmp/ipykernel_2453/3121938480.py:39: PerformanceWarning: DataFrame is highly fragmented.  This is usually the result of calling `frame.insert` many times, which has poor performance.  Consider joining all columns at once using pd.concat(axis=1) instead. To get a de-fragmented frame, use `newframe = frame.copy()`\n",
      "  lags_deltas[f'lag_2_{columna}'] = data.groupby('numero_de_cliente')[columna].shift(2)\n",
      "/tmp/ipykernel_2453/3121938480.py:42: PerformanceWarning: DataFrame is highly fragmented.  This is usually the result of calling `frame.insert` many times, which has poor performance.  Consider joining all columns at once using pd.concat(axis=1) instead. To get a de-fragmented frame, use `newframe = frame.copy()`\n",
      "  lags_deltas[f'delta_1_{columna}'] = data[columna] - lags_deltas[f'lag_1_{columna}']\n",
      "/tmp/ipykernel_2453/3121938480.py:43: PerformanceWarning: DataFrame is highly fragmented.  This is usually the result of calling `frame.insert` many times, which has poor performance.  Consider joining all columns at once using pd.concat(axis=1) instead. To get a de-fragmented frame, use `newframe = frame.copy()`\n",
      "  lags_deltas[f'delta_2_{columna}'] = data[columna] - lags_deltas[f'lag_2_{columna}']\n",
      "/tmp/ipykernel_2453/3121938480.py:38: PerformanceWarning: DataFrame is highly fragmented.  This is usually the result of calling `frame.insert` many times, which has poor performance.  Consider joining all columns at once using pd.concat(axis=1) instead. To get a de-fragmented frame, use `newframe = frame.copy()`\n",
      "  lags_deltas[f'lag_1_{columna}'] = data.groupby('numero_de_cliente')[columna].shift(1)\n",
      "/tmp/ipykernel_2453/3121938480.py:39: PerformanceWarning: DataFrame is highly fragmented.  This is usually the result of calling `frame.insert` many times, which has poor performance.  Consider joining all columns at once using pd.concat(axis=1) instead. To get a de-fragmented frame, use `newframe = frame.copy()`\n",
      "  lags_deltas[f'lag_2_{columna}'] = data.groupby('numero_de_cliente')[columna].shift(2)\n",
      "/tmp/ipykernel_2453/3121938480.py:42: PerformanceWarning: DataFrame is highly fragmented.  This is usually the result of calling `frame.insert` many times, which has poor performance.  Consider joining all columns at once using pd.concat(axis=1) instead. To get a de-fragmented frame, use `newframe = frame.copy()`\n",
      "  lags_deltas[f'delta_1_{columna}'] = data[columna] - lags_deltas[f'lag_1_{columna}']\n",
      "/tmp/ipykernel_2453/3121938480.py:43: PerformanceWarning: DataFrame is highly fragmented.  This is usually the result of calling `frame.insert` many times, which has poor performance.  Consider joining all columns at once using pd.concat(axis=1) instead. To get a de-fragmented frame, use `newframe = frame.copy()`\n",
      "  lags_deltas[f'delta_2_{columna}'] = data[columna] - lags_deltas[f'lag_2_{columna}']\n",
      "/tmp/ipykernel_2453/3121938480.py:38: PerformanceWarning: DataFrame is highly fragmented.  This is usually the result of calling `frame.insert` many times, which has poor performance.  Consider joining all columns at once using pd.concat(axis=1) instead. To get a de-fragmented frame, use `newframe = frame.copy()`\n",
      "  lags_deltas[f'lag_1_{columna}'] = data.groupby('numero_de_cliente')[columna].shift(1)\n",
      "/tmp/ipykernel_2453/3121938480.py:39: PerformanceWarning: DataFrame is highly fragmented.  This is usually the result of calling `frame.insert` many times, which has poor performance.  Consider joining all columns at once using pd.concat(axis=1) instead. To get a de-fragmented frame, use `newframe = frame.copy()`\n",
      "  lags_deltas[f'lag_2_{columna}'] = data.groupby('numero_de_cliente')[columna].shift(2)\n",
      "/tmp/ipykernel_2453/3121938480.py:42: PerformanceWarning: DataFrame is highly fragmented.  This is usually the result of calling `frame.insert` many times, which has poor performance.  Consider joining all columns at once using pd.concat(axis=1) instead. To get a de-fragmented frame, use `newframe = frame.copy()`\n",
      "  lags_deltas[f'delta_1_{columna}'] = data[columna] - lags_deltas[f'lag_1_{columna}']\n",
      "/tmp/ipykernel_2453/3121938480.py:43: PerformanceWarning: DataFrame is highly fragmented.  This is usually the result of calling `frame.insert` many times, which has poor performance.  Consider joining all columns at once using pd.concat(axis=1) instead. To get a de-fragmented frame, use `newframe = frame.copy()`\n",
      "  lags_deltas[f'delta_2_{columna}'] = data[columna] - lags_deltas[f'lag_2_{columna}']\n",
      "/tmp/ipykernel_2453/3121938480.py:38: PerformanceWarning: DataFrame is highly fragmented.  This is usually the result of calling `frame.insert` many times, which has poor performance.  Consider joining all columns at once using pd.concat(axis=1) instead. To get a de-fragmented frame, use `newframe = frame.copy()`\n",
      "  lags_deltas[f'lag_1_{columna}'] = data.groupby('numero_de_cliente')[columna].shift(1)\n",
      "/tmp/ipykernel_2453/3121938480.py:39: PerformanceWarning: DataFrame is highly fragmented.  This is usually the result of calling `frame.insert` many times, which has poor performance.  Consider joining all columns at once using pd.concat(axis=1) instead. To get a de-fragmented frame, use `newframe = frame.copy()`\n",
      "  lags_deltas[f'lag_2_{columna}'] = data.groupby('numero_de_cliente')[columna].shift(2)\n",
      "/tmp/ipykernel_2453/3121938480.py:42: PerformanceWarning: DataFrame is highly fragmented.  This is usually the result of calling `frame.insert` many times, which has poor performance.  Consider joining all columns at once using pd.concat(axis=1) instead. To get a de-fragmented frame, use `newframe = frame.copy()`\n",
      "  lags_deltas[f'delta_1_{columna}'] = data[columna] - lags_deltas[f'lag_1_{columna}']\n",
      "/tmp/ipykernel_2453/3121938480.py:43: PerformanceWarning: DataFrame is highly fragmented.  This is usually the result of calling `frame.insert` many times, which has poor performance.  Consider joining all columns at once using pd.concat(axis=1) instead. To get a de-fragmented frame, use `newframe = frame.copy()`\n",
      "  lags_deltas[f'delta_2_{columna}'] = data[columna] - lags_deltas[f'lag_2_{columna}']\n",
      "/tmp/ipykernel_2453/3121938480.py:38: PerformanceWarning: DataFrame is highly fragmented.  This is usually the result of calling `frame.insert` many times, which has poor performance.  Consider joining all columns at once using pd.concat(axis=1) instead. To get a de-fragmented frame, use `newframe = frame.copy()`\n",
      "  lags_deltas[f'lag_1_{columna}'] = data.groupby('numero_de_cliente')[columna].shift(1)\n",
      "/tmp/ipykernel_2453/3121938480.py:39: PerformanceWarning: DataFrame is highly fragmented.  This is usually the result of calling `frame.insert` many times, which has poor performance.  Consider joining all columns at once using pd.concat(axis=1) instead. To get a de-fragmented frame, use `newframe = frame.copy()`\n",
      "  lags_deltas[f'lag_2_{columna}'] = data.groupby('numero_de_cliente')[columna].shift(2)\n",
      "/tmp/ipykernel_2453/3121938480.py:42: PerformanceWarning: DataFrame is highly fragmented.  This is usually the result of calling `frame.insert` many times, which has poor performance.  Consider joining all columns at once using pd.concat(axis=1) instead. To get a de-fragmented frame, use `newframe = frame.copy()`\n",
      "  lags_deltas[f'delta_1_{columna}'] = data[columna] - lags_deltas[f'lag_1_{columna}']\n",
      "/tmp/ipykernel_2453/3121938480.py:43: PerformanceWarning: DataFrame is highly fragmented.  This is usually the result of calling `frame.insert` many times, which has poor performance.  Consider joining all columns at once using pd.concat(axis=1) instead. To get a de-fragmented frame, use `newframe = frame.copy()`\n",
      "  lags_deltas[f'delta_2_{columna}'] = data[columna] - lags_deltas[f'lag_2_{columna}']\n"
     ]
    },
    {
     "name": "stdout",
     "output_type": "stream",
     "text": [
      "         numero_de_cliente  foto_mes  active_quarter  cliente_vip  internet  \\\n",
      "1924370          249221109    202008               1            0         1   \n",
      "1924371          249221109    202009               1            0         1   \n",
      "1924372          249221109    202010               1            0         0   \n",
      "1924373          249221109    202011               1            0         0   \n",
      "1924374          249221109    202012               1            0         0   \n",
      "\n",
      "         cliente_edad  cliente_antiguedad  mrentabilidad  \\\n",
      "1924370            61                 295        3445.51   \n",
      "1924371            61                 296        4207.19   \n",
      "1924372            61                 297        1058.70   \n",
      "1924373            61                 298         915.23   \n",
      "1924374            61                 299        1981.43   \n",
      "\n",
      "         mrentabilidad_annual  mcomisiones  ...  delta_1_Visa_fultimo_cierre  \\\n",
      "1924370              16305.23       965.43  ...                          NaN   \n",
      "1924371              18549.35      1950.06  ...                         -5.0   \n",
      "1924372              18865.59      1662.78  ...                          3.0   \n",
      "1924373              19350.13      1155.67  ...                          2.0   \n",
      "1924374              20260.41      1606.90  ...                         -4.0   \n",
      "\n",
      "         delta_2_Visa_fultimo_cierre  lag_1_ctarjeta_visa_debitos_automaticos  \\\n",
      "1924370                          NaN                                      NaN   \n",
      "1924371                          NaN                                      6.0   \n",
      "1924372                         -2.0                                      6.0   \n",
      "1924373                          5.0                                      7.0   \n",
      "1924374                         -2.0                                      6.0   \n",
      "\n",
      "         lag_2_ctarjeta_visa_debitos_automaticos  \\\n",
      "1924370                                      NaN   \n",
      "1924371                                      NaN   \n",
      "1924372                                      6.0   \n",
      "1924373                                      6.0   \n",
      "1924374                                      7.0   \n",
      "\n",
      "         delta_1_ctarjeta_visa_debitos_automaticos  \\\n",
      "1924370                                        NaN   \n",
      "1924371                                        0.0   \n",
      "1924372                                        1.0   \n",
      "1924373                                       -1.0   \n",
      "1924374                                        0.0   \n",
      "\n",
      "         delta_2_ctarjeta_visa_debitos_automaticos  \\\n",
      "1924370                                        NaN   \n",
      "1924371                                        NaN   \n",
      "1924372                                        1.0   \n",
      "1924373                                        0.0   \n",
      "1924374                                       -1.0   \n",
      "\n",
      "         lag_1_mtarjeta_master_consumo  lag_2_mtarjeta_master_consumo  \\\n",
      "1924370                            NaN                            NaN   \n",
      "1924371                       10790.42                            NaN   \n",
      "1924372                       16622.82                       10790.42   \n",
      "1924373                       20182.61                       16622.82   \n",
      "1924374                       57728.43                       20182.61   \n",
      "\n",
      "         delta_1_mtarjeta_master_consumo  delta_2_mtarjeta_master_consumo  \n",
      "1924370                              NaN                              NaN  \n",
      "1924371                          5832.40                              NaN  \n",
      "1924372                          3559.79                          9392.19  \n",
      "1924373                         37545.82                         41105.61  \n",
      "1924374                        -41011.88                         -3466.06  \n",
      "\n",
      "[5 rows x 407 columns]\n"
     ]
    }
   ],
   "source": [
    "import pandas as pd\n",
    "\n",
    "# Asegúrate de que el DataFrame `data` ya esté cargado\n",
    "\n",
    "# Lista de columnas específicas donde calcular lags y deltas\n",
    "columnas_especificas = [\n",
    "    'mcuentas_saldo', 'mrentabilidad_annual', 'mactivos_margen', 'cliente_edad',\n",
    "    'foto_mes', 'Master_fechaalta', 'Visa_fechaalta', 'Visa_mfinanciacion_limite',\n",
    "    'cliente_antiguedad', 'mcaja_ahorro', 'ctrx_quarter', 'mcuenta_corriente',\n",
    "    'Visa_Fvencimiento', 'Master_Fvencimiento', 'mcomisiones', 'numero_de_cliente',\n",
    "    'chomebanking_transacciones', 'Visa_mpagominimo', 'Master_mlimitecompra',\n",
    "    'Visa_msaldopesos', 'mpasivos_margen', 'mrentabilidad', 'cproductos',\n",
    "    'mcomisiones_otras', 'ctarjeta_visa_transacciones', 'mcuenta_debitos_automaticos',\n",
    "    'mcomisiones_mantenimiento', 'mtarjeta_visa_consumo', 'mtransferencias_recibidas',\n",
    "    'Visa_mlimitecompra', 'Master_mfinanciacion_limite', 'Visa_msaldototal',\n",
    "    'mcaja_ahorro_dolares', 'Visa_cconsumos', 'Visa_mpagospesos', 'Visa_mconsumototal',\n",
    "    'mpayroll', 'thomebanking', 'ccomisiones_otras', 'ccallcenter_transacciones',\n",
    "    'Master_fultimo_cierre', 'Master_msaldopesos', 'Master_msaldototal',\n",
    "    'mttarjeta_visa_debitos_automaticos', 'ccomisiones_mantenimiento',\n",
    "    'mtransferencias_emitidas', 'Visa_mconsumospesos', 'ctarjeta_debito_transacciones',\n",
    "    'ccaja_ahorro', 'internet', 'mautoservicio', 'ctransferencias_recibidas',\n",
    "    'mpagomiscuentas', 'Visa_mconsumosdolares', 'ctarjeta_debito',\n",
    "    'ctransferencias_emitidas', 'Master_mpagominimo', 'cpayroll_trx',\n",
    "    'mplazo_fijo_dolares', 'ccaja_seguridad', 'Visa_fultimo_cierre',\n",
    "    'ctarjeta_visa_debitos_automaticos', 'mtarjeta_master_consumo'\n",
    "]\n",
    "\n",
    "# Ordenar los datos por cliente y por foto_mes para cálculos secuenciales\n",
    "data = data.sort_values(by=['numero_de_cliente', 'foto_mes'])\n",
    "\n",
    "# Crear un nuevo DataFrame para almacenar los lags y deltas\n",
    "lags_deltas = pd.DataFrame(index=data.index)\n",
    "\n",
    "# Calcular lags y deltas solo para las columnas específicas\n",
    "for columna in columnas_especificas:\n",
    "    if columna in data.columns:  # Verificar que la columna existe en el DataFrame\n",
    "        # Lags\n",
    "        lags_deltas[f'lag_1_{columna}'] = data.groupby('numero_de_cliente')[columna].shift(1)\n",
    "        lags_deltas[f'lag_2_{columna}'] = data.groupby('numero_de_cliente')[columna].shift(2)\n",
    "\n",
    "        # Deltas\n",
    "        lags_deltas[f'delta_1_{columna}'] = data[columna] - lags_deltas[f'lag_1_{columna}']\n",
    "        lags_deltas[f'delta_2_{columna}'] = data[columna] - lags_deltas[f'lag_2_{columna}']\n",
    "\n",
    "# Concatenar los lags y deltas al DataFrame original\n",
    "data = pd.concat([data, lags_deltas], axis=1)\n",
    "\n",
    "# Visualizar las primeras filas del DataFrame\n",
    "print(data.head())\n"
   ]
  },
  {
   "cell_type": "markdown",
   "metadata": {},
   "source": [
    "### Calculo Tendencias\n",
    "\n"
   ]
  },
  {
   "cell_type": "code",
   "execution_count": 6,
   "metadata": {},
   "outputs": [
    {
     "name": "stderr",
     "output_type": "stream",
     "text": [
      "Calculando tendencias: 100%|██████████| 61/61 [58:25<00:00, 57.46s/it]\n"
     ]
    },
    {
     "name": "stdout",
     "output_type": "stream",
     "text": [
      "         numero_de_cliente  foto_mes  active_quarter  cliente_vip  internet  \\\n",
      "1924370          249221109    202008               1            0         1   \n",
      "1924371          249221109    202009               1            0         1   \n",
      "1924372          249221109    202010               1            0         0   \n",
      "1924373          249221109    202011               1            0         0   \n",
      "1924374          249221109    202012               1            0         0   \n",
      "\n",
      "         cliente_edad  cliente_antiguedad  mrentabilidad  \\\n",
      "1924370            61                 295        3445.51   \n",
      "1924371            61                 296        4207.19   \n",
      "1924372            61                 297        1058.70   \n",
      "1924373            61                 298         915.23   \n",
      "1924374            61                 299        1981.43   \n",
      "\n",
      "         mrentabilidad_annual  mcomisiones  ...  \\\n",
      "1924370              16305.23       965.43  ...   \n",
      "1924371              18549.35      1950.06  ...   \n",
      "1924372              18865.59      1662.78  ...   \n",
      "1924373              19350.13      1155.67  ...   \n",
      "1924374              20260.41      1606.90  ...   \n",
      "\n",
      "         trend_3_Visa_mconsumosdolares  trend_3_ctarjeta_debito  \\\n",
      "1924370                            NaN                      NaN   \n",
      "1924371                         -0.100            -5.703494e-16   \n",
      "1924372                         -2.195             3.000005e-16   \n",
      "1924373                         -2.145             3.000005e-16   \n",
      "1924374                          0.000             3.000005e-16   \n",
      "\n",
      "         trend_3_ctransferencias_emitidas  trend_3_Master_mpagominimo  \\\n",
      "1924370                               NaN                         NaN   \n",
      "1924371                     -1.087093e-15                     222.870   \n",
      "1924372                     -8.276571e-16                    -111.435   \n",
      "1924373                     -1.500000e+00                     785.910   \n",
      "1924374                     -2.500000e+00                     187.680   \n",
      "\n",
      "         trend_3_cpayroll_trx  trend_3_mplazo_fijo_dolares  \\\n",
      "1924370                   NaN                          NaN   \n",
      "1924371                   0.0                          0.0   \n",
      "1924372                   0.0                          0.0   \n",
      "1924373                   0.5                          0.0   \n",
      "1924374                   0.5                          0.0   \n",
      "\n",
      "         trend_3_ccaja_seguridad  trend_3_Visa_fultimo_cierre  \\\n",
      "1924370                      NaN                          NaN   \n",
      "1924371                      0.0                         -5.0   \n",
      "1924372                      0.0                         -1.0   \n",
      "1924373                      0.0                          2.5   \n",
      "1924374                      0.0                         -1.0   \n",
      "\n",
      "         trend_3_ctarjeta_visa_debitos_automaticos  \\\n",
      "1924370                                        NaN   \n",
      "1924371                              -3.061260e-16   \n",
      "1924372                               5.000000e-01   \n",
      "1924373                               2.407708e-16   \n",
      "1924374                              -5.000000e-01   \n",
      "\n",
      "         trend_3_mtarjeta_master_consumo  \n",
      "1924370                              NaN  \n",
      "1924371                         5832.400  \n",
      "1924372                         4696.095  \n",
      "1924373                        20552.805  \n",
      "1924374                        -1733.030  \n",
      "\n",
      "[5 rows x 468 columns]\n"
     ]
    }
   ],
   "source": [
    "import pandas as pd\n",
    "import numpy as np\n",
    "from tqdm import tqdm  # Biblioteca para la barra de progreso\n",
    "\n",
    "# Lista de columnas específicas donde calcular la tendencia\n",
    "columnas_especificas = [\n",
    "    'mcuentas_saldo', 'mrentabilidad_annual', 'mactivos_margen', 'cliente_edad',\n",
    "    'Master_fechaalta', 'Visa_fechaalta', 'Visa_mfinanciacion_limite',\n",
    "    'cliente_antiguedad', 'mcaja_ahorro', 'ctrx_quarter', 'mcuenta_corriente',\n",
    "    'Visa_Fvencimiento', 'Master_Fvencimiento', 'mcomisiones', 'chomebanking_transacciones',\n",
    "    'Visa_mpagominimo', 'Master_mlimitecompra', 'Visa_msaldopesos', 'mpasivos_margen',\n",
    "    'mrentabilidad', 'cproductos', 'mcomisiones_otras', 'ctarjeta_visa_transacciones',\n",
    "    'mcuenta_debitos_automaticos', 'mcomisiones_mantenimiento', 'mtarjeta_visa_consumo',\n",
    "    'mtransferencias_recibidas', 'Visa_mlimitecompra', 'Master_mfinanciacion_limite',\n",
    "    'Visa_msaldototal', 'mcaja_ahorro_dolares', 'Visa_cconsumos', 'Visa_mpagospesos',\n",
    "    'Visa_mconsumototal', 'mpayroll', 'thomebanking', 'ccomisiones_otras',\n",
    "    'ccallcenter_transacciones', 'Master_fultimo_cierre', 'Master_msaldopesos',\n",
    "    'Master_msaldototal', 'mttarjeta_visa_debitos_automaticos', 'ccomisiones_mantenimiento',\n",
    "    'mtransferencias_emitidas', 'Visa_mconsumospesos', 'ctarjeta_debito_transacciones',\n",
    "    'ccaja_ahorro', 'internet', 'mautoservicio', 'ctransferencias_recibidas',\n",
    "    'mpagomiscuentas', 'Visa_mconsumosdolares', 'ctarjeta_debito', 'ctransferencias_emitidas',\n",
    "    'Master_mpagominimo', 'cpayroll_trx', 'mplazo_fijo_dolares', 'ccaja_seguridad',\n",
    "    'Visa_fultimo_cierre', 'ctarjeta_visa_debitos_automaticos', 'mtarjeta_master_consumo'\n",
    "]\n",
    "\n",
    "# Asegurar que los datos estén ordenados por cliente y foto_mes\n",
    "data = data.sort_values(by=['numero_de_cliente', 'foto_mes'])\n",
    "\n",
    "# Ventana para cálculos históricos\n",
    "ventana = 3\n",
    "\n",
    "# Función para calcular la tendencia\n",
    "def calcular_tendencia(subgrupo):\n",
    "    if len(subgrupo) < 2:  # Si no hay suficientes datos\n",
    "        return np.nan\n",
    "    y = subgrupo  # Valores de la columna ya son arrays de NumPy\n",
    "    x = np.arange(len(y))  # Índices representando el tiempo (ordenados por foto_mes)\n",
    "    A = np.vstack([x, np.ones(len(x))]).T\n",
    "    m, _ = np.linalg.lstsq(A, y, rcond=None)[0]  # Calcula la pendiente (tendencia)\n",
    "    return m\n",
    "\n",
    "# Diccionario para almacenar las tendencias calculadas\n",
    "resultados_tendencias = {}\n",
    "\n",
    "# Barra de progreso para el cálculo de tendencias\n",
    "for columna in tqdm(columnas_especificas, desc=\"Calculando tendencias\"):\n",
    "    if columna in data.columns:  # Verificar que la columna existe\n",
    "        resultados_tendencias[f'trend_{ventana}_{columna}'] = (\n",
    "            data.groupby('numero_de_cliente')[columna]\n",
    "            .rolling(window=ventana, min_periods=2)  # Ventana definida\n",
    "            .apply(calcular_tendencia, raw=True)\n",
    "            .reset_index(level=0, drop=True)  # Ajustar índice generado por rolling\n",
    "        )\n",
    "\n",
    "# Combinar las tendencias calculadas al DataFrame original\n",
    "tendencias_df = pd.concat(resultados_tendencias, axis=1)\n",
    "data = pd.concat([data, tendencias_df], axis=1)\n",
    "\n",
    "# Mostrar los primeros registros del DataFrame con tendencias\n",
    "print(data.head())\n"
   ]
  },
  {
   "cell_type": "code",
   "execution_count": 1,
   "metadata": {},
   "outputs": [
    {
     "ename": "NameError",
     "evalue": "name 'data' is not defined",
     "output_type": "error",
     "traceback": [
      "\u001b[0;31m---------------------------------------------------------------------------\u001b[0m",
      "\u001b[0;31mNameError\u001b[0m                                 Traceback (most recent call last)",
      "Cell \u001b[0;32mIn[1], line 1\u001b[0m\n\u001b[0;32m----> 1\u001b[0m \u001b[43mdata\u001b[49m\u001b[38;5;241m.\u001b[39mto_csv(\u001b[38;5;124m'\u001b[39m\u001b[38;5;124mcompetencia_03_lags+Tendencias-202008.csv\u001b[39m\u001b[38;5;124m'\u001b[39m)\n",
      "\u001b[0;31mNameError\u001b[0m: name 'data' is not defined"
     ]
    }
   ],
   "source": [
    "data.to_csv('competencia_03_lags+Tendencias-202008.csv')"
   ]
  },
  {
   "cell_type": "markdown",
   "metadata": {},
   "source": [
    "### Cargo el data con deltas, lags y tendencias 2021"
   ]
  },
  {
   "cell_type": "code",
   "execution_count": null,
   "metadata": {},
   "outputs": [],
   "source": [
    "data = pd.read_csv('competencia_03_lags+Tendecias-2021.csv')"
   ]
  },
  {
   "cell_type": "code",
   "execution_count": 8,
   "metadata": {},
   "outputs": [],
   "source": [
    "# Renombrar columnas para eliminar caracteres especiales\n",
    "data.columns = data.columns.str.replace('[^A-Za-z0-9_]+', '_', regex=True)\n",
    "\n",
    "# Eliminar columnas innecesarias como \"Unnamed_0\"\n",
    "if 'Unnamed_0' in data.columns:\n",
    "    data = data.drop(columns=['Unnamed_0'])"
   ]
  },
  {
   "cell_type": "code",
   "execution_count": 9,
   "metadata": {},
   "outputs": [
    {
     "data": {
      "text/plain": [
       "clase_ternaria\n",
       "CONTINUA    162783\n",
       "BAJA+2        1294\n",
       "BAJA+1        1075\n",
       "Name: count, dtype: int64"
      ]
     },
     "execution_count": 9,
     "metadata": {},
     "output_type": "execute_result"
    }
   ],
   "source": [
    "data[data['foto_mes'] == 202107]['clase_ternaria'].value_counts()"
   ]
  },
  {
   "cell_type": "markdown",
   "metadata": {
    "id": "9TrH9f1L5Umd"
   },
   "source": [
    "### Agregamos pesos a las diferentes Variable Target clase ternaria: \n",
    "\n",
    "A Baja+2 un peso superior y Baja+1 un peso inferior.\n",
    "\n"
   ]
  },
  {
   "cell_type": "code",
   "execution_count": 10,
   "metadata": {
    "id": "AlYeDIBQP3-s"
   },
   "outputs": [],
   "source": [
    "data['clase_peso'] = 1.0\n",
    "\n",
    "data.loc[data['clase_ternaria'] == 'BAJA+2', 'clase_peso'] = 1.00002\n",
    "data.loc[data['clase_ternaria'] == 'BAJA+1', 'clase_peso'] = 1.00001"
   ]
  },
  {
   "cell_type": "markdown",
   "metadata": {},
   "source": [
    "### Quitamos prestamos personales.\n"
   ]
  },
  {
   "cell_type": "code",
   "execution_count": 11,
   "metadata": {},
   "outputs": [],
   "source": [
    "\n",
    "data.drop(['cprestamos_personales', 'mprestamos_personales'], axis=1, inplace=True)\n"
   ]
  },
  {
   "cell_type": "markdown",
   "metadata": {
    "id": "lzLIRVs850-I"
   },
   "source": [
    "### Crea una nueva columna clase_binaria_2. incluye los casos (baja + 1) como positivios.\n",
    "Además, como se mencionó en la clase pasada, comenzaremos a experimentar con nuevas clases para ajustar el modelo. En particular, sumaremos la clase **BAJA+1**, que es estructuralmente muy similar a **BAJA+2**, para aumentar los casos positivos. Luego, compararemos los resultados obtenidos con los de la clase con la que hemos estado trabajando hasta ahora."
   ]
  },
  {
   "cell_type": "code",
   "execution_count": 12,
   "metadata": {
    "id": "KV1meQ5cZ_Sl"
   },
   "outputs": [],
   "source": [
    "data['clase_binaria1'] = 0\n",
    "data['clase_binaria2'] = 0\n",
    "data['clase_binaria1'] = np.where(data['clase_ternaria'] == 'BAJA+2', 1, 0)\n",
    "data['clase_binaria2'] = np.where(data['clase_ternaria'] == 'CONTINUA', 0, 1)"
   ]
  },
  {
   "cell_type": "code",
   "execution_count": 13,
   "metadata": {
    "scrolled": true
   },
   "outputs": [
    {
     "data": {
      "text/html": [
       "<div>\n",
       "<style scoped>\n",
       "    .dataframe tbody tr th:only-of-type {\n",
       "        vertical-align: middle;\n",
       "    }\n",
       "\n",
       "    .dataframe tbody tr th {\n",
       "        vertical-align: top;\n",
       "    }\n",
       "\n",
       "    .dataframe thead th {\n",
       "        text-align: right;\n",
       "    }\n",
       "</style>\n",
       "<table border=\"1\" class=\"dataframe\">\n",
       "  <thead>\n",
       "    <tr style=\"text-align: right;\">\n",
       "      <th></th>\n",
       "      <th>numero_de_cliente</th>\n",
       "      <th>foto_mes</th>\n",
       "      <th>active_quarter</th>\n",
       "      <th>cliente_vip</th>\n",
       "      <th>internet</th>\n",
       "      <th>cliente_edad</th>\n",
       "      <th>cliente_antiguedad</th>\n",
       "      <th>mrentabilidad</th>\n",
       "      <th>mrentabilidad_annual</th>\n",
       "      <th>mcomisiones</th>\n",
       "      <th>...</th>\n",
       "      <th>trend_3_Master_mpagominimo</th>\n",
       "      <th>trend_3_cpayroll_trx</th>\n",
       "      <th>trend_3_mplazo_fijo_dolares</th>\n",
       "      <th>trend_3_ccaja_seguridad</th>\n",
       "      <th>trend_3_Visa_fultimo_cierre</th>\n",
       "      <th>trend_3_ctarjeta_visa_debitos_automaticos</th>\n",
       "      <th>trend_3_mtarjeta_master_consumo</th>\n",
       "      <th>clase_peso</th>\n",
       "      <th>clase_binaria1</th>\n",
       "      <th>clase_binaria2</th>\n",
       "    </tr>\n",
       "  </thead>\n",
       "  <tbody>\n",
       "    <tr>\n",
       "      <th>1924370</th>\n",
       "      <td>249221109</td>\n",
       "      <td>202008</td>\n",
       "      <td>1</td>\n",
       "      <td>0</td>\n",
       "      <td>1</td>\n",
       "      <td>61</td>\n",
       "      <td>295</td>\n",
       "      <td>3445.51</td>\n",
       "      <td>16305.23</td>\n",
       "      <td>965.43</td>\n",
       "      <td>...</td>\n",
       "      <td>NaN</td>\n",
       "      <td>NaN</td>\n",
       "      <td>NaN</td>\n",
       "      <td>NaN</td>\n",
       "      <td>NaN</td>\n",
       "      <td>NaN</td>\n",
       "      <td>NaN</td>\n",
       "      <td>1.00000</td>\n",
       "      <td>0</td>\n",
       "      <td>0</td>\n",
       "    </tr>\n",
       "    <tr>\n",
       "      <th>1924371</th>\n",
       "      <td>249221109</td>\n",
       "      <td>202009</td>\n",
       "      <td>1</td>\n",
       "      <td>0</td>\n",
       "      <td>1</td>\n",
       "      <td>61</td>\n",
       "      <td>296</td>\n",
       "      <td>4207.19</td>\n",
       "      <td>18549.35</td>\n",
       "      <td>1950.06</td>\n",
       "      <td>...</td>\n",
       "      <td>222.870</td>\n",
       "      <td>0.0</td>\n",
       "      <td>0.0</td>\n",
       "      <td>0.0</td>\n",
       "      <td>-5.0</td>\n",
       "      <td>-3.061260e-16</td>\n",
       "      <td>5832.400</td>\n",
       "      <td>1.00000</td>\n",
       "      <td>0</td>\n",
       "      <td>0</td>\n",
       "    </tr>\n",
       "    <tr>\n",
       "      <th>1924372</th>\n",
       "      <td>249221109</td>\n",
       "      <td>202010</td>\n",
       "      <td>1</td>\n",
       "      <td>0</td>\n",
       "      <td>0</td>\n",
       "      <td>61</td>\n",
       "      <td>297</td>\n",
       "      <td>1058.70</td>\n",
       "      <td>18865.59</td>\n",
       "      <td>1662.78</td>\n",
       "      <td>...</td>\n",
       "      <td>-111.435</td>\n",
       "      <td>0.0</td>\n",
       "      <td>0.0</td>\n",
       "      <td>0.0</td>\n",
       "      <td>-1.0</td>\n",
       "      <td>5.000000e-01</td>\n",
       "      <td>4696.095</td>\n",
       "      <td>1.00000</td>\n",
       "      <td>0</td>\n",
       "      <td>0</td>\n",
       "    </tr>\n",
       "    <tr>\n",
       "      <th>1924373</th>\n",
       "      <td>249221109</td>\n",
       "      <td>202011</td>\n",
       "      <td>1</td>\n",
       "      <td>0</td>\n",
       "      <td>0</td>\n",
       "      <td>61</td>\n",
       "      <td>298</td>\n",
       "      <td>915.23</td>\n",
       "      <td>19350.13</td>\n",
       "      <td>1155.67</td>\n",
       "      <td>...</td>\n",
       "      <td>785.910</td>\n",
       "      <td>0.5</td>\n",
       "      <td>0.0</td>\n",
       "      <td>0.0</td>\n",
       "      <td>2.5</td>\n",
       "      <td>2.407708e-16</td>\n",
       "      <td>20552.805</td>\n",
       "      <td>1.00000</td>\n",
       "      <td>0</td>\n",
       "      <td>0</td>\n",
       "    </tr>\n",
       "    <tr>\n",
       "      <th>1924374</th>\n",
       "      <td>249221109</td>\n",
       "      <td>202012</td>\n",
       "      <td>1</td>\n",
       "      <td>0</td>\n",
       "      <td>0</td>\n",
       "      <td>61</td>\n",
       "      <td>299</td>\n",
       "      <td>1981.43</td>\n",
       "      <td>20260.41</td>\n",
       "      <td>1606.90</td>\n",
       "      <td>...</td>\n",
       "      <td>187.680</td>\n",
       "      <td>0.5</td>\n",
       "      <td>0.0</td>\n",
       "      <td>0.0</td>\n",
       "      <td>-1.0</td>\n",
       "      <td>-5.000000e-01</td>\n",
       "      <td>-1733.030</td>\n",
       "      <td>1.00000</td>\n",
       "      <td>0</td>\n",
       "      <td>0</td>\n",
       "    </tr>\n",
       "    <tr>\n",
       "      <th>...</th>\n",
       "      <td>...</td>\n",
       "      <td>...</td>\n",
       "      <td>...</td>\n",
       "      <td>...</td>\n",
       "      <td>...</td>\n",
       "      <td>...</td>\n",
       "      <td>...</td>\n",
       "      <td>...</td>\n",
       "      <td>...</td>\n",
       "      <td>...</td>\n",
       "      <td>...</td>\n",
       "      <td>...</td>\n",
       "      <td>...</td>\n",
       "      <td>...</td>\n",
       "      <td>...</td>\n",
       "      <td>...</td>\n",
       "      <td>...</td>\n",
       "      <td>...</td>\n",
       "      <td>...</td>\n",
       "      <td>...</td>\n",
       "      <td>...</td>\n",
       "    </tr>\n",
       "    <tr>\n",
       "      <th>1818946</th>\n",
       "      <td>1606470344</td>\n",
       "      <td>202109</td>\n",
       "      <td>1</td>\n",
       "      <td>0</td>\n",
       "      <td>0</td>\n",
       "      <td>36</td>\n",
       "      <td>1</td>\n",
       "      <td>860.89</td>\n",
       "      <td>860.89</td>\n",
       "      <td>0.00</td>\n",
       "      <td>...</td>\n",
       "      <td>NaN</td>\n",
       "      <td>NaN</td>\n",
       "      <td>NaN</td>\n",
       "      <td>NaN</td>\n",
       "      <td>NaN</td>\n",
       "      <td>NaN</td>\n",
       "      <td>NaN</td>\n",
       "      <td>1.00001</td>\n",
       "      <td>0</td>\n",
       "      <td>1</td>\n",
       "    </tr>\n",
       "    <tr>\n",
       "      <th>1055602</th>\n",
       "      <td>1606478730</td>\n",
       "      <td>202109</td>\n",
       "      <td>1</td>\n",
       "      <td>0</td>\n",
       "      <td>0</td>\n",
       "      <td>36</td>\n",
       "      <td>1</td>\n",
       "      <td>4.44</td>\n",
       "      <td>4.44</td>\n",
       "      <td>0.00</td>\n",
       "      <td>...</td>\n",
       "      <td>NaN</td>\n",
       "      <td>NaN</td>\n",
       "      <td>NaN</td>\n",
       "      <td>NaN</td>\n",
       "      <td>NaN</td>\n",
       "      <td>NaN</td>\n",
       "      <td>NaN</td>\n",
       "      <td>1.00001</td>\n",
       "      <td>0</td>\n",
       "      <td>1</td>\n",
       "    </tr>\n",
       "    <tr>\n",
       "      <th>1459552</th>\n",
       "      <td>1606600592</td>\n",
       "      <td>202109</td>\n",
       "      <td>1</td>\n",
       "      <td>0</td>\n",
       "      <td>0</td>\n",
       "      <td>26</td>\n",
       "      <td>1</td>\n",
       "      <td>131.81</td>\n",
       "      <td>131.81</td>\n",
       "      <td>0.00</td>\n",
       "      <td>...</td>\n",
       "      <td>NaN</td>\n",
       "      <td>NaN</td>\n",
       "      <td>NaN</td>\n",
       "      <td>NaN</td>\n",
       "      <td>NaN</td>\n",
       "      <td>NaN</td>\n",
       "      <td>NaN</td>\n",
       "      <td>1.00001</td>\n",
       "      <td>0</td>\n",
       "      <td>1</td>\n",
       "    </tr>\n",
       "    <tr>\n",
       "      <th>2137399</th>\n",
       "      <td>1606610942</td>\n",
       "      <td>202109</td>\n",
       "      <td>0</td>\n",
       "      <td>0</td>\n",
       "      <td>0</td>\n",
       "      <td>34</td>\n",
       "      <td>1</td>\n",
       "      <td>0.00</td>\n",
       "      <td>0.00</td>\n",
       "      <td>0.00</td>\n",
       "      <td>...</td>\n",
       "      <td>NaN</td>\n",
       "      <td>NaN</td>\n",
       "      <td>NaN</td>\n",
       "      <td>NaN</td>\n",
       "      <td>NaN</td>\n",
       "      <td>NaN</td>\n",
       "      <td>NaN</td>\n",
       "      <td>1.00001</td>\n",
       "      <td>0</td>\n",
       "      <td>1</td>\n",
       "    </tr>\n",
       "    <tr>\n",
       "      <th>1208890</th>\n",
       "      <td>1606636903</td>\n",
       "      <td>202109</td>\n",
       "      <td>0</td>\n",
       "      <td>0</td>\n",
       "      <td>0</td>\n",
       "      <td>51</td>\n",
       "      <td>1</td>\n",
       "      <td>0.00</td>\n",
       "      <td>0.00</td>\n",
       "      <td>0.00</td>\n",
       "      <td>...</td>\n",
       "      <td>NaN</td>\n",
       "      <td>NaN</td>\n",
       "      <td>NaN</td>\n",
       "      <td>NaN</td>\n",
       "      <td>NaN</td>\n",
       "      <td>NaN</td>\n",
       "      <td>NaN</td>\n",
       "      <td>1.00001</td>\n",
       "      <td>0</td>\n",
       "      <td>1</td>\n",
       "    </tr>\n",
       "  </tbody>\n",
       "</table>\n",
       "<p>2275612 rows × 469 columns</p>\n",
       "</div>"
      ],
      "text/plain": [
       "         numero_de_cliente  foto_mes  active_quarter  cliente_vip  internet  \\\n",
       "1924370          249221109    202008               1            0         1   \n",
       "1924371          249221109    202009               1            0         1   \n",
       "1924372          249221109    202010               1            0         0   \n",
       "1924373          249221109    202011               1            0         0   \n",
       "1924374          249221109    202012               1            0         0   \n",
       "...                    ...       ...             ...          ...       ...   \n",
       "1818946         1606470344    202109               1            0         0   \n",
       "1055602         1606478730    202109               1            0         0   \n",
       "1459552         1606600592    202109               1            0         0   \n",
       "2137399         1606610942    202109               0            0         0   \n",
       "1208890         1606636903    202109               0            0         0   \n",
       "\n",
       "         cliente_edad  cliente_antiguedad  mrentabilidad  \\\n",
       "1924370            61                 295        3445.51   \n",
       "1924371            61                 296        4207.19   \n",
       "1924372            61                 297        1058.70   \n",
       "1924373            61                 298         915.23   \n",
       "1924374            61                 299        1981.43   \n",
       "...               ...                 ...            ...   \n",
       "1818946            36                   1         860.89   \n",
       "1055602            36                   1           4.44   \n",
       "1459552            26                   1         131.81   \n",
       "2137399            34                   1           0.00   \n",
       "1208890            51                   1           0.00   \n",
       "\n",
       "         mrentabilidad_annual  mcomisiones  ...  trend_3_Master_mpagominimo  \\\n",
       "1924370              16305.23       965.43  ...                         NaN   \n",
       "1924371              18549.35      1950.06  ...                     222.870   \n",
       "1924372              18865.59      1662.78  ...                    -111.435   \n",
       "1924373              19350.13      1155.67  ...                     785.910   \n",
       "1924374              20260.41      1606.90  ...                     187.680   \n",
       "...                       ...          ...  ...                         ...   \n",
       "1818946                860.89         0.00  ...                         NaN   \n",
       "1055602                  4.44         0.00  ...                         NaN   \n",
       "1459552                131.81         0.00  ...                         NaN   \n",
       "2137399                  0.00         0.00  ...                         NaN   \n",
       "1208890                  0.00         0.00  ...                         NaN   \n",
       "\n",
       "         trend_3_cpayroll_trx  trend_3_mplazo_fijo_dolares  \\\n",
       "1924370                   NaN                          NaN   \n",
       "1924371                   0.0                          0.0   \n",
       "1924372                   0.0                          0.0   \n",
       "1924373                   0.5                          0.0   \n",
       "1924374                   0.5                          0.0   \n",
       "...                       ...                          ...   \n",
       "1818946                   NaN                          NaN   \n",
       "1055602                   NaN                          NaN   \n",
       "1459552                   NaN                          NaN   \n",
       "2137399                   NaN                          NaN   \n",
       "1208890                   NaN                          NaN   \n",
       "\n",
       "         trend_3_ccaja_seguridad  trend_3_Visa_fultimo_cierre  \\\n",
       "1924370                      NaN                          NaN   \n",
       "1924371                      0.0                         -5.0   \n",
       "1924372                      0.0                         -1.0   \n",
       "1924373                      0.0                          2.5   \n",
       "1924374                      0.0                         -1.0   \n",
       "...                          ...                          ...   \n",
       "1818946                      NaN                          NaN   \n",
       "1055602                      NaN                          NaN   \n",
       "1459552                      NaN                          NaN   \n",
       "2137399                      NaN                          NaN   \n",
       "1208890                      NaN                          NaN   \n",
       "\n",
       "         trend_3_ctarjeta_visa_debitos_automaticos  \\\n",
       "1924370                                        NaN   \n",
       "1924371                              -3.061260e-16   \n",
       "1924372                               5.000000e-01   \n",
       "1924373                               2.407708e-16   \n",
       "1924374                              -5.000000e-01   \n",
       "...                                            ...   \n",
       "1818946                                        NaN   \n",
       "1055602                                        NaN   \n",
       "1459552                                        NaN   \n",
       "2137399                                        NaN   \n",
       "1208890                                        NaN   \n",
       "\n",
       "         trend_3_mtarjeta_master_consumo  clase_peso  clase_binaria1  \\\n",
       "1924370                              NaN     1.00000               0   \n",
       "1924371                         5832.400     1.00000               0   \n",
       "1924372                         4696.095     1.00000               0   \n",
       "1924373                        20552.805     1.00000               0   \n",
       "1924374                        -1733.030     1.00000               0   \n",
       "...                                  ...         ...             ...   \n",
       "1818946                              NaN     1.00001               0   \n",
       "1055602                              NaN     1.00001               0   \n",
       "1459552                              NaN     1.00001               0   \n",
       "2137399                              NaN     1.00001               0   \n",
       "1208890                              NaN     1.00001               0   \n",
       "\n",
       "         clase_binaria2  \n",
       "1924370               0  \n",
       "1924371               0  \n",
       "1924372               0  \n",
       "1924373               0  \n",
       "1924374               0  \n",
       "...                 ...  \n",
       "1818946               1  \n",
       "1055602               1  \n",
       "1459552               1  \n",
       "2137399               1  \n",
       "1208890               1  \n",
       "\n",
       "[2275612 rows x 469 columns]"
      ]
     },
     "execution_count": 13,
     "metadata": {},
     "output_type": "execute_result"
    }
   ],
   "source": [
    "data"
   ]
  },
  {
   "cell_type": "markdown",
   "metadata": {
    "id": "5AYJG0r16dW9"
   },
   "source": [
    "Y trabajaremos como es habitual en las últimas clases, con **Febrero** para entrenar y **Abril** para medir, con el fin de realizar *backtesting*"
   ]
  },
  {
   "cell_type": "markdown",
   "metadata": {},
   "source": [
    "### División de Dataset en Train y test  y Hago el Undersumpling: \n",
    "En cuanto a las variables target (Y) a predecir: Se consideran 3: Y train_binaria1, y_train_2 e W_train (Peso)"
   ]
  },
  {
   "cell_type": "code",
   "execution_count": 14,
   "metadata": {},
   "outputs": [],
   "source": [
    "Septiembre_data = data[data['foto_mes'] == Septiembre]"
   ]
  },
  {
   "cell_type": "code",
   "execution_count": null,
   "metadata": {
    "id": "iDyeXHAuCKuT"
   },
   "outputs": [],
   "source": [
    "\n",
    "from sklearn.utils import resample\n",
    "\n",
    "# Filtrar los datos dentro del rango de meses\n",
    "train_data = data[(data['foto_mes'] >= mes_inicio) & (data['foto_mes'] <= mes_fin)]\n",
    "test_data = data[data['foto_mes'] == mes_test]\n",
    "Septiembre_data = data[data['foto_mes'] == Septiembre]\n",
    "\n",
    "# Identificar la clase mayoritaria y minoritaria\n",
    "class_majority = train_data['clase_binaria2'].value_counts().idxmax()\n",
    "class_minority = train_data['clase_binaria2'].value_counts().idxmin()\n",
    "\n",
    "# Separar las clases en el conjunto de entrenamiento\n",
    "majority_train = train_data[train_data['clase_binaria2'] == class_majority]\n",
    "minority_train = train_data[train_data['clase_binaria2'] == class_minority]\n",
    "\n",
    "# Reducir la clase mayoritaria al 20% de su tamaño original\n",
    "majority_train_downsampled = resample(majority_train,\n",
    "                                      replace=False,\n",
    "                                      n_samples=int(len(majority_train) * 0.2),\n",
    "                                      random_state=42)\n",
    "\n",
    "# Reunir las clases para el conjunto de entrenamiento reducido\n",
    "train_data_balanced = pd.concat([majority_train_downsampled, minority_train])\n",
    "\n",
    "# Repetir el proceso para el conjunto de prueba\n",
    "majority_test = test_data[test_data['clase_binaria2'] == class_majority]\n",
    "minority_test = test_data[test_data['clase_binaria2'] == class_minority]\n",
    "\n",
    "majority_test_downsampled = resample(majority_test,\n",
    "                                     replace=False,\n",
    "                                     n_samples=int(len(majority_test) * 0.2),\n",
    "                                     random_state=42)\n",
    "\n",
    "test_data_balanced = pd.concat([majority_test_downsampled, minority_test])\n",
    "\n",
    "# Mezclar las filas para evitar orden en las clases\n",
    "train_data_balanced = train_data_balanced.sample(frac=1, random_state=42).reset_index(drop=True)\n",
    "test_data_balanced = test_data_balanced.sample(frac=1, random_state=42).reset_index(drop=True)\n",
    "\n",
    "# Resultado\n",
    "print(\"Tamaño del conjunto de entrenamiento balanceado:\", train_data_balanced.shape)\n",
    "print(\"Tamaño del conjunto de prueba balanceado:\", test_data_balanced.shape)\n"
   ]
  },
  {
   "cell_type": "code",
   "execution_count": null,
   "metadata": {},
   "outputs": [],
   "source": [
    "# Quito los columnas target tanto del train como del test\n",
    "\n",
    "X_train = train_data_balanced.drop(['clase_ternaria', 'clase_peso', 'clase_binaria1','clase_binaria2'], axis=1)\n",
    "y_train_binaria2 = train_data_balanced['clase_binaria2']\n",
    "w_train = train_data_balanced['clase_peso']\n",
    "\n",
    "\n",
    "\n",
    "X_test = test_data_balanced.drop(['clase_ternaria', 'clase_peso', 'clase_binaria1','clase_binaria2'], axis=1)\n",
    "y_test_binaria1 = test_data_balanced['clase_binaria1']\n",
    "y_test_class = test_data_balanced['clase_ternaria']\n",
    "w_test = test_data_balanced['clase_peso']\n",
    "\n",
    "\n",
    "\n",
    "Septiembre_pre = Septiembre_data.drop(['clase_ternaria', 'clase_peso', 'clase_binaria1','clase_binaria2'], axis=1)\n",
    "\n",
    "\n"
   ]
  },
  {
   "cell_type": "markdown",
   "metadata": {},
   "source": [
    "## Defino función personalizada para el LGBM y parámetros del modelo.\n",
    "\n",
    "Esta función reemplaza la loss-function predeterminada log(odd), para clasificación binaria\n",
    "\n",
    "lgb_gan_eval = Los baja +2 * ganancia_acierto - El resto * Costo estimulo\n",
    "\n",
    "ganancia = acumulada\n",
    "\n",
    "Define esta ganancia, y define un modelo GBDT para probar cual de las Targets es mejor en cuanto a maximizar las ganacias. "
   ]
  },
  {
   "cell_type": "code",
   "execution_count": null,
   "metadata": {},
   "outputs": [],
   "source": [
    "def lgb_gan_eval(y_pred, data):\n",
    "    weight = data.get_weight()\n",
    "    ganancia = np.where(weight == 1.00002, ganancia_acierto, 0) - np.where(weight < 1.00002, costo_estimulo, 0)\n",
    "    ganancia = ganancia[np.argsort(y_pred)[::-1]]\n",
    "    ganancia = np.cumsum(ganancia)\n",
    "\n",
    "    return 'gan_eval', np.max(ganancia) , True\n"
   ]
  },
  {
   "cell_type": "markdown",
   "metadata": {
    "id": "Qte_kOcU-7i3"
   },
   "source": [
    "## Le defino los pesos asignados para LGBM\n",
    "Elegimos Y_train_binaria2. Que trata a los Baja+1 com Baja +2. Esto porque en otro Notebookvimos que maximiza la ganancia."
   ]
  },
  {
   "cell_type": "code",
   "execution_count": null,
   "metadata": {
    "id": "5dnWsRWgPnRr"
   },
   "outputs": [],
   "source": [
    "\"train_data2 = lgb.Dataset(X_train, label=y_train_binaria2, weight=w_train)\""
   ]
  },
  {
   "cell_type": "markdown",
   "metadata": {},
   "source": [
    "# Se define la función de Optuna para Optimizar los hipermaramentros\n",
    "Que maximizan las ganacias. "
   ]
  },
  {
   "cell_type": "code",
   "execution_count": null,
   "metadata": {
    "colab": {
     "base_uri": "https://localhost:8080/"
    },
    "id": "bYMEnNFbkSoQ",
    "outputId": "15d768d4-9e25-4063-984b-d79c90ea91bc"
   },
   "outputs": [],
   "source": [
    "\n",
    "def objective(trial):\n",
    "\n",
    "    num_leaves = trial.suggest_int('num_leaves', 8, 1000),\n",
    "    learning_rate = trial.suggest_float('learning_rate', 0.03, 0.5), # mas bajo, más iteraciones necesita\n",
    "    min_data_in_leaf = trial.suggest_int('min_data_in_leaf', 40, 1000),\n",
    "    feature_fraction = trial.suggest_float('feature_fraction', 0.1, 1.0),\n",
    "    bagging_fraction = trial.suggest_float('bagging_fraction', 0.1, 1.0),\n",
    "    \n",
    "\n",
    "    params = {\n",
    "        'objective': 'binary',\n",
    "        'metric': 'custom',\n",
    "        'boosting_type': 'gbdt',\n",
    "        'first_metric_only': True,\n",
    "        'boost_from_average': True,\n",
    "        'feature_pre_filter': False,\n",
    "        'max_bin': 31,\n",
    "        'num_leaves': num_leaves,\n",
    "        'learning_rate': learning_rate,\n",
    "        'min_data_in_leaf': min_data_in_leaf,\n",
    "        'feature_fraction': feature_fraction,\n",
    "        'bagging_fraction': bagging_fraction,\n",
    "        'seed': semillas[0],\n",
    "        'verbose': -1\n",
    "    }\n",
    "    train_data = lgb.Dataset(X_train,\n",
    "                              label=y_train_binaria2, # eligir la clase\n",
    "                              weight=w_train)\n",
    "    cv_results = lgb.cv(\n",
    "        params,\n",
    "        train_data,\n",
    "        num_boost_round=50, # modificar, subit y subir... y descomentar la línea inferior\n",
    "        feval=lgb_gan_eval,\n",
    "        stratified=True,\n",
    "        nfold=5,\n",
    "        seed=semillas[0]\n",
    "    )\n",
    "    max_gan = max(cv_results['valid gan_eval-mean'])\n",
    "    best_iter = cv_results['valid gan_eval-mean'].index(max_gan) + 1\n",
    "\n",
    "    # Guardamos cual es la mejor iteración del modelo\n",
    "    trial.set_user_attr(\"best_iter\", best_iter)\n",
    "\n",
    "    return max_gan * 5\n",
    "\n",
    "\n",
    "storage_name = \"sqlite:///\" + db_path + \"optimization_lgbm8.db\"\n",
    "study_name = \"exp_301_lgbm8\"\n",
    "\n",
    "study = optuna.create_study(\n",
    "    direction=\"maximize\",\n",
    "    study_name=study_name,\n",
    "    storage=storage_name,\n",
    "    load_if_exists=True,\n",
    ")"
   ]
  },
  {
   "cell_type": "code",
   "execution_count": null,
   "metadata": {
    "colab": {
     "base_uri": "https://localhost:8080/"
    },
    "id": "AMrT22K0u9JF",
    "outputId": "75ee1c52-fb2c-4ad4-df1e-1d0852a3867e",
    "scrolled": true
   },
   "outputs": [],
   "source": [
    "study.optimize(objective, n_trials=40) # subir subir"
   ]
  },
  {
   "cell_type": "markdown",
   "metadata": {
    "id": "ia2vN07FEasX"
   },
   "source": [
    "Analizamos los resultados as usual"
   ]
  },
  {
   "cell_type": "code",
   "execution_count": 46,
   "metadata": {},
   "outputs": [
    {
     "name": "stdout",
     "output_type": "stream",
     "text": [
      "Requirement already satisfied: plotly in /home/fernandomrestelli/.venv/lib/python3.12/site-packages (5.24.1)\n",
      "Requirement already satisfied: tenacity>=6.2.0 in /home/fernandomrestelli/.venv/lib/python3.12/site-packages (from plotly) (9.0.0)\n",
      "Requirement already satisfied: packaging in /home/fernandomrestelli/.venv/lib/python3.12/site-packages (from plotly) (24.2)\n",
      "Note: you may need to restart the kernel to use updated packages.\n"
     ]
    }
   ],
   "source": [
    "## pip install plotly"
   ]
  },
  {
   "cell_type": "code",
   "execution_count": 71,
   "metadata": {},
   "outputs": [],
   "source": [
    "import plotly"
   ]
  },
  {
   "cell_type": "code",
   "execution_count": 48,
   "metadata": {},
   "outputs": [
    {
     "name": "stdout",
     "output_type": "stream",
     "text": [
      "Requirement already satisfied: nbformat in /home/fernandomrestelli/.venv/lib/python3.12/site-packages (5.10.4)\n",
      "Requirement already satisfied: fastjsonschema>=2.15 in /home/fernandomrestelli/.venv/lib/python3.12/site-packages (from nbformat) (2.20.0)\n",
      "Requirement already satisfied: jsonschema>=2.6 in /home/fernandomrestelli/.venv/lib/python3.12/site-packages (from nbformat) (4.23.0)\n",
      "Requirement already satisfied: jupyter-core!=5.0.*,>=4.12 in /home/fernandomrestelli/.venv/lib/python3.12/site-packages (from nbformat) (5.7.2)\n",
      "Requirement already satisfied: traitlets>=5.1 in /home/fernandomrestelli/.venv/lib/python3.12/site-packages (from nbformat) (5.14.3)\n",
      "Requirement already satisfied: attrs>=22.2.0 in /home/fernandomrestelli/.venv/lib/python3.12/site-packages (from jsonschema>=2.6->nbformat) (24.2.0)\n",
      "Requirement already satisfied: jsonschema-specifications>=2023.03.6 in /home/fernandomrestelli/.venv/lib/python3.12/site-packages (from jsonschema>=2.6->nbformat) (2024.10.1)\n",
      "Requirement already satisfied: referencing>=0.28.4 in /home/fernandomrestelli/.venv/lib/python3.12/site-packages (from jsonschema>=2.6->nbformat) (0.35.1)\n",
      "Requirement already satisfied: rpds-py>=0.7.1 in /home/fernandomrestelli/.venv/lib/python3.12/site-packages (from jsonschema>=2.6->nbformat) (0.21.0)\n",
      "Requirement already satisfied: platformdirs>=2.5 in /home/fernandomrestelli/.venv/lib/python3.12/site-packages (from jupyter-core!=5.0.*,>=4.12->nbformat) (4.3.6)\n",
      "Note: you may need to restart the kernel to use updated packages.\n"
     ]
    }
   ],
   "source": [
    "### pip install nbformat"
   ]
  },
  {
   "cell_type": "code",
   "execution_count": 49,
   "metadata": {},
   "outputs": [
    {
     "name": "stdout",
     "output_type": "stream",
     "text": [
      "Requirement already satisfied: nbformat in /home/fernandomrestelli/.venv/lib/python3.12/site-packages (5.10.4)\n",
      "Requirement already satisfied: fastjsonschema>=2.15 in /home/fernandomrestelli/.venv/lib/python3.12/site-packages (from nbformat) (2.20.0)\n",
      "Requirement already satisfied: jsonschema>=2.6 in /home/fernandomrestelli/.venv/lib/python3.12/site-packages (from nbformat) (4.23.0)\n",
      "Requirement already satisfied: jupyter-core!=5.0.*,>=4.12 in /home/fernandomrestelli/.venv/lib/python3.12/site-packages (from nbformat) (5.7.2)\n",
      "Requirement already satisfied: traitlets>=5.1 in /home/fernandomrestelli/.venv/lib/python3.12/site-packages (from nbformat) (5.14.3)\n",
      "Requirement already satisfied: attrs>=22.2.0 in /home/fernandomrestelli/.venv/lib/python3.12/site-packages (from jsonschema>=2.6->nbformat) (24.2.0)\n",
      "Requirement already satisfied: jsonschema-specifications>=2023.03.6 in /home/fernandomrestelli/.venv/lib/python3.12/site-packages (from jsonschema>=2.6->nbformat) (2024.10.1)\n",
      "Requirement already satisfied: referencing>=0.28.4 in /home/fernandomrestelli/.venv/lib/python3.12/site-packages (from jsonschema>=2.6->nbformat) (0.35.1)\n",
      "Requirement already satisfied: rpds-py>=0.7.1 in /home/fernandomrestelli/.venv/lib/python3.12/site-packages (from jsonschema>=2.6->nbformat) (0.21.0)\n",
      "Requirement already satisfied: platformdirs>=2.5 in /home/fernandomrestelli/.venv/lib/python3.12/site-packages (from jupyter-core!=5.0.*,>=4.12->nbformat) (4.3.6)\n",
      "Note: you may need to restart the kernel to use updated packages.\n"
     ]
    }
   ],
   "source": [
    "### pip install --upgrade nbformat"
   ]
  },
  {
   "cell_type": "code",
   "execution_count": null,
   "metadata": {
    "colab": {
     "base_uri": "https://localhost:8080/",
     "height": 542
    },
    "id": "fH4ybQgYx7Xf",
    "outputId": "e2492e33-7da9-408e-bc68-ecc14c0fdf99"
   },
   "outputs": [],
   "source": [
    "import optuna.visualization as vis\n",
    "vis.plot_optimization_history(study)\n",
    "#optuna.visualization.plot_optimization_history(study)\n",
    "\n",
    "\n"
   ]
  },
  {
   "cell_type": "code",
   "execution_count": null,
   "metadata": {
    "colab": {
     "base_uri": "https://localhost:8080/",
     "height": 542
    },
    "id": "vOfm5DXAx8Rj",
    "outputId": "7ea05841-331e-48cb-fcb9-c36e97ab2051"
   },
   "outputs": [],
   "source": [
    "plot_param_importances(study)"
   ]
  },
  {
   "cell_type": "markdown",
   "metadata": {
    "id": "O0Z-r8QYEsNN"
   },
   "source": [
    "El **learning rate** es un parámetro que tiene que ir acompañado por más árboles."
   ]
  },
  {
   "cell_type": "code",
   "execution_count": null,
   "metadata": {
    "colab": {
     "base_uri": "https://localhost:8080/",
     "height": 562
    },
    "id": "0U6CfznSx-gG",
    "outputId": "f3c4a028-2d47-4e6e-ba8b-2877fe9d843a"
   },
   "outputs": [],
   "source": [
    "plot_slice(study)"
   ]
  },
  {
   "cell_type": "code",
   "execution_count": 53,
   "metadata": {
    "colab": {
     "base_uri": "https://localhost:8080/",
     "height": 542
    },
    "id": "XRqPgCD6yB_q",
    "outputId": "0adae389-2981-43ee-c939-212232dd4f31",
    "scrolled": true
   },
   "outputs": [
    {
     "data": {
      "application/vnd.plotly.v1+json": {
       "config": {
        "plotlyServerURL": "https://plot.ly"
       },
       "data": [
        {
         "type": "scatter",
         "xaxis": "x",
         "yaxis": "y"
        },
        {
         "colorbar": {
          "title": {
           "text": "Objective Value"
          }
         },
         "colorscale": [
          [
           0,
           "rgb(247,251,255)"
          ],
          [
           0.125,
           "rgb(222,235,247)"
          ],
          [
           0.25,
           "rgb(198,219,239)"
          ],
          [
           0.375,
           "rgb(158,202,225)"
          ],
          [
           0.5,
           "rgb(107,174,214)"
          ],
          [
           0.625,
           "rgb(66,146,198)"
          ],
          [
           0.75,
           "rgb(33,113,181)"
          ],
          [
           0.875,
           "rgb(8,81,156)"
          ],
          [
           1,
           "rgb(8,48,107)"
          ]
         ],
         "connectgaps": true,
         "contours": {
          "coloring": "heatmap"
         },
         "hoverinfo": "none",
         "line": {
          "smoothing": 1.3
         },
         "reversescale": false,
         "showscale": true,
         "type": "contour",
         "x": [
          0.08589546205368012,
          0.12605332483265164,
          0.2353536616083134,
          0.24777400360931806,
          0.3596582120892105,
          0.36771850782270954,
          0.5085282531639665,
          0.5285467464513326,
          0.6709594845692777,
          0.7315126514447707,
          0.7463142524497365,
          0.7991161083567293,
          0.8837534489020508,
          0.8987867623514556,
          0.9292105804120817,
          0.9693684431910532
         ],
         "xaxis": "x6",
         "y": [
          0.05778506112761994,
          0.10181441621260068,
          0.1309302049971398,
          0.13119534160609994,
          0.22052156895031394,
          0.250642501954928,
          0.31496184114635883,
          0.3875464469518455,
          0.4195984880996876,
          0.5324065756370546,
          0.7091225542125388,
          0.7499926656792276,
          0.9267105516187026,
          0.9460061957667919,
          0.9824015179122154,
          1.0264308729971963
         ],
         "yaxis": "y6",
         "z": [
          [
           null,
           null,
           null,
           null,
           null,
           null,
           null,
           null,
           null,
           null,
           null,
           null,
           null,
           null,
           null,
           null
          ],
          [
           null,
           null,
           null,
           null,
           null,
           null,
           null,
           null,
           null,
           null,
           1158178000,
           null,
           null,
           null,
           null,
           null
          ],
          [
           null,
           null,
           null,
           1159627000,
           null,
           null,
           null,
           null,
           null,
           null,
           null,
           null,
           null,
           null,
           null,
           null
          ],
          [
           null,
           1159312000,
           null,
           null,
           null,
           null,
           null,
           null,
           null,
           null,
           null,
           null,
           null,
           null,
           null,
           null
          ],
          [
           null,
           null,
           null,
           null,
           null,
           null,
           null,
           null,
           null,
           null,
           null,
           null,
           null,
           1163771000,
           null,
           null
          ],
          [
           null,
           null,
           null,
           null,
           null,
           1159613000,
           null,
           null,
           null,
           null,
           null,
           null,
           null,
           null,
           null,
           null
          ],
          [
           null,
           null,
           1128813000,
           null,
           null,
           null,
           null,
           null,
           null,
           null,
           null,
           null,
           null,
           null,
           null,
           null
          ],
          [
           null,
           null,
           null,
           null,
           null,
           null,
           null,
           null,
           1147706000,
           null,
           null,
           null,
           null,
           null,
           null,
           null
          ],
          [
           null,
           null,
           null,
           null,
           null,
           null,
           1136051000,
           null,
           null,
           null,
           null,
           null,
           null,
           null,
           null,
           null
          ],
          [
           null,
           null,
           null,
           null,
           1148014000,
           null,
           null,
           null,
           null,
           null,
           null,
           null,
           null,
           null,
           null,
           null
          ],
          [
           null,
           null,
           null,
           null,
           null,
           null,
           null,
           null,
           null,
           null,
           null,
           null,
           null,
           null,
           1136037000,
           null
          ],
          [
           null,
           null,
           null,
           null,
           null,
           null,
           null,
           1133181000,
           null,
           null,
           null,
           null,
           null,
           null,
           null,
           null
          ],
          [
           null,
           null,
           null,
           null,
           null,
           null,
           null,
           null,
           null,
           1142638000,
           null,
           null,
           null,
           null,
           null,
           null
          ],
          [
           null,
           null,
           null,
           null,
           null,
           null,
           null,
           null,
           null,
           null,
           null,
           null,
           1140062000,
           null,
           null,
           null
          ],
          [
           null,
           null,
           null,
           null,
           null,
           null,
           null,
           null,
           null,
           null,
           null,
           1146999000,
           null,
           null,
           null,
           null
          ],
          [
           null,
           null,
           null,
           null,
           null,
           null,
           null,
           null,
           null,
           null,
           null,
           null,
           null,
           null,
           null,
           null
          ]
         ]
        },
        {
         "marker": {
          "color": "black",
          "line": {
           "color": "Gray",
           "width": 2
          }
         },
         "mode": "markers",
         "name": "Feasible Trial",
         "showlegend": false,
         "type": "scatter",
         "x": [
          0.7991161083567293,
          0.7463142524497365,
          0.6709594845692777,
          0.7315126514447707,
          0.2353536616083134,
          0.9292105804120817,
          0.5285467464513326,
          0.8987867623514556,
          0.5085282531639665,
          0.8837534489020508,
          0.24777400360931806,
          0.12605332483265164,
          0.36771850782270954,
          0.3596582120892105
         ],
         "xaxis": "x6",
         "y": [
          0.9824015179122154,
          0.10181441621260068,
          0.3875464469518455,
          0.9267105516187026,
          0.31496184114635883,
          0.7091225542125388,
          0.7499926656792276,
          0.22052156895031394,
          0.4195984880996876,
          0.9460061957667919,
          0.1309302049971398,
          0.13119534160609994,
          0.250642501954928,
          0.5324065756370546
         ],
         "yaxis": "y6"
        },
        {
         "colorbar": {
          "title": {
           "text": "Objective Value"
          }
         },
         "colorscale": [
          [
           0,
           "rgb(247,251,255)"
          ],
          [
           0.125,
           "rgb(222,235,247)"
          ],
          [
           0.25,
           "rgb(198,219,239)"
          ],
          [
           0.375,
           "rgb(158,202,225)"
          ],
          [
           0.5,
           "rgb(107,174,214)"
          ],
          [
           0.625,
           "rgb(66,146,198)"
          ],
          [
           0.75,
           "rgb(33,113,181)"
          ],
          [
           0.875,
           "rgb(8,81,156)"
          ],
          [
           1,
           "rgb(8,48,107)"
          ]
         ],
         "connectgaps": true,
         "contours": {
          "coloring": "heatmap"
         },
         "hoverinfo": "none",
         "line": {
          "smoothing": 1.3
         },
         "reversescale": false,
         "showscale": false,
         "type": "contour",
         "x": [
          0.08589546205368012,
          0.12605332483265164,
          0.2353536616083134,
          0.24777400360931806,
          0.3596582120892105,
          0.36771850782270954,
          0.5085282531639665,
          0.5285467464513326,
          0.6709594845692777,
          0.7315126514447707,
          0.7463142524497365,
          0.7991161083567293,
          0.8837534489020508,
          0.8987867623514556,
          0.9292105804120817,
          0.9693684431910532
         ],
         "xaxis": "x11",
         "y": [
          0.08102759290006609,
          0.09944823172064514,
          0.13962131116637166,
          0.14970097307697555,
          0.15113392069522186,
          0.20129379744973633,
          0.23230064569227743,
          0.27666868254324206,
          0.32594565004123,
          0.33974229084374263,
          0.36483398062943584,
          0.38994738607275514,
          0.41306024569570354,
          0.4663930258177883,
          0.4678610081322261,
          0.4862816469528051
         ],
         "yaxis": "y11",
         "z": [
          [
           null,
           null,
           null,
           null,
           null,
           null,
           null,
           null,
           null,
           null,
           null,
           null,
           null,
           null,
           null,
           null
          ],
          [
           null,
           null,
           null,
           null,
           null,
           null,
           null,
           null,
           null,
           null,
           1158178000,
           null,
           null,
           null,
           null,
           null
          ],
          [
           null,
           1159312000,
           null,
           null,
           null,
           null,
           null,
           null,
           null,
           null,
           null,
           null,
           null,
           null,
           null,
           null
          ],
          [
           null,
           null,
           null,
           1159627000,
           null,
           null,
           null,
           null,
           null,
           null,
           null,
           null,
           null,
           null,
           null,
           null
          ],
          [
           null,
           null,
           null,
           null,
           null,
           null,
           null,
           null,
           null,
           null,
           null,
           null,
           null,
           1163771000,
           null,
           null
          ],
          [
           null,
           null,
           null,
           null,
           null,
           1159613000,
           null,
           null,
           null,
           null,
           null,
           null,
           null,
           null,
           null,
           null
          ],
          [
           null,
           null,
           null,
           null,
           1148014000,
           null,
           null,
           null,
           null,
           null,
           null,
           null,
           null,
           null,
           null,
           null
          ],
          [
           null,
           null,
           null,
           null,
           null,
           null,
           null,
           null,
           null,
           null,
           null,
           1146999000,
           null,
           null,
           null,
           null
          ],
          [
           null,
           null,
           null,
           null,
           null,
           null,
           null,
           null,
           1147706000,
           null,
           null,
           null,
           null,
           null,
           null,
           null
          ],
          [
           null,
           null,
           null,
           null,
           null,
           null,
           null,
           null,
           null,
           1142638000,
           null,
           null,
           null,
           null,
           null,
           null
          ],
          [
           null,
           null,
           null,
           null,
           null,
           null,
           null,
           null,
           null,
           null,
           null,
           null,
           1140062000,
           null,
           null,
           null
          ],
          [
           null,
           null,
           null,
           null,
           null,
           null,
           null,
           null,
           null,
           null,
           null,
           null,
           null,
           null,
           1136037000,
           null
          ],
          [
           null,
           null,
           null,
           null,
           null,
           null,
           1136051000,
           null,
           null,
           null,
           null,
           null,
           null,
           null,
           null,
           null
          ],
          [
           null,
           null,
           null,
           null,
           null,
           null,
           null,
           1133181000,
           null,
           null,
           null,
           null,
           null,
           null,
           null,
           null
          ],
          [
           null,
           null,
           1128813000,
           null,
           null,
           null,
           null,
           null,
           null,
           null,
           null,
           null,
           null,
           null,
           null,
           null
          ],
          [
           null,
           null,
           null,
           null,
           null,
           null,
           null,
           null,
           null,
           null,
           null,
           null,
           null,
           null,
           null,
           null
          ]
         ]
        },
        {
         "marker": {
          "color": "black",
          "line": {
           "color": "Gray",
           "width": 2
          }
         },
         "mode": "markers",
         "name": "Feasible Trial",
         "showlegend": false,
         "type": "scatter",
         "x": [
          0.7991161083567293,
          0.7463142524497365,
          0.6709594845692777,
          0.7315126514447707,
          0.2353536616083134,
          0.9292105804120817,
          0.5285467464513326,
          0.8987867623514556,
          0.5085282531639665,
          0.8837534489020508,
          0.24777400360931806,
          0.12605332483265164,
          0.36771850782270954,
          0.3596582120892105
         ],
         "xaxis": "x11",
         "y": [
          0.27666868254324206,
          0.09944823172064514,
          0.32594565004123,
          0.33974229084374263,
          0.4678610081322261,
          0.38994738607275514,
          0.4663930258177883,
          0.15113392069522186,
          0.41306024569570354,
          0.36483398062943584,
          0.14970097307697555,
          0.13962131116637166,
          0.20129379744973633,
          0.23230064569227743
         ],
         "yaxis": "y11"
        },
        {
         "colorbar": {
          "title": {
           "text": "Objective Value"
          }
         },
         "colorscale": [
          [
           0,
           "rgb(247,251,255)"
          ],
          [
           0.125,
           "rgb(222,235,247)"
          ],
          [
           0.25,
           "rgb(198,219,239)"
          ],
          [
           0.375,
           "rgb(158,202,225)"
          ],
          [
           0.5,
           "rgb(107,174,214)"
          ],
          [
           0.625,
           "rgb(66,146,198)"
          ],
          [
           0.75,
           "rgb(33,113,181)"
          ],
          [
           0.875,
           "rgb(8,81,156)"
          ],
          [
           1,
           "rgb(8,48,107)"
          ]
         ],
         "connectgaps": true,
         "contours": {
          "coloring": "heatmap"
         },
         "hoverinfo": "none",
         "line": {
          "smoothing": 1.3
         },
         "reversescale": false,
         "showscale": false,
         "type": "contour",
         "x": [
          0.08589546205368012,
          0.12605332483265164,
          0.2353536616083134,
          0.24777400360931806,
          0.3596582120892105,
          0.36771850782270954,
          0.5085282531639665,
          0.5285467464513326,
          0.6709594845692777,
          0.7315126514447707,
          0.7463142524497365,
          0.7991161083567293,
          0.8837534489020508,
          0.8987867623514556,
          0.9292105804120817,
          0.9693684431910532
         ],
         "xaxis": "x16",
         "y": [
          487.05,
          559,
          846,
          925,
          1065,
          1146,
          1360,
          1364,
          1433,
          1465,
          1515,
          1742,
          1802,
          1940,
          1998,
          2069.95
         ],
         "yaxis": "y16",
         "z": [
          [
           null,
           null,
           null,
           null,
           null,
           null,
           null,
           null,
           null,
           null,
           null,
           null,
           null,
           null,
           null,
           null
          ],
          [
           null,
           null,
           null,
           null,
           null,
           1159613000,
           null,
           null,
           null,
           null,
           null,
           null,
           null,
           null,
           null,
           null
          ],
          [
           null,
           null,
           null,
           null,
           null,
           null,
           null,
           1133181000,
           null,
           null,
           null,
           null,
           null,
           null,
           null,
           null
          ],
          [
           null,
           null,
           null,
           null,
           null,
           null,
           null,
           null,
           null,
           null,
           null,
           null,
           null,
           null,
           1136037000,
           null
          ],
          [
           null,
           null,
           null,
           null,
           null,
           null,
           null,
           null,
           null,
           null,
           null,
           null,
           1140062000,
           null,
           null,
           null
          ],
          [
           null,
           null,
           null,
           null,
           null,
           null,
           null,
           null,
           null,
           null,
           1158178000,
           null,
           null,
           null,
           null,
           null
          ],
          [
           null,
           null,
           null,
           null,
           null,
           null,
           null,
           null,
           null,
           1142638000,
           null,
           null,
           null,
           null,
           null,
           null
          ],
          [
           null,
           null,
           null,
           null,
           null,
           null,
           null,
           null,
           null,
           null,
           null,
           null,
           null,
           1163771000,
           null,
           null
          ],
          [
           null,
           null,
           null,
           1159627000,
           null,
           null,
           null,
           null,
           null,
           null,
           null,
           null,
           null,
           null,
           null,
           null
          ],
          [
           null,
           1159312000,
           null,
           null,
           null,
           null,
           null,
           null,
           null,
           null,
           null,
           null,
           null,
           null,
           null,
           null
          ],
          [
           null,
           null,
           null,
           null,
           1148014000,
           null,
           null,
           null,
           null,
           null,
           null,
           null,
           null,
           null,
           null,
           null
          ],
          [
           null,
           null,
           1128813000,
           null,
           null,
           null,
           null,
           null,
           null,
           null,
           null,
           null,
           null,
           null,
           null,
           null
          ],
          [
           null,
           null,
           null,
           null,
           null,
           null,
           null,
           null,
           null,
           null,
           null,
           1146999000,
           null,
           null,
           null,
           null
          ],
          [
           null,
           null,
           null,
           null,
           null,
           null,
           null,
           null,
           1147706000,
           null,
           null,
           null,
           null,
           null,
           null,
           null
          ],
          [
           null,
           null,
           null,
           null,
           null,
           null,
           1136051000,
           null,
           null,
           null,
           null,
           null,
           null,
           null,
           null,
           null
          ],
          [
           null,
           null,
           null,
           null,
           null,
           null,
           null,
           null,
           null,
           null,
           null,
           null,
           null,
           null,
           null,
           null
          ]
         ]
        },
        {
         "marker": {
          "color": "black",
          "line": {
           "color": "Gray",
           "width": 2
          }
         },
         "mode": "markers",
         "name": "Feasible Trial",
         "showlegend": false,
         "type": "scatter",
         "x": [
          0.7991161083567293,
          0.7463142524497365,
          0.6709594845692777,
          0.7315126514447707,
          0.2353536616083134,
          0.9292105804120817,
          0.5285467464513326,
          0.8987867623514556,
          0.5085282531639665,
          0.8837534489020508,
          0.24777400360931806,
          0.12605332483265164,
          0.36771850782270954,
          0.3596582120892105
         ],
         "xaxis": "x16",
         "y": [
          1802,
          1146,
          1940,
          1360,
          1742,
          925,
          846,
          1364,
          1998,
          1065,
          1433,
          1465,
          559,
          1515
         ],
         "yaxis": "y16"
        },
        {
         "colorbar": {
          "title": {
           "text": "Objective Value"
          }
         },
         "colorscale": [
          [
           0,
           "rgb(247,251,255)"
          ],
          [
           0.125,
           "rgb(222,235,247)"
          ],
          [
           0.25,
           "rgb(198,219,239)"
          ],
          [
           0.375,
           "rgb(158,202,225)"
          ],
          [
           0.5,
           "rgb(107,174,214)"
          ],
          [
           0.625,
           "rgb(66,146,198)"
          ],
          [
           0.75,
           "rgb(33,113,181)"
          ],
          [
           0.875,
           "rgb(8,81,156)"
          ],
          [
           1,
           "rgb(8,48,107)"
          ]
         ],
         "connectgaps": true,
         "contours": {
          "coloring": "heatmap"
         },
         "hoverinfo": "none",
         "line": {
          "smoothing": 1.3
         },
         "reversescale": false,
         "showscale": false,
         "type": "contour",
         "x": [
          0.08589546205368012,
          0.12605332483265164,
          0.2353536616083134,
          0.24777400360931806,
          0.3596582120892105,
          0.36771850782270954,
          0.5085282531639665,
          0.5285467464513326,
          0.6709594845692777,
          0.7315126514447707,
          0.7463142524497365,
          0.7991161083567293,
          0.8837534489020508,
          0.8987867623514556,
          0.9292105804120817,
          0.9693684431910532
         ],
         "xaxis": "x21",
         "y": [
          -21.650000000000006,
          27,
          230,
          271,
          340,
          354,
          478,
          496,
          625,
          718,
          858,
          901,
          921,
          985,
          1000,
          1048.65
         ],
         "yaxis": "y21",
         "z": [
          [
           null,
           null,
           null,
           null,
           null,
           null,
           null,
           null,
           null,
           null,
           null,
           null,
           null,
           null,
           null,
           null
          ],
          [
           null,
           null,
           null,
           null,
           1148014000,
           null,
           null,
           null,
           null,
           null,
           null,
           null,
           null,
           null,
           null,
           null
          ],
          [
           null,
           null,
           null,
           null,
           null,
           null,
           null,
           null,
           null,
           null,
           null,
           null,
           null,
           null,
           1136037000,
           null
          ],
          [
           null,
           null,
           null,
           null,
           null,
           null,
           null,
           null,
           null,
           null,
           1158178000,
           null,
           null,
           null,
           null,
           null
          ],
          [
           null,
           null,
           null,
           null,
           null,
           null,
           null,
           null,
           1147706000,
           null,
           null,
           null,
           null,
           null,
           null,
           null
          ],
          [
           null,
           null,
           null,
           null,
           null,
           null,
           null,
           1133181000,
           null,
           null,
           null,
           null,
           null,
           null,
           null,
           null
          ],
          [
           null,
           null,
           1128813000,
           null,
           null,
           null,
           null,
           null,
           null,
           null,
           null,
           null,
           null,
           null,
           null,
           null
          ],
          [
           null,
           null,
           null,
           null,
           null,
           null,
           1136051000,
           null,
           null,
           null,
           null,
           null,
           null,
           null,
           null,
           null
          ],
          [
           null,
           null,
           null,
           null,
           null,
           null,
           null,
           null,
           null,
           null,
           null,
           1146999000,
           null,
           null,
           null,
           null
          ],
          [
           null,
           null,
           null,
           null,
           null,
           null,
           null,
           null,
           null,
           1142638000,
           null,
           null,
           null,
           null,
           null,
           null
          ],
          [
           null,
           null,
           null,
           null,
           null,
           null,
           null,
           null,
           null,
           null,
           null,
           null,
           null,
           1163771000,
           null,
           null
          ],
          [
           null,
           null,
           null,
           null,
           null,
           null,
           null,
           null,
           null,
           null,
           null,
           null,
           1140062000,
           null,
           null,
           null
          ],
          [
           null,
           1159312000,
           null,
           null,
           null,
           null,
           null,
           null,
           null,
           null,
           null,
           null,
           null,
           null,
           null,
           null
          ],
          [
           null,
           null,
           null,
           1159627000,
           null,
           null,
           null,
           null,
           null,
           null,
           null,
           null,
           null,
           null,
           null,
           null
          ],
          [
           null,
           null,
           null,
           null,
           null,
           1159613000,
           null,
           null,
           null,
           null,
           null,
           null,
           null,
           null,
           null,
           null
          ],
          [
           null,
           null,
           null,
           null,
           null,
           null,
           null,
           null,
           null,
           null,
           null,
           null,
           null,
           null,
           null,
           null
          ]
         ]
        },
        {
         "marker": {
          "color": "black",
          "line": {
           "color": "Gray",
           "width": 2
          }
         },
         "mode": "markers",
         "name": "Feasible Trial",
         "showlegend": false,
         "type": "scatter",
         "x": [
          0.7991161083567293,
          0.7463142524497365,
          0.6709594845692777,
          0.7315126514447707,
          0.2353536616083134,
          0.9292105804120817,
          0.5285467464513326,
          0.8987867623514556,
          0.5085282531639665,
          0.8837534489020508,
          0.24777400360931806,
          0.12605332483265164,
          0.36771850782270954,
          0.3596582120892105
         ],
         "xaxis": "x21",
         "y": [
          625,
          271,
          340,
          718,
          478,
          230,
          354,
          858,
          496,
          901,
          985,
          921,
          1000,
          27
         ],
         "yaxis": "y21"
        },
        {
         "colorbar": {
          "title": {
           "text": "Objective Value"
          }
         },
         "colorscale": [
          [
           0,
           "rgb(247,251,255)"
          ],
          [
           0.125,
           "rgb(222,235,247)"
          ],
          [
           0.25,
           "rgb(198,219,239)"
          ],
          [
           0.375,
           "rgb(158,202,225)"
          ],
          [
           0.5,
           "rgb(107,174,214)"
          ],
          [
           0.625,
           "rgb(66,146,198)"
          ],
          [
           0.75,
           "rgb(33,113,181)"
          ],
          [
           0.875,
           "rgb(8,81,156)"
          ],
          [
           1,
           "rgb(8,48,107)"
          ]
         ],
         "connectgaps": true,
         "contours": {
          "coloring": "heatmap"
         },
         "hoverinfo": "none",
         "line": {
          "smoothing": 1.3
         },
         "reversescale": false,
         "showscale": false,
         "type": "contour",
         "x": [
          0.05778506112761994,
          0.10181441621260068,
          0.1309302049971398,
          0.13119534160609994,
          0.22052156895031394,
          0.250642501954928,
          0.31496184114635883,
          0.3875464469518455,
          0.4195984880996876,
          0.5324065756370546,
          0.7091225542125388,
          0.7499926656792276,
          0.9267105516187026,
          0.9460061957667919,
          0.9824015179122154,
          1.0264308729971963
         ],
         "xaxis": "x2",
         "y": [
          0.08589546205368012,
          0.12605332483265164,
          0.2353536616083134,
          0.24777400360931806,
          0.3596582120892105,
          0.36771850782270954,
          0.5085282531639665,
          0.5285467464513326,
          0.6709594845692777,
          0.7315126514447707,
          0.7463142524497365,
          0.7991161083567293,
          0.8837534489020508,
          0.8987867623514556,
          0.9292105804120817,
          0.9693684431910532
         ],
         "yaxis": "y2",
         "z": [
          [
           null,
           null,
           null,
           null,
           null,
           null,
           null,
           null,
           null,
           null,
           null,
           null,
           null,
           null,
           null,
           null
          ],
          [
           null,
           null,
           null,
           1159312000,
           null,
           null,
           null,
           null,
           null,
           null,
           null,
           null,
           null,
           null,
           null,
           null
          ],
          [
           null,
           null,
           null,
           null,
           null,
           null,
           1128813000,
           null,
           null,
           null,
           null,
           null,
           null,
           null,
           null,
           null
          ],
          [
           null,
           null,
           1159627000,
           null,
           null,
           null,
           null,
           null,
           null,
           null,
           null,
           null,
           null,
           null,
           null,
           null
          ],
          [
           null,
           null,
           null,
           null,
           null,
           null,
           null,
           null,
           null,
           1148014000,
           null,
           null,
           null,
           null,
           null,
           null
          ],
          [
           null,
           null,
           null,
           null,
           null,
           1159613000,
           null,
           null,
           null,
           null,
           null,
           null,
           null,
           null,
           null,
           null
          ],
          [
           null,
           null,
           null,
           null,
           null,
           null,
           null,
           null,
           1136051000,
           null,
           null,
           null,
           null,
           null,
           null,
           null
          ],
          [
           null,
           null,
           null,
           null,
           null,
           null,
           null,
           null,
           null,
           null,
           null,
           1133181000,
           null,
           null,
           null,
           null
          ],
          [
           null,
           null,
           null,
           null,
           null,
           null,
           null,
           1147706000,
           null,
           null,
           null,
           null,
           null,
           null,
           null,
           null
          ],
          [
           null,
           null,
           null,
           null,
           null,
           null,
           null,
           null,
           null,
           null,
           null,
           null,
           1142638000,
           null,
           null,
           null
          ],
          [
           null,
           1158178000,
           null,
           null,
           null,
           null,
           null,
           null,
           null,
           null,
           null,
           null,
           null,
           null,
           null,
           null
          ],
          [
           null,
           null,
           null,
           null,
           null,
           null,
           null,
           null,
           null,
           null,
           null,
           null,
           null,
           null,
           1146999000,
           null
          ],
          [
           null,
           null,
           null,
           null,
           null,
           null,
           null,
           null,
           null,
           null,
           null,
           null,
           null,
           1140062000,
           null,
           null
          ],
          [
           null,
           null,
           null,
           null,
           1163771000,
           null,
           null,
           null,
           null,
           null,
           null,
           null,
           null,
           null,
           null,
           null
          ],
          [
           null,
           null,
           null,
           null,
           null,
           null,
           null,
           null,
           null,
           null,
           1136037000,
           null,
           null,
           null,
           null,
           null
          ],
          [
           null,
           null,
           null,
           null,
           null,
           null,
           null,
           null,
           null,
           null,
           null,
           null,
           null,
           null,
           null,
           null
          ]
         ]
        },
        {
         "marker": {
          "color": "black",
          "line": {
           "color": "Gray",
           "width": 2
          }
         },
         "mode": "markers",
         "name": "Feasible Trial",
         "showlegend": false,
         "type": "scatter",
         "x": [
          0.9824015179122154,
          0.10181441621260068,
          0.3875464469518455,
          0.9267105516187026,
          0.31496184114635883,
          0.7091225542125388,
          0.7499926656792276,
          0.22052156895031394,
          0.4195984880996876,
          0.9460061957667919,
          0.1309302049971398,
          0.13119534160609994,
          0.250642501954928,
          0.5324065756370546
         ],
         "xaxis": "x2",
         "y": [
          0.7991161083567293,
          0.7463142524497365,
          0.6709594845692777,
          0.7315126514447707,
          0.2353536616083134,
          0.9292105804120817,
          0.5285467464513326,
          0.8987867623514556,
          0.5085282531639665,
          0.8837534489020508,
          0.24777400360931806,
          0.12605332483265164,
          0.36771850782270954,
          0.3596582120892105
         ],
         "yaxis": "y2"
        },
        {
         "type": "scatter",
         "xaxis": "x7",
         "yaxis": "y7"
        },
        {
         "colorbar": {
          "title": {
           "text": "Objective Value"
          }
         },
         "colorscale": [
          [
           0,
           "rgb(247,251,255)"
          ],
          [
           0.125,
           "rgb(222,235,247)"
          ],
          [
           0.25,
           "rgb(198,219,239)"
          ],
          [
           0.375,
           "rgb(158,202,225)"
          ],
          [
           0.5,
           "rgb(107,174,214)"
          ],
          [
           0.625,
           "rgb(66,146,198)"
          ],
          [
           0.75,
           "rgb(33,113,181)"
          ],
          [
           0.875,
           "rgb(8,81,156)"
          ],
          [
           1,
           "rgb(8,48,107)"
          ]
         ],
         "connectgaps": true,
         "contours": {
          "coloring": "heatmap"
         },
         "hoverinfo": "none",
         "line": {
          "smoothing": 1.3
         },
         "reversescale": false,
         "showscale": false,
         "type": "contour",
         "x": [
          0.05778506112761994,
          0.10181441621260068,
          0.1309302049971398,
          0.13119534160609994,
          0.22052156895031394,
          0.250642501954928,
          0.31496184114635883,
          0.3875464469518455,
          0.4195984880996876,
          0.5324065756370546,
          0.7091225542125388,
          0.7499926656792276,
          0.9267105516187026,
          0.9460061957667919,
          0.9824015179122154,
          1.0264308729971963
         ],
         "xaxis": "x12",
         "y": [
          0.08102759290006609,
          0.09944823172064514,
          0.13962131116637166,
          0.14970097307697555,
          0.15113392069522186,
          0.20129379744973633,
          0.23230064569227743,
          0.27666868254324206,
          0.32594565004123,
          0.33974229084374263,
          0.36483398062943584,
          0.38994738607275514,
          0.41306024569570354,
          0.4663930258177883,
          0.4678610081322261,
          0.4862816469528051
         ],
         "yaxis": "y12",
         "z": [
          [
           null,
           null,
           null,
           null,
           null,
           null,
           null,
           null,
           null,
           null,
           null,
           null,
           null,
           null,
           null,
           null
          ],
          [
           null,
           1158178000,
           null,
           null,
           null,
           null,
           null,
           null,
           null,
           null,
           null,
           null,
           null,
           null,
           null,
           null
          ],
          [
           null,
           null,
           null,
           1159312000,
           null,
           null,
           null,
           null,
           null,
           null,
           null,
           null,
           null,
           null,
           null,
           null
          ],
          [
           null,
           null,
           1159627000,
           null,
           null,
           null,
           null,
           null,
           null,
           null,
           null,
           null,
           null,
           null,
           null,
           null
          ],
          [
           null,
           null,
           null,
           null,
           1163771000,
           null,
           null,
           null,
           null,
           null,
           null,
           null,
           null,
           null,
           null,
           null
          ],
          [
           null,
           null,
           null,
           null,
           null,
           1159613000,
           null,
           null,
           null,
           null,
           null,
           null,
           null,
           null,
           null,
           null
          ],
          [
           null,
           null,
           null,
           null,
           null,
           null,
           null,
           null,
           null,
           1148014000,
           null,
           null,
           null,
           null,
           null,
           null
          ],
          [
           null,
           null,
           null,
           null,
           null,
           null,
           null,
           null,
           null,
           null,
           null,
           null,
           null,
           null,
           1146999000,
           null
          ],
          [
           null,
           null,
           null,
           null,
           null,
           null,
           null,
           1147706000,
           null,
           null,
           null,
           null,
           null,
           null,
           null,
           null
          ],
          [
           null,
           null,
           null,
           null,
           null,
           null,
           null,
           null,
           null,
           null,
           null,
           null,
           1142638000,
           null,
           null,
           null
          ],
          [
           null,
           null,
           null,
           null,
           null,
           null,
           null,
           null,
           null,
           null,
           null,
           null,
           null,
           1140062000,
           null,
           null
          ],
          [
           null,
           null,
           null,
           null,
           null,
           null,
           null,
           null,
           null,
           null,
           1136037000,
           null,
           null,
           null,
           null,
           null
          ],
          [
           null,
           null,
           null,
           null,
           null,
           null,
           null,
           null,
           1136051000,
           null,
           null,
           null,
           null,
           null,
           null,
           null
          ],
          [
           null,
           null,
           null,
           null,
           null,
           null,
           null,
           null,
           null,
           null,
           null,
           1133181000,
           null,
           null,
           null,
           null
          ],
          [
           null,
           null,
           null,
           null,
           null,
           null,
           1128813000,
           null,
           null,
           null,
           null,
           null,
           null,
           null,
           null,
           null
          ],
          [
           null,
           null,
           null,
           null,
           null,
           null,
           null,
           null,
           null,
           null,
           null,
           null,
           null,
           null,
           null,
           null
          ]
         ]
        },
        {
         "marker": {
          "color": "black",
          "line": {
           "color": "Gray",
           "width": 2
          }
         },
         "mode": "markers",
         "name": "Feasible Trial",
         "showlegend": false,
         "type": "scatter",
         "x": [
          0.9824015179122154,
          0.10181441621260068,
          0.3875464469518455,
          0.9267105516187026,
          0.31496184114635883,
          0.7091225542125388,
          0.7499926656792276,
          0.22052156895031394,
          0.4195984880996876,
          0.9460061957667919,
          0.1309302049971398,
          0.13119534160609994,
          0.250642501954928,
          0.5324065756370546
         ],
         "xaxis": "x12",
         "y": [
          0.27666868254324206,
          0.09944823172064514,
          0.32594565004123,
          0.33974229084374263,
          0.4678610081322261,
          0.38994738607275514,
          0.4663930258177883,
          0.15113392069522186,
          0.41306024569570354,
          0.36483398062943584,
          0.14970097307697555,
          0.13962131116637166,
          0.20129379744973633,
          0.23230064569227743
         ],
         "yaxis": "y12"
        },
        {
         "colorbar": {
          "title": {
           "text": "Objective Value"
          }
         },
         "colorscale": [
          [
           0,
           "rgb(247,251,255)"
          ],
          [
           0.125,
           "rgb(222,235,247)"
          ],
          [
           0.25,
           "rgb(198,219,239)"
          ],
          [
           0.375,
           "rgb(158,202,225)"
          ],
          [
           0.5,
           "rgb(107,174,214)"
          ],
          [
           0.625,
           "rgb(66,146,198)"
          ],
          [
           0.75,
           "rgb(33,113,181)"
          ],
          [
           0.875,
           "rgb(8,81,156)"
          ],
          [
           1,
           "rgb(8,48,107)"
          ]
         ],
         "connectgaps": true,
         "contours": {
          "coloring": "heatmap"
         },
         "hoverinfo": "none",
         "line": {
          "smoothing": 1.3
         },
         "reversescale": false,
         "showscale": false,
         "type": "contour",
         "x": [
          0.05778506112761994,
          0.10181441621260068,
          0.1309302049971398,
          0.13119534160609994,
          0.22052156895031394,
          0.250642501954928,
          0.31496184114635883,
          0.3875464469518455,
          0.4195984880996876,
          0.5324065756370546,
          0.7091225542125388,
          0.7499926656792276,
          0.9267105516187026,
          0.9460061957667919,
          0.9824015179122154,
          1.0264308729971963
         ],
         "xaxis": "x17",
         "y": [
          487.05,
          559,
          846,
          925,
          1065,
          1146,
          1360,
          1364,
          1433,
          1465,
          1515,
          1742,
          1802,
          1940,
          1998,
          2069.95
         ],
         "yaxis": "y17",
         "z": [
          [
           null,
           null,
           null,
           null,
           null,
           null,
           null,
           null,
           null,
           null,
           null,
           null,
           null,
           null,
           null,
           null
          ],
          [
           null,
           null,
           null,
           null,
           null,
           1159613000,
           null,
           null,
           null,
           null,
           null,
           null,
           null,
           null,
           null,
           null
          ],
          [
           null,
           null,
           null,
           null,
           null,
           null,
           null,
           null,
           null,
           null,
           null,
           1133181000,
           null,
           null,
           null,
           null
          ],
          [
           null,
           null,
           null,
           null,
           null,
           null,
           null,
           null,
           null,
           null,
           1136037000,
           null,
           null,
           null,
           null,
           null
          ],
          [
           null,
           null,
           null,
           null,
           null,
           null,
           null,
           null,
           null,
           null,
           null,
           null,
           null,
           1140062000,
           null,
           null
          ],
          [
           null,
           1158178000,
           null,
           null,
           null,
           null,
           null,
           null,
           null,
           null,
           null,
           null,
           null,
           null,
           null,
           null
          ],
          [
           null,
           null,
           null,
           null,
           null,
           null,
           null,
           null,
           null,
           null,
           null,
           null,
           1142638000,
           null,
           null,
           null
          ],
          [
           null,
           null,
           null,
           null,
           1163771000,
           null,
           null,
           null,
           null,
           null,
           null,
           null,
           null,
           null,
           null,
           null
          ],
          [
           null,
           null,
           1159627000,
           null,
           null,
           null,
           null,
           null,
           null,
           null,
           null,
           null,
           null,
           null,
           null,
           null
          ],
          [
           null,
           null,
           null,
           1159312000,
           null,
           null,
           null,
           null,
           null,
           null,
           null,
           null,
           null,
           null,
           null,
           null
          ],
          [
           null,
           null,
           null,
           null,
           null,
           null,
           null,
           null,
           null,
           1148014000,
           null,
           null,
           null,
           null,
           null,
           null
          ],
          [
           null,
           null,
           null,
           null,
           null,
           null,
           1128813000,
           null,
           null,
           null,
           null,
           null,
           null,
           null,
           null,
           null
          ],
          [
           null,
           null,
           null,
           null,
           null,
           null,
           null,
           null,
           null,
           null,
           null,
           null,
           null,
           null,
           1146999000,
           null
          ],
          [
           null,
           null,
           null,
           null,
           null,
           null,
           null,
           1147706000,
           null,
           null,
           null,
           null,
           null,
           null,
           null,
           null
          ],
          [
           null,
           null,
           null,
           null,
           null,
           null,
           null,
           null,
           1136051000,
           null,
           null,
           null,
           null,
           null,
           null,
           null
          ],
          [
           null,
           null,
           null,
           null,
           null,
           null,
           null,
           null,
           null,
           null,
           null,
           null,
           null,
           null,
           null,
           null
          ]
         ]
        },
        {
         "marker": {
          "color": "black",
          "line": {
           "color": "Gray",
           "width": 2
          }
         },
         "mode": "markers",
         "name": "Feasible Trial",
         "showlegend": false,
         "type": "scatter",
         "x": [
          0.9824015179122154,
          0.10181441621260068,
          0.3875464469518455,
          0.9267105516187026,
          0.31496184114635883,
          0.7091225542125388,
          0.7499926656792276,
          0.22052156895031394,
          0.4195984880996876,
          0.9460061957667919,
          0.1309302049971398,
          0.13119534160609994,
          0.250642501954928,
          0.5324065756370546
         ],
         "xaxis": "x17",
         "y": [
          1802,
          1146,
          1940,
          1360,
          1742,
          925,
          846,
          1364,
          1998,
          1065,
          1433,
          1465,
          559,
          1515
         ],
         "yaxis": "y17"
        },
        {
         "colorbar": {
          "title": {
           "text": "Objective Value"
          }
         },
         "colorscale": [
          [
           0,
           "rgb(247,251,255)"
          ],
          [
           0.125,
           "rgb(222,235,247)"
          ],
          [
           0.25,
           "rgb(198,219,239)"
          ],
          [
           0.375,
           "rgb(158,202,225)"
          ],
          [
           0.5,
           "rgb(107,174,214)"
          ],
          [
           0.625,
           "rgb(66,146,198)"
          ],
          [
           0.75,
           "rgb(33,113,181)"
          ],
          [
           0.875,
           "rgb(8,81,156)"
          ],
          [
           1,
           "rgb(8,48,107)"
          ]
         ],
         "connectgaps": true,
         "contours": {
          "coloring": "heatmap"
         },
         "hoverinfo": "none",
         "line": {
          "smoothing": 1.3
         },
         "reversescale": false,
         "showscale": false,
         "type": "contour",
         "x": [
          0.05778506112761994,
          0.10181441621260068,
          0.1309302049971398,
          0.13119534160609994,
          0.22052156895031394,
          0.250642501954928,
          0.31496184114635883,
          0.3875464469518455,
          0.4195984880996876,
          0.5324065756370546,
          0.7091225542125388,
          0.7499926656792276,
          0.9267105516187026,
          0.9460061957667919,
          0.9824015179122154,
          1.0264308729971963
         ],
         "xaxis": "x22",
         "y": [
          -21.650000000000006,
          27,
          230,
          271,
          340,
          354,
          478,
          496,
          625,
          718,
          858,
          901,
          921,
          985,
          1000,
          1048.65
         ],
         "yaxis": "y22",
         "z": [
          [
           null,
           null,
           null,
           null,
           null,
           null,
           null,
           null,
           null,
           null,
           null,
           null,
           null,
           null,
           null,
           null
          ],
          [
           null,
           null,
           null,
           null,
           null,
           null,
           null,
           null,
           null,
           1148014000,
           null,
           null,
           null,
           null,
           null,
           null
          ],
          [
           null,
           null,
           null,
           null,
           null,
           null,
           null,
           null,
           null,
           null,
           1136037000,
           null,
           null,
           null,
           null,
           null
          ],
          [
           null,
           1158178000,
           null,
           null,
           null,
           null,
           null,
           null,
           null,
           null,
           null,
           null,
           null,
           null,
           null,
           null
          ],
          [
           null,
           null,
           null,
           null,
           null,
           null,
           null,
           1147706000,
           null,
           null,
           null,
           null,
           null,
           null,
           null,
           null
          ],
          [
           null,
           null,
           null,
           null,
           null,
           null,
           null,
           null,
           null,
           null,
           null,
           1133181000,
           null,
           null,
           null,
           null
          ],
          [
           null,
           null,
           null,
           null,
           null,
           null,
           1128813000,
           null,
           null,
           null,
           null,
           null,
           null,
           null,
           null,
           null
          ],
          [
           null,
           null,
           null,
           null,
           null,
           null,
           null,
           null,
           1136051000,
           null,
           null,
           null,
           null,
           null,
           null,
           null
          ],
          [
           null,
           null,
           null,
           null,
           null,
           null,
           null,
           null,
           null,
           null,
           null,
           null,
           null,
           null,
           1146999000,
           null
          ],
          [
           null,
           null,
           null,
           null,
           null,
           null,
           null,
           null,
           null,
           null,
           null,
           null,
           1142638000,
           null,
           null,
           null
          ],
          [
           null,
           null,
           null,
           null,
           1163771000,
           null,
           null,
           null,
           null,
           null,
           null,
           null,
           null,
           null,
           null,
           null
          ],
          [
           null,
           null,
           null,
           null,
           null,
           null,
           null,
           null,
           null,
           null,
           null,
           null,
           null,
           1140062000,
           null,
           null
          ],
          [
           null,
           null,
           null,
           1159312000,
           null,
           null,
           null,
           null,
           null,
           null,
           null,
           null,
           null,
           null,
           null,
           null
          ],
          [
           null,
           null,
           1159627000,
           null,
           null,
           null,
           null,
           null,
           null,
           null,
           null,
           null,
           null,
           null,
           null,
           null
          ],
          [
           null,
           null,
           null,
           null,
           null,
           1159613000,
           null,
           null,
           null,
           null,
           null,
           null,
           null,
           null,
           null,
           null
          ],
          [
           null,
           null,
           null,
           null,
           null,
           null,
           null,
           null,
           null,
           null,
           null,
           null,
           null,
           null,
           null,
           null
          ]
         ]
        },
        {
         "marker": {
          "color": "black",
          "line": {
           "color": "Gray",
           "width": 2
          }
         },
         "mode": "markers",
         "name": "Feasible Trial",
         "showlegend": false,
         "type": "scatter",
         "x": [
          0.9824015179122154,
          0.10181441621260068,
          0.3875464469518455,
          0.9267105516187026,
          0.31496184114635883,
          0.7091225542125388,
          0.7499926656792276,
          0.22052156895031394,
          0.4195984880996876,
          0.9460061957667919,
          0.1309302049971398,
          0.13119534160609994,
          0.250642501954928,
          0.5324065756370546
         ],
         "xaxis": "x22",
         "y": [
          625,
          271,
          340,
          718,
          478,
          230,
          354,
          858,
          496,
          901,
          985,
          921,
          1000,
          27
         ],
         "yaxis": "y22"
        },
        {
         "colorbar": {
          "title": {
           "text": "Objective Value"
          }
         },
         "colorscale": [
          [
           0,
           "rgb(247,251,255)"
          ],
          [
           0.125,
           "rgb(222,235,247)"
          ],
          [
           0.25,
           "rgb(198,219,239)"
          ],
          [
           0.375,
           "rgb(158,202,225)"
          ],
          [
           0.5,
           "rgb(107,174,214)"
          ],
          [
           0.625,
           "rgb(66,146,198)"
          ],
          [
           0.75,
           "rgb(33,113,181)"
          ],
          [
           0.875,
           "rgb(8,81,156)"
          ],
          [
           1,
           "rgb(8,48,107)"
          ]
         ],
         "connectgaps": true,
         "contours": {
          "coloring": "heatmap"
         },
         "hoverinfo": "none",
         "line": {
          "smoothing": 1.3
         },
         "reversescale": false,
         "showscale": false,
         "type": "contour",
         "x": [
          0.08102759290006609,
          0.09944823172064514,
          0.13962131116637166,
          0.14970097307697555,
          0.15113392069522186,
          0.20129379744973633,
          0.23230064569227743,
          0.27666868254324206,
          0.32594565004123,
          0.33974229084374263,
          0.36483398062943584,
          0.38994738607275514,
          0.41306024569570354,
          0.4663930258177883,
          0.4678610081322261,
          0.4862816469528051
         ],
         "xaxis": "x3",
         "y": [
          0.08589546205368012,
          0.12605332483265164,
          0.2353536616083134,
          0.24777400360931806,
          0.3596582120892105,
          0.36771850782270954,
          0.5085282531639665,
          0.5285467464513326,
          0.6709594845692777,
          0.7315126514447707,
          0.7463142524497365,
          0.7991161083567293,
          0.8837534489020508,
          0.8987867623514556,
          0.9292105804120817,
          0.9693684431910532
         ],
         "yaxis": "y3",
         "z": [
          [
           null,
           null,
           null,
           null,
           null,
           null,
           null,
           null,
           null,
           null,
           null,
           null,
           null,
           null,
           null,
           null
          ],
          [
           null,
           null,
           1159312000,
           null,
           null,
           null,
           null,
           null,
           null,
           null,
           null,
           null,
           null,
           null,
           null,
           null
          ],
          [
           null,
           null,
           null,
           null,
           null,
           null,
           null,
           null,
           null,
           null,
           null,
           null,
           null,
           null,
           1128813000,
           null
          ],
          [
           null,
           null,
           null,
           1159627000,
           null,
           null,
           null,
           null,
           null,
           null,
           null,
           null,
           null,
           null,
           null,
           null
          ],
          [
           null,
           null,
           null,
           null,
           null,
           null,
           1148014000,
           null,
           null,
           null,
           null,
           null,
           null,
           null,
           null,
           null
          ],
          [
           null,
           null,
           null,
           null,
           null,
           1159613000,
           null,
           null,
           null,
           null,
           null,
           null,
           null,
           null,
           null,
           null
          ],
          [
           null,
           null,
           null,
           null,
           null,
           null,
           null,
           null,
           null,
           null,
           null,
           null,
           1136051000,
           null,
           null,
           null
          ],
          [
           null,
           null,
           null,
           null,
           null,
           null,
           null,
           null,
           null,
           null,
           null,
           null,
           null,
           1133181000,
           null,
           null
          ],
          [
           null,
           null,
           null,
           null,
           null,
           null,
           null,
           null,
           1147706000,
           null,
           null,
           null,
           null,
           null,
           null,
           null
          ],
          [
           null,
           null,
           null,
           null,
           null,
           null,
           null,
           null,
           null,
           1142638000,
           null,
           null,
           null,
           null,
           null,
           null
          ],
          [
           null,
           1158178000,
           null,
           null,
           null,
           null,
           null,
           null,
           null,
           null,
           null,
           null,
           null,
           null,
           null,
           null
          ],
          [
           null,
           null,
           null,
           null,
           null,
           null,
           null,
           1146999000,
           null,
           null,
           null,
           null,
           null,
           null,
           null,
           null
          ],
          [
           null,
           null,
           null,
           null,
           null,
           null,
           null,
           null,
           null,
           null,
           1140062000,
           null,
           null,
           null,
           null,
           null
          ],
          [
           null,
           null,
           null,
           null,
           1163771000,
           null,
           null,
           null,
           null,
           null,
           null,
           null,
           null,
           null,
           null,
           null
          ],
          [
           null,
           null,
           null,
           null,
           null,
           null,
           null,
           null,
           null,
           null,
           null,
           1136037000,
           null,
           null,
           null,
           null
          ],
          [
           null,
           null,
           null,
           null,
           null,
           null,
           null,
           null,
           null,
           null,
           null,
           null,
           null,
           null,
           null,
           null
          ]
         ]
        },
        {
         "marker": {
          "color": "black",
          "line": {
           "color": "Gray",
           "width": 2
          }
         },
         "mode": "markers",
         "name": "Feasible Trial",
         "showlegend": false,
         "type": "scatter",
         "x": [
          0.27666868254324206,
          0.09944823172064514,
          0.32594565004123,
          0.33974229084374263,
          0.4678610081322261,
          0.38994738607275514,
          0.4663930258177883,
          0.15113392069522186,
          0.41306024569570354,
          0.36483398062943584,
          0.14970097307697555,
          0.13962131116637166,
          0.20129379744973633,
          0.23230064569227743
         ],
         "xaxis": "x3",
         "y": [
          0.7991161083567293,
          0.7463142524497365,
          0.6709594845692777,
          0.7315126514447707,
          0.2353536616083134,
          0.9292105804120817,
          0.5285467464513326,
          0.8987867623514556,
          0.5085282531639665,
          0.8837534489020508,
          0.24777400360931806,
          0.12605332483265164,
          0.36771850782270954,
          0.3596582120892105
         ],
         "yaxis": "y3"
        },
        {
         "colorbar": {
          "title": {
           "text": "Objective Value"
          }
         },
         "colorscale": [
          [
           0,
           "rgb(247,251,255)"
          ],
          [
           0.125,
           "rgb(222,235,247)"
          ],
          [
           0.25,
           "rgb(198,219,239)"
          ],
          [
           0.375,
           "rgb(158,202,225)"
          ],
          [
           0.5,
           "rgb(107,174,214)"
          ],
          [
           0.625,
           "rgb(66,146,198)"
          ],
          [
           0.75,
           "rgb(33,113,181)"
          ],
          [
           0.875,
           "rgb(8,81,156)"
          ],
          [
           1,
           "rgb(8,48,107)"
          ]
         ],
         "connectgaps": true,
         "contours": {
          "coloring": "heatmap"
         },
         "hoverinfo": "none",
         "line": {
          "smoothing": 1.3
         },
         "reversescale": false,
         "showscale": false,
         "type": "contour",
         "x": [
          0.08102759290006609,
          0.09944823172064514,
          0.13962131116637166,
          0.14970097307697555,
          0.15113392069522186,
          0.20129379744973633,
          0.23230064569227743,
          0.27666868254324206,
          0.32594565004123,
          0.33974229084374263,
          0.36483398062943584,
          0.38994738607275514,
          0.41306024569570354,
          0.4663930258177883,
          0.4678610081322261,
          0.4862816469528051
         ],
         "xaxis": "x8",
         "y": [
          0.05778506112761994,
          0.10181441621260068,
          0.1309302049971398,
          0.13119534160609994,
          0.22052156895031394,
          0.250642501954928,
          0.31496184114635883,
          0.3875464469518455,
          0.4195984880996876,
          0.5324065756370546,
          0.7091225542125388,
          0.7499926656792276,
          0.9267105516187026,
          0.9460061957667919,
          0.9824015179122154,
          1.0264308729971963
         ],
         "yaxis": "y8",
         "z": [
          [
           null,
           null,
           null,
           null,
           null,
           null,
           null,
           null,
           null,
           null,
           null,
           null,
           null,
           null,
           null,
           null
          ],
          [
           null,
           1158178000,
           null,
           null,
           null,
           null,
           null,
           null,
           null,
           null,
           null,
           null,
           null,
           null,
           null,
           null
          ],
          [
           null,
           null,
           null,
           1159627000,
           null,
           null,
           null,
           null,
           null,
           null,
           null,
           null,
           null,
           null,
           null,
           null
          ],
          [
           null,
           null,
           1159312000,
           null,
           null,
           null,
           null,
           null,
           null,
           null,
           null,
           null,
           null,
           null,
           null,
           null
          ],
          [
           null,
           null,
           null,
           null,
           1163771000,
           null,
           null,
           null,
           null,
           null,
           null,
           null,
           null,
           null,
           null,
           null
          ],
          [
           null,
           null,
           null,
           null,
           null,
           1159613000,
           null,
           null,
           null,
           null,
           null,
           null,
           null,
           null,
           null,
           null
          ],
          [
           null,
           null,
           null,
           null,
           null,
           null,
           null,
           null,
           null,
           null,
           null,
           null,
           null,
           null,
           1128813000,
           null
          ],
          [
           null,
           null,
           null,
           null,
           null,
           null,
           null,
           null,
           1147706000,
           null,
           null,
           null,
           null,
           null,
           null,
           null
          ],
          [
           null,
           null,
           null,
           null,
           null,
           null,
           null,
           null,
           null,
           null,
           null,
           null,
           1136051000,
           null,
           null,
           null
          ],
          [
           null,
           null,
           null,
           null,
           null,
           null,
           1148014000,
           null,
           null,
           null,
           null,
           null,
           null,
           null,
           null,
           null
          ],
          [
           null,
           null,
           null,
           null,
           null,
           null,
           null,
           null,
           null,
           null,
           null,
           1136037000,
           null,
           null,
           null,
           null
          ],
          [
           null,
           null,
           null,
           null,
           null,
           null,
           null,
           null,
           null,
           null,
           null,
           null,
           null,
           1133181000,
           null,
           null
          ],
          [
           null,
           null,
           null,
           null,
           null,
           null,
           null,
           null,
           null,
           1142638000,
           null,
           null,
           null,
           null,
           null,
           null
          ],
          [
           null,
           null,
           null,
           null,
           null,
           null,
           null,
           null,
           null,
           null,
           1140062000,
           null,
           null,
           null,
           null,
           null
          ],
          [
           null,
           null,
           null,
           null,
           null,
           null,
           null,
           1146999000,
           null,
           null,
           null,
           null,
           null,
           null,
           null,
           null
          ],
          [
           null,
           null,
           null,
           null,
           null,
           null,
           null,
           null,
           null,
           null,
           null,
           null,
           null,
           null,
           null,
           null
          ]
         ]
        },
        {
         "marker": {
          "color": "black",
          "line": {
           "color": "Gray",
           "width": 2
          }
         },
         "mode": "markers",
         "name": "Feasible Trial",
         "showlegend": false,
         "type": "scatter",
         "x": [
          0.27666868254324206,
          0.09944823172064514,
          0.32594565004123,
          0.33974229084374263,
          0.4678610081322261,
          0.38994738607275514,
          0.4663930258177883,
          0.15113392069522186,
          0.41306024569570354,
          0.36483398062943584,
          0.14970097307697555,
          0.13962131116637166,
          0.20129379744973633,
          0.23230064569227743
         ],
         "xaxis": "x8",
         "y": [
          0.9824015179122154,
          0.10181441621260068,
          0.3875464469518455,
          0.9267105516187026,
          0.31496184114635883,
          0.7091225542125388,
          0.7499926656792276,
          0.22052156895031394,
          0.4195984880996876,
          0.9460061957667919,
          0.1309302049971398,
          0.13119534160609994,
          0.250642501954928,
          0.5324065756370546
         ],
         "yaxis": "y8"
        },
        {
         "type": "scatter",
         "xaxis": "x13",
         "yaxis": "y13"
        },
        {
         "colorbar": {
          "title": {
           "text": "Objective Value"
          }
         },
         "colorscale": [
          [
           0,
           "rgb(247,251,255)"
          ],
          [
           0.125,
           "rgb(222,235,247)"
          ],
          [
           0.25,
           "rgb(198,219,239)"
          ],
          [
           0.375,
           "rgb(158,202,225)"
          ],
          [
           0.5,
           "rgb(107,174,214)"
          ],
          [
           0.625,
           "rgb(66,146,198)"
          ],
          [
           0.75,
           "rgb(33,113,181)"
          ],
          [
           0.875,
           "rgb(8,81,156)"
          ],
          [
           1,
           "rgb(8,48,107)"
          ]
         ],
         "connectgaps": true,
         "contours": {
          "coloring": "heatmap"
         },
         "hoverinfo": "none",
         "line": {
          "smoothing": 1.3
         },
         "reversescale": false,
         "showscale": false,
         "type": "contour",
         "x": [
          0.08102759290006609,
          0.09944823172064514,
          0.13962131116637166,
          0.14970097307697555,
          0.15113392069522186,
          0.20129379744973633,
          0.23230064569227743,
          0.27666868254324206,
          0.32594565004123,
          0.33974229084374263,
          0.36483398062943584,
          0.38994738607275514,
          0.41306024569570354,
          0.4663930258177883,
          0.4678610081322261,
          0.4862816469528051
         ],
         "xaxis": "x18",
         "y": [
          487.05,
          559,
          846,
          925,
          1065,
          1146,
          1360,
          1364,
          1433,
          1465,
          1515,
          1742,
          1802,
          1940,
          1998,
          2069.95
         ],
         "yaxis": "y18",
         "z": [
          [
           null,
           null,
           null,
           null,
           null,
           null,
           null,
           null,
           null,
           null,
           null,
           null,
           null,
           null,
           null,
           null
          ],
          [
           null,
           null,
           null,
           null,
           null,
           1159613000,
           null,
           null,
           null,
           null,
           null,
           null,
           null,
           null,
           null,
           null
          ],
          [
           null,
           null,
           null,
           null,
           null,
           null,
           null,
           null,
           null,
           null,
           null,
           null,
           null,
           1133181000,
           null,
           null
          ],
          [
           null,
           null,
           null,
           null,
           null,
           null,
           null,
           null,
           null,
           null,
           null,
           1136037000,
           null,
           null,
           null,
           null
          ],
          [
           null,
           null,
           null,
           null,
           null,
           null,
           null,
           null,
           null,
           null,
           1140062000,
           null,
           null,
           null,
           null,
           null
          ],
          [
           null,
           1158178000,
           null,
           null,
           null,
           null,
           null,
           null,
           null,
           null,
           null,
           null,
           null,
           null,
           null,
           null
          ],
          [
           null,
           null,
           null,
           null,
           null,
           null,
           null,
           null,
           null,
           1142638000,
           null,
           null,
           null,
           null,
           null,
           null
          ],
          [
           null,
           null,
           null,
           null,
           1163771000,
           null,
           null,
           null,
           null,
           null,
           null,
           null,
           null,
           null,
           null,
           null
          ],
          [
           null,
           null,
           null,
           1159627000,
           null,
           null,
           null,
           null,
           null,
           null,
           null,
           null,
           null,
           null,
           null,
           null
          ],
          [
           null,
           null,
           1159312000,
           null,
           null,
           null,
           null,
           null,
           null,
           null,
           null,
           null,
           null,
           null,
           null,
           null
          ],
          [
           null,
           null,
           null,
           null,
           null,
           null,
           1148014000,
           null,
           null,
           null,
           null,
           null,
           null,
           null,
           null,
           null
          ],
          [
           null,
           null,
           null,
           null,
           null,
           null,
           null,
           null,
           null,
           null,
           null,
           null,
           null,
           null,
           1128813000,
           null
          ],
          [
           null,
           null,
           null,
           null,
           null,
           null,
           null,
           1146999000,
           null,
           null,
           null,
           null,
           null,
           null,
           null,
           null
          ],
          [
           null,
           null,
           null,
           null,
           null,
           null,
           null,
           null,
           1147706000,
           null,
           null,
           null,
           null,
           null,
           null,
           null
          ],
          [
           null,
           null,
           null,
           null,
           null,
           null,
           null,
           null,
           null,
           null,
           null,
           null,
           1136051000,
           null,
           null,
           null
          ],
          [
           null,
           null,
           null,
           null,
           null,
           null,
           null,
           null,
           null,
           null,
           null,
           null,
           null,
           null,
           null,
           null
          ]
         ]
        },
        {
         "marker": {
          "color": "black",
          "line": {
           "color": "Gray",
           "width": 2
          }
         },
         "mode": "markers",
         "name": "Feasible Trial",
         "showlegend": false,
         "type": "scatter",
         "x": [
          0.27666868254324206,
          0.09944823172064514,
          0.32594565004123,
          0.33974229084374263,
          0.4678610081322261,
          0.38994738607275514,
          0.4663930258177883,
          0.15113392069522186,
          0.41306024569570354,
          0.36483398062943584,
          0.14970097307697555,
          0.13962131116637166,
          0.20129379744973633,
          0.23230064569227743
         ],
         "xaxis": "x18",
         "y": [
          1802,
          1146,
          1940,
          1360,
          1742,
          925,
          846,
          1364,
          1998,
          1065,
          1433,
          1465,
          559,
          1515
         ],
         "yaxis": "y18"
        },
        {
         "colorbar": {
          "title": {
           "text": "Objective Value"
          }
         },
         "colorscale": [
          [
           0,
           "rgb(247,251,255)"
          ],
          [
           0.125,
           "rgb(222,235,247)"
          ],
          [
           0.25,
           "rgb(198,219,239)"
          ],
          [
           0.375,
           "rgb(158,202,225)"
          ],
          [
           0.5,
           "rgb(107,174,214)"
          ],
          [
           0.625,
           "rgb(66,146,198)"
          ],
          [
           0.75,
           "rgb(33,113,181)"
          ],
          [
           0.875,
           "rgb(8,81,156)"
          ],
          [
           1,
           "rgb(8,48,107)"
          ]
         ],
         "connectgaps": true,
         "contours": {
          "coloring": "heatmap"
         },
         "hoverinfo": "none",
         "line": {
          "smoothing": 1.3
         },
         "reversescale": false,
         "showscale": false,
         "type": "contour",
         "x": [
          0.08102759290006609,
          0.09944823172064514,
          0.13962131116637166,
          0.14970097307697555,
          0.15113392069522186,
          0.20129379744973633,
          0.23230064569227743,
          0.27666868254324206,
          0.32594565004123,
          0.33974229084374263,
          0.36483398062943584,
          0.38994738607275514,
          0.41306024569570354,
          0.4663930258177883,
          0.4678610081322261,
          0.4862816469528051
         ],
         "xaxis": "x23",
         "y": [
          -21.650000000000006,
          27,
          230,
          271,
          340,
          354,
          478,
          496,
          625,
          718,
          858,
          901,
          921,
          985,
          1000,
          1048.65
         ],
         "yaxis": "y23",
         "z": [
          [
           null,
           null,
           null,
           null,
           null,
           null,
           null,
           null,
           null,
           null,
           null,
           null,
           null,
           null,
           null,
           null
          ],
          [
           null,
           null,
           null,
           null,
           null,
           null,
           1148014000,
           null,
           null,
           null,
           null,
           null,
           null,
           null,
           null,
           null
          ],
          [
           null,
           null,
           null,
           null,
           null,
           null,
           null,
           null,
           null,
           null,
           null,
           1136037000,
           null,
           null,
           null,
           null
          ],
          [
           null,
           1158178000,
           null,
           null,
           null,
           null,
           null,
           null,
           null,
           null,
           null,
           null,
           null,
           null,
           null,
           null
          ],
          [
           null,
           null,
           null,
           null,
           null,
           null,
           null,
           null,
           1147706000,
           null,
           null,
           null,
           null,
           null,
           null,
           null
          ],
          [
           null,
           null,
           null,
           null,
           null,
           null,
           null,
           null,
           null,
           null,
           null,
           null,
           null,
           1133181000,
           null,
           null
          ],
          [
           null,
           null,
           null,
           null,
           null,
           null,
           null,
           null,
           null,
           null,
           null,
           null,
           null,
           null,
           1128813000,
           null
          ],
          [
           null,
           null,
           null,
           null,
           null,
           null,
           null,
           null,
           null,
           null,
           null,
           null,
           1136051000,
           null,
           null,
           null
          ],
          [
           null,
           null,
           null,
           null,
           null,
           null,
           null,
           1146999000,
           null,
           null,
           null,
           null,
           null,
           null,
           null,
           null
          ],
          [
           null,
           null,
           null,
           null,
           null,
           null,
           null,
           null,
           null,
           1142638000,
           null,
           null,
           null,
           null,
           null,
           null
          ],
          [
           null,
           null,
           null,
           null,
           1163771000,
           null,
           null,
           null,
           null,
           null,
           null,
           null,
           null,
           null,
           null,
           null
          ],
          [
           null,
           null,
           null,
           null,
           null,
           null,
           null,
           null,
           null,
           null,
           1140062000,
           null,
           null,
           null,
           null,
           null
          ],
          [
           null,
           null,
           1159312000,
           null,
           null,
           null,
           null,
           null,
           null,
           null,
           null,
           null,
           null,
           null,
           null,
           null
          ],
          [
           null,
           null,
           null,
           1159627000,
           null,
           null,
           null,
           null,
           null,
           null,
           null,
           null,
           null,
           null,
           null,
           null
          ],
          [
           null,
           null,
           null,
           null,
           null,
           1159613000,
           null,
           null,
           null,
           null,
           null,
           null,
           null,
           null,
           null,
           null
          ],
          [
           null,
           null,
           null,
           null,
           null,
           null,
           null,
           null,
           null,
           null,
           null,
           null,
           null,
           null,
           null,
           null
          ]
         ]
        },
        {
         "marker": {
          "color": "black",
          "line": {
           "color": "Gray",
           "width": 2
          }
         },
         "mode": "markers",
         "name": "Feasible Trial",
         "showlegend": false,
         "type": "scatter",
         "x": [
          0.27666868254324206,
          0.09944823172064514,
          0.32594565004123,
          0.33974229084374263,
          0.4678610081322261,
          0.38994738607275514,
          0.4663930258177883,
          0.15113392069522186,
          0.41306024569570354,
          0.36483398062943584,
          0.14970097307697555,
          0.13962131116637166,
          0.20129379744973633,
          0.23230064569227743
         ],
         "xaxis": "x23",
         "y": [
          625,
          271,
          340,
          718,
          478,
          230,
          354,
          858,
          496,
          901,
          985,
          921,
          1000,
          27
         ],
         "yaxis": "y23"
        },
        {
         "colorbar": {
          "title": {
           "text": "Objective Value"
          }
         },
         "colorscale": [
          [
           0,
           "rgb(247,251,255)"
          ],
          [
           0.125,
           "rgb(222,235,247)"
          ],
          [
           0.25,
           "rgb(198,219,239)"
          ],
          [
           0.375,
           "rgb(158,202,225)"
          ],
          [
           0.5,
           "rgb(107,174,214)"
          ],
          [
           0.625,
           "rgb(66,146,198)"
          ],
          [
           0.75,
           "rgb(33,113,181)"
          ],
          [
           0.875,
           "rgb(8,81,156)"
          ],
          [
           1,
           "rgb(8,48,107)"
          ]
         ],
         "connectgaps": true,
         "contours": {
          "coloring": "heatmap"
         },
         "hoverinfo": "none",
         "line": {
          "smoothing": 1.3
         },
         "reversescale": false,
         "showscale": false,
         "type": "contour",
         "x": [
          487.05,
          559,
          846,
          925,
          1065,
          1146,
          1360,
          1364,
          1433,
          1465,
          1515,
          1742,
          1802,
          1940,
          1998,
          2069.95
         ],
         "xaxis": "x4",
         "y": [
          0.08589546205368012,
          0.12605332483265164,
          0.2353536616083134,
          0.24777400360931806,
          0.3596582120892105,
          0.36771850782270954,
          0.5085282531639665,
          0.5285467464513326,
          0.6709594845692777,
          0.7315126514447707,
          0.7463142524497365,
          0.7991161083567293,
          0.8837534489020508,
          0.8987867623514556,
          0.9292105804120817,
          0.9693684431910532
         ],
         "yaxis": "y4",
         "z": [
          [
           null,
           null,
           null,
           null,
           null,
           null,
           null,
           null,
           null,
           null,
           null,
           null,
           null,
           null,
           null,
           null
          ],
          [
           null,
           null,
           null,
           null,
           null,
           null,
           null,
           null,
           null,
           1159312000,
           null,
           null,
           null,
           null,
           null,
           null
          ],
          [
           null,
           null,
           null,
           null,
           null,
           null,
           null,
           null,
           null,
           null,
           null,
           1128813000,
           null,
           null,
           null,
           null
          ],
          [
           null,
           null,
           null,
           null,
           null,
           null,
           null,
           null,
           1159627000,
           null,
           null,
           null,
           null,
           null,
           null,
           null
          ],
          [
           null,
           null,
           null,
           null,
           null,
           null,
           null,
           null,
           null,
           null,
           1148014000,
           null,
           null,
           null,
           null,
           null
          ],
          [
           null,
           1159613000,
           null,
           null,
           null,
           null,
           null,
           null,
           null,
           null,
           null,
           null,
           null,
           null,
           null,
           null
          ],
          [
           null,
           null,
           null,
           null,
           null,
           null,
           null,
           null,
           null,
           null,
           null,
           null,
           null,
           null,
           1136051000,
           null
          ],
          [
           null,
           null,
           1133181000,
           null,
           null,
           null,
           null,
           null,
           null,
           null,
           null,
           null,
           null,
           null,
           null,
           null
          ],
          [
           null,
           null,
           null,
           null,
           null,
           null,
           null,
           null,
           null,
           null,
           null,
           null,
           null,
           1147706000,
           null,
           null
          ],
          [
           null,
           null,
           null,
           null,
           null,
           null,
           1142638000,
           null,
           null,
           null,
           null,
           null,
           null,
           null,
           null,
           null
          ],
          [
           null,
           null,
           null,
           null,
           null,
           1158178000,
           null,
           null,
           null,
           null,
           null,
           null,
           null,
           null,
           null,
           null
          ],
          [
           null,
           null,
           null,
           null,
           null,
           null,
           null,
           null,
           null,
           null,
           null,
           null,
           1146999000,
           null,
           null,
           null
          ],
          [
           null,
           null,
           null,
           null,
           1140062000,
           null,
           null,
           null,
           null,
           null,
           null,
           null,
           null,
           null,
           null,
           null
          ],
          [
           null,
           null,
           null,
           null,
           null,
           null,
           null,
           1163771000,
           null,
           null,
           null,
           null,
           null,
           null,
           null,
           null
          ],
          [
           null,
           null,
           null,
           1136037000,
           null,
           null,
           null,
           null,
           null,
           null,
           null,
           null,
           null,
           null,
           null,
           null
          ],
          [
           null,
           null,
           null,
           null,
           null,
           null,
           null,
           null,
           null,
           null,
           null,
           null,
           null,
           null,
           null,
           null
          ]
         ]
        },
        {
         "marker": {
          "color": "black",
          "line": {
           "color": "Gray",
           "width": 2
          }
         },
         "mode": "markers",
         "name": "Feasible Trial",
         "showlegend": false,
         "type": "scatter",
         "x": [
          1802,
          1146,
          1940,
          1360,
          1742,
          925,
          846,
          1364,
          1998,
          1065,
          1433,
          1465,
          559,
          1515
         ],
         "xaxis": "x4",
         "y": [
          0.7991161083567293,
          0.7463142524497365,
          0.6709594845692777,
          0.7315126514447707,
          0.2353536616083134,
          0.9292105804120817,
          0.5285467464513326,
          0.8987867623514556,
          0.5085282531639665,
          0.8837534489020508,
          0.24777400360931806,
          0.12605332483265164,
          0.36771850782270954,
          0.3596582120892105
         ],
         "yaxis": "y4"
        },
        {
         "colorbar": {
          "title": {
           "text": "Objective Value"
          }
         },
         "colorscale": [
          [
           0,
           "rgb(247,251,255)"
          ],
          [
           0.125,
           "rgb(222,235,247)"
          ],
          [
           0.25,
           "rgb(198,219,239)"
          ],
          [
           0.375,
           "rgb(158,202,225)"
          ],
          [
           0.5,
           "rgb(107,174,214)"
          ],
          [
           0.625,
           "rgb(66,146,198)"
          ],
          [
           0.75,
           "rgb(33,113,181)"
          ],
          [
           0.875,
           "rgb(8,81,156)"
          ],
          [
           1,
           "rgb(8,48,107)"
          ]
         ],
         "connectgaps": true,
         "contours": {
          "coloring": "heatmap"
         },
         "hoverinfo": "none",
         "line": {
          "smoothing": 1.3
         },
         "reversescale": false,
         "showscale": false,
         "type": "contour",
         "x": [
          487.05,
          559,
          846,
          925,
          1065,
          1146,
          1360,
          1364,
          1433,
          1465,
          1515,
          1742,
          1802,
          1940,
          1998,
          2069.95
         ],
         "xaxis": "x9",
         "y": [
          0.05778506112761994,
          0.10181441621260068,
          0.1309302049971398,
          0.13119534160609994,
          0.22052156895031394,
          0.250642501954928,
          0.31496184114635883,
          0.3875464469518455,
          0.4195984880996876,
          0.5324065756370546,
          0.7091225542125388,
          0.7499926656792276,
          0.9267105516187026,
          0.9460061957667919,
          0.9824015179122154,
          1.0264308729971963
         ],
         "yaxis": "y9",
         "z": [
          [
           null,
           null,
           null,
           null,
           null,
           null,
           null,
           null,
           null,
           null,
           null,
           null,
           null,
           null,
           null,
           null
          ],
          [
           null,
           null,
           null,
           null,
           null,
           1158178000,
           null,
           null,
           null,
           null,
           null,
           null,
           null,
           null,
           null,
           null
          ],
          [
           null,
           null,
           null,
           null,
           null,
           null,
           null,
           null,
           1159627000,
           null,
           null,
           null,
           null,
           null,
           null,
           null
          ],
          [
           null,
           null,
           null,
           null,
           null,
           null,
           null,
           null,
           null,
           1159312000,
           null,
           null,
           null,
           null,
           null,
           null
          ],
          [
           null,
           null,
           null,
           null,
           null,
           null,
           null,
           1163771000,
           null,
           null,
           null,
           null,
           null,
           null,
           null,
           null
          ],
          [
           null,
           1159613000,
           null,
           null,
           null,
           null,
           null,
           null,
           null,
           null,
           null,
           null,
           null,
           null,
           null,
           null
          ],
          [
           null,
           null,
           null,
           null,
           null,
           null,
           null,
           null,
           null,
           null,
           null,
           1128813000,
           null,
           null,
           null,
           null
          ],
          [
           null,
           null,
           null,
           null,
           null,
           null,
           null,
           null,
           null,
           null,
           null,
           null,
           null,
           1147706000,
           null,
           null
          ],
          [
           null,
           null,
           null,
           null,
           null,
           null,
           null,
           null,
           null,
           null,
           null,
           null,
           null,
           null,
           1136051000,
           null
          ],
          [
           null,
           null,
           null,
           null,
           null,
           null,
           null,
           null,
           null,
           null,
           1148014000,
           null,
           null,
           null,
           null,
           null
          ],
          [
           null,
           null,
           null,
           1136037000,
           null,
           null,
           null,
           null,
           null,
           null,
           null,
           null,
           null,
           null,
           null,
           null
          ],
          [
           null,
           null,
           1133181000,
           null,
           null,
           null,
           null,
           null,
           null,
           null,
           null,
           null,
           null,
           null,
           null,
           null
          ],
          [
           null,
           null,
           null,
           null,
           null,
           null,
           1142638000,
           null,
           null,
           null,
           null,
           null,
           null,
           null,
           null,
           null
          ],
          [
           null,
           null,
           null,
           null,
           1140062000,
           null,
           null,
           null,
           null,
           null,
           null,
           null,
           null,
           null,
           null,
           null
          ],
          [
           null,
           null,
           null,
           null,
           null,
           null,
           null,
           null,
           null,
           null,
           null,
           null,
           1146999000,
           null,
           null,
           null
          ],
          [
           null,
           null,
           null,
           null,
           null,
           null,
           null,
           null,
           null,
           null,
           null,
           null,
           null,
           null,
           null,
           null
          ]
         ]
        },
        {
         "marker": {
          "color": "black",
          "line": {
           "color": "Gray",
           "width": 2
          }
         },
         "mode": "markers",
         "name": "Feasible Trial",
         "showlegend": false,
         "type": "scatter",
         "x": [
          1802,
          1146,
          1940,
          1360,
          1742,
          925,
          846,
          1364,
          1998,
          1065,
          1433,
          1465,
          559,
          1515
         ],
         "xaxis": "x9",
         "y": [
          0.9824015179122154,
          0.10181441621260068,
          0.3875464469518455,
          0.9267105516187026,
          0.31496184114635883,
          0.7091225542125388,
          0.7499926656792276,
          0.22052156895031394,
          0.4195984880996876,
          0.9460061957667919,
          0.1309302049971398,
          0.13119534160609994,
          0.250642501954928,
          0.5324065756370546
         ],
         "yaxis": "y9"
        },
        {
         "colorbar": {
          "title": {
           "text": "Objective Value"
          }
         },
         "colorscale": [
          [
           0,
           "rgb(247,251,255)"
          ],
          [
           0.125,
           "rgb(222,235,247)"
          ],
          [
           0.25,
           "rgb(198,219,239)"
          ],
          [
           0.375,
           "rgb(158,202,225)"
          ],
          [
           0.5,
           "rgb(107,174,214)"
          ],
          [
           0.625,
           "rgb(66,146,198)"
          ],
          [
           0.75,
           "rgb(33,113,181)"
          ],
          [
           0.875,
           "rgb(8,81,156)"
          ],
          [
           1,
           "rgb(8,48,107)"
          ]
         ],
         "connectgaps": true,
         "contours": {
          "coloring": "heatmap"
         },
         "hoverinfo": "none",
         "line": {
          "smoothing": 1.3
         },
         "reversescale": false,
         "showscale": false,
         "type": "contour",
         "x": [
          487.05,
          559,
          846,
          925,
          1065,
          1146,
          1360,
          1364,
          1433,
          1465,
          1515,
          1742,
          1802,
          1940,
          1998,
          2069.95
         ],
         "xaxis": "x14",
         "y": [
          0.08102759290006609,
          0.09944823172064514,
          0.13962131116637166,
          0.14970097307697555,
          0.15113392069522186,
          0.20129379744973633,
          0.23230064569227743,
          0.27666868254324206,
          0.32594565004123,
          0.33974229084374263,
          0.36483398062943584,
          0.38994738607275514,
          0.41306024569570354,
          0.4663930258177883,
          0.4678610081322261,
          0.4862816469528051
         ],
         "yaxis": "y14",
         "z": [
          [
           null,
           null,
           null,
           null,
           null,
           null,
           null,
           null,
           null,
           null,
           null,
           null,
           null,
           null,
           null,
           null
          ],
          [
           null,
           null,
           null,
           null,
           null,
           1158178000,
           null,
           null,
           null,
           null,
           null,
           null,
           null,
           null,
           null,
           null
          ],
          [
           null,
           null,
           null,
           null,
           null,
           null,
           null,
           null,
           null,
           1159312000,
           null,
           null,
           null,
           null,
           null,
           null
          ],
          [
           null,
           null,
           null,
           null,
           null,
           null,
           null,
           null,
           1159627000,
           null,
           null,
           null,
           null,
           null,
           null,
           null
          ],
          [
           null,
           null,
           null,
           null,
           null,
           null,
           null,
           1163771000,
           null,
           null,
           null,
           null,
           null,
           null,
           null,
           null
          ],
          [
           null,
           1159613000,
           null,
           null,
           null,
           null,
           null,
           null,
           null,
           null,
           null,
           null,
           null,
           null,
           null,
           null
          ],
          [
           null,
           null,
           null,
           null,
           null,
           null,
           null,
           null,
           null,
           null,
           1148014000,
           null,
           null,
           null,
           null,
           null
          ],
          [
           null,
           null,
           null,
           null,
           null,
           null,
           null,
           null,
           null,
           null,
           null,
           null,
           1146999000,
           null,
           null,
           null
          ],
          [
           null,
           null,
           null,
           null,
           null,
           null,
           null,
           null,
           null,
           null,
           null,
           null,
           null,
           1147706000,
           null,
           null
          ],
          [
           null,
           null,
           null,
           null,
           null,
           null,
           1142638000,
           null,
           null,
           null,
           null,
           null,
           null,
           null,
           null,
           null
          ],
          [
           null,
           null,
           null,
           null,
           1140062000,
           null,
           null,
           null,
           null,
           null,
           null,
           null,
           null,
           null,
           null,
           null
          ],
          [
           null,
           null,
           null,
           1136037000,
           null,
           null,
           null,
           null,
           null,
           null,
           null,
           null,
           null,
           null,
           null,
           null
          ],
          [
           null,
           null,
           null,
           null,
           null,
           null,
           null,
           null,
           null,
           null,
           null,
           null,
           null,
           null,
           1136051000,
           null
          ],
          [
           null,
           null,
           1133181000,
           null,
           null,
           null,
           null,
           null,
           null,
           null,
           null,
           null,
           null,
           null,
           null,
           null
          ],
          [
           null,
           null,
           null,
           null,
           null,
           null,
           null,
           null,
           null,
           null,
           null,
           1128813000,
           null,
           null,
           null,
           null
          ],
          [
           null,
           null,
           null,
           null,
           null,
           null,
           null,
           null,
           null,
           null,
           null,
           null,
           null,
           null,
           null,
           null
          ]
         ]
        },
        {
         "marker": {
          "color": "black",
          "line": {
           "color": "Gray",
           "width": 2
          }
         },
         "mode": "markers",
         "name": "Feasible Trial",
         "showlegend": false,
         "type": "scatter",
         "x": [
          1802,
          1146,
          1940,
          1360,
          1742,
          925,
          846,
          1364,
          1998,
          1065,
          1433,
          1465,
          559,
          1515
         ],
         "xaxis": "x14",
         "y": [
          0.27666868254324206,
          0.09944823172064514,
          0.32594565004123,
          0.33974229084374263,
          0.4678610081322261,
          0.38994738607275514,
          0.4663930258177883,
          0.15113392069522186,
          0.41306024569570354,
          0.36483398062943584,
          0.14970097307697555,
          0.13962131116637166,
          0.20129379744973633,
          0.23230064569227743
         ],
         "yaxis": "y14"
        },
        {
         "type": "scatter",
         "xaxis": "x19",
         "yaxis": "y19"
        },
        {
         "colorbar": {
          "title": {
           "text": "Objective Value"
          }
         },
         "colorscale": [
          [
           0,
           "rgb(247,251,255)"
          ],
          [
           0.125,
           "rgb(222,235,247)"
          ],
          [
           0.25,
           "rgb(198,219,239)"
          ],
          [
           0.375,
           "rgb(158,202,225)"
          ],
          [
           0.5,
           "rgb(107,174,214)"
          ],
          [
           0.625,
           "rgb(66,146,198)"
          ],
          [
           0.75,
           "rgb(33,113,181)"
          ],
          [
           0.875,
           "rgb(8,81,156)"
          ],
          [
           1,
           "rgb(8,48,107)"
          ]
         ],
         "connectgaps": true,
         "contours": {
          "coloring": "heatmap"
         },
         "hoverinfo": "none",
         "line": {
          "smoothing": 1.3
         },
         "reversescale": false,
         "showscale": false,
         "type": "contour",
         "x": [
          487.05,
          559,
          846,
          925,
          1065,
          1146,
          1360,
          1364,
          1433,
          1465,
          1515,
          1742,
          1802,
          1940,
          1998,
          2069.95
         ],
         "xaxis": "x24",
         "y": [
          -21.650000000000006,
          27,
          230,
          271,
          340,
          354,
          478,
          496,
          625,
          718,
          858,
          901,
          921,
          985,
          1000,
          1048.65
         ],
         "yaxis": "y24",
         "z": [
          [
           null,
           null,
           null,
           null,
           null,
           null,
           null,
           null,
           null,
           null,
           null,
           null,
           null,
           null,
           null,
           null
          ],
          [
           null,
           null,
           null,
           null,
           null,
           null,
           null,
           null,
           null,
           null,
           1148014000,
           null,
           null,
           null,
           null,
           null
          ],
          [
           null,
           null,
           null,
           1136037000,
           null,
           null,
           null,
           null,
           null,
           null,
           null,
           null,
           null,
           null,
           null,
           null
          ],
          [
           null,
           null,
           null,
           null,
           null,
           1158178000,
           null,
           null,
           null,
           null,
           null,
           null,
           null,
           null,
           null,
           null
          ],
          [
           null,
           null,
           null,
           null,
           null,
           null,
           null,
           null,
           null,
           null,
           null,
           null,
           null,
           1147706000,
           null,
           null
          ],
          [
           null,
           null,
           1133181000,
           null,
           null,
           null,
           null,
           null,
           null,
           null,
           null,
           null,
           null,
           null,
           null,
           null
          ],
          [
           null,
           null,
           null,
           null,
           null,
           null,
           null,
           null,
           null,
           null,
           null,
           1128813000,
           null,
           null,
           null,
           null
          ],
          [
           null,
           null,
           null,
           null,
           null,
           null,
           null,
           null,
           null,
           null,
           null,
           null,
           null,
           null,
           1136051000,
           null
          ],
          [
           null,
           null,
           null,
           null,
           null,
           null,
           null,
           null,
           null,
           null,
           null,
           null,
           1146999000,
           null,
           null,
           null
          ],
          [
           null,
           null,
           null,
           null,
           null,
           null,
           1142638000,
           null,
           null,
           null,
           null,
           null,
           null,
           null,
           null,
           null
          ],
          [
           null,
           null,
           null,
           null,
           null,
           null,
           null,
           1163771000,
           null,
           null,
           null,
           null,
           null,
           null,
           null,
           null
          ],
          [
           null,
           null,
           null,
           null,
           1140062000,
           null,
           null,
           null,
           null,
           null,
           null,
           null,
           null,
           null,
           null,
           null
          ],
          [
           null,
           null,
           null,
           null,
           null,
           null,
           null,
           null,
           null,
           1159312000,
           null,
           null,
           null,
           null,
           null,
           null
          ],
          [
           null,
           null,
           null,
           null,
           null,
           null,
           null,
           null,
           1159627000,
           null,
           null,
           null,
           null,
           null,
           null,
           null
          ],
          [
           null,
           1159613000,
           null,
           null,
           null,
           null,
           null,
           null,
           null,
           null,
           null,
           null,
           null,
           null,
           null,
           null
          ],
          [
           null,
           null,
           null,
           null,
           null,
           null,
           null,
           null,
           null,
           null,
           null,
           null,
           null,
           null,
           null,
           null
          ]
         ]
        },
        {
         "marker": {
          "color": "black",
          "line": {
           "color": "Gray",
           "width": 2
          }
         },
         "mode": "markers",
         "name": "Feasible Trial",
         "showlegend": false,
         "type": "scatter",
         "x": [
          1802,
          1146,
          1940,
          1360,
          1742,
          925,
          846,
          1364,
          1998,
          1065,
          1433,
          1465,
          559,
          1515
         ],
         "xaxis": "x24",
         "y": [
          625,
          271,
          340,
          718,
          478,
          230,
          354,
          858,
          496,
          901,
          985,
          921,
          1000,
          27
         ],
         "yaxis": "y24"
        },
        {
         "colorbar": {
          "title": {
           "text": "Objective Value"
          }
         },
         "colorscale": [
          [
           0,
           "rgb(247,251,255)"
          ],
          [
           0.125,
           "rgb(222,235,247)"
          ],
          [
           0.25,
           "rgb(198,219,239)"
          ],
          [
           0.375,
           "rgb(158,202,225)"
          ],
          [
           0.5,
           "rgb(107,174,214)"
          ],
          [
           0.625,
           "rgb(66,146,198)"
          ],
          [
           0.75,
           "rgb(33,113,181)"
          ],
          [
           0.875,
           "rgb(8,81,156)"
          ],
          [
           1,
           "rgb(8,48,107)"
          ]
         ],
         "connectgaps": true,
         "contours": {
          "coloring": "heatmap"
         },
         "hoverinfo": "none",
         "line": {
          "smoothing": 1.3
         },
         "reversescale": false,
         "showscale": false,
         "type": "contour",
         "x": [
          -21.650000000000006,
          27,
          230,
          271,
          340,
          354,
          478,
          496,
          625,
          718,
          858,
          901,
          921,
          985,
          1000,
          1048.65
         ],
         "xaxis": "x5",
         "y": [
          0.08589546205368012,
          0.12605332483265164,
          0.2353536616083134,
          0.24777400360931806,
          0.3596582120892105,
          0.36771850782270954,
          0.5085282531639665,
          0.5285467464513326,
          0.6709594845692777,
          0.7315126514447707,
          0.7463142524497365,
          0.7991161083567293,
          0.8837534489020508,
          0.8987867623514556,
          0.9292105804120817,
          0.9693684431910532
         ],
         "yaxis": "y5",
         "z": [
          [
           null,
           null,
           null,
           null,
           null,
           null,
           null,
           null,
           null,
           null,
           null,
           null,
           null,
           null,
           null,
           null
          ],
          [
           null,
           null,
           null,
           null,
           null,
           null,
           null,
           null,
           null,
           null,
           null,
           null,
           1159312000,
           null,
           null,
           null
          ],
          [
           null,
           null,
           null,
           null,
           null,
           null,
           1128813000,
           null,
           null,
           null,
           null,
           null,
           null,
           null,
           null,
           null
          ],
          [
           null,
           null,
           null,
           null,
           null,
           null,
           null,
           null,
           null,
           null,
           null,
           null,
           null,
           1159627000,
           null,
           null
          ],
          [
           null,
           1148014000,
           null,
           null,
           null,
           null,
           null,
           null,
           null,
           null,
           null,
           null,
           null,
           null,
           null,
           null
          ],
          [
           null,
           null,
           null,
           null,
           null,
           null,
           null,
           null,
           null,
           null,
           null,
           null,
           null,
           null,
           1159613000,
           null
          ],
          [
           null,
           null,
           null,
           null,
           null,
           null,
           null,
           1136051000,
           null,
           null,
           null,
           null,
           null,
           null,
           null,
           null
          ],
          [
           null,
           null,
           null,
           null,
           null,
           1133181000,
           null,
           null,
           null,
           null,
           null,
           null,
           null,
           null,
           null,
           null
          ],
          [
           null,
           null,
           null,
           null,
           1147706000,
           null,
           null,
           null,
           null,
           null,
           null,
           null,
           null,
           null,
           null,
           null
          ],
          [
           null,
           null,
           null,
           null,
           null,
           null,
           null,
           null,
           null,
           1142638000,
           null,
           null,
           null,
           null,
           null,
           null
          ],
          [
           null,
           null,
           null,
           1158178000,
           null,
           null,
           null,
           null,
           null,
           null,
           null,
           null,
           null,
           null,
           null,
           null
          ],
          [
           null,
           null,
           null,
           null,
           null,
           null,
           null,
           null,
           1146999000,
           null,
           null,
           null,
           null,
           null,
           null,
           null
          ],
          [
           null,
           null,
           null,
           null,
           null,
           null,
           null,
           null,
           null,
           null,
           null,
           1140062000,
           null,
           null,
           null,
           null
          ],
          [
           null,
           null,
           null,
           null,
           null,
           null,
           null,
           null,
           null,
           null,
           1163771000,
           null,
           null,
           null,
           null,
           null
          ],
          [
           null,
           null,
           1136037000,
           null,
           null,
           null,
           null,
           null,
           null,
           null,
           null,
           null,
           null,
           null,
           null,
           null
          ],
          [
           null,
           null,
           null,
           null,
           null,
           null,
           null,
           null,
           null,
           null,
           null,
           null,
           null,
           null,
           null,
           null
          ]
         ]
        },
        {
         "marker": {
          "color": "black",
          "line": {
           "color": "Gray",
           "width": 2
          }
         },
         "mode": "markers",
         "name": "Feasible Trial",
         "showlegend": false,
         "type": "scatter",
         "x": [
          625,
          271,
          340,
          718,
          478,
          230,
          354,
          858,
          496,
          901,
          985,
          921,
          1000,
          27
         ],
         "xaxis": "x5",
         "y": [
          0.7991161083567293,
          0.7463142524497365,
          0.6709594845692777,
          0.7315126514447707,
          0.2353536616083134,
          0.9292105804120817,
          0.5285467464513326,
          0.8987867623514556,
          0.5085282531639665,
          0.8837534489020508,
          0.24777400360931806,
          0.12605332483265164,
          0.36771850782270954,
          0.3596582120892105
         ],
         "yaxis": "y5"
        },
        {
         "colorbar": {
          "title": {
           "text": "Objective Value"
          }
         },
         "colorscale": [
          [
           0,
           "rgb(247,251,255)"
          ],
          [
           0.125,
           "rgb(222,235,247)"
          ],
          [
           0.25,
           "rgb(198,219,239)"
          ],
          [
           0.375,
           "rgb(158,202,225)"
          ],
          [
           0.5,
           "rgb(107,174,214)"
          ],
          [
           0.625,
           "rgb(66,146,198)"
          ],
          [
           0.75,
           "rgb(33,113,181)"
          ],
          [
           0.875,
           "rgb(8,81,156)"
          ],
          [
           1,
           "rgb(8,48,107)"
          ]
         ],
         "connectgaps": true,
         "contours": {
          "coloring": "heatmap"
         },
         "hoverinfo": "none",
         "line": {
          "smoothing": 1.3
         },
         "reversescale": false,
         "showscale": false,
         "type": "contour",
         "x": [
          -21.650000000000006,
          27,
          230,
          271,
          340,
          354,
          478,
          496,
          625,
          718,
          858,
          901,
          921,
          985,
          1000,
          1048.65
         ],
         "xaxis": "x10",
         "y": [
          0.05778506112761994,
          0.10181441621260068,
          0.1309302049971398,
          0.13119534160609994,
          0.22052156895031394,
          0.250642501954928,
          0.31496184114635883,
          0.3875464469518455,
          0.4195984880996876,
          0.5324065756370546,
          0.7091225542125388,
          0.7499926656792276,
          0.9267105516187026,
          0.9460061957667919,
          0.9824015179122154,
          1.0264308729971963
         ],
         "yaxis": "y10",
         "z": [
          [
           null,
           null,
           null,
           null,
           null,
           null,
           null,
           null,
           null,
           null,
           null,
           null,
           null,
           null,
           null,
           null
          ],
          [
           null,
           null,
           null,
           1158178000,
           null,
           null,
           null,
           null,
           null,
           null,
           null,
           null,
           null,
           null,
           null,
           null
          ],
          [
           null,
           null,
           null,
           null,
           null,
           null,
           null,
           null,
           null,
           null,
           null,
           null,
           null,
           1159627000,
           null,
           null
          ],
          [
           null,
           null,
           null,
           null,
           null,
           null,
           null,
           null,
           null,
           null,
           null,
           null,
           1159312000,
           null,
           null,
           null
          ],
          [
           null,
           null,
           null,
           null,
           null,
           null,
           null,
           null,
           null,
           null,
           1163771000,
           null,
           null,
           null,
           null,
           null
          ],
          [
           null,
           null,
           null,
           null,
           null,
           null,
           null,
           null,
           null,
           null,
           null,
           null,
           null,
           null,
           1159613000,
           null
          ],
          [
           null,
           null,
           null,
           null,
           null,
           null,
           1128813000,
           null,
           null,
           null,
           null,
           null,
           null,
           null,
           null,
           null
          ],
          [
           null,
           null,
           null,
           null,
           1147706000,
           null,
           null,
           null,
           null,
           null,
           null,
           null,
           null,
           null,
           null,
           null
          ],
          [
           null,
           null,
           null,
           null,
           null,
           null,
           null,
           1136051000,
           null,
           null,
           null,
           null,
           null,
           null,
           null,
           null
          ],
          [
           null,
           1148014000,
           null,
           null,
           null,
           null,
           null,
           null,
           null,
           null,
           null,
           null,
           null,
           null,
           null,
           null
          ],
          [
           null,
           null,
           1136037000,
           null,
           null,
           null,
           null,
           null,
           null,
           null,
           null,
           null,
           null,
           null,
           null,
           null
          ],
          [
           null,
           null,
           null,
           null,
           null,
           1133181000,
           null,
           null,
           null,
           null,
           null,
           null,
           null,
           null,
           null,
           null
          ],
          [
           null,
           null,
           null,
           null,
           null,
           null,
           null,
           null,
           null,
           1142638000,
           null,
           null,
           null,
           null,
           null,
           null
          ],
          [
           null,
           null,
           null,
           null,
           null,
           null,
           null,
           null,
           null,
           null,
           null,
           1140062000,
           null,
           null,
           null,
           null
          ],
          [
           null,
           null,
           null,
           null,
           null,
           null,
           null,
           null,
           1146999000,
           null,
           null,
           null,
           null,
           null,
           null,
           null
          ],
          [
           null,
           null,
           null,
           null,
           null,
           null,
           null,
           null,
           null,
           null,
           null,
           null,
           null,
           null,
           null,
           null
          ]
         ]
        },
        {
         "marker": {
          "color": "black",
          "line": {
           "color": "Gray",
           "width": 2
          }
         },
         "mode": "markers",
         "name": "Feasible Trial",
         "showlegend": false,
         "type": "scatter",
         "x": [
          625,
          271,
          340,
          718,
          478,
          230,
          354,
          858,
          496,
          901,
          985,
          921,
          1000,
          27
         ],
         "xaxis": "x10",
         "y": [
          0.9824015179122154,
          0.10181441621260068,
          0.3875464469518455,
          0.9267105516187026,
          0.31496184114635883,
          0.7091225542125388,
          0.7499926656792276,
          0.22052156895031394,
          0.4195984880996876,
          0.9460061957667919,
          0.1309302049971398,
          0.13119534160609994,
          0.250642501954928,
          0.5324065756370546
         ],
         "yaxis": "y10"
        },
        {
         "colorbar": {
          "title": {
           "text": "Objective Value"
          }
         },
         "colorscale": [
          [
           0,
           "rgb(247,251,255)"
          ],
          [
           0.125,
           "rgb(222,235,247)"
          ],
          [
           0.25,
           "rgb(198,219,239)"
          ],
          [
           0.375,
           "rgb(158,202,225)"
          ],
          [
           0.5,
           "rgb(107,174,214)"
          ],
          [
           0.625,
           "rgb(66,146,198)"
          ],
          [
           0.75,
           "rgb(33,113,181)"
          ],
          [
           0.875,
           "rgb(8,81,156)"
          ],
          [
           1,
           "rgb(8,48,107)"
          ]
         ],
         "connectgaps": true,
         "contours": {
          "coloring": "heatmap"
         },
         "hoverinfo": "none",
         "line": {
          "smoothing": 1.3
         },
         "reversescale": false,
         "showscale": false,
         "type": "contour",
         "x": [
          -21.650000000000006,
          27,
          230,
          271,
          340,
          354,
          478,
          496,
          625,
          718,
          858,
          901,
          921,
          985,
          1000,
          1048.65
         ],
         "xaxis": "x15",
         "y": [
          0.08102759290006609,
          0.09944823172064514,
          0.13962131116637166,
          0.14970097307697555,
          0.15113392069522186,
          0.20129379744973633,
          0.23230064569227743,
          0.27666868254324206,
          0.32594565004123,
          0.33974229084374263,
          0.36483398062943584,
          0.38994738607275514,
          0.41306024569570354,
          0.4663930258177883,
          0.4678610081322261,
          0.4862816469528051
         ],
         "yaxis": "y15",
         "z": [
          [
           null,
           null,
           null,
           null,
           null,
           null,
           null,
           null,
           null,
           null,
           null,
           null,
           null,
           null,
           null,
           null
          ],
          [
           null,
           null,
           null,
           1158178000,
           null,
           null,
           null,
           null,
           null,
           null,
           null,
           null,
           null,
           null,
           null,
           null
          ],
          [
           null,
           null,
           null,
           null,
           null,
           null,
           null,
           null,
           null,
           null,
           null,
           null,
           1159312000,
           null,
           null,
           null
          ],
          [
           null,
           null,
           null,
           null,
           null,
           null,
           null,
           null,
           null,
           null,
           null,
           null,
           null,
           1159627000,
           null,
           null
          ],
          [
           null,
           null,
           null,
           null,
           null,
           null,
           null,
           null,
           null,
           null,
           1163771000,
           null,
           null,
           null,
           null,
           null
          ],
          [
           null,
           null,
           null,
           null,
           null,
           null,
           null,
           null,
           null,
           null,
           null,
           null,
           null,
           null,
           1159613000,
           null
          ],
          [
           null,
           1148014000,
           null,
           null,
           null,
           null,
           null,
           null,
           null,
           null,
           null,
           null,
           null,
           null,
           null,
           null
          ],
          [
           null,
           null,
           null,
           null,
           null,
           null,
           null,
           null,
           1146999000,
           null,
           null,
           null,
           null,
           null,
           null,
           null
          ],
          [
           null,
           null,
           null,
           null,
           1147706000,
           null,
           null,
           null,
           null,
           null,
           null,
           null,
           null,
           null,
           null,
           null
          ],
          [
           null,
           null,
           null,
           null,
           null,
           null,
           null,
           null,
           null,
           1142638000,
           null,
           null,
           null,
           null,
           null,
           null
          ],
          [
           null,
           null,
           null,
           null,
           null,
           null,
           null,
           null,
           null,
           null,
           null,
           1140062000,
           null,
           null,
           null,
           null
          ],
          [
           null,
           null,
           1136037000,
           null,
           null,
           null,
           null,
           null,
           null,
           null,
           null,
           null,
           null,
           null,
           null,
           null
          ],
          [
           null,
           null,
           null,
           null,
           null,
           null,
           null,
           1136051000,
           null,
           null,
           null,
           null,
           null,
           null,
           null,
           null
          ],
          [
           null,
           null,
           null,
           null,
           null,
           1133181000,
           null,
           null,
           null,
           null,
           null,
           null,
           null,
           null,
           null,
           null
          ],
          [
           null,
           null,
           null,
           null,
           null,
           null,
           1128813000,
           null,
           null,
           null,
           null,
           null,
           null,
           null,
           null,
           null
          ],
          [
           null,
           null,
           null,
           null,
           null,
           null,
           null,
           null,
           null,
           null,
           null,
           null,
           null,
           null,
           null,
           null
          ]
         ]
        },
        {
         "marker": {
          "color": "black",
          "line": {
           "color": "Gray",
           "width": 2
          }
         },
         "mode": "markers",
         "name": "Feasible Trial",
         "showlegend": false,
         "type": "scatter",
         "x": [
          625,
          271,
          340,
          718,
          478,
          230,
          354,
          858,
          496,
          901,
          985,
          921,
          1000,
          27
         ],
         "xaxis": "x15",
         "y": [
          0.27666868254324206,
          0.09944823172064514,
          0.32594565004123,
          0.33974229084374263,
          0.4678610081322261,
          0.38994738607275514,
          0.4663930258177883,
          0.15113392069522186,
          0.41306024569570354,
          0.36483398062943584,
          0.14970097307697555,
          0.13962131116637166,
          0.20129379744973633,
          0.23230064569227743
         ],
         "yaxis": "y15"
        },
        {
         "colorbar": {
          "title": {
           "text": "Objective Value"
          }
         },
         "colorscale": [
          [
           0,
           "rgb(247,251,255)"
          ],
          [
           0.125,
           "rgb(222,235,247)"
          ],
          [
           0.25,
           "rgb(198,219,239)"
          ],
          [
           0.375,
           "rgb(158,202,225)"
          ],
          [
           0.5,
           "rgb(107,174,214)"
          ],
          [
           0.625,
           "rgb(66,146,198)"
          ],
          [
           0.75,
           "rgb(33,113,181)"
          ],
          [
           0.875,
           "rgb(8,81,156)"
          ],
          [
           1,
           "rgb(8,48,107)"
          ]
         ],
         "connectgaps": true,
         "contours": {
          "coloring": "heatmap"
         },
         "hoverinfo": "none",
         "line": {
          "smoothing": 1.3
         },
         "reversescale": false,
         "showscale": false,
         "type": "contour",
         "x": [
          -21.650000000000006,
          27,
          230,
          271,
          340,
          354,
          478,
          496,
          625,
          718,
          858,
          901,
          921,
          985,
          1000,
          1048.65
         ],
         "xaxis": "x20",
         "y": [
          487.05,
          559,
          846,
          925,
          1065,
          1146,
          1360,
          1364,
          1433,
          1465,
          1515,
          1742,
          1802,
          1940,
          1998,
          2069.95
         ],
         "yaxis": "y20",
         "z": [
          [
           null,
           null,
           null,
           null,
           null,
           null,
           null,
           null,
           null,
           null,
           null,
           null,
           null,
           null,
           null,
           null
          ],
          [
           null,
           null,
           null,
           null,
           null,
           null,
           null,
           null,
           null,
           null,
           null,
           null,
           null,
           null,
           1159613000,
           null
          ],
          [
           null,
           null,
           null,
           null,
           null,
           1133181000,
           null,
           null,
           null,
           null,
           null,
           null,
           null,
           null,
           null,
           null
          ],
          [
           null,
           null,
           1136037000,
           null,
           null,
           null,
           null,
           null,
           null,
           null,
           null,
           null,
           null,
           null,
           null,
           null
          ],
          [
           null,
           null,
           null,
           null,
           null,
           null,
           null,
           null,
           null,
           null,
           null,
           1140062000,
           null,
           null,
           null,
           null
          ],
          [
           null,
           null,
           null,
           1158178000,
           null,
           null,
           null,
           null,
           null,
           null,
           null,
           null,
           null,
           null,
           null,
           null
          ],
          [
           null,
           null,
           null,
           null,
           null,
           null,
           null,
           null,
           null,
           1142638000,
           null,
           null,
           null,
           null,
           null,
           null
          ],
          [
           null,
           null,
           null,
           null,
           null,
           null,
           null,
           null,
           null,
           null,
           1163771000,
           null,
           null,
           null,
           null,
           null
          ],
          [
           null,
           null,
           null,
           null,
           null,
           null,
           null,
           null,
           null,
           null,
           null,
           null,
           null,
           1159627000,
           null,
           null
          ],
          [
           null,
           null,
           null,
           null,
           null,
           null,
           null,
           null,
           null,
           null,
           null,
           null,
           1159312000,
           null,
           null,
           null
          ],
          [
           null,
           1148014000,
           null,
           null,
           null,
           null,
           null,
           null,
           null,
           null,
           null,
           null,
           null,
           null,
           null,
           null
          ],
          [
           null,
           null,
           null,
           null,
           null,
           null,
           1128813000,
           null,
           null,
           null,
           null,
           null,
           null,
           null,
           null,
           null
          ],
          [
           null,
           null,
           null,
           null,
           null,
           null,
           null,
           null,
           1146999000,
           null,
           null,
           null,
           null,
           null,
           null,
           null
          ],
          [
           null,
           null,
           null,
           null,
           1147706000,
           null,
           null,
           null,
           null,
           null,
           null,
           null,
           null,
           null,
           null,
           null
          ],
          [
           null,
           null,
           null,
           null,
           null,
           null,
           null,
           1136051000,
           null,
           null,
           null,
           null,
           null,
           null,
           null,
           null
          ],
          [
           null,
           null,
           null,
           null,
           null,
           null,
           null,
           null,
           null,
           null,
           null,
           null,
           null,
           null,
           null,
           null
          ]
         ]
        },
        {
         "marker": {
          "color": "black",
          "line": {
           "color": "Gray",
           "width": 2
          }
         },
         "mode": "markers",
         "name": "Feasible Trial",
         "showlegend": false,
         "type": "scatter",
         "x": [
          625,
          271,
          340,
          718,
          478,
          230,
          354,
          858,
          496,
          901,
          985,
          921,
          1000,
          27
         ],
         "xaxis": "x20",
         "y": [
          1802,
          1146,
          1940,
          1360,
          1742,
          925,
          846,
          1364,
          1998,
          1065,
          1433,
          1465,
          559,
          1515
         ],
         "yaxis": "y20"
        },
        {
         "type": "scatter",
         "xaxis": "x25",
         "yaxis": "y25"
        }
       ],
       "layout": {
        "template": {
         "data": {
          "bar": [
           {
            "error_x": {
             "color": "#2a3f5f"
            },
            "error_y": {
             "color": "#2a3f5f"
            },
            "marker": {
             "line": {
              "color": "#E5ECF6",
              "width": 0.5
             },
             "pattern": {
              "fillmode": "overlay",
              "size": 10,
              "solidity": 0.2
             }
            },
            "type": "bar"
           }
          ],
          "barpolar": [
           {
            "marker": {
             "line": {
              "color": "#E5ECF6",
              "width": 0.5
             },
             "pattern": {
              "fillmode": "overlay",
              "size": 10,
              "solidity": 0.2
             }
            },
            "type": "barpolar"
           }
          ],
          "carpet": [
           {
            "aaxis": {
             "endlinecolor": "#2a3f5f",
             "gridcolor": "white",
             "linecolor": "white",
             "minorgridcolor": "white",
             "startlinecolor": "#2a3f5f"
            },
            "baxis": {
             "endlinecolor": "#2a3f5f",
             "gridcolor": "white",
             "linecolor": "white",
             "minorgridcolor": "white",
             "startlinecolor": "#2a3f5f"
            },
            "type": "carpet"
           }
          ],
          "choropleth": [
           {
            "colorbar": {
             "outlinewidth": 0,
             "ticks": ""
            },
            "type": "choropleth"
           }
          ],
          "contour": [
           {
            "colorbar": {
             "outlinewidth": 0,
             "ticks": ""
            },
            "colorscale": [
             [
              0,
              "#0d0887"
             ],
             [
              0.1111111111111111,
              "#46039f"
             ],
             [
              0.2222222222222222,
              "#7201a8"
             ],
             [
              0.3333333333333333,
              "#9c179e"
             ],
             [
              0.4444444444444444,
              "#bd3786"
             ],
             [
              0.5555555555555556,
              "#d8576b"
             ],
             [
              0.6666666666666666,
              "#ed7953"
             ],
             [
              0.7777777777777778,
              "#fb9f3a"
             ],
             [
              0.8888888888888888,
              "#fdca26"
             ],
             [
              1,
              "#f0f921"
             ]
            ],
            "type": "contour"
           }
          ],
          "contourcarpet": [
           {
            "colorbar": {
             "outlinewidth": 0,
             "ticks": ""
            },
            "type": "contourcarpet"
           }
          ],
          "heatmap": [
           {
            "colorbar": {
             "outlinewidth": 0,
             "ticks": ""
            },
            "colorscale": [
             [
              0,
              "#0d0887"
             ],
             [
              0.1111111111111111,
              "#46039f"
             ],
             [
              0.2222222222222222,
              "#7201a8"
             ],
             [
              0.3333333333333333,
              "#9c179e"
             ],
             [
              0.4444444444444444,
              "#bd3786"
             ],
             [
              0.5555555555555556,
              "#d8576b"
             ],
             [
              0.6666666666666666,
              "#ed7953"
             ],
             [
              0.7777777777777778,
              "#fb9f3a"
             ],
             [
              0.8888888888888888,
              "#fdca26"
             ],
             [
              1,
              "#f0f921"
             ]
            ],
            "type": "heatmap"
           }
          ],
          "heatmapgl": [
           {
            "colorbar": {
             "outlinewidth": 0,
             "ticks": ""
            },
            "colorscale": [
             [
              0,
              "#0d0887"
             ],
             [
              0.1111111111111111,
              "#46039f"
             ],
             [
              0.2222222222222222,
              "#7201a8"
             ],
             [
              0.3333333333333333,
              "#9c179e"
             ],
             [
              0.4444444444444444,
              "#bd3786"
             ],
             [
              0.5555555555555556,
              "#d8576b"
             ],
             [
              0.6666666666666666,
              "#ed7953"
             ],
             [
              0.7777777777777778,
              "#fb9f3a"
             ],
             [
              0.8888888888888888,
              "#fdca26"
             ],
             [
              1,
              "#f0f921"
             ]
            ],
            "type": "heatmapgl"
           }
          ],
          "histogram": [
           {
            "marker": {
             "pattern": {
              "fillmode": "overlay",
              "size": 10,
              "solidity": 0.2
             }
            },
            "type": "histogram"
           }
          ],
          "histogram2d": [
           {
            "colorbar": {
             "outlinewidth": 0,
             "ticks": ""
            },
            "colorscale": [
             [
              0,
              "#0d0887"
             ],
             [
              0.1111111111111111,
              "#46039f"
             ],
             [
              0.2222222222222222,
              "#7201a8"
             ],
             [
              0.3333333333333333,
              "#9c179e"
             ],
             [
              0.4444444444444444,
              "#bd3786"
             ],
             [
              0.5555555555555556,
              "#d8576b"
             ],
             [
              0.6666666666666666,
              "#ed7953"
             ],
             [
              0.7777777777777778,
              "#fb9f3a"
             ],
             [
              0.8888888888888888,
              "#fdca26"
             ],
             [
              1,
              "#f0f921"
             ]
            ],
            "type": "histogram2d"
           }
          ],
          "histogram2dcontour": [
           {
            "colorbar": {
             "outlinewidth": 0,
             "ticks": ""
            },
            "colorscale": [
             [
              0,
              "#0d0887"
             ],
             [
              0.1111111111111111,
              "#46039f"
             ],
             [
              0.2222222222222222,
              "#7201a8"
             ],
             [
              0.3333333333333333,
              "#9c179e"
             ],
             [
              0.4444444444444444,
              "#bd3786"
             ],
             [
              0.5555555555555556,
              "#d8576b"
             ],
             [
              0.6666666666666666,
              "#ed7953"
             ],
             [
              0.7777777777777778,
              "#fb9f3a"
             ],
             [
              0.8888888888888888,
              "#fdca26"
             ],
             [
              1,
              "#f0f921"
             ]
            ],
            "type": "histogram2dcontour"
           }
          ],
          "mesh3d": [
           {
            "colorbar": {
             "outlinewidth": 0,
             "ticks": ""
            },
            "type": "mesh3d"
           }
          ],
          "parcoords": [
           {
            "line": {
             "colorbar": {
              "outlinewidth": 0,
              "ticks": ""
             }
            },
            "type": "parcoords"
           }
          ],
          "pie": [
           {
            "automargin": true,
            "type": "pie"
           }
          ],
          "scatter": [
           {
            "fillpattern": {
             "fillmode": "overlay",
             "size": 10,
             "solidity": 0.2
            },
            "type": "scatter"
           }
          ],
          "scatter3d": [
           {
            "line": {
             "colorbar": {
              "outlinewidth": 0,
              "ticks": ""
             }
            },
            "marker": {
             "colorbar": {
              "outlinewidth": 0,
              "ticks": ""
             }
            },
            "type": "scatter3d"
           }
          ],
          "scattercarpet": [
           {
            "marker": {
             "colorbar": {
              "outlinewidth": 0,
              "ticks": ""
             }
            },
            "type": "scattercarpet"
           }
          ],
          "scattergeo": [
           {
            "marker": {
             "colorbar": {
              "outlinewidth": 0,
              "ticks": ""
             }
            },
            "type": "scattergeo"
           }
          ],
          "scattergl": [
           {
            "marker": {
             "colorbar": {
              "outlinewidth": 0,
              "ticks": ""
             }
            },
            "type": "scattergl"
           }
          ],
          "scattermapbox": [
           {
            "marker": {
             "colorbar": {
              "outlinewidth": 0,
              "ticks": ""
             }
            },
            "type": "scattermapbox"
           }
          ],
          "scatterpolar": [
           {
            "marker": {
             "colorbar": {
              "outlinewidth": 0,
              "ticks": ""
             }
            },
            "type": "scatterpolar"
           }
          ],
          "scatterpolargl": [
           {
            "marker": {
             "colorbar": {
              "outlinewidth": 0,
              "ticks": ""
             }
            },
            "type": "scatterpolargl"
           }
          ],
          "scatterternary": [
           {
            "marker": {
             "colorbar": {
              "outlinewidth": 0,
              "ticks": ""
             }
            },
            "type": "scatterternary"
           }
          ],
          "surface": [
           {
            "colorbar": {
             "outlinewidth": 0,
             "ticks": ""
            },
            "colorscale": [
             [
              0,
              "#0d0887"
             ],
             [
              0.1111111111111111,
              "#46039f"
             ],
             [
              0.2222222222222222,
              "#7201a8"
             ],
             [
              0.3333333333333333,
              "#9c179e"
             ],
             [
              0.4444444444444444,
              "#bd3786"
             ],
             [
              0.5555555555555556,
              "#d8576b"
             ],
             [
              0.6666666666666666,
              "#ed7953"
             ],
             [
              0.7777777777777778,
              "#fb9f3a"
             ],
             [
              0.8888888888888888,
              "#fdca26"
             ],
             [
              1,
              "#f0f921"
             ]
            ],
            "type": "surface"
           }
          ],
          "table": [
           {
            "cells": {
             "fill": {
              "color": "#EBF0F8"
             },
             "line": {
              "color": "white"
             }
            },
            "header": {
             "fill": {
              "color": "#C8D4E3"
             },
             "line": {
              "color": "white"
             }
            },
            "type": "table"
           }
          ]
         },
         "layout": {
          "annotationdefaults": {
           "arrowcolor": "#2a3f5f",
           "arrowhead": 0,
           "arrowwidth": 1
          },
          "autotypenumbers": "strict",
          "coloraxis": {
           "colorbar": {
            "outlinewidth": 0,
            "ticks": ""
           }
          },
          "colorscale": {
           "diverging": [
            [
             0,
             "#8e0152"
            ],
            [
             0.1,
             "#c51b7d"
            ],
            [
             0.2,
             "#de77ae"
            ],
            [
             0.3,
             "#f1b6da"
            ],
            [
             0.4,
             "#fde0ef"
            ],
            [
             0.5,
             "#f7f7f7"
            ],
            [
             0.6,
             "#e6f5d0"
            ],
            [
             0.7,
             "#b8e186"
            ],
            [
             0.8,
             "#7fbc41"
            ],
            [
             0.9,
             "#4d9221"
            ],
            [
             1,
             "#276419"
            ]
           ],
           "sequential": [
            [
             0,
             "#0d0887"
            ],
            [
             0.1111111111111111,
             "#46039f"
            ],
            [
             0.2222222222222222,
             "#7201a8"
            ],
            [
             0.3333333333333333,
             "#9c179e"
            ],
            [
             0.4444444444444444,
             "#bd3786"
            ],
            [
             0.5555555555555556,
             "#d8576b"
            ],
            [
             0.6666666666666666,
             "#ed7953"
            ],
            [
             0.7777777777777778,
             "#fb9f3a"
            ],
            [
             0.8888888888888888,
             "#fdca26"
            ],
            [
             1,
             "#f0f921"
            ]
           ],
           "sequentialminus": [
            [
             0,
             "#0d0887"
            ],
            [
             0.1111111111111111,
             "#46039f"
            ],
            [
             0.2222222222222222,
             "#7201a8"
            ],
            [
             0.3333333333333333,
             "#9c179e"
            ],
            [
             0.4444444444444444,
             "#bd3786"
            ],
            [
             0.5555555555555556,
             "#d8576b"
            ],
            [
             0.6666666666666666,
             "#ed7953"
            ],
            [
             0.7777777777777778,
             "#fb9f3a"
            ],
            [
             0.8888888888888888,
             "#fdca26"
            ],
            [
             1,
             "#f0f921"
            ]
           ]
          },
          "colorway": [
           "#636efa",
           "#EF553B",
           "#00cc96",
           "#ab63fa",
           "#FFA15A",
           "#19d3f3",
           "#FF6692",
           "#B6E880",
           "#FF97FF",
           "#FECB52"
          ],
          "font": {
           "color": "#2a3f5f"
          },
          "geo": {
           "bgcolor": "white",
           "lakecolor": "white",
           "landcolor": "#E5ECF6",
           "showlakes": true,
           "showland": true,
           "subunitcolor": "white"
          },
          "hoverlabel": {
           "align": "left"
          },
          "hovermode": "closest",
          "mapbox": {
           "style": "light"
          },
          "paper_bgcolor": "white",
          "plot_bgcolor": "#E5ECF6",
          "polar": {
           "angularaxis": {
            "gridcolor": "white",
            "linecolor": "white",
            "ticks": ""
           },
           "bgcolor": "#E5ECF6",
           "radialaxis": {
            "gridcolor": "white",
            "linecolor": "white",
            "ticks": ""
           }
          },
          "scene": {
           "xaxis": {
            "backgroundcolor": "#E5ECF6",
            "gridcolor": "white",
            "gridwidth": 2,
            "linecolor": "white",
            "showbackground": true,
            "ticks": "",
            "zerolinecolor": "white"
           },
           "yaxis": {
            "backgroundcolor": "#E5ECF6",
            "gridcolor": "white",
            "gridwidth": 2,
            "linecolor": "white",
            "showbackground": true,
            "ticks": "",
            "zerolinecolor": "white"
           },
           "zaxis": {
            "backgroundcolor": "#E5ECF6",
            "gridcolor": "white",
            "gridwidth": 2,
            "linecolor": "white",
            "showbackground": true,
            "ticks": "",
            "zerolinecolor": "white"
           }
          },
          "shapedefaults": {
           "line": {
            "color": "#2a3f5f"
           }
          },
          "ternary": {
           "aaxis": {
            "gridcolor": "white",
            "linecolor": "white",
            "ticks": ""
           },
           "baxis": {
            "gridcolor": "white",
            "linecolor": "white",
            "ticks": ""
           },
           "bgcolor": "#E5ECF6",
           "caxis": {
            "gridcolor": "white",
            "linecolor": "white",
            "ticks": ""
           }
          },
          "title": {
           "x": 0.05
          },
          "xaxis": {
           "automargin": true,
           "gridcolor": "white",
           "linecolor": "white",
           "ticks": "",
           "title": {
            "standoff": 15
           },
           "zerolinecolor": "white",
           "zerolinewidth": 2
          },
          "yaxis": {
           "automargin": true,
           "gridcolor": "white",
           "linecolor": "white",
           "ticks": "",
           "title": {
            "standoff": 15
           },
           "zerolinecolor": "white",
           "zerolinewidth": 2
          }
         }
        },
        "title": {
         "text": "Contour Plot"
        },
        "xaxis": {
         "anchor": "y",
         "domain": [
          0,
          0.16799999999999998
         ],
         "matches": "x21",
         "range": [
          0.08589546205368012,
          0.9693684431910532
         ],
         "showticklabels": false
        },
        "xaxis10": {
         "anchor": "y10",
         "domain": [
          0.832,
          1
         ],
         "matches": "x25",
         "range": [
          -21.650000000000006,
          1048.65
         ],
         "showticklabels": false
        },
        "xaxis11": {
         "anchor": "y11",
         "domain": [
          0,
          0.16799999999999998
         ],
         "matches": "x21",
         "range": [
          0.08589546205368012,
          0.9693684431910532
         ],
         "showticklabels": false
        },
        "xaxis12": {
         "anchor": "y12",
         "domain": [
          0.208,
          0.376
         ],
         "matches": "x22",
         "range": [
          0.05778506112761994,
          1.0264308729971963
         ],
         "showticklabels": false
        },
        "xaxis13": {
         "anchor": "y13",
         "domain": [
          0.416,
          0.584
         ],
         "matches": "x23",
         "range": [
          0.08102759290006609,
          0.4862816469528051
         ],
         "showticklabels": false
        },
        "xaxis14": {
         "anchor": "y14",
         "domain": [
          0.624,
          0.792
         ],
         "matches": "x24",
         "range": [
          487.05,
          2069.95
         ],
         "showticklabels": false
        },
        "xaxis15": {
         "anchor": "y15",
         "domain": [
          0.832,
          1
         ],
         "matches": "x25",
         "range": [
          -21.650000000000006,
          1048.65
         ],
         "showticklabels": false
        },
        "xaxis16": {
         "anchor": "y16",
         "domain": [
          0,
          0.16799999999999998
         ],
         "matches": "x21",
         "range": [
          0.08589546205368012,
          0.9693684431910532
         ],
         "showticklabels": false
        },
        "xaxis17": {
         "anchor": "y17",
         "domain": [
          0.208,
          0.376
         ],
         "matches": "x22",
         "range": [
          0.05778506112761994,
          1.0264308729971963
         ],
         "showticklabels": false
        },
        "xaxis18": {
         "anchor": "y18",
         "domain": [
          0.416,
          0.584
         ],
         "matches": "x23",
         "range": [
          0.08102759290006609,
          0.4862816469528051
         ],
         "showticklabels": false
        },
        "xaxis19": {
         "anchor": "y19",
         "domain": [
          0.624,
          0.792
         ],
         "matches": "x24",
         "range": [
          487.05,
          2069.95
         ],
         "showticklabels": false
        },
        "xaxis2": {
         "anchor": "y2",
         "domain": [
          0.208,
          0.376
         ],
         "matches": "x22",
         "range": [
          0.05778506112761994,
          1.0264308729971963
         ],
         "showticklabels": false
        },
        "xaxis20": {
         "anchor": "y20",
         "domain": [
          0.832,
          1
         ],
         "matches": "x25",
         "range": [
          -21.650000000000006,
          1048.65
         ],
         "showticklabels": false
        },
        "xaxis21": {
         "anchor": "y21",
         "domain": [
          0,
          0.16799999999999998
         ],
         "range": [
          0.08589546205368012,
          0.9693684431910532
         ],
         "title": {
          "text": "bagging_fraction"
         }
        },
        "xaxis22": {
         "anchor": "y22",
         "domain": [
          0.208,
          0.376
         ],
         "range": [
          0.05778506112761994,
          1.0264308729971963
         ],
         "title": {
          "text": "feature_fraction"
         }
        },
        "xaxis23": {
         "anchor": "y23",
         "domain": [
          0.416,
          0.584
         ],
         "range": [
          0.08102759290006609,
          0.4862816469528051
         ],
         "title": {
          "text": "learning_rate"
         }
        },
        "xaxis24": {
         "anchor": "y24",
         "domain": [
          0.624,
          0.792
         ],
         "range": [
          487.05,
          2069.95
         ],
         "title": {
          "text": "min_data_in_leaf"
         }
        },
        "xaxis25": {
         "anchor": "y25",
         "domain": [
          0.832,
          1
         ],
         "range": [
          -21.650000000000006,
          1048.65
         ],
         "title": {
          "text": "num_leaves"
         }
        },
        "xaxis3": {
         "anchor": "y3",
         "domain": [
          0.416,
          0.584
         ],
         "matches": "x23",
         "range": [
          0.08102759290006609,
          0.4862816469528051
         ],
         "showticklabels": false
        },
        "xaxis4": {
         "anchor": "y4",
         "domain": [
          0.624,
          0.792
         ],
         "matches": "x24",
         "range": [
          487.05,
          2069.95
         ],
         "showticklabels": false
        },
        "xaxis5": {
         "anchor": "y5",
         "domain": [
          0.832,
          1
         ],
         "matches": "x25",
         "range": [
          -21.650000000000006,
          1048.65
         ],
         "showticklabels": false
        },
        "xaxis6": {
         "anchor": "y6",
         "domain": [
          0,
          0.16799999999999998
         ],
         "matches": "x21",
         "range": [
          0.08589546205368012,
          0.9693684431910532
         ],
         "showticklabels": false
        },
        "xaxis7": {
         "anchor": "y7",
         "domain": [
          0.208,
          0.376
         ],
         "matches": "x22",
         "range": [
          0.05778506112761994,
          1.0264308729971963
         ],
         "showticklabels": false
        },
        "xaxis8": {
         "anchor": "y8",
         "domain": [
          0.416,
          0.584
         ],
         "matches": "x23",
         "range": [
          0.08102759290006609,
          0.4862816469528051
         ],
         "showticklabels": false
        },
        "xaxis9": {
         "anchor": "y9",
         "domain": [
          0.624,
          0.792
         ],
         "matches": "x24",
         "range": [
          487.05,
          2069.95
         ],
         "showticklabels": false
        },
        "yaxis": {
         "anchor": "x",
         "domain": [
          0.848,
          1
         ],
         "range": [
          0.08589546205368012,
          0.9693684431910532
         ],
         "title": {
          "text": "bagging_fraction"
         }
        },
        "yaxis10": {
         "anchor": "x10",
         "domain": [
          0.6359999999999999,
          0.7879999999999999
         ],
         "matches": "y6",
         "range": [
          0.05778506112761994,
          1.0264308729971963
         ],
         "showticklabels": false
        },
        "yaxis11": {
         "anchor": "x11",
         "domain": [
          0.424,
          0.576
         ],
         "range": [
          0.08102759290006609,
          0.4862816469528051
         ],
         "title": {
          "text": "learning_rate"
         }
        },
        "yaxis12": {
         "anchor": "x12",
         "domain": [
          0.424,
          0.576
         ],
         "matches": "y11",
         "range": [
          0.08102759290006609,
          0.4862816469528051
         ],
         "showticklabels": false
        },
        "yaxis13": {
         "anchor": "x13",
         "domain": [
          0.424,
          0.576
         ],
         "matches": "y11",
         "range": [
          0.08102759290006609,
          0.4862816469528051
         ],
         "showticklabels": false
        },
        "yaxis14": {
         "anchor": "x14",
         "domain": [
          0.424,
          0.576
         ],
         "matches": "y11",
         "range": [
          0.08102759290006609,
          0.4862816469528051
         ],
         "showticklabels": false
        },
        "yaxis15": {
         "anchor": "x15",
         "domain": [
          0.424,
          0.576
         ],
         "matches": "y11",
         "range": [
          0.08102759290006609,
          0.4862816469528051
         ],
         "showticklabels": false
        },
        "yaxis16": {
         "anchor": "x16",
         "domain": [
          0.212,
          0.364
         ],
         "range": [
          487.05,
          2069.95
         ],
         "title": {
          "text": "min_data_in_leaf"
         }
        },
        "yaxis17": {
         "anchor": "x17",
         "domain": [
          0.212,
          0.364
         ],
         "matches": "y16",
         "range": [
          487.05,
          2069.95
         ],
         "showticklabels": false
        },
        "yaxis18": {
         "anchor": "x18",
         "domain": [
          0.212,
          0.364
         ],
         "matches": "y16",
         "range": [
          487.05,
          2069.95
         ],
         "showticklabels": false
        },
        "yaxis19": {
         "anchor": "x19",
         "domain": [
          0.212,
          0.364
         ],
         "matches": "y16",
         "range": [
          487.05,
          2069.95
         ],
         "showticklabels": false
        },
        "yaxis2": {
         "anchor": "x2",
         "domain": [
          0.848,
          1
         ],
         "matches": "y",
         "range": [
          0.08589546205368012,
          0.9693684431910532
         ],
         "showticklabels": false
        },
        "yaxis20": {
         "anchor": "x20",
         "domain": [
          0.212,
          0.364
         ],
         "matches": "y16",
         "range": [
          487.05,
          2069.95
         ],
         "showticklabels": false
        },
        "yaxis21": {
         "anchor": "x21",
         "domain": [
          0,
          0.152
         ],
         "range": [
          -21.650000000000006,
          1048.65
         ],
         "title": {
          "text": "num_leaves"
         }
        },
        "yaxis22": {
         "anchor": "x22",
         "domain": [
          0,
          0.152
         ],
         "matches": "y21",
         "range": [
          -21.650000000000006,
          1048.65
         ],
         "showticklabels": false
        },
        "yaxis23": {
         "anchor": "x23",
         "domain": [
          0,
          0.152
         ],
         "matches": "y21",
         "range": [
          -21.650000000000006,
          1048.65
         ],
         "showticklabels": false
        },
        "yaxis24": {
         "anchor": "x24",
         "domain": [
          0,
          0.152
         ],
         "matches": "y21",
         "range": [
          -21.650000000000006,
          1048.65
         ],
         "showticklabels": false
        },
        "yaxis25": {
         "anchor": "x25",
         "domain": [
          0,
          0.152
         ],
         "matches": "y21",
         "range": [
          -21.650000000000006,
          1048.65
         ],
         "showticklabels": false
        },
        "yaxis3": {
         "anchor": "x3",
         "domain": [
          0.848,
          1
         ],
         "matches": "y",
         "range": [
          0.08589546205368012,
          0.9693684431910532
         ],
         "showticklabels": false
        },
        "yaxis4": {
         "anchor": "x4",
         "domain": [
          0.848,
          1
         ],
         "matches": "y",
         "range": [
          0.08589546205368012,
          0.9693684431910532
         ],
         "showticklabels": false
        },
        "yaxis5": {
         "anchor": "x5",
         "domain": [
          0.848,
          1
         ],
         "matches": "y",
         "range": [
          0.08589546205368012,
          0.9693684431910532
         ],
         "showticklabels": false
        },
        "yaxis6": {
         "anchor": "x6",
         "domain": [
          0.6359999999999999,
          0.7879999999999999
         ],
         "range": [
          0.05778506112761994,
          1.0264308729971963
         ],
         "title": {
          "text": "feature_fraction"
         }
        },
        "yaxis7": {
         "anchor": "x7",
         "domain": [
          0.6359999999999999,
          0.7879999999999999
         ],
         "matches": "y6",
         "range": [
          0.05778506112761994,
          1.0264308729971963
         ],
         "showticklabels": false
        },
        "yaxis8": {
         "anchor": "x8",
         "domain": [
          0.6359999999999999,
          0.7879999999999999
         ],
         "matches": "y6",
         "range": [
          0.05778506112761994,
          1.0264308729971963
         ],
         "showticklabels": false
        },
        "yaxis9": {
         "anchor": "x9",
         "domain": [
          0.6359999999999999,
          0.7879999999999999
         ],
         "matches": "y6",
         "range": [
          0.05778506112761994,
          1.0264308729971963
         ],
         "showticklabels": false
        }
       }
      },
      "image/png": "[encoded data removed]",
      "text/html": [
       "<div>                            <div id=\"5ad383c9-8151-4178-b703-59392b49bc6e\" class=\"plotly-graph-div\" style=\"height:525px; width:100%;\"></div>            <script type=\"text/javascript\">                require([\"plotly\"], function(Plotly) {                    window.PLOTLYENV=window.PLOTLYENV || {};                                    if (document.getElementById(\"5ad383c9-8151-4178-b703-59392b49bc6e\")) {                    Plotly.newPlot(                        \"5ad383c9-8151-4178-b703-59392b49bc6e\",                        [{\"type\":\"scatter\",\"xaxis\":\"x\",\"yaxis\":\"y\"},{\"colorbar\":{\"title\":{\"text\":\"Objective Value\"}},\"colorscale\":[[0.0,\"rgb(247,251,255)\"],[0.125,\"rgb(222,235,247)\"],[0.25,\"rgb(198,219,239)\"],[0.375,\"rgb(158,202,225)\"],[0.5,\"rgb(107,174,214)\"],[0.625,\"rgb(66,146,198)\"],[0.75,\"rgb(33,113,181)\"],[0.875,\"rgb(8,81,156)\"],[1.0,\"rgb(8,48,107)\"]],\"connectgaps\":true,\"contours\":{\"coloring\":\"heatmap\"},\"hoverinfo\":\"none\",\"line\":{\"smoothing\":1.3},\"reversescale\":false,\"showscale\":true,\"x\":[0.08589546205368012,0.12605332483265164,0.2353536616083134,0.24777400360931806,0.3596582120892105,0.36771850782270954,0.5085282531639665,0.5285467464513326,0.6709594845692777,0.7315126514447707,0.7463142524497365,0.7991161083567293,0.8837534489020508,0.8987867623514556,0.9292105804120817,0.9693684431910532],\"y\":[0.05778506112761994,0.10181441621260068,0.1309302049971398,0.13119534160609994,0.22052156895031394,0.250642501954928,0.31496184114635883,0.3875464469518455,0.4195984880996876,0.5324065756370546,0.7091225542125388,0.7499926656792276,0.9267105516187026,0.9460061957667919,0.9824015179122154,1.0264308729971963],\"z\":[[null,null,null,null,null,null,null,null,null,null,null,null,null,null,null,null],[null,null,null,null,null,null,null,null,null,null,1158178000.0,null,null,null,null,null],[null,null,null,1159627000.0,null,null,null,null,null,null,null,null,null,null,null,null],[null,1159312000.0,null,null,null,null,null,null,null,null,null,null,null,null,null,null],[null,null,null,null,null,null,null,null,null,null,null,null,null,1163771000.0,null,null],[null,null,null,null,null,1159613000.0,null,null,null,null,null,null,null,null,null,null],[null,null,1128813000.0,null,null,null,null,null,null,null,null,null,null,null,null,null],[null,null,null,null,null,null,null,null,1147706000.0,null,null,null,null,null,null,null],[null,null,null,null,null,null,1136051000.0,null,null,null,null,null,null,null,null,null],[null,null,null,null,1148014000.0,null,null,null,null,null,null,null,null,null,null,null],[null,null,null,null,null,null,null,null,null,null,null,null,null,null,1136037000.0,null],[null,null,null,null,null,null,null,1133181000.0,null,null,null,null,null,null,null,null],[null,null,null,null,null,null,null,null,null,1142638000.0,null,null,null,null,null,null],[null,null,null,null,null,null,null,null,null,null,null,null,1140062000.0,null,null,null],[null,null,null,null,null,null,null,null,null,null,null,1146999000.0,null,null,null,null],[null,null,null,null,null,null,null,null,null,null,null,null,null,null,null,null]],\"type\":\"contour\",\"xaxis\":\"x6\",\"yaxis\":\"y6\"},{\"marker\":{\"color\":\"black\",\"line\":{\"color\":\"Gray\",\"width\":2.0}},\"mode\":\"markers\",\"name\":\"Feasible Trial\",\"showlegend\":false,\"x\":[0.7991161083567293,0.7463142524497365,0.6709594845692777,0.7315126514447707,0.2353536616083134,0.9292105804120817,0.5285467464513326,0.8987867623514556,0.5085282531639665,0.8837534489020508,0.24777400360931806,0.12605332483265164,0.36771850782270954,0.3596582120892105],\"y\":[0.9824015179122154,0.10181441621260068,0.3875464469518455,0.9267105516187026,0.31496184114635883,0.7091225542125388,0.7499926656792276,0.22052156895031394,0.4195984880996876,0.9460061957667919,0.1309302049971398,0.13119534160609994,0.250642501954928,0.5324065756370546],\"type\":\"scatter\",\"xaxis\":\"x6\",\"yaxis\":\"y6\"},{\"colorbar\":{\"title\":{\"text\":\"Objective Value\"}},\"colorscale\":[[0.0,\"rgb(247,251,255)\"],[0.125,\"rgb(222,235,247)\"],[0.25,\"rgb(198,219,239)\"],[0.375,\"rgb(158,202,225)\"],[0.5,\"rgb(107,174,214)\"],[0.625,\"rgb(66,146,198)\"],[0.75,\"rgb(33,113,181)\"],[0.875,\"rgb(8,81,156)\"],[1.0,\"rgb(8,48,107)\"]],\"connectgaps\":true,\"contours\":{\"coloring\":\"heatmap\"},\"hoverinfo\":\"none\",\"line\":{\"smoothing\":1.3},\"reversescale\":false,\"showscale\":false,\"x\":[0.08589546205368012,0.12605332483265164,0.2353536616083134,0.24777400360931806,0.3596582120892105,0.36771850782270954,0.5085282531639665,0.5285467464513326,0.6709594845692777,0.7315126514447707,0.7463142524497365,0.7991161083567293,0.8837534489020508,0.8987867623514556,0.9292105804120817,0.9693684431910532],\"y\":[0.08102759290006609,0.09944823172064514,0.13962131116637166,0.14970097307697555,0.15113392069522186,0.20129379744973633,0.23230064569227743,0.27666868254324206,0.32594565004123,0.33974229084374263,0.36483398062943584,0.38994738607275514,0.41306024569570354,0.4663930258177883,0.4678610081322261,0.4862816469528051],\"z\":[[null,null,null,null,null,null,null,null,null,null,null,null,null,null,null,null],[null,null,null,null,null,null,null,null,null,null,1158178000.0,null,null,null,null,null],[null,1159312000.0,null,null,null,null,null,null,null,null,null,null,null,null,null,null],[null,null,null,1159627000.0,null,null,null,null,null,null,null,null,null,null,null,null],[null,null,null,null,null,null,null,null,null,null,null,null,null,1163771000.0,null,null],[null,null,null,null,null,1159613000.0,null,null,null,null,null,null,null,null,null,null],[null,null,null,null,1148014000.0,null,null,null,null,null,null,null,null,null,null,null],[null,null,null,null,null,null,null,null,null,null,null,1146999000.0,null,null,null,null],[null,null,null,null,null,null,null,null,1147706000.0,null,null,null,null,null,null,null],[null,null,null,null,null,null,null,null,null,1142638000.0,null,null,null,null,null,null],[null,null,null,null,null,null,null,null,null,null,null,null,1140062000.0,null,null,null],[null,null,null,null,null,null,null,null,null,null,null,null,null,null,1136037000.0,null],[null,null,null,null,null,null,1136051000.0,null,null,null,null,null,null,null,null,null],[null,null,null,null,null,null,null,1133181000.0,null,null,null,null,null,null,null,null],[null,null,1128813000.0,null,null,null,null,null,null,null,null,null,null,null,null,null],[null,null,null,null,null,null,null,null,null,null,null,null,null,null,null,null]],\"type\":\"contour\",\"xaxis\":\"x11\",\"yaxis\":\"y11\"},{\"marker\":{\"color\":\"black\",\"line\":{\"color\":\"Gray\",\"width\":2.0}},\"mode\":\"markers\",\"name\":\"Feasible Trial\",\"showlegend\":false,\"x\":[0.7991161083567293,0.7463142524497365,0.6709594845692777,0.7315126514447707,0.2353536616083134,0.9292105804120817,0.5285467464513326,0.8987867623514556,0.5085282531639665,0.8837534489020508,0.24777400360931806,0.12605332483265164,0.36771850782270954,0.3596582120892105],\"y\":[0.27666868254324206,0.09944823172064514,0.32594565004123,0.33974229084374263,0.4678610081322261,0.38994738607275514,0.4663930258177883,0.15113392069522186,0.41306024569570354,0.36483398062943584,0.14970097307697555,0.13962131116637166,0.20129379744973633,0.23230064569227743],\"type\":\"scatter\",\"xaxis\":\"x11\",\"yaxis\":\"y11\"},{\"colorbar\":{\"title\":{\"text\":\"Objective Value\"}},\"colorscale\":[[0.0,\"rgb(247,251,255)\"],[0.125,\"rgb(222,235,247)\"],[0.25,\"rgb(198,219,239)\"],[0.375,\"rgb(158,202,225)\"],[0.5,\"rgb(107,174,214)\"],[0.625,\"rgb(66,146,198)\"],[0.75,\"rgb(33,113,181)\"],[0.875,\"rgb(8,81,156)\"],[1.0,\"rgb(8,48,107)\"]],\"connectgaps\":true,\"contours\":{\"coloring\":\"heatmap\"},\"hoverinfo\":\"none\",\"line\":{\"smoothing\":1.3},\"reversescale\":false,\"showscale\":false,\"x\":[0.08589546205368012,0.12605332483265164,0.2353536616083134,0.24777400360931806,0.3596582120892105,0.36771850782270954,0.5085282531639665,0.5285467464513326,0.6709594845692777,0.7315126514447707,0.7463142524497365,0.7991161083567293,0.8837534489020508,0.8987867623514556,0.9292105804120817,0.9693684431910532],\"y\":[487.05,559,846,925,1065,1146,1360,1364,1433,1465,1515,1742,1802,1940,1998,2069.95],\"z\":[[null,null,null,null,null,null,null,null,null,null,null,null,null,null,null,null],[null,null,null,null,null,1159613000.0,null,null,null,null,null,null,null,null,null,null],[null,null,null,null,null,null,null,1133181000.0,null,null,null,null,null,null,null,null],[null,null,null,null,null,null,null,null,null,null,null,null,null,null,1136037000.0,null],[null,null,null,null,null,null,null,null,null,null,null,null,1140062000.0,null,null,null],[null,null,null,null,null,null,null,null,null,null,1158178000.0,null,null,null,null,null],[null,null,null,null,null,null,null,null,null,1142638000.0,null,null,null,null,null,null],[null,null,null,null,null,null,null,null,null,null,null,null,null,1163771000.0,null,null],[null,null,null,1159627000.0,null,null,null,null,null,null,null,null,null,null,null,null],[null,1159312000.0,null,null,null,null,null,null,null,null,null,null,null,null,null,null],[null,null,null,null,1148014000.0,null,null,null,null,null,null,null,null,null,null,null],[null,null,1128813000.0,null,null,null,null,null,null,null,null,null,null,null,null,null],[null,null,null,null,null,null,null,null,null,null,null,1146999000.0,null,null,null,null],[null,null,null,null,null,null,null,null,1147706000.0,null,null,null,null,null,null,null],[null,null,null,null,null,null,1136051000.0,null,null,null,null,null,null,null,null,null],[null,null,null,null,null,null,null,null,null,null,null,null,null,null,null,null]],\"type\":\"contour\",\"xaxis\":\"x16\",\"yaxis\":\"y16\"},{\"marker\":{\"color\":\"black\",\"line\":{\"color\":\"Gray\",\"width\":2.0}},\"mode\":\"markers\",\"name\":\"Feasible Trial\",\"showlegend\":false,\"x\":[0.7991161083567293,0.7463142524497365,0.6709594845692777,0.7315126514447707,0.2353536616083134,0.9292105804120817,0.5285467464513326,0.8987867623514556,0.5085282531639665,0.8837534489020508,0.24777400360931806,0.12605332483265164,0.36771850782270954,0.3596582120892105],\"y\":[1802,1146,1940,1360,1742,925,846,1364,1998,1065,1433,1465,559,1515],\"type\":\"scatter\",\"xaxis\":\"x16\",\"yaxis\":\"y16\"},{\"colorbar\":{\"title\":{\"text\":\"Objective Value\"}},\"colorscale\":[[0.0,\"rgb(247,251,255)\"],[0.125,\"rgb(222,235,247)\"],[0.25,\"rgb(198,219,239)\"],[0.375,\"rgb(158,202,225)\"],[0.5,\"rgb(107,174,214)\"],[0.625,\"rgb(66,146,198)\"],[0.75,\"rgb(33,113,181)\"],[0.875,\"rgb(8,81,156)\"],[1.0,\"rgb(8,48,107)\"]],\"connectgaps\":true,\"contours\":{\"coloring\":\"heatmap\"},\"hoverinfo\":\"none\",\"line\":{\"smoothing\":1.3},\"reversescale\":false,\"showscale\":false,\"x\":[0.08589546205368012,0.12605332483265164,0.2353536616083134,0.24777400360931806,0.3596582120892105,0.36771850782270954,0.5085282531639665,0.5285467464513326,0.6709594845692777,0.7315126514447707,0.7463142524497365,0.7991161083567293,0.8837534489020508,0.8987867623514556,0.9292105804120817,0.9693684431910532],\"y\":[-21.650000000000006,27,230,271,340,354,478,496,625,718,858,901,921,985,1000,1048.65],\"z\":[[null,null,null,null,null,null,null,null,null,null,null,null,null,null,null,null],[null,null,null,null,1148014000.0,null,null,null,null,null,null,null,null,null,null,null],[null,null,null,null,null,null,null,null,null,null,null,null,null,null,1136037000.0,null],[null,null,null,null,null,null,null,null,null,null,1158178000.0,null,null,null,null,null],[null,null,null,null,null,null,null,null,1147706000.0,null,null,null,null,null,null,null],[null,null,null,null,null,null,null,1133181000.0,null,null,null,null,null,null,null,null],[null,null,1128813000.0,null,null,null,null,null,null,null,null,null,null,null,null,null],[null,null,null,null,null,null,1136051000.0,null,null,null,null,null,null,null,null,null],[null,null,null,null,null,null,null,null,null,null,null,1146999000.0,null,null,null,null],[null,null,null,null,null,null,null,null,null,1142638000.0,null,null,null,null,null,null],[null,null,null,null,null,null,null,null,null,null,null,null,null,1163771000.0,null,null],[null,null,null,null,null,null,null,null,null,null,null,null,1140062000.0,null,null,null],[null,1159312000.0,null,null,null,null,null,null,null,null,null,null,null,null,null,null],[null,null,null,1159627000.0,null,null,null,null,null,null,null,null,null,null,null,null],[null,null,null,null,null,1159613000.0,null,null,null,null,null,null,null,null,null,null],[null,null,null,null,null,null,null,null,null,null,null,null,null,null,null,null]],\"type\":\"contour\",\"xaxis\":\"x21\",\"yaxis\":\"y21\"},{\"marker\":{\"color\":\"black\",\"line\":{\"color\":\"Gray\",\"width\":2.0}},\"mode\":\"markers\",\"name\":\"Feasible Trial\",\"showlegend\":false,\"x\":[0.7991161083567293,0.7463142524497365,0.6709594845692777,0.7315126514447707,0.2353536616083134,0.9292105804120817,0.5285467464513326,0.8987867623514556,0.5085282531639665,0.8837534489020508,0.24777400360931806,0.12605332483265164,0.36771850782270954,0.3596582120892105],\"y\":[625,271,340,718,478,230,354,858,496,901,985,921,1000,27],\"type\":\"scatter\",\"xaxis\":\"x21\",\"yaxis\":\"y21\"},{\"colorbar\":{\"title\":{\"text\":\"Objective Value\"}},\"colorscale\":[[0.0,\"rgb(247,251,255)\"],[0.125,\"rgb(222,235,247)\"],[0.25,\"rgb(198,219,239)\"],[0.375,\"rgb(158,202,225)\"],[0.5,\"rgb(107,174,214)\"],[0.625,\"rgb(66,146,198)\"],[0.75,\"rgb(33,113,181)\"],[0.875,\"rgb(8,81,156)\"],[1.0,\"rgb(8,48,107)\"]],\"connectgaps\":true,\"contours\":{\"coloring\":\"heatmap\"},\"hoverinfo\":\"none\",\"line\":{\"smoothing\":1.3},\"reversescale\":false,\"showscale\":false,\"x\":[0.05778506112761994,0.10181441621260068,0.1309302049971398,0.13119534160609994,0.22052156895031394,0.250642501954928,0.31496184114635883,0.3875464469518455,0.4195984880996876,0.5324065756370546,0.7091225542125388,0.7499926656792276,0.9267105516187026,0.9460061957667919,0.9824015179122154,1.0264308729971963],\"y\":[0.08589546205368012,0.12605332483265164,0.2353536616083134,0.24777400360931806,0.3596582120892105,0.36771850782270954,0.5085282531639665,0.5285467464513326,0.6709594845692777,0.7315126514447707,0.7463142524497365,0.7991161083567293,0.8837534489020508,0.8987867623514556,0.9292105804120817,0.9693684431910532],\"z\":[[null,null,null,null,null,null,null,null,null,null,null,null,null,null,null,null],[null,null,null,1159312000.0,null,null,null,null,null,null,null,null,null,null,null,null],[null,null,null,null,null,null,1128813000.0,null,null,null,null,null,null,null,null,null],[null,null,1159627000.0,null,null,null,null,null,null,null,null,null,null,null,null,null],[null,null,null,null,null,null,null,null,null,1148014000.0,null,null,null,null,null,null],[null,null,null,null,null,1159613000.0,null,null,null,null,null,null,null,null,null,null],[null,null,null,null,null,null,null,null,1136051000.0,null,null,null,null,null,null,null],[null,null,null,null,null,null,null,null,null,null,null,1133181000.0,null,null,null,null],[null,null,null,null,null,null,null,1147706000.0,null,null,null,null,null,null,null,null],[null,null,null,null,null,null,null,null,null,null,null,null,1142638000.0,null,null,null],[null,1158178000.0,null,null,null,null,null,null,null,null,null,null,null,null,null,null],[null,null,null,null,null,null,null,null,null,null,null,null,null,null,1146999000.0,null],[null,null,null,null,null,null,null,null,null,null,null,null,null,1140062000.0,null,null],[null,null,null,null,1163771000.0,null,null,null,null,null,null,null,null,null,null,null],[null,null,null,null,null,null,null,null,null,null,1136037000.0,null,null,null,null,null],[null,null,null,null,null,null,null,null,null,null,null,null,null,null,null,null]],\"type\":\"contour\",\"xaxis\":\"x2\",\"yaxis\":\"y2\"},{\"marker\":{\"color\":\"black\",\"line\":{\"color\":\"Gray\",\"width\":2.0}},\"mode\":\"markers\",\"name\":\"Feasible Trial\",\"showlegend\":false,\"x\":[0.9824015179122154,0.10181441621260068,0.3875464469518455,0.9267105516187026,0.31496184114635883,0.7091225542125388,0.7499926656792276,0.22052156895031394,0.4195984880996876,0.9460061957667919,0.1309302049971398,0.13119534160609994,0.250642501954928,0.5324065756370546],\"y\":[0.7991161083567293,0.7463142524497365,0.6709594845692777,0.7315126514447707,0.2353536616083134,0.9292105804120817,0.5285467464513326,0.8987867623514556,0.5085282531639665,0.8837534489020508,0.24777400360931806,0.12605332483265164,0.36771850782270954,0.3596582120892105],\"type\":\"scatter\",\"xaxis\":\"x2\",\"yaxis\":\"y2\"},{\"type\":\"scatter\",\"xaxis\":\"x7\",\"yaxis\":\"y7\"},{\"colorbar\":{\"title\":{\"text\":\"Objective Value\"}},\"colorscale\":[[0.0,\"rgb(247,251,255)\"],[0.125,\"rgb(222,235,247)\"],[0.25,\"rgb(198,219,239)\"],[0.375,\"rgb(158,202,225)\"],[0.5,\"rgb(107,174,214)\"],[0.625,\"rgb(66,146,198)\"],[0.75,\"rgb(33,113,181)\"],[0.875,\"rgb(8,81,156)\"],[1.0,\"rgb(8,48,107)\"]],\"connectgaps\":true,\"contours\":{\"coloring\":\"heatmap\"},\"hoverinfo\":\"none\",\"line\":{\"smoothing\":1.3},\"reversescale\":false,\"showscale\":false,\"x\":[0.05778506112761994,0.10181441621260068,0.1309302049971398,0.13119534160609994,0.22052156895031394,0.250642501954928,0.31496184114635883,0.3875464469518455,0.4195984880996876,0.5324065756370546,0.7091225542125388,0.7499926656792276,0.9267105516187026,0.9460061957667919,0.9824015179122154,1.0264308729971963],\"y\":[0.08102759290006609,0.09944823172064514,0.13962131116637166,0.14970097307697555,0.15113392069522186,0.20129379744973633,0.23230064569227743,0.27666868254324206,0.32594565004123,0.33974229084374263,0.36483398062943584,0.38994738607275514,0.41306024569570354,0.4663930258177883,0.4678610081322261,0.4862816469528051],\"z\":[[null,null,null,null,null,null,null,null,null,null,null,null,null,null,null,null],[null,1158178000.0,null,null,null,null,null,null,null,null,null,null,null,null,null,null],[null,null,null,1159312000.0,null,null,null,null,null,null,null,null,null,null,null,null],[null,null,1159627000.0,null,null,null,null,null,null,null,null,null,null,null,null,null],[null,null,null,null,1163771000.0,null,null,null,null,null,null,null,null,null,null,null],[null,null,null,null,null,1159613000.0,null,null,null,null,null,null,null,null,null,null],[null,null,null,null,null,null,null,null,null,1148014000.0,null,null,null,null,null,null],[null,null,null,null,null,null,null,null,null,null,null,null,null,null,1146999000.0,null],[null,null,null,null,null,null,null,1147706000.0,null,null,null,null,null,null,null,null],[null,null,null,null,null,null,null,null,null,null,null,null,1142638000.0,null,null,null],[null,null,null,null,null,null,null,null,null,null,null,null,null,1140062000.0,null,null],[null,null,null,null,null,null,null,null,null,null,1136037000.0,null,null,null,null,null],[null,null,null,null,null,null,null,null,1136051000.0,null,null,null,null,null,null,null],[null,null,null,null,null,null,null,null,null,null,null,1133181000.0,null,null,null,null],[null,null,null,null,null,null,1128813000.0,null,null,null,null,null,null,null,null,null],[null,null,null,null,null,null,null,null,null,null,null,null,null,null,null,null]],\"type\":\"contour\",\"xaxis\":\"x12\",\"yaxis\":\"y12\"},{\"marker\":{\"color\":\"black\",\"line\":{\"color\":\"Gray\",\"width\":2.0}},\"mode\":\"markers\",\"name\":\"Feasible Trial\",\"showlegend\":false,\"x\":[0.9824015179122154,0.10181441621260068,0.3875464469518455,0.9267105516187026,0.31496184114635883,0.7091225542125388,0.7499926656792276,0.22052156895031394,0.4195984880996876,0.9460061957667919,0.1309302049971398,0.13119534160609994,0.250642501954928,0.5324065756370546],\"y\":[0.27666868254324206,0.09944823172064514,0.32594565004123,0.33974229084374263,0.4678610081322261,0.38994738607275514,0.4663930258177883,0.15113392069522186,0.41306024569570354,0.36483398062943584,0.14970097307697555,0.13962131116637166,0.20129379744973633,0.23230064569227743],\"type\":\"scatter\",\"xaxis\":\"x12\",\"yaxis\":\"y12\"},{\"colorbar\":{\"title\":{\"text\":\"Objective Value\"}},\"colorscale\":[[0.0,\"rgb(247,251,255)\"],[0.125,\"rgb(222,235,247)\"],[0.25,\"rgb(198,219,239)\"],[0.375,\"rgb(158,202,225)\"],[0.5,\"rgb(107,174,214)\"],[0.625,\"rgb(66,146,198)\"],[0.75,\"rgb(33,113,181)\"],[0.875,\"rgb(8,81,156)\"],[1.0,\"rgb(8,48,107)\"]],\"connectgaps\":true,\"contours\":{\"coloring\":\"heatmap\"},\"hoverinfo\":\"none\",\"line\":{\"smoothing\":1.3},\"reversescale\":false,\"showscale\":false,\"x\":[0.05778506112761994,0.10181441621260068,0.1309302049971398,0.13119534160609994,0.22052156895031394,0.250642501954928,0.31496184114635883,0.3875464469518455,0.4195984880996876,0.5324065756370546,0.7091225542125388,0.7499926656792276,0.9267105516187026,0.9460061957667919,0.9824015179122154,1.0264308729971963],\"y\":[487.05,559,846,925,1065,1146,1360,1364,1433,1465,1515,1742,1802,1940,1998,2069.95],\"z\":[[null,null,null,null,null,null,null,null,null,null,null,null,null,null,null,null],[null,null,null,null,null,1159613000.0,null,null,null,null,null,null,null,null,null,null],[null,null,null,null,null,null,null,null,null,null,null,1133181000.0,null,null,null,null],[null,null,null,null,null,null,null,null,null,null,1136037000.0,null,null,null,null,null],[null,null,null,null,null,null,null,null,null,null,null,null,null,1140062000.0,null,null],[null,1158178000.0,null,null,null,null,null,null,null,null,null,null,null,null,null,null],[null,null,null,null,null,null,null,null,null,null,null,null,1142638000.0,null,null,null],[null,null,null,null,1163771000.0,null,null,null,null,null,null,null,null,null,null,null],[null,null,1159627000.0,null,null,null,null,null,null,null,null,null,null,null,null,null],[null,null,null,1159312000.0,null,null,null,null,null,null,null,null,null,null,null,null],[null,null,null,null,null,null,null,null,null,1148014000.0,null,null,null,null,null,null],[null,null,null,null,null,null,1128813000.0,null,null,null,null,null,null,null,null,null],[null,null,null,null,null,null,null,null,null,null,null,null,null,null,1146999000.0,null],[null,null,null,null,null,null,null,1147706000.0,null,null,null,null,null,null,null,null],[null,null,null,null,null,null,null,null,1136051000.0,null,null,null,null,null,null,null],[null,null,null,null,null,null,null,null,null,null,null,null,null,null,null,null]],\"type\":\"contour\",\"xaxis\":\"x17\",\"yaxis\":\"y17\"},{\"marker\":{\"color\":\"black\",\"line\":{\"color\":\"Gray\",\"width\":2.0}},\"mode\":\"markers\",\"name\":\"Feasible Trial\",\"showlegend\":false,\"x\":[0.9824015179122154,0.10181441621260068,0.3875464469518455,0.9267105516187026,0.31496184114635883,0.7091225542125388,0.7499926656792276,0.22052156895031394,0.4195984880996876,0.9460061957667919,0.1309302049971398,0.13119534160609994,0.250642501954928,0.5324065756370546],\"y\":[1802,1146,1940,1360,1742,925,846,1364,1998,1065,1433,1465,559,1515],\"type\":\"scatter\",\"xaxis\":\"x17\",\"yaxis\":\"y17\"},{\"colorbar\":{\"title\":{\"text\":\"Objective Value\"}},\"colorscale\":[[0.0,\"rgb(247,251,255)\"],[0.125,\"rgb(222,235,247)\"],[0.25,\"rgb(198,219,239)\"],[0.375,\"rgb(158,202,225)\"],[0.5,\"rgb(107,174,214)\"],[0.625,\"rgb(66,146,198)\"],[0.75,\"rgb(33,113,181)\"],[0.875,\"rgb(8,81,156)\"],[1.0,\"rgb(8,48,107)\"]],\"connectgaps\":true,\"contours\":{\"coloring\":\"heatmap\"},\"hoverinfo\":\"none\",\"line\":{\"smoothing\":1.3},\"reversescale\":false,\"showscale\":false,\"x\":[0.05778506112761994,0.10181441621260068,0.1309302049971398,0.13119534160609994,0.22052156895031394,0.250642501954928,0.31496184114635883,0.3875464469518455,0.4195984880996876,0.5324065756370546,0.7091225542125388,0.7499926656792276,0.9267105516187026,0.9460061957667919,0.9824015179122154,1.0264308729971963],\"y\":[-21.650000000000006,27,230,271,340,354,478,496,625,718,858,901,921,985,1000,1048.65],\"z\":[[null,null,null,null,null,null,null,null,null,null,null,null,null,null,null,null],[null,null,null,null,null,null,null,null,null,1148014000.0,null,null,null,null,null,null],[null,null,null,null,null,null,null,null,null,null,1136037000.0,null,null,null,null,null],[null,1158178000.0,null,null,null,null,null,null,null,null,null,null,null,null,null,null],[null,null,null,null,null,null,null,1147706000.0,null,null,null,null,null,null,null,null],[null,null,null,null,null,null,null,null,null,null,null,1133181000.0,null,null,null,null],[null,null,null,null,null,null,1128813000.0,null,null,null,null,null,null,null,null,null],[null,null,null,null,null,null,null,null,1136051000.0,null,null,null,null,null,null,null],[null,null,null,null,null,null,null,null,null,null,null,null,null,null,1146999000.0,null],[null,null,null,null,null,null,null,null,null,null,null,null,1142638000.0,null,null,null],[null,null,null,null,1163771000.0,null,null,null,null,null,null,null,null,null,null,null],[null,null,null,null,null,null,null,null,null,null,null,null,null,1140062000.0,null,null],[null,null,null,1159312000.0,null,null,null,null,null,null,null,null,null,null,null,null],[null,null,1159627000.0,null,null,null,null,null,null,null,null,null,null,null,null,null],[null,null,null,null,null,1159613000.0,null,null,null,null,null,null,null,null,null,null],[null,null,null,null,null,null,null,null,null,null,null,null,null,null,null,null]],\"type\":\"contour\",\"xaxis\":\"x22\",\"yaxis\":\"y22\"},{\"marker\":{\"color\":\"black\",\"line\":{\"color\":\"Gray\",\"width\":2.0}},\"mode\":\"markers\",\"name\":\"Feasible Trial\",\"showlegend\":false,\"x\":[0.9824015179122154,0.10181441621260068,0.3875464469518455,0.9267105516187026,0.31496184114635883,0.7091225542125388,0.7499926656792276,0.22052156895031394,0.4195984880996876,0.9460061957667919,0.1309302049971398,0.13119534160609994,0.250642501954928,0.5324065756370546],\"y\":[625,271,340,718,478,230,354,858,496,901,985,921,1000,27],\"type\":\"scatter\",\"xaxis\":\"x22\",\"yaxis\":\"y22\"},{\"colorbar\":{\"title\":{\"text\":\"Objective Value\"}},\"colorscale\":[[0.0,\"rgb(247,251,255)\"],[0.125,\"rgb(222,235,247)\"],[0.25,\"rgb(198,219,239)\"],[0.375,\"rgb(158,202,225)\"],[0.5,\"rgb(107,174,214)\"],[0.625,\"rgb(66,146,198)\"],[0.75,\"rgb(33,113,181)\"],[0.875,\"rgb(8,81,156)\"],[1.0,\"rgb(8,48,107)\"]],\"connectgaps\":true,\"contours\":{\"coloring\":\"heatmap\"},\"hoverinfo\":\"none\",\"line\":{\"smoothing\":1.3},\"reversescale\":false,\"showscale\":false,\"x\":[0.08102759290006609,0.09944823172064514,0.13962131116637166,0.14970097307697555,0.15113392069522186,0.20129379744973633,0.23230064569227743,0.27666868254324206,0.32594565004123,0.33974229084374263,0.36483398062943584,0.38994738607275514,0.41306024569570354,0.4663930258177883,0.4678610081322261,0.4862816469528051],\"y\":[0.08589546205368012,0.12605332483265164,0.2353536616083134,0.24777400360931806,0.3596582120892105,0.36771850782270954,0.5085282531639665,0.5285467464513326,0.6709594845692777,0.7315126514447707,0.7463142524497365,0.7991161083567293,0.8837534489020508,0.8987867623514556,0.9292105804120817,0.9693684431910532],\"z\":[[null,null,null,null,null,null,null,null,null,null,null,null,null,null,null,null],[null,null,1159312000.0,null,null,null,null,null,null,null,null,null,null,null,null,null],[null,null,null,null,null,null,null,null,null,null,null,null,null,null,1128813000.0,null],[null,null,null,1159627000.0,null,null,null,null,null,null,null,null,null,null,null,null],[null,null,null,null,null,null,1148014000.0,null,null,null,null,null,null,null,null,null],[null,null,null,null,null,1159613000.0,null,null,null,null,null,null,null,null,null,null],[null,null,null,null,null,null,null,null,null,null,null,null,1136051000.0,null,null,null],[null,null,null,null,null,null,null,null,null,null,null,null,null,1133181000.0,null,null],[null,null,null,null,null,null,null,null,1147706000.0,null,null,null,null,null,null,null],[null,null,null,null,null,null,null,null,null,1142638000.0,null,null,null,null,null,null],[null,1158178000.0,null,null,null,null,null,null,null,null,null,null,null,null,null,null],[null,null,null,null,null,null,null,1146999000.0,null,null,null,null,null,null,null,null],[null,null,null,null,null,null,null,null,null,null,1140062000.0,null,null,null,null,null],[null,null,null,null,1163771000.0,null,null,null,null,null,null,null,null,null,null,null],[null,null,null,null,null,null,null,null,null,null,null,1136037000.0,null,null,null,null],[null,null,null,null,null,null,null,null,null,null,null,null,null,null,null,null]],\"type\":\"contour\",\"xaxis\":\"x3\",\"yaxis\":\"y3\"},{\"marker\":{\"color\":\"black\",\"line\":{\"color\":\"Gray\",\"width\":2.0}},\"mode\":\"markers\",\"name\":\"Feasible Trial\",\"showlegend\":false,\"x\":[0.27666868254324206,0.09944823172064514,0.32594565004123,0.33974229084374263,0.4678610081322261,0.38994738607275514,0.4663930258177883,0.15113392069522186,0.41306024569570354,0.36483398062943584,0.14970097307697555,0.13962131116637166,0.20129379744973633,0.23230064569227743],\"y\":[0.7991161083567293,0.7463142524497365,0.6709594845692777,0.7315126514447707,0.2353536616083134,0.9292105804120817,0.5285467464513326,0.8987867623514556,0.5085282531639665,0.8837534489020508,0.24777400360931806,0.12605332483265164,0.36771850782270954,0.3596582120892105],\"type\":\"scatter\",\"xaxis\":\"x3\",\"yaxis\":\"y3\"},{\"colorbar\":{\"title\":{\"text\":\"Objective Value\"}},\"colorscale\":[[0.0,\"rgb(247,251,255)\"],[0.125,\"rgb(222,235,247)\"],[0.25,\"rgb(198,219,239)\"],[0.375,\"rgb(158,202,225)\"],[0.5,\"rgb(107,174,214)\"],[0.625,\"rgb(66,146,198)\"],[0.75,\"rgb(33,113,181)\"],[0.875,\"rgb(8,81,156)\"],[1.0,\"rgb(8,48,107)\"]],\"connectgaps\":true,\"contours\":{\"coloring\":\"heatmap\"},\"hoverinfo\":\"none\",\"line\":{\"smoothing\":1.3},\"reversescale\":false,\"showscale\":false,\"x\":[0.08102759290006609,0.09944823172064514,0.13962131116637166,0.14970097307697555,0.15113392069522186,0.20129379744973633,0.23230064569227743,0.27666868254324206,0.32594565004123,0.33974229084374263,0.36483398062943584,0.38994738607275514,0.41306024569570354,0.4663930258177883,0.4678610081322261,0.4862816469528051],\"y\":[0.05778506112761994,0.10181441621260068,0.1309302049971398,0.13119534160609994,0.22052156895031394,0.250642501954928,0.31496184114635883,0.3875464469518455,0.4195984880996876,0.5324065756370546,0.7091225542125388,0.7499926656792276,0.9267105516187026,0.9460061957667919,0.9824015179122154,1.0264308729971963],\"z\":[[null,null,null,null,null,null,null,null,null,null,null,null,null,null,null,null],[null,1158178000.0,null,null,null,null,null,null,null,null,null,null,null,null,null,null],[null,null,null,1159627000.0,null,null,null,null,null,null,null,null,null,null,null,null],[null,null,1159312000.0,null,null,null,null,null,null,null,null,null,null,null,null,null],[null,null,null,null,1163771000.0,null,null,null,null,null,null,null,null,null,null,null],[null,null,null,null,null,1159613000.0,null,null,null,null,null,null,null,null,null,null],[null,null,null,null,null,null,null,null,null,null,null,null,null,null,1128813000.0,null],[null,null,null,null,null,null,null,null,1147706000.0,null,null,null,null,null,null,null],[null,null,null,null,null,null,null,null,null,null,null,null,1136051000.0,null,null,null],[null,null,null,null,null,null,1148014000.0,null,null,null,null,null,null,null,null,null],[null,null,null,null,null,null,null,null,null,null,null,1136037000.0,null,null,null,null],[null,null,null,null,null,null,null,null,null,null,null,null,null,1133181000.0,null,null],[null,null,null,null,null,null,null,null,null,1142638000.0,null,null,null,null,null,null],[null,null,null,null,null,null,null,null,null,null,1140062000.0,null,null,null,null,null],[null,null,null,null,null,null,null,1146999000.0,null,null,null,null,null,null,null,null],[null,null,null,null,null,null,null,null,null,null,null,null,null,null,null,null]],\"type\":\"contour\",\"xaxis\":\"x8\",\"yaxis\":\"y8\"},{\"marker\":{\"color\":\"black\",\"line\":{\"color\":\"Gray\",\"width\":2.0}},\"mode\":\"markers\",\"name\":\"Feasible Trial\",\"showlegend\":false,\"x\":[0.27666868254324206,0.09944823172064514,0.32594565004123,0.33974229084374263,0.4678610081322261,0.38994738607275514,0.4663930258177883,0.15113392069522186,0.41306024569570354,0.36483398062943584,0.14970097307697555,0.13962131116637166,0.20129379744973633,0.23230064569227743],\"y\":[0.9824015179122154,0.10181441621260068,0.3875464469518455,0.9267105516187026,0.31496184114635883,0.7091225542125388,0.7499926656792276,0.22052156895031394,0.4195984880996876,0.9460061957667919,0.1309302049971398,0.13119534160609994,0.250642501954928,0.5324065756370546],\"type\":\"scatter\",\"xaxis\":\"x8\",\"yaxis\":\"y8\"},{\"type\":\"scatter\",\"xaxis\":\"x13\",\"yaxis\":\"y13\"},{\"colorbar\":{\"title\":{\"text\":\"Objective Value\"}},\"colorscale\":[[0.0,\"rgb(247,251,255)\"],[0.125,\"rgb(222,235,247)\"],[0.25,\"rgb(198,219,239)\"],[0.375,\"rgb(158,202,225)\"],[0.5,\"rgb(107,174,214)\"],[0.625,\"rgb(66,146,198)\"],[0.75,\"rgb(33,113,181)\"],[0.875,\"rgb(8,81,156)\"],[1.0,\"rgb(8,48,107)\"]],\"connectgaps\":true,\"contours\":{\"coloring\":\"heatmap\"},\"hoverinfo\":\"none\",\"line\":{\"smoothing\":1.3},\"reversescale\":false,\"showscale\":false,\"x\":[0.08102759290006609,0.09944823172064514,0.13962131116637166,0.14970097307697555,0.15113392069522186,0.20129379744973633,0.23230064569227743,0.27666868254324206,0.32594565004123,0.33974229084374263,0.36483398062943584,0.38994738607275514,0.41306024569570354,0.4663930258177883,0.4678610081322261,0.4862816469528051],\"y\":[487.05,559,846,925,1065,1146,1360,1364,1433,1465,1515,1742,1802,1940,1998,2069.95],\"z\":[[null,null,null,null,null,null,null,null,null,null,null,null,null,null,null,null],[null,null,null,null,null,1159613000.0,null,null,null,null,null,null,null,null,null,null],[null,null,null,null,null,null,null,null,null,null,null,null,null,1133181000.0,null,null],[null,null,null,null,null,null,null,null,null,null,null,1136037000.0,null,null,null,null],[null,null,null,null,null,null,null,null,null,null,1140062000.0,null,null,null,null,null],[null,1158178000.0,null,null,null,null,null,null,null,null,null,null,null,null,null,null],[null,null,null,null,null,null,null,null,null,1142638000.0,null,null,null,null,null,null],[null,null,null,null,1163771000.0,null,null,null,null,null,null,null,null,null,null,null],[null,null,null,1159627000.0,null,null,null,null,null,null,null,null,null,null,null,null],[null,null,1159312000.0,null,null,null,null,null,null,null,null,null,null,null,null,null],[null,null,null,null,null,null,1148014000.0,null,null,null,null,null,null,null,null,null],[null,null,null,null,null,null,null,null,null,null,null,null,null,null,1128813000.0,null],[null,null,null,null,null,null,null,1146999000.0,null,null,null,null,null,null,null,null],[null,null,null,null,null,null,null,null,1147706000.0,null,null,null,null,null,null,null],[null,null,null,null,null,null,null,null,null,null,null,null,1136051000.0,null,null,null],[null,null,null,null,null,null,null,null,null,null,null,null,null,null,null,null]],\"type\":\"contour\",\"xaxis\":\"x18\",\"yaxis\":\"y18\"},{\"marker\":{\"color\":\"black\",\"line\":{\"color\":\"Gray\",\"width\":2.0}},\"mode\":\"markers\",\"name\":\"Feasible Trial\",\"showlegend\":false,\"x\":[0.27666868254324206,0.09944823172064514,0.32594565004123,0.33974229084374263,0.4678610081322261,0.38994738607275514,0.4663930258177883,0.15113392069522186,0.41306024569570354,0.36483398062943584,0.14970097307697555,0.13962131116637166,0.20129379744973633,0.23230064569227743],\"y\":[1802,1146,1940,1360,1742,925,846,1364,1998,1065,1433,1465,559,1515],\"type\":\"scatter\",\"xaxis\":\"x18\",\"yaxis\":\"y18\"},{\"colorbar\":{\"title\":{\"text\":\"Objective Value\"}},\"colorscale\":[[0.0,\"rgb(247,251,255)\"],[0.125,\"rgb(222,235,247)\"],[0.25,\"rgb(198,219,239)\"],[0.375,\"rgb(158,202,225)\"],[0.5,\"rgb(107,174,214)\"],[0.625,\"rgb(66,146,198)\"],[0.75,\"rgb(33,113,181)\"],[0.875,\"rgb(8,81,156)\"],[1.0,\"rgb(8,48,107)\"]],\"connectgaps\":true,\"contours\":{\"coloring\":\"heatmap\"},\"hoverinfo\":\"none\",\"line\":{\"smoothing\":1.3},\"reversescale\":false,\"showscale\":false,\"x\":[0.08102759290006609,0.09944823172064514,0.13962131116637166,0.14970097307697555,0.15113392069522186,0.20129379744973633,0.23230064569227743,0.27666868254324206,0.32594565004123,0.33974229084374263,0.36483398062943584,0.38994738607275514,0.41306024569570354,0.4663930258177883,0.4678610081322261,0.4862816469528051],\"y\":[-21.650000000000006,27,230,271,340,354,478,496,625,718,858,901,921,985,1000,1048.65],\"z\":[[null,null,null,null,null,null,null,null,null,null,null,null,null,null,null,null],[null,null,null,null,null,null,1148014000.0,null,null,null,null,null,null,null,null,null],[null,null,null,null,null,null,null,null,null,null,null,1136037000.0,null,null,null,null],[null,1158178000.0,null,null,null,null,null,null,null,null,null,null,null,null,null,null],[null,null,null,null,null,null,null,null,1147706000.0,null,null,null,null,null,null,null],[null,null,null,null,null,null,null,null,null,null,null,null,null,1133181000.0,null,null],[null,null,null,null,null,null,null,null,null,null,null,null,null,null,1128813000.0,null],[null,null,null,null,null,null,null,null,null,null,null,null,1136051000.0,null,null,null],[null,null,null,null,null,null,null,1146999000.0,null,null,null,null,null,null,null,null],[null,null,null,null,null,null,null,null,null,1142638000.0,null,null,null,null,null,null],[null,null,null,null,1163771000.0,null,null,null,null,null,null,null,null,null,null,null],[null,null,null,null,null,null,null,null,null,null,1140062000.0,null,null,null,null,null],[null,null,1159312000.0,null,null,null,null,null,null,null,null,null,null,null,null,null],[null,null,null,1159627000.0,null,null,null,null,null,null,null,null,null,null,null,null],[null,null,null,null,null,1159613000.0,null,null,null,null,null,null,null,null,null,null],[null,null,null,null,null,null,null,null,null,null,null,null,null,null,null,null]],\"type\":\"contour\",\"xaxis\":\"x23\",\"yaxis\":\"y23\"},{\"marker\":{\"color\":\"black\",\"line\":{\"color\":\"Gray\",\"width\":2.0}},\"mode\":\"markers\",\"name\":\"Feasible Trial\",\"showlegend\":false,\"x\":[0.27666868254324206,0.09944823172064514,0.32594565004123,0.33974229084374263,0.4678610081322261,0.38994738607275514,0.4663930258177883,0.15113392069522186,0.41306024569570354,0.36483398062943584,0.14970097307697555,0.13962131116637166,0.20129379744973633,0.23230064569227743],\"y\":[625,271,340,718,478,230,354,858,496,901,985,921,1000,27],\"type\":\"scatter\",\"xaxis\":\"x23\",\"yaxis\":\"y23\"},{\"colorbar\":{\"title\":{\"text\":\"Objective Value\"}},\"colorscale\":[[0.0,\"rgb(247,251,255)\"],[0.125,\"rgb(222,235,247)\"],[0.25,\"rgb(198,219,239)\"],[0.375,\"rgb(158,202,225)\"],[0.5,\"rgb(107,174,214)\"],[0.625,\"rgb(66,146,198)\"],[0.75,\"rgb(33,113,181)\"],[0.875,\"rgb(8,81,156)\"],[1.0,\"rgb(8,48,107)\"]],\"connectgaps\":true,\"contours\":{\"coloring\":\"heatmap\"},\"hoverinfo\":\"none\",\"line\":{\"smoothing\":1.3},\"reversescale\":false,\"showscale\":false,\"x\":[487.05,559,846,925,1065,1146,1360,1364,1433,1465,1515,1742,1802,1940,1998,2069.95],\"y\":[0.08589546205368012,0.12605332483265164,0.2353536616083134,0.24777400360931806,0.3596582120892105,0.36771850782270954,0.5085282531639665,0.5285467464513326,0.6709594845692777,0.7315126514447707,0.7463142524497365,0.7991161083567293,0.8837534489020508,0.8987867623514556,0.9292105804120817,0.9693684431910532],\"z\":[[null,null,null,null,null,null,null,null,null,null,null,null,null,null,null,null],[null,null,null,null,null,null,null,null,null,1159312000.0,null,null,null,null,null,null],[null,null,null,null,null,null,null,null,null,null,null,1128813000.0,null,null,null,null],[null,null,null,null,null,null,null,null,1159627000.0,null,null,null,null,null,null,null],[null,null,null,null,null,null,null,null,null,null,1148014000.0,null,null,null,null,null],[null,1159613000.0,null,null,null,null,null,null,null,null,null,null,null,null,null,null],[null,null,null,null,null,null,null,null,null,null,null,null,null,null,1136051000.0,null],[null,null,1133181000.0,null,null,null,null,null,null,null,null,null,null,null,null,null],[null,null,null,null,null,null,null,null,null,null,null,null,null,1147706000.0,null,null],[null,null,null,null,null,null,1142638000.0,null,null,null,null,null,null,null,null,null],[null,null,null,null,null,1158178000.0,null,null,null,null,null,null,null,null,null,null],[null,null,null,null,null,null,null,null,null,null,null,null,1146999000.0,null,null,null],[null,null,null,null,1140062000.0,null,null,null,null,null,null,null,null,null,null,null],[null,null,null,null,null,null,null,1163771000.0,null,null,null,null,null,null,null,null],[null,null,null,1136037000.0,null,null,null,null,null,null,null,null,null,null,null,null],[null,null,null,null,null,null,null,null,null,null,null,null,null,null,null,null]],\"type\":\"contour\",\"xaxis\":\"x4\",\"yaxis\":\"y4\"},{\"marker\":{\"color\":\"black\",\"line\":{\"color\":\"Gray\",\"width\":2.0}},\"mode\":\"markers\",\"name\":\"Feasible Trial\",\"showlegend\":false,\"x\":[1802,1146,1940,1360,1742,925,846,1364,1998,1065,1433,1465,559,1515],\"y\":[0.7991161083567293,0.7463142524497365,0.6709594845692777,0.7315126514447707,0.2353536616083134,0.9292105804120817,0.5285467464513326,0.8987867623514556,0.5085282531639665,0.8837534489020508,0.24777400360931806,0.12605332483265164,0.36771850782270954,0.3596582120892105],\"type\":\"scatter\",\"xaxis\":\"x4\",\"yaxis\":\"y4\"},{\"colorbar\":{\"title\":{\"text\":\"Objective Value\"}},\"colorscale\":[[0.0,\"rgb(247,251,255)\"],[0.125,\"rgb(222,235,247)\"],[0.25,\"rgb(198,219,239)\"],[0.375,\"rgb(158,202,225)\"],[0.5,\"rgb(107,174,214)\"],[0.625,\"rgb(66,146,198)\"],[0.75,\"rgb(33,113,181)\"],[0.875,\"rgb(8,81,156)\"],[1.0,\"rgb(8,48,107)\"]],\"connectgaps\":true,\"contours\":{\"coloring\":\"heatmap\"},\"hoverinfo\":\"none\",\"line\":{\"smoothing\":1.3},\"reversescale\":false,\"showscale\":false,\"x\":[487.05,559,846,925,1065,1146,1360,1364,1433,1465,1515,1742,1802,1940,1998,2069.95],\"y\":[0.05778506112761994,0.10181441621260068,0.1309302049971398,0.13119534160609994,0.22052156895031394,0.250642501954928,0.31496184114635883,0.3875464469518455,0.4195984880996876,0.5324065756370546,0.7091225542125388,0.7499926656792276,0.9267105516187026,0.9460061957667919,0.9824015179122154,1.0264308729971963],\"z\":[[null,null,null,null,null,null,null,null,null,null,null,null,null,null,null,null],[null,null,null,null,null,1158178000.0,null,null,null,null,null,null,null,null,null,null],[null,null,null,null,null,null,null,null,1159627000.0,null,null,null,null,null,null,null],[null,null,null,null,null,null,null,null,null,1159312000.0,null,null,null,null,null,null],[null,null,null,null,null,null,null,1163771000.0,null,null,null,null,null,null,null,null],[null,1159613000.0,null,null,null,null,null,null,null,null,null,null,null,null,null,null],[null,null,null,null,null,null,null,null,null,null,null,1128813000.0,null,null,null,null],[null,null,null,null,null,null,null,null,null,null,null,null,null,1147706000.0,null,null],[null,null,null,null,null,null,null,null,null,null,null,null,null,null,1136051000.0,null],[null,null,null,null,null,null,null,null,null,null,1148014000.0,null,null,null,null,null],[null,null,null,1136037000.0,null,null,null,null,null,null,null,null,null,null,null,null],[null,null,1133181000.0,null,null,null,null,null,null,null,null,null,null,null,null,null],[null,null,null,null,null,null,1142638000.0,null,null,null,null,null,null,null,null,null],[null,null,null,null,1140062000.0,null,null,null,null,null,null,null,null,null,null,null],[null,null,null,null,null,null,null,null,null,null,null,null,1146999000.0,null,null,null],[null,null,null,null,null,null,null,null,null,null,null,null,null,null,null,null]],\"type\":\"contour\",\"xaxis\":\"x9\",\"yaxis\":\"y9\"},{\"marker\":{\"color\":\"black\",\"line\":{\"color\":\"Gray\",\"width\":2.0}},\"mode\":\"markers\",\"name\":\"Feasible Trial\",\"showlegend\":false,\"x\":[1802,1146,1940,1360,1742,925,846,1364,1998,1065,1433,1465,559,1515],\"y\":[0.9824015179122154,0.10181441621260068,0.3875464469518455,0.9267105516187026,0.31496184114635883,0.7091225542125388,0.7499926656792276,0.22052156895031394,0.4195984880996876,0.9460061957667919,0.1309302049971398,0.13119534160609994,0.250642501954928,0.5324065756370546],\"type\":\"scatter\",\"xaxis\":\"x9\",\"yaxis\":\"y9\"},{\"colorbar\":{\"title\":{\"text\":\"Objective Value\"}},\"colorscale\":[[0.0,\"rgb(247,251,255)\"],[0.125,\"rgb(222,235,247)\"],[0.25,\"rgb(198,219,239)\"],[0.375,\"rgb(158,202,225)\"],[0.5,\"rgb(107,174,214)\"],[0.625,\"rgb(66,146,198)\"],[0.75,\"rgb(33,113,181)\"],[0.875,\"rgb(8,81,156)\"],[1.0,\"rgb(8,48,107)\"]],\"connectgaps\":true,\"contours\":{\"coloring\":\"heatmap\"},\"hoverinfo\":\"none\",\"line\":{\"smoothing\":1.3},\"reversescale\":false,\"showscale\":false,\"x\":[487.05,559,846,925,1065,1146,1360,1364,1433,1465,1515,1742,1802,1940,1998,2069.95],\"y\":[0.08102759290006609,0.09944823172064514,0.13962131116637166,0.14970097307697555,0.15113392069522186,0.20129379744973633,0.23230064569227743,0.27666868254324206,0.32594565004123,0.33974229084374263,0.36483398062943584,0.38994738607275514,0.41306024569570354,0.4663930258177883,0.4678610081322261,0.4862816469528051],\"z\":[[null,null,null,null,null,null,null,null,null,null,null,null,null,null,null,null],[null,null,null,null,null,1158178000.0,null,null,null,null,null,null,null,null,null,null],[null,null,null,null,null,null,null,null,null,1159312000.0,null,null,null,null,null,null],[null,null,null,null,null,null,null,null,1159627000.0,null,null,null,null,null,null,null],[null,null,null,null,null,null,null,1163771000.0,null,null,null,null,null,null,null,null],[null,1159613000.0,null,null,null,null,null,null,null,null,null,null,null,null,null,null],[null,null,null,null,null,null,null,null,null,null,1148014000.0,null,null,null,null,null],[null,null,null,null,null,null,null,null,null,null,null,null,1146999000.0,null,null,null],[null,null,null,null,null,null,null,null,null,null,null,null,null,1147706000.0,null,null],[null,null,null,null,null,null,1142638000.0,null,null,null,null,null,null,null,null,null],[null,null,null,null,1140062000.0,null,null,null,null,null,null,null,null,null,null,null],[null,null,null,1136037000.0,null,null,null,null,null,null,null,null,null,null,null,null],[null,null,null,null,null,null,null,null,null,null,null,null,null,null,1136051000.0,null],[null,null,1133181000.0,null,null,null,null,null,null,null,null,null,null,null,null,null],[null,null,null,null,null,null,null,null,null,null,null,1128813000.0,null,null,null,null],[null,null,null,null,null,null,null,null,null,null,null,null,null,null,null,null]],\"type\":\"contour\",\"xaxis\":\"x14\",\"yaxis\":\"y14\"},{\"marker\":{\"color\":\"black\",\"line\":{\"color\":\"Gray\",\"width\":2.0}},\"mode\":\"markers\",\"name\":\"Feasible Trial\",\"showlegend\":false,\"x\":[1802,1146,1940,1360,1742,925,846,1364,1998,1065,1433,1465,559,1515],\"y\":[0.27666868254324206,0.09944823172064514,0.32594565004123,0.33974229084374263,0.4678610081322261,0.38994738607275514,0.4663930258177883,0.15113392069522186,0.41306024569570354,0.36483398062943584,0.14970097307697555,0.13962131116637166,0.20129379744973633,0.23230064569227743],\"type\":\"scatter\",\"xaxis\":\"x14\",\"yaxis\":\"y14\"},{\"type\":\"scatter\",\"xaxis\":\"x19\",\"yaxis\":\"y19\"},{\"colorbar\":{\"title\":{\"text\":\"Objective Value\"}},\"colorscale\":[[0.0,\"rgb(247,251,255)\"],[0.125,\"rgb(222,235,247)\"],[0.25,\"rgb(198,219,239)\"],[0.375,\"rgb(158,202,225)\"],[0.5,\"rgb(107,174,214)\"],[0.625,\"rgb(66,146,198)\"],[0.75,\"rgb(33,113,181)\"],[0.875,\"rgb(8,81,156)\"],[1.0,\"rgb(8,48,107)\"]],\"connectgaps\":true,\"contours\":{\"coloring\":\"heatmap\"},\"hoverinfo\":\"none\",\"line\":{\"smoothing\":1.3},\"reversescale\":false,\"showscale\":false,\"x\":[487.05,559,846,925,1065,1146,1360,1364,1433,1465,1515,1742,1802,1940,1998,2069.95],\"y\":[-21.650000000000006,27,230,271,340,354,478,496,625,718,858,901,921,985,1000,1048.65],\"z\":[[null,null,null,null,null,null,null,null,null,null,null,null,null,null,null,null],[null,null,null,null,null,null,null,null,null,null,1148014000.0,null,null,null,null,null],[null,null,null,1136037000.0,null,null,null,null,null,null,null,null,null,null,null,null],[null,null,null,null,null,1158178000.0,null,null,null,null,null,null,null,null,null,null],[null,null,null,null,null,null,null,null,null,null,null,null,null,1147706000.0,null,null],[null,null,1133181000.0,null,null,null,null,null,null,null,null,null,null,null,null,null],[null,null,null,null,null,null,null,null,null,null,null,1128813000.0,null,null,null,null],[null,null,null,null,null,null,null,null,null,null,null,null,null,null,1136051000.0,null],[null,null,null,null,null,null,null,null,null,null,null,null,1146999000.0,null,null,null],[null,null,null,null,null,null,1142638000.0,null,null,null,null,null,null,null,null,null],[null,null,null,null,null,null,null,1163771000.0,null,null,null,null,null,null,null,null],[null,null,null,null,1140062000.0,null,null,null,null,null,null,null,null,null,null,null],[null,null,null,null,null,null,null,null,null,1159312000.0,null,null,null,null,null,null],[null,null,null,null,null,null,null,null,1159627000.0,null,null,null,null,null,null,null],[null,1159613000.0,null,null,null,null,null,null,null,null,null,null,null,null,null,null],[null,null,null,null,null,null,null,null,null,null,null,null,null,null,null,null]],\"type\":\"contour\",\"xaxis\":\"x24\",\"yaxis\":\"y24\"},{\"marker\":{\"color\":\"black\",\"line\":{\"color\":\"Gray\",\"width\":2.0}},\"mode\":\"markers\",\"name\":\"Feasible Trial\",\"showlegend\":false,\"x\":[1802,1146,1940,1360,1742,925,846,1364,1998,1065,1433,1465,559,1515],\"y\":[625,271,340,718,478,230,354,858,496,901,985,921,1000,27],\"type\":\"scatter\",\"xaxis\":\"x24\",\"yaxis\":\"y24\"},{\"colorbar\":{\"title\":{\"text\":\"Objective Value\"}},\"colorscale\":[[0.0,\"rgb(247,251,255)\"],[0.125,\"rgb(222,235,247)\"],[0.25,\"rgb(198,219,239)\"],[0.375,\"rgb(158,202,225)\"],[0.5,\"rgb(107,174,214)\"],[0.625,\"rgb(66,146,198)\"],[0.75,\"rgb(33,113,181)\"],[0.875,\"rgb(8,81,156)\"],[1.0,\"rgb(8,48,107)\"]],\"connectgaps\":true,\"contours\":{\"coloring\":\"heatmap\"},\"hoverinfo\":\"none\",\"line\":{\"smoothing\":1.3},\"reversescale\":false,\"showscale\":false,\"x\":[-21.650000000000006,27,230,271,340,354,478,496,625,718,858,901,921,985,1000,1048.65],\"y\":[0.08589546205368012,0.12605332483265164,0.2353536616083134,0.24777400360931806,0.3596582120892105,0.36771850782270954,0.5085282531639665,0.5285467464513326,0.6709594845692777,0.7315126514447707,0.7463142524497365,0.7991161083567293,0.8837534489020508,0.8987867623514556,0.9292105804120817,0.9693684431910532],\"z\":[[null,null,null,null,null,null,null,null,null,null,null,null,null,null,null,null],[null,null,null,null,null,null,null,null,null,null,null,null,1159312000.0,null,null,null],[null,null,null,null,null,null,1128813000.0,null,null,null,null,null,null,null,null,null],[null,null,null,null,null,null,null,null,null,null,null,null,null,1159627000.0,null,null],[null,1148014000.0,null,null,null,null,null,null,null,null,null,null,null,null,null,null],[null,null,null,null,null,null,null,null,null,null,null,null,null,null,1159613000.0,null],[null,null,null,null,null,null,null,1136051000.0,null,null,null,null,null,null,null,null],[null,null,null,null,null,1133181000.0,null,null,null,null,null,null,null,null,null,null],[null,null,null,null,1147706000.0,null,null,null,null,null,null,null,null,null,null,null],[null,null,null,null,null,null,null,null,null,1142638000.0,null,null,null,null,null,null],[null,null,null,1158178000.0,null,null,null,null,null,null,null,null,null,null,null,null],[null,null,null,null,null,null,null,null,1146999000.0,null,null,null,null,null,null,null],[null,null,null,null,null,null,null,null,null,null,null,1140062000.0,null,null,null,null],[null,null,null,null,null,null,null,null,null,null,1163771000.0,null,null,null,null,null],[null,null,1136037000.0,null,null,null,null,null,null,null,null,null,null,null,null,null],[null,null,null,null,null,null,null,null,null,null,null,null,null,null,null,null]],\"type\":\"contour\",\"xaxis\":\"x5\",\"yaxis\":\"y5\"},{\"marker\":{\"color\":\"black\",\"line\":{\"color\":\"Gray\",\"width\":2.0}},\"mode\":\"markers\",\"name\":\"Feasible Trial\",\"showlegend\":false,\"x\":[625,271,340,718,478,230,354,858,496,901,985,921,1000,27],\"y\":[0.7991161083567293,0.7463142524497365,0.6709594845692777,0.7315126514447707,0.2353536616083134,0.9292105804120817,0.5285467464513326,0.8987867623514556,0.5085282531639665,0.8837534489020508,0.24777400360931806,0.12605332483265164,0.36771850782270954,0.3596582120892105],\"type\":\"scatter\",\"xaxis\":\"x5\",\"yaxis\":\"y5\"},{\"colorbar\":{\"title\":{\"text\":\"Objective Value\"}},\"colorscale\":[[0.0,\"rgb(247,251,255)\"],[0.125,\"rgb(222,235,247)\"],[0.25,\"rgb(198,219,239)\"],[0.375,\"rgb(158,202,225)\"],[0.5,\"rgb(107,174,214)\"],[0.625,\"rgb(66,146,198)\"],[0.75,\"rgb(33,113,181)\"],[0.875,\"rgb(8,81,156)\"],[1.0,\"rgb(8,48,107)\"]],\"connectgaps\":true,\"contours\":{\"coloring\":\"heatmap\"},\"hoverinfo\":\"none\",\"line\":{\"smoothing\":1.3},\"reversescale\":false,\"showscale\":false,\"x\":[-21.650000000000006,27,230,271,340,354,478,496,625,718,858,901,921,985,1000,1048.65],\"y\":[0.05778506112761994,0.10181441621260068,0.1309302049971398,0.13119534160609994,0.22052156895031394,0.250642501954928,0.31496184114635883,0.3875464469518455,0.4195984880996876,0.5324065756370546,0.7091225542125388,0.7499926656792276,0.9267105516187026,0.9460061957667919,0.9824015179122154,1.0264308729971963],\"z\":[[null,null,null,null,null,null,null,null,null,null,null,null,null,null,null,null],[null,null,null,1158178000.0,null,null,null,null,null,null,null,null,null,null,null,null],[null,null,null,null,null,null,null,null,null,null,null,null,null,1159627000.0,null,null],[null,null,null,null,null,null,null,null,null,null,null,null,1159312000.0,null,null,null],[null,null,null,null,null,null,null,null,null,null,1163771000.0,null,null,null,null,null],[null,null,null,null,null,null,null,null,null,null,null,null,null,null,1159613000.0,null],[null,null,null,null,null,null,1128813000.0,null,null,null,null,null,null,null,null,null],[null,null,null,null,1147706000.0,null,null,null,null,null,null,null,null,null,null,null],[null,null,null,null,null,null,null,1136051000.0,null,null,null,null,null,null,null,null],[null,1148014000.0,null,null,null,null,null,null,null,null,null,null,null,null,null,null],[null,null,1136037000.0,null,null,null,null,null,null,null,null,null,null,null,null,null],[null,null,null,null,null,1133181000.0,null,null,null,null,null,null,null,null,null,null],[null,null,null,null,null,null,null,null,null,1142638000.0,null,null,null,null,null,null],[null,null,null,null,null,null,null,null,null,null,null,1140062000.0,null,null,null,null],[null,null,null,null,null,null,null,null,1146999000.0,null,null,null,null,null,null,null],[null,null,null,null,null,null,null,null,null,null,null,null,null,null,null,null]],\"type\":\"contour\",\"xaxis\":\"x10\",\"yaxis\":\"y10\"},{\"marker\":{\"color\":\"black\",\"line\":{\"color\":\"Gray\",\"width\":2.0}},\"mode\":\"markers\",\"name\":\"Feasible Trial\",\"showlegend\":false,\"x\":[625,271,340,718,478,230,354,858,496,901,985,921,1000,27],\"y\":[0.9824015179122154,0.10181441621260068,0.3875464469518455,0.9267105516187026,0.31496184114635883,0.7091225542125388,0.7499926656792276,0.22052156895031394,0.4195984880996876,0.9460061957667919,0.1309302049971398,0.13119534160609994,0.250642501954928,0.5324065756370546],\"type\":\"scatter\",\"xaxis\":\"x10\",\"yaxis\":\"y10\"},{\"colorbar\":{\"title\":{\"text\":\"Objective Value\"}},\"colorscale\":[[0.0,\"rgb(247,251,255)\"],[0.125,\"rgb(222,235,247)\"],[0.25,\"rgb(198,219,239)\"],[0.375,\"rgb(158,202,225)\"],[0.5,\"rgb(107,174,214)\"],[0.625,\"rgb(66,146,198)\"],[0.75,\"rgb(33,113,181)\"],[0.875,\"rgb(8,81,156)\"],[1.0,\"rgb(8,48,107)\"]],\"connectgaps\":true,\"contours\":{\"coloring\":\"heatmap\"},\"hoverinfo\":\"none\",\"line\":{\"smoothing\":1.3},\"reversescale\":false,\"showscale\":false,\"x\":[-21.650000000000006,27,230,271,340,354,478,496,625,718,858,901,921,985,1000,1048.65],\"y\":[0.08102759290006609,0.09944823172064514,0.13962131116637166,0.14970097307697555,0.15113392069522186,0.20129379744973633,0.23230064569227743,0.27666868254324206,0.32594565004123,0.33974229084374263,0.36483398062943584,0.38994738607275514,0.41306024569570354,0.4663930258177883,0.4678610081322261,0.4862816469528051],\"z\":[[null,null,null,null,null,null,null,null,null,null,null,null,null,null,null,null],[null,null,null,1158178000.0,null,null,null,null,null,null,null,null,null,null,null,null],[null,null,null,null,null,null,null,null,null,null,null,null,1159312000.0,null,null,null],[null,null,null,null,null,null,null,null,null,null,null,null,null,1159627000.0,null,null],[null,null,null,null,null,null,null,null,null,null,1163771000.0,null,null,null,null,null],[null,null,null,null,null,null,null,null,null,null,null,null,null,null,1159613000.0,null],[null,1148014000.0,null,null,null,null,null,null,null,null,null,null,null,null,null,null],[null,null,null,null,null,null,null,null,1146999000.0,null,null,null,null,null,null,null],[null,null,null,null,1147706000.0,null,null,null,null,null,null,null,null,null,null,null],[null,null,null,null,null,null,null,null,null,1142638000.0,null,null,null,null,null,null],[null,null,null,null,null,null,null,null,null,null,null,1140062000.0,null,null,null,null],[null,null,1136037000.0,null,null,null,null,null,null,null,null,null,null,null,null,null],[null,null,null,null,null,null,null,1136051000.0,null,null,null,null,null,null,null,null],[null,null,null,null,null,1133181000.0,null,null,null,null,null,null,null,null,null,null],[null,null,null,null,null,null,1128813000.0,null,null,null,null,null,null,null,null,null],[null,null,null,null,null,null,null,null,null,null,null,null,null,null,null,null]],\"type\":\"contour\",\"xaxis\":\"x15\",\"yaxis\":\"y15\"},{\"marker\":{\"color\":\"black\",\"line\":{\"color\":\"Gray\",\"width\":2.0}},\"mode\":\"markers\",\"name\":\"Feasible Trial\",\"showlegend\":false,\"x\":[625,271,340,718,478,230,354,858,496,901,985,921,1000,27],\"y\":[0.27666868254324206,0.09944823172064514,0.32594565004123,0.33974229084374263,0.4678610081322261,0.38994738607275514,0.4663930258177883,0.15113392069522186,0.41306024569570354,0.36483398062943584,0.14970097307697555,0.13962131116637166,0.20129379744973633,0.23230064569227743],\"type\":\"scatter\",\"xaxis\":\"x15\",\"yaxis\":\"y15\"},{\"colorbar\":{\"title\":{\"text\":\"Objective Value\"}},\"colorscale\":[[0.0,\"rgb(247,251,255)\"],[0.125,\"rgb(222,235,247)\"],[0.25,\"rgb(198,219,239)\"],[0.375,\"rgb(158,202,225)\"],[0.5,\"rgb(107,174,214)\"],[0.625,\"rgb(66,146,198)\"],[0.75,\"rgb(33,113,181)\"],[0.875,\"rgb(8,81,156)\"],[1.0,\"rgb(8,48,107)\"]],\"connectgaps\":true,\"contours\":{\"coloring\":\"heatmap\"},\"hoverinfo\":\"none\",\"line\":{\"smoothing\":1.3},\"reversescale\":false,\"showscale\":false,\"x\":[-21.650000000000006,27,230,271,340,354,478,496,625,718,858,901,921,985,1000,1048.65],\"y\":[487.05,559,846,925,1065,1146,1360,1364,1433,1465,1515,1742,1802,1940,1998,2069.95],\"z\":[[null,null,null,null,null,null,null,null,null,null,null,null,null,null,null,null],[null,null,null,null,null,null,null,null,null,null,null,null,null,null,1159613000.0,null],[null,null,null,null,null,1133181000.0,null,null,null,null,null,null,null,null,null,null],[null,null,1136037000.0,null,null,null,null,null,null,null,null,null,null,null,null,null],[null,null,null,null,null,null,null,null,null,null,null,1140062000.0,null,null,null,null],[null,null,null,1158178000.0,null,null,null,null,null,null,null,null,null,null,null,null],[null,null,null,null,null,null,null,null,null,1142638000.0,null,null,null,null,null,null],[null,null,null,null,null,null,null,null,null,null,1163771000.0,null,null,null,null,null],[null,null,null,null,null,null,null,null,null,null,null,null,null,1159627000.0,null,null],[null,null,null,null,null,null,null,null,null,null,null,null,1159312000.0,null,null,null],[null,1148014000.0,null,null,null,null,null,null,null,null,null,null,null,null,null,null],[null,null,null,null,null,null,1128813000.0,null,null,null,null,null,null,null,null,null],[null,null,null,null,null,null,null,null,1146999000.0,null,null,null,null,null,null,null],[null,null,null,null,1147706000.0,null,null,null,null,null,null,null,null,null,null,null],[null,null,null,null,null,null,null,1136051000.0,null,null,null,null,null,null,null,null],[null,null,null,null,null,null,null,null,null,null,null,null,null,null,null,null]],\"type\":\"contour\",\"xaxis\":\"x20\",\"yaxis\":\"y20\"},{\"marker\":{\"color\":\"black\",\"line\":{\"color\":\"Gray\",\"width\":2.0}},\"mode\":\"markers\",\"name\":\"Feasible Trial\",\"showlegend\":false,\"x\":[625,271,340,718,478,230,354,858,496,901,985,921,1000,27],\"y\":[1802,1146,1940,1360,1742,925,846,1364,1998,1065,1433,1465,559,1515],\"type\":\"scatter\",\"xaxis\":\"x20\",\"yaxis\":\"y20\"},{\"type\":\"scatter\",\"xaxis\":\"x25\",\"yaxis\":\"y25\"}],                        {\"template\":{\"data\":{\"histogram2dcontour\":[{\"type\":\"histogram2dcontour\",\"colorbar\":{\"outlinewidth\":0,\"ticks\":\"\"},\"colorscale\":[[0.0,\"#0d0887\"],[0.1111111111111111,\"#46039f\"],[0.2222222222222222,\"#7201a8\"],[0.3333333333333333,\"#9c179e\"],[0.4444444444444444,\"#bd3786\"],[0.5555555555555556,\"#d8576b\"],[0.6666666666666666,\"#ed7953\"],[0.7777777777777778,\"#fb9f3a\"],[0.8888888888888888,\"#fdca26\"],[1.0,\"#f0f921\"]]}],\"choropleth\":[{\"type\":\"choropleth\",\"colorbar\":{\"outlinewidth\":0,\"ticks\":\"\"}}],\"histogram2d\":[{\"type\":\"histogram2d\",\"colorbar\":{\"outlinewidth\":0,\"ticks\":\"\"},\"colorscale\":[[0.0,\"#0d0887\"],[0.1111111111111111,\"#46039f\"],[0.2222222222222222,\"#7201a8\"],[0.3333333333333333,\"#9c179e\"],[0.4444444444444444,\"#bd3786\"],[0.5555555555555556,\"#d8576b\"],[0.6666666666666666,\"#ed7953\"],[0.7777777777777778,\"#fb9f3a\"],[0.8888888888888888,\"#fdca26\"],[1.0,\"#f0f921\"]]}],\"heatmap\":[{\"type\":\"heatmap\",\"colorbar\":{\"outlinewidth\":0,\"ticks\":\"\"},\"colorscale\":[[0.0,\"#0d0887\"],[0.1111111111111111,\"#46039f\"],[0.2222222222222222,\"#7201a8\"],[0.3333333333333333,\"#9c179e\"],[0.4444444444444444,\"#bd3786\"],[0.5555555555555556,\"#d8576b\"],[0.6666666666666666,\"#ed7953\"],[0.7777777777777778,\"#fb9f3a\"],[0.8888888888888888,\"#fdca26\"],[1.0,\"#f0f921\"]]}],\"heatmapgl\":[{\"type\":\"heatmapgl\",\"colorbar\":{\"outlinewidth\":0,\"ticks\":\"\"},\"colorscale\":[[0.0,\"#0d0887\"],[0.1111111111111111,\"#46039f\"],[0.2222222222222222,\"#7201a8\"],[0.3333333333333333,\"#9c179e\"],[0.4444444444444444,\"#bd3786\"],[0.5555555555555556,\"#d8576b\"],[0.6666666666666666,\"#ed7953\"],[0.7777777777777778,\"#fb9f3a\"],[0.8888888888888888,\"#fdca26\"],[1.0,\"#f0f921\"]]}],\"contourcarpet\":[{\"type\":\"contourcarpet\",\"colorbar\":{\"outlinewidth\":0,\"ticks\":\"\"}}],\"contour\":[{\"type\":\"contour\",\"colorbar\":{\"outlinewidth\":0,\"ticks\":\"\"},\"colorscale\":[[0.0,\"#0d0887\"],[0.1111111111111111,\"#46039f\"],[0.2222222222222222,\"#7201a8\"],[0.3333333333333333,\"#9c179e\"],[0.4444444444444444,\"#bd3786\"],[0.5555555555555556,\"#d8576b\"],[0.6666666666666666,\"#ed7953\"],[0.7777777777777778,\"#fb9f3a\"],[0.8888888888888888,\"#fdca26\"],[1.0,\"#f0f921\"]]}],\"surface\":[{\"type\":\"surface\",\"colorbar\":{\"outlinewidth\":0,\"ticks\":\"\"},\"colorscale\":[[0.0,\"#0d0887\"],[0.1111111111111111,\"#46039f\"],[0.2222222222222222,\"#7201a8\"],[0.3333333333333333,\"#9c179e\"],[0.4444444444444444,\"#bd3786\"],[0.5555555555555556,\"#d8576b\"],[0.6666666666666666,\"#ed7953\"],[0.7777777777777778,\"#fb9f3a\"],[0.8888888888888888,\"#fdca26\"],[1.0,\"#f0f921\"]]}],\"mesh3d\":[{\"type\":\"mesh3d\",\"colorbar\":{\"outlinewidth\":0,\"ticks\":\"\"}}],\"scatter\":[{\"fillpattern\":{\"fillmode\":\"overlay\",\"size\":10,\"solidity\":0.2},\"type\":\"scatter\"}],\"parcoords\":[{\"type\":\"parcoords\",\"line\":{\"colorbar\":{\"outlinewidth\":0,\"ticks\":\"\"}}}],\"scatterpolargl\":[{\"type\":\"scatterpolargl\",\"marker\":{\"colorbar\":{\"outlinewidth\":0,\"ticks\":\"\"}}}],\"bar\":[{\"error_x\":{\"color\":\"#2a3f5f\"},\"error_y\":{\"color\":\"#2a3f5f\"},\"marker\":{\"line\":{\"color\":\"#E5ECF6\",\"width\":0.5},\"pattern\":{\"fillmode\":\"overlay\",\"size\":10,\"solidity\":0.2}},\"type\":\"bar\"}],\"scattergeo\":[{\"type\":\"scattergeo\",\"marker\":{\"colorbar\":{\"outlinewidth\":0,\"ticks\":\"\"}}}],\"scatterpolar\":[{\"type\":\"scatterpolar\",\"marker\":{\"colorbar\":{\"outlinewidth\":0,\"ticks\":\"\"}}}],\"histogram\":[{\"marker\":{\"pattern\":{\"fillmode\":\"overlay\",\"size\":10,\"solidity\":0.2}},\"type\":\"histogram\"}],\"scattergl\":[{\"type\":\"scattergl\",\"marker\":{\"colorbar\":{\"outlinewidth\":0,\"ticks\":\"\"}}}],\"scatter3d\":[{\"type\":\"scatter3d\",\"line\":{\"colorbar\":{\"outlinewidth\":0,\"ticks\":\"\"}},\"marker\":{\"colorbar\":{\"outlinewidth\":0,\"ticks\":\"\"}}}],\"scattermapbox\":[{\"type\":\"scattermapbox\",\"marker\":{\"colorbar\":{\"outlinewidth\":0,\"ticks\":\"\"}}}],\"scatterternary\":[{\"type\":\"scatterternary\",\"marker\":{\"colorbar\":{\"outlinewidth\":0,\"ticks\":\"\"}}}],\"scattercarpet\":[{\"type\":\"scattercarpet\",\"marker\":{\"colorbar\":{\"outlinewidth\":0,\"ticks\":\"\"}}}],\"carpet\":[{\"aaxis\":{\"endlinecolor\":\"#2a3f5f\",\"gridcolor\":\"white\",\"linecolor\":\"white\",\"minorgridcolor\":\"white\",\"startlinecolor\":\"#2a3f5f\"},\"baxis\":{\"endlinecolor\":\"#2a3f5f\",\"gridcolor\":\"white\",\"linecolor\":\"white\",\"minorgridcolor\":\"white\",\"startlinecolor\":\"#2a3f5f\"},\"type\":\"carpet\"}],\"table\":[{\"cells\":{\"fill\":{\"color\":\"#EBF0F8\"},\"line\":{\"color\":\"white\"}},\"header\":{\"fill\":{\"color\":\"#C8D4E3\"},\"line\":{\"color\":\"white\"}},\"type\":\"table\"}],\"barpolar\":[{\"marker\":{\"line\":{\"color\":\"#E5ECF6\",\"width\":0.5},\"pattern\":{\"fillmode\":\"overlay\",\"size\":10,\"solidity\":0.2}},\"type\":\"barpolar\"}],\"pie\":[{\"automargin\":true,\"type\":\"pie\"}]},\"layout\":{\"autotypenumbers\":\"strict\",\"colorway\":[\"#636efa\",\"#EF553B\",\"#00cc96\",\"#ab63fa\",\"#FFA15A\",\"#19d3f3\",\"#FF6692\",\"#B6E880\",\"#FF97FF\",\"#FECB52\"],\"font\":{\"color\":\"#2a3f5f\"},\"hovermode\":\"closest\",\"hoverlabel\":{\"align\":\"left\"},\"paper_bgcolor\":\"white\",\"plot_bgcolor\":\"#E5ECF6\",\"polar\":{\"bgcolor\":\"#E5ECF6\",\"angularaxis\":{\"gridcolor\":\"white\",\"linecolor\":\"white\",\"ticks\":\"\"},\"radialaxis\":{\"gridcolor\":\"white\",\"linecolor\":\"white\",\"ticks\":\"\"}},\"ternary\":{\"bgcolor\":\"#E5ECF6\",\"aaxis\":{\"gridcolor\":\"white\",\"linecolor\":\"white\",\"ticks\":\"\"},\"baxis\":{\"gridcolor\":\"white\",\"linecolor\":\"white\",\"ticks\":\"\"},\"caxis\":{\"gridcolor\":\"white\",\"linecolor\":\"white\",\"ticks\":\"\"}},\"coloraxis\":{\"colorbar\":{\"outlinewidth\":0,\"ticks\":\"\"}},\"colorscale\":{\"sequential\":[[0.0,\"#0d0887\"],[0.1111111111111111,\"#46039f\"],[0.2222222222222222,\"#7201a8\"],[0.3333333333333333,\"#9c179e\"],[0.4444444444444444,\"#bd3786\"],[0.5555555555555556,\"#d8576b\"],[0.6666666666666666,\"#ed7953\"],[0.7777777777777778,\"#fb9f3a\"],[0.8888888888888888,\"#fdca26\"],[1.0,\"#f0f921\"]],\"sequentialminus\":[[0.0,\"#0d0887\"],[0.1111111111111111,\"#46039f\"],[0.2222222222222222,\"#7201a8\"],[0.3333333333333333,\"#9c179e\"],[0.4444444444444444,\"#bd3786\"],[0.5555555555555556,\"#d8576b\"],[0.6666666666666666,\"#ed7953\"],[0.7777777777777778,\"#fb9f3a\"],[0.8888888888888888,\"#fdca26\"],[1.0,\"#f0f921\"]],\"diverging\":[[0,\"#8e0152\"],[0.1,\"#c51b7d\"],[0.2,\"#de77ae\"],[0.3,\"#f1b6da\"],[0.4,\"#fde0ef\"],[0.5,\"#f7f7f7\"],[0.6,\"#e6f5d0\"],[0.7,\"#b8e186\"],[0.8,\"#7fbc41\"],[0.9,\"#4d9221\"],[1,\"#276419\"]]},\"xaxis\":{\"gridcolor\":\"white\",\"linecolor\":\"white\",\"ticks\":\"\",\"title\":{\"standoff\":15},\"zerolinecolor\":\"white\",\"automargin\":true,\"zerolinewidth\":2},\"yaxis\":{\"gridcolor\":\"white\",\"linecolor\":\"white\",\"ticks\":\"\",\"title\":{\"standoff\":15},\"zerolinecolor\":\"white\",\"automargin\":true,\"zerolinewidth\":2},\"scene\":{\"xaxis\":{\"backgroundcolor\":\"#E5ECF6\",\"gridcolor\":\"white\",\"linecolor\":\"white\",\"showbackground\":true,\"ticks\":\"\",\"zerolinecolor\":\"white\",\"gridwidth\":2},\"yaxis\":{\"backgroundcolor\":\"#E5ECF6\",\"gridcolor\":\"white\",\"linecolor\":\"white\",\"showbackground\":true,\"ticks\":\"\",\"zerolinecolor\":\"white\",\"gridwidth\":2},\"zaxis\":{\"backgroundcolor\":\"#E5ECF6\",\"gridcolor\":\"white\",\"linecolor\":\"white\",\"showbackground\":true,\"ticks\":\"\",\"zerolinecolor\":\"white\",\"gridwidth\":2}},\"shapedefaults\":{\"line\":{\"color\":\"#2a3f5f\"}},\"annotationdefaults\":{\"arrowcolor\":\"#2a3f5f\",\"arrowhead\":0,\"arrowwidth\":1},\"geo\":{\"bgcolor\":\"white\",\"landcolor\":\"#E5ECF6\",\"subunitcolor\":\"white\",\"showland\":true,\"showlakes\":true,\"lakecolor\":\"white\"},\"title\":{\"x\":0.05},\"mapbox\":{\"style\":\"light\"}}},\"xaxis\":{\"anchor\":\"y\",\"domain\":[0.0,0.16799999999999998],\"matches\":\"x21\",\"showticklabels\":false,\"range\":[0.08589546205368012,0.9693684431910532]},\"yaxis\":{\"anchor\":\"x\",\"domain\":[0.848,1.0],\"range\":[0.08589546205368012,0.9693684431910532],\"title\":{\"text\":\"bagging_fraction\"}},\"xaxis2\":{\"anchor\":\"y2\",\"domain\":[0.208,0.376],\"matches\":\"x22\",\"showticklabels\":false,\"range\":[0.05778506112761994,1.0264308729971963]},\"yaxis2\":{\"anchor\":\"x2\",\"domain\":[0.848,1.0],\"matches\":\"y\",\"showticklabels\":false,\"range\":[0.08589546205368012,0.9693684431910532]},\"xaxis3\":{\"anchor\":\"y3\",\"domain\":[0.416,0.584],\"matches\":\"x23\",\"showticklabels\":false,\"range\":[0.08102759290006609,0.4862816469528051]},\"yaxis3\":{\"anchor\":\"x3\",\"domain\":[0.848,1.0],\"matches\":\"y\",\"showticklabels\":false,\"range\":[0.08589546205368012,0.9693684431910532]},\"xaxis4\":{\"anchor\":\"y4\",\"domain\":[0.624,0.792],\"matches\":\"x24\",\"showticklabels\":false,\"range\":[487.05,2069.95]},\"yaxis4\":{\"anchor\":\"x4\",\"domain\":[0.848,1.0],\"matches\":\"y\",\"showticklabels\":false,\"range\":[0.08589546205368012,0.9693684431910532]},\"xaxis5\":{\"anchor\":\"y5\",\"domain\":[0.832,1.0],\"matches\":\"x25\",\"showticklabels\":false,\"range\":[-21.650000000000006,1048.65]},\"yaxis5\":{\"anchor\":\"x5\",\"domain\":[0.848,1.0],\"matches\":\"y\",\"showticklabels\":false,\"range\":[0.08589546205368012,0.9693684431910532]},\"xaxis6\":{\"anchor\":\"y6\",\"domain\":[0.0,0.16799999999999998],\"matches\":\"x21\",\"showticklabels\":false,\"range\":[0.08589546205368012,0.9693684431910532]},\"yaxis6\":{\"anchor\":\"x6\",\"domain\":[0.6359999999999999,0.7879999999999999],\"range\":[0.05778506112761994,1.0264308729971963],\"title\":{\"text\":\"feature_fraction\"}},\"xaxis7\":{\"anchor\":\"y7\",\"domain\":[0.208,0.376],\"matches\":\"x22\",\"showticklabels\":false,\"range\":[0.05778506112761994,1.0264308729971963]},\"yaxis7\":{\"anchor\":\"x7\",\"domain\":[0.6359999999999999,0.7879999999999999],\"matches\":\"y6\",\"showticklabels\":false,\"range\":[0.05778506112761994,1.0264308729971963]},\"xaxis8\":{\"anchor\":\"y8\",\"domain\":[0.416,0.584],\"matches\":\"x23\",\"showticklabels\":false,\"range\":[0.08102759290006609,0.4862816469528051]},\"yaxis8\":{\"anchor\":\"x8\",\"domain\":[0.6359999999999999,0.7879999999999999],\"matches\":\"y6\",\"showticklabels\":false,\"range\":[0.05778506112761994,1.0264308729971963]},\"xaxis9\":{\"anchor\":\"y9\",\"domain\":[0.624,0.792],\"matches\":\"x24\",\"showticklabels\":false,\"range\":[487.05,2069.95]},\"yaxis9\":{\"anchor\":\"x9\",\"domain\":[0.6359999999999999,0.7879999999999999],\"matches\":\"y6\",\"showticklabels\":false,\"range\":[0.05778506112761994,1.0264308729971963]},\"xaxis10\":{\"anchor\":\"y10\",\"domain\":[0.832,1.0],\"matches\":\"x25\",\"showticklabels\":false,\"range\":[-21.650000000000006,1048.65]},\"yaxis10\":{\"anchor\":\"x10\",\"domain\":[0.6359999999999999,0.7879999999999999],\"matches\":\"y6\",\"showticklabels\":false,\"range\":[0.05778506112761994,1.0264308729971963]},\"xaxis11\":{\"anchor\":\"y11\",\"domain\":[0.0,0.16799999999999998],\"matches\":\"x21\",\"showticklabels\":false,\"range\":[0.08589546205368012,0.9693684431910532]},\"yaxis11\":{\"anchor\":\"x11\",\"domain\":[0.424,0.576],\"range\":[0.08102759290006609,0.4862816469528051],\"title\":{\"text\":\"learning_rate\"}},\"xaxis12\":{\"anchor\":\"y12\",\"domain\":[0.208,0.376],\"matches\":\"x22\",\"showticklabels\":false,\"range\":[0.05778506112761994,1.0264308729971963]},\"yaxis12\":{\"anchor\":\"x12\",\"domain\":[0.424,0.576],\"matches\":\"y11\",\"showticklabels\":false,\"range\":[0.08102759290006609,0.4862816469528051]},\"xaxis13\":{\"anchor\":\"y13\",\"domain\":[0.416,0.584],\"matches\":\"x23\",\"showticklabels\":false,\"range\":[0.08102759290006609,0.4862816469528051]},\"yaxis13\":{\"anchor\":\"x13\",\"domain\":[0.424,0.576],\"matches\":\"y11\",\"showticklabels\":false,\"range\":[0.08102759290006609,0.4862816469528051]},\"xaxis14\":{\"anchor\":\"y14\",\"domain\":[0.624,0.792],\"matches\":\"x24\",\"showticklabels\":false,\"range\":[487.05,2069.95]},\"yaxis14\":{\"anchor\":\"x14\",\"domain\":[0.424,0.576],\"matches\":\"y11\",\"showticklabels\":false,\"range\":[0.08102759290006609,0.4862816469528051]},\"xaxis15\":{\"anchor\":\"y15\",\"domain\":[0.832,1.0],\"matches\":\"x25\",\"showticklabels\":false,\"range\":[-21.650000000000006,1048.65]},\"yaxis15\":{\"anchor\":\"x15\",\"domain\":[0.424,0.576],\"matches\":\"y11\",\"showticklabels\":false,\"range\":[0.08102759290006609,0.4862816469528051]},\"xaxis16\":{\"anchor\":\"y16\",\"domain\":[0.0,0.16799999999999998],\"matches\":\"x21\",\"showticklabels\":false,\"range\":[0.08589546205368012,0.9693684431910532]},\"yaxis16\":{\"anchor\":\"x16\",\"domain\":[0.212,0.364],\"range\":[487.05,2069.95],\"title\":{\"text\":\"min_data_in_leaf\"}},\"xaxis17\":{\"anchor\":\"y17\",\"domain\":[0.208,0.376],\"matches\":\"x22\",\"showticklabels\":false,\"range\":[0.05778506112761994,1.0264308729971963]},\"yaxis17\":{\"anchor\":\"x17\",\"domain\":[0.212,0.364],\"matches\":\"y16\",\"showticklabels\":false,\"range\":[487.05,2069.95]},\"xaxis18\":{\"anchor\":\"y18\",\"domain\":[0.416,0.584],\"matches\":\"x23\",\"showticklabels\":false,\"range\":[0.08102759290006609,0.4862816469528051]},\"yaxis18\":{\"anchor\":\"x18\",\"domain\":[0.212,0.364],\"matches\":\"y16\",\"showticklabels\":false,\"range\":[487.05,2069.95]},\"xaxis19\":{\"anchor\":\"y19\",\"domain\":[0.624,0.792],\"matches\":\"x24\",\"showticklabels\":false,\"range\":[487.05,2069.95]},\"yaxis19\":{\"anchor\":\"x19\",\"domain\":[0.212,0.364],\"matches\":\"y16\",\"showticklabels\":false,\"range\":[487.05,2069.95]},\"xaxis20\":{\"anchor\":\"y20\",\"domain\":[0.832,1.0],\"matches\":\"x25\",\"showticklabels\":false,\"range\":[-21.650000000000006,1048.65]},\"yaxis20\":{\"anchor\":\"x20\",\"domain\":[0.212,0.364],\"matches\":\"y16\",\"showticklabels\":false,\"range\":[487.05,2069.95]},\"xaxis21\":{\"anchor\":\"y21\",\"domain\":[0.0,0.16799999999999998],\"range\":[0.08589546205368012,0.9693684431910532],\"title\":{\"text\":\"bagging_fraction\"}},\"yaxis21\":{\"anchor\":\"x21\",\"domain\":[0.0,0.152],\"range\":[-21.650000000000006,1048.65],\"title\":{\"text\":\"num_leaves\"}},\"xaxis22\":{\"anchor\":\"y22\",\"domain\":[0.208,0.376],\"range\":[0.05778506112761994,1.0264308729971963],\"title\":{\"text\":\"feature_fraction\"}},\"yaxis22\":{\"anchor\":\"x22\",\"domain\":[0.0,0.152],\"matches\":\"y21\",\"showticklabels\":false,\"range\":[-21.650000000000006,1048.65]},\"xaxis23\":{\"anchor\":\"y23\",\"domain\":[0.416,0.584],\"range\":[0.08102759290006609,0.4862816469528051],\"title\":{\"text\":\"learning_rate\"}},\"yaxis23\":{\"anchor\":\"x23\",\"domain\":[0.0,0.152],\"matches\":\"y21\",\"showticklabels\":false,\"range\":[-21.650000000000006,1048.65]},\"xaxis24\":{\"anchor\":\"y24\",\"domain\":[0.624,0.792],\"range\":[487.05,2069.95],\"title\":{\"text\":\"min_data_in_leaf\"}},\"yaxis24\":{\"anchor\":\"x24\",\"domain\":[0.0,0.152],\"matches\":\"y21\",\"showticklabels\":false,\"range\":[-21.650000000000006,1048.65]},\"xaxis25\":{\"anchor\":\"y25\",\"domain\":[0.832,1.0],\"range\":[-21.650000000000006,1048.65],\"title\":{\"text\":\"num_leaves\"}},\"yaxis25\":{\"anchor\":\"x25\",\"domain\":[0.0,0.152],\"matches\":\"y21\",\"showticklabels\":false,\"range\":[-21.650000000000006,1048.65]},\"title\":{\"text\":\"Contour Plot\"}},                        {\"responsive\": true}                    ).then(function(){\n",
       "                            \n",
       "var gd = document.getElementById('5ad383c9-8151-4178-b703-59392b49bc6e');\n",
       "var x = new MutationObserver(function (mutations, observer) {{\n",
       "        var display = window.getComputedStyle(gd).display;\n",
       "        if (!display || display === 'none') {{\n",
       "            console.log([gd, 'removed!']);\n",
       "            Plotly.purge(gd);\n",
       "            observer.disconnect();\n",
       "        }}\n",
       "}});\n",
       "\n",
       "// Listen for the removal of the full notebook cells\n",
       "var notebookContainer = gd.closest('#notebook-container');\n",
       "if (notebookContainer) {{\n",
       "    x.observe(notebookContainer, {childList: true});\n",
       "}}\n",
       "\n",
       "// Listen for the clearing of the current output cell\n",
       "var outputEl = gd.closest('.output');\n",
       "if (outputEl) {{\n",
       "    x.observe(outputEl, {childList: true});\n",
       "}}\n",
       "\n",
       "                        })                };                });            </script>        </div>"
      ]
     },
     "metadata": {},
     "output_type": "display_data"
    }
   ],
   "source": [
    "plot_contour(study)"
   ]
  },
  {
   "cell_type": "code",
   "execution_count": 54,
   "metadata": {
    "colab": {
     "base_uri": "https://localhost:8080/",
     "height": 542
    },
    "id": "wGHGdGcQ3m00",
    "outputId": "624ee6d0-a5f1-4b00-bac6-8f37de7e99a7"
   },
   "outputs": [
    {
     "data": {
      "application/vnd.plotly.v1+json": {
       "config": {
        "plotlyServerURL": "https://plot.ly"
       },
       "data": [
        {
         "colorbar": {
          "title": {
           "text": "Objective Value"
          }
         },
         "colorscale": [
          [
           0,
           "rgb(247,251,255)"
          ],
          [
           0.125,
           "rgb(222,235,247)"
          ],
          [
           0.25,
           "rgb(198,219,239)"
          ],
          [
           0.375,
           "rgb(158,202,225)"
          ],
          [
           0.5,
           "rgb(107,174,214)"
          ],
          [
           0.625,
           "rgb(66,146,198)"
          ],
          [
           0.75,
           "rgb(33,113,181)"
          ],
          [
           0.875,
           "rgb(8,81,156)"
          ],
          [
           1,
           "rgb(8,48,107)"
          ]
         ],
         "connectgaps": true,
         "contours": {
          "coloring": "heatmap"
         },
         "hoverinfo": "none",
         "line": {
          "smoothing": 1.3
         },
         "reversescale": false,
         "type": "contour",
         "x": [
          487.05,
          559,
          846,
          925,
          1065,
          1146,
          1360,
          1364,
          1433,
          1465,
          1515,
          1742,
          1802,
          1940,
          1998,
          2069.95
         ],
         "y": [
          -21.650000000000006,
          27,
          230,
          271,
          340,
          354,
          478,
          496,
          625,
          718,
          858,
          901,
          921,
          985,
          1000,
          1048.65
         ],
         "z": [
          [
           null,
           null,
           null,
           null,
           null,
           null,
           null,
           null,
           null,
           null,
           null,
           null,
           null,
           null,
           null,
           null
          ],
          [
           null,
           null,
           null,
           null,
           null,
           null,
           null,
           null,
           null,
           null,
           1148014000,
           null,
           null,
           null,
           null,
           null
          ],
          [
           null,
           null,
           null,
           1136037000,
           null,
           null,
           null,
           null,
           null,
           null,
           null,
           null,
           null,
           null,
           null,
           null
          ],
          [
           null,
           null,
           null,
           null,
           null,
           1158178000,
           null,
           null,
           null,
           null,
           null,
           null,
           null,
           null,
           null,
           null
          ],
          [
           null,
           null,
           null,
           null,
           null,
           null,
           null,
           null,
           null,
           null,
           null,
           null,
           null,
           1147706000,
           null,
           null
          ],
          [
           null,
           null,
           1133181000,
           null,
           null,
           null,
           null,
           null,
           null,
           null,
           null,
           null,
           null,
           null,
           null,
           null
          ],
          [
           null,
           null,
           null,
           null,
           null,
           null,
           null,
           null,
           null,
           null,
           null,
           1128813000,
           null,
           null,
           null,
           null
          ],
          [
           null,
           null,
           null,
           null,
           null,
           null,
           null,
           null,
           null,
           null,
           null,
           null,
           null,
           null,
           1136051000,
           null
          ],
          [
           null,
           null,
           null,
           null,
           null,
           null,
           null,
           null,
           null,
           null,
           null,
           null,
           1146999000,
           null,
           null,
           null
          ],
          [
           null,
           null,
           null,
           null,
           null,
           null,
           1142638000,
           null,
           null,
           null,
           null,
           null,
           null,
           null,
           null,
           null
          ],
          [
           null,
           null,
           null,
           null,
           null,
           null,
           null,
           1163771000,
           null,
           null,
           null,
           null,
           null,
           null,
           null,
           null
          ],
          [
           null,
           null,
           null,
           null,
           1140062000,
           null,
           null,
           null,
           null,
           null,
           null,
           null,
           null,
           null,
           null,
           null
          ],
          [
           null,
           null,
           null,
           null,
           null,
           null,
           null,
           null,
           null,
           1159312000,
           null,
           null,
           null,
           null,
           null,
           null
          ],
          [
           null,
           null,
           null,
           null,
           null,
           null,
           null,
           null,
           1159627000,
           null,
           null,
           null,
           null,
           null,
           null,
           null
          ],
          [
           null,
           1159613000,
           null,
           null,
           null,
           null,
           null,
           null,
           null,
           null,
           null,
           null,
           null,
           null,
           null,
           null
          ],
          [
           null,
           null,
           null,
           null,
           null,
           null,
           null,
           null,
           null,
           null,
           null,
           null,
           null,
           null,
           null,
           null
          ]
         ]
        },
        {
         "marker": {
          "color": "black",
          "line": {
           "color": "Gray",
           "width": 2
          }
         },
         "mode": "markers",
         "name": "Feasible Trial",
         "showlegend": false,
         "type": "scatter",
         "x": [
          1802,
          1146,
          1940,
          1360,
          1742,
          925,
          846,
          1364,
          1998,
          1065,
          1433,
          1465,
          559,
          1515
         ],
         "y": [
          625,
          271,
          340,
          718,
          478,
          230,
          354,
          858,
          496,
          901,
          985,
          921,
          1000,
          27
         ]
        },
        {
         "marker": {
          "color": "#cccccc",
          "line": {
           "color": "Gray",
           "width": 2
          }
         },
         "mode": "markers",
         "name": "Infeasible Trial",
         "showlegend": false,
         "type": "scatter",
         "x": [],
         "y": []
        }
       ],
       "layout": {
        "template": {
         "data": {
          "bar": [
           {
            "error_x": {
             "color": "#2a3f5f"
            },
            "error_y": {
             "color": "#2a3f5f"
            },
            "marker": {
             "line": {
              "color": "#E5ECF6",
              "width": 0.5
             },
             "pattern": {
              "fillmode": "overlay",
              "size": 10,
              "solidity": 0.2
             }
            },
            "type": "bar"
           }
          ],
          "barpolar": [
           {
            "marker": {
             "line": {
              "color": "#E5ECF6",
              "width": 0.5
             },
             "pattern": {
              "fillmode": "overlay",
              "size": 10,
              "solidity": 0.2
             }
            },
            "type": "barpolar"
           }
          ],
          "carpet": [
           {
            "aaxis": {
             "endlinecolor": "#2a3f5f",
             "gridcolor": "white",
             "linecolor": "white",
             "minorgridcolor": "white",
             "startlinecolor": "#2a3f5f"
            },
            "baxis": {
             "endlinecolor": "#2a3f5f",
             "gridcolor": "white",
             "linecolor": "white",
             "minorgridcolor": "white",
             "startlinecolor": "#2a3f5f"
            },
            "type": "carpet"
           }
          ],
          "choropleth": [
           {
            "colorbar": {
             "outlinewidth": 0,
             "ticks": ""
            },
            "type": "choropleth"
           }
          ],
          "contour": [
           {
            "colorbar": {
             "outlinewidth": 0,
             "ticks": ""
            },
            "colorscale": [
             [
              0,
              "#0d0887"
             ],
             [
              0.1111111111111111,
              "#46039f"
             ],
             [
              0.2222222222222222,
              "#7201a8"
             ],
             [
              0.3333333333333333,
              "#9c179e"
             ],
             [
              0.4444444444444444,
              "#bd3786"
             ],
             [
              0.5555555555555556,
              "#d8576b"
             ],
             [
              0.6666666666666666,
              "#ed7953"
             ],
             [
              0.7777777777777778,
              "#fb9f3a"
             ],
             [
              0.8888888888888888,
              "#fdca26"
             ],
             [
              1,
              "#f0f921"
             ]
            ],
            "type": "contour"
           }
          ],
          "contourcarpet": [
           {
            "colorbar": {
             "outlinewidth": 0,
             "ticks": ""
            },
            "type": "contourcarpet"
           }
          ],
          "heatmap": [
           {
            "colorbar": {
             "outlinewidth": 0,
             "ticks": ""
            },
            "colorscale": [
             [
              0,
              "#0d0887"
             ],
             [
              0.1111111111111111,
              "#46039f"
             ],
             [
              0.2222222222222222,
              "#7201a8"
             ],
             [
              0.3333333333333333,
              "#9c179e"
             ],
             [
              0.4444444444444444,
              "#bd3786"
             ],
             [
              0.5555555555555556,
              "#d8576b"
             ],
             [
              0.6666666666666666,
              "#ed7953"
             ],
             [
              0.7777777777777778,
              "#fb9f3a"
             ],
             [
              0.8888888888888888,
              "#fdca26"
             ],
             [
              1,
              "#f0f921"
             ]
            ],
            "type": "heatmap"
           }
          ],
          "heatmapgl": [
           {
            "colorbar": {
             "outlinewidth": 0,
             "ticks": ""
            },
            "colorscale": [
             [
              0,
              "#0d0887"
             ],
             [
              0.1111111111111111,
              "#46039f"
             ],
             [
              0.2222222222222222,
              "#7201a8"
             ],
             [
              0.3333333333333333,
              "#9c179e"
             ],
             [
              0.4444444444444444,
              "#bd3786"
             ],
             [
              0.5555555555555556,
              "#d8576b"
             ],
             [
              0.6666666666666666,
              "#ed7953"
             ],
             [
              0.7777777777777778,
              "#fb9f3a"
             ],
             [
              0.8888888888888888,
              "#fdca26"
             ],
             [
              1,
              "#f0f921"
             ]
            ],
            "type": "heatmapgl"
           }
          ],
          "histogram": [
           {
            "marker": {
             "pattern": {
              "fillmode": "overlay",
              "size": 10,
              "solidity": 0.2
             }
            },
            "type": "histogram"
           }
          ],
          "histogram2d": [
           {
            "colorbar": {
             "outlinewidth": 0,
             "ticks": ""
            },
            "colorscale": [
             [
              0,
              "#0d0887"
             ],
             [
              0.1111111111111111,
              "#46039f"
             ],
             [
              0.2222222222222222,
              "#7201a8"
             ],
             [
              0.3333333333333333,
              "#9c179e"
             ],
             [
              0.4444444444444444,
              "#bd3786"
             ],
             [
              0.5555555555555556,
              "#d8576b"
             ],
             [
              0.6666666666666666,
              "#ed7953"
             ],
             [
              0.7777777777777778,
              "#fb9f3a"
             ],
             [
              0.8888888888888888,
              "#fdca26"
             ],
             [
              1,
              "#f0f921"
             ]
            ],
            "type": "histogram2d"
           }
          ],
          "histogram2dcontour": [
           {
            "colorbar": {
             "outlinewidth": 0,
             "ticks": ""
            },
            "colorscale": [
             [
              0,
              "#0d0887"
             ],
             [
              0.1111111111111111,
              "#46039f"
             ],
             [
              0.2222222222222222,
              "#7201a8"
             ],
             [
              0.3333333333333333,
              "#9c179e"
             ],
             [
              0.4444444444444444,
              "#bd3786"
             ],
             [
              0.5555555555555556,
              "#d8576b"
             ],
             [
              0.6666666666666666,
              "#ed7953"
             ],
             [
              0.7777777777777778,
              "#fb9f3a"
             ],
             [
              0.8888888888888888,
              "#fdca26"
             ],
             [
              1,
              "#f0f921"
             ]
            ],
            "type": "histogram2dcontour"
           }
          ],
          "mesh3d": [
           {
            "colorbar": {
             "outlinewidth": 0,
             "ticks": ""
            },
            "type": "mesh3d"
           }
          ],
          "parcoords": [
           {
            "line": {
             "colorbar": {
              "outlinewidth": 0,
              "ticks": ""
             }
            },
            "type": "parcoords"
           }
          ],
          "pie": [
           {
            "automargin": true,
            "type": "pie"
           }
          ],
          "scatter": [
           {
            "fillpattern": {
             "fillmode": "overlay",
             "size": 10,
             "solidity": 0.2
            },
            "type": "scatter"
           }
          ],
          "scatter3d": [
           {
            "line": {
             "colorbar": {
              "outlinewidth": 0,
              "ticks": ""
             }
            },
            "marker": {
             "colorbar": {
              "outlinewidth": 0,
              "ticks": ""
             }
            },
            "type": "scatter3d"
           }
          ],
          "scattercarpet": [
           {
            "marker": {
             "colorbar": {
              "outlinewidth": 0,
              "ticks": ""
             }
            },
            "type": "scattercarpet"
           }
          ],
          "scattergeo": [
           {
            "marker": {
             "colorbar": {
              "outlinewidth": 0,
              "ticks": ""
             }
            },
            "type": "scattergeo"
           }
          ],
          "scattergl": [
           {
            "marker": {
             "colorbar": {
              "outlinewidth": 0,
              "ticks": ""
             }
            },
            "type": "scattergl"
           }
          ],
          "scattermapbox": [
           {
            "marker": {
             "colorbar": {
              "outlinewidth": 0,
              "ticks": ""
             }
            },
            "type": "scattermapbox"
           }
          ],
          "scatterpolar": [
           {
            "marker": {
             "colorbar": {
              "outlinewidth": 0,
              "ticks": ""
             }
            },
            "type": "scatterpolar"
           }
          ],
          "scatterpolargl": [
           {
            "marker": {
             "colorbar": {
              "outlinewidth": 0,
              "ticks": ""
             }
            },
            "type": "scatterpolargl"
           }
          ],
          "scatterternary": [
           {
            "marker": {
             "colorbar": {
              "outlinewidth": 0,
              "ticks": ""
             }
            },
            "type": "scatterternary"
           }
          ],
          "surface": [
           {
            "colorbar": {
             "outlinewidth": 0,
             "ticks": ""
            },
            "colorscale": [
             [
              0,
              "#0d0887"
             ],
             [
              0.1111111111111111,
              "#46039f"
             ],
             [
              0.2222222222222222,
              "#7201a8"
             ],
             [
              0.3333333333333333,
              "#9c179e"
             ],
             [
              0.4444444444444444,
              "#bd3786"
             ],
             [
              0.5555555555555556,
              "#d8576b"
             ],
             [
              0.6666666666666666,
              "#ed7953"
             ],
             [
              0.7777777777777778,
              "#fb9f3a"
             ],
             [
              0.8888888888888888,
              "#fdca26"
             ],
             [
              1,
              "#f0f921"
             ]
            ],
            "type": "surface"
           }
          ],
          "table": [
           {
            "cells": {
             "fill": {
              "color": "#EBF0F8"
             },
             "line": {
              "color": "white"
             }
            },
            "header": {
             "fill": {
              "color": "#C8D4E3"
             },
             "line": {
              "color": "white"
             }
            },
            "type": "table"
           }
          ]
         },
         "layout": {
          "annotationdefaults": {
           "arrowcolor": "#2a3f5f",
           "arrowhead": 0,
           "arrowwidth": 1
          },
          "autotypenumbers": "strict",
          "coloraxis": {
           "colorbar": {
            "outlinewidth": 0,
            "ticks": ""
           }
          },
          "colorscale": {
           "diverging": [
            [
             0,
             "#8e0152"
            ],
            [
             0.1,
             "#c51b7d"
            ],
            [
             0.2,
             "#de77ae"
            ],
            [
             0.3,
             "#f1b6da"
            ],
            [
             0.4,
             "#fde0ef"
            ],
            [
             0.5,
             "#f7f7f7"
            ],
            [
             0.6,
             "#e6f5d0"
            ],
            [
             0.7,
             "#b8e186"
            ],
            [
             0.8,
             "#7fbc41"
            ],
            [
             0.9,
             "#4d9221"
            ],
            [
             1,
             "#276419"
            ]
           ],
           "sequential": [
            [
             0,
             "#0d0887"
            ],
            [
             0.1111111111111111,
             "#46039f"
            ],
            [
             0.2222222222222222,
             "#7201a8"
            ],
            [
             0.3333333333333333,
             "#9c179e"
            ],
            [
             0.4444444444444444,
             "#bd3786"
            ],
            [
             0.5555555555555556,
             "#d8576b"
            ],
            [
             0.6666666666666666,
             "#ed7953"
            ],
            [
             0.7777777777777778,
             "#fb9f3a"
            ],
            [
             0.8888888888888888,
             "#fdca26"
            ],
            [
             1,
             "#f0f921"
            ]
           ],
           "sequentialminus": [
            [
             0,
             "#0d0887"
            ],
            [
             0.1111111111111111,
             "#46039f"
            ],
            [
             0.2222222222222222,
             "#7201a8"
            ],
            [
             0.3333333333333333,
             "#9c179e"
            ],
            [
             0.4444444444444444,
             "#bd3786"
            ],
            [
             0.5555555555555556,
             "#d8576b"
            ],
            [
             0.6666666666666666,
             "#ed7953"
            ],
            [
             0.7777777777777778,
             "#fb9f3a"
            ],
            [
             0.8888888888888888,
             "#fdca26"
            ],
            [
             1,
             "#f0f921"
            ]
           ]
          },
          "colorway": [
           "#636efa",
           "#EF553B",
           "#00cc96",
           "#ab63fa",
           "#FFA15A",
           "#19d3f3",
           "#FF6692",
           "#B6E880",
           "#FF97FF",
           "#FECB52"
          ],
          "font": {
           "color": "#2a3f5f"
          },
          "geo": {
           "bgcolor": "white",
           "lakecolor": "white",
           "landcolor": "#E5ECF6",
           "showlakes": true,
           "showland": true,
           "subunitcolor": "white"
          },
          "hoverlabel": {
           "align": "left"
          },
          "hovermode": "closest",
          "mapbox": {
           "style": "light"
          },
          "paper_bgcolor": "white",
          "plot_bgcolor": "#E5ECF6",
          "polar": {
           "angularaxis": {
            "gridcolor": "white",
            "linecolor": "white",
            "ticks": ""
           },
           "bgcolor": "#E5ECF6",
           "radialaxis": {
            "gridcolor": "white",
            "linecolor": "white",
            "ticks": ""
           }
          },
          "scene": {
           "xaxis": {
            "backgroundcolor": "#E5ECF6",
            "gridcolor": "white",
            "gridwidth": 2,
            "linecolor": "white",
            "showbackground": true,
            "ticks": "",
            "zerolinecolor": "white"
           },
           "yaxis": {
            "backgroundcolor": "#E5ECF6",
            "gridcolor": "white",
            "gridwidth": 2,
            "linecolor": "white",
            "showbackground": true,
            "ticks": "",
            "zerolinecolor": "white"
           },
           "zaxis": {
            "backgroundcolor": "#E5ECF6",
            "gridcolor": "white",
            "gridwidth": 2,
            "linecolor": "white",
            "showbackground": true,
            "ticks": "",
            "zerolinecolor": "white"
           }
          },
          "shapedefaults": {
           "line": {
            "color": "#2a3f5f"
           }
          },
          "ternary": {
           "aaxis": {
            "gridcolor": "white",
            "linecolor": "white",
            "ticks": ""
           },
           "baxis": {
            "gridcolor": "white",
            "linecolor": "white",
            "ticks": ""
           },
           "bgcolor": "#E5ECF6",
           "caxis": {
            "gridcolor": "white",
            "linecolor": "white",
            "ticks": ""
           }
          },
          "title": {
           "x": 0.05
          },
          "xaxis": {
           "automargin": true,
           "gridcolor": "white",
           "linecolor": "white",
           "ticks": "",
           "title": {
            "standoff": 15
           },
           "zerolinecolor": "white",
           "zerolinewidth": 2
          },
          "yaxis": {
           "automargin": true,
           "gridcolor": "white",
           "linecolor": "white",
           "ticks": "",
           "title": {
            "standoff": 15
           },
           "zerolinecolor": "white",
           "zerolinewidth": 2
          }
         }
        },
        "title": {
         "text": "Contour Plot"
        },
        "xaxis": {
         "range": [
          487.05,
          2069.95
         ],
         "title": {
          "text": "min_data_in_leaf"
         }
        },
        "yaxis": {
         "range": [
          -21.650000000000006,
          1048.65
         ],
         "title": {
          "text": "num_leaves"
         }
        }
       }
      },
      "image/png": "[encoded data removed]",
      "text/html": [
       "<div>                            <div id=\"68cb07a5-2ab9-45fb-b48a-20328d974e49\" class=\"plotly-graph-div\" style=\"height:525px; width:100%;\"></div>            <script type=\"text/javascript\">                require([\"plotly\"], function(Plotly) {                    window.PLOTLYENV=window.PLOTLYENV || {};                                    if (document.getElementById(\"68cb07a5-2ab9-45fb-b48a-20328d974e49\")) {                    Plotly.newPlot(                        \"68cb07a5-2ab9-45fb-b48a-20328d974e49\",                        [{\"colorbar\":{\"title\":{\"text\":\"Objective Value\"}},\"colorscale\":[[0.0,\"rgb(247,251,255)\"],[0.125,\"rgb(222,235,247)\"],[0.25,\"rgb(198,219,239)\"],[0.375,\"rgb(158,202,225)\"],[0.5,\"rgb(107,174,214)\"],[0.625,\"rgb(66,146,198)\"],[0.75,\"rgb(33,113,181)\"],[0.875,\"rgb(8,81,156)\"],[1.0,\"rgb(8,48,107)\"]],\"connectgaps\":true,\"contours\":{\"coloring\":\"heatmap\"},\"hoverinfo\":\"none\",\"line\":{\"smoothing\":1.3},\"reversescale\":false,\"x\":[487.05,559,846,925,1065,1146,1360,1364,1433,1465,1515,1742,1802,1940,1998,2069.95],\"y\":[-21.650000000000006,27,230,271,340,354,478,496,625,718,858,901,921,985,1000,1048.65],\"z\":[[null,null,null,null,null,null,null,null,null,null,null,null,null,null,null,null],[null,null,null,null,null,null,null,null,null,null,1148014000.0,null,null,null,null,null],[null,null,null,1136037000.0,null,null,null,null,null,null,null,null,null,null,null,null],[null,null,null,null,null,1158178000.0,null,null,null,null,null,null,null,null,null,null],[null,null,null,null,null,null,null,null,null,null,null,null,null,1147706000.0,null,null],[null,null,1133181000.0,null,null,null,null,null,null,null,null,null,null,null,null,null],[null,null,null,null,null,null,null,null,null,null,null,1128813000.0,null,null,null,null],[null,null,null,null,null,null,null,null,null,null,null,null,null,null,1136051000.0,null],[null,null,null,null,null,null,null,null,null,null,null,null,1146999000.0,null,null,null],[null,null,null,null,null,null,1142638000.0,null,null,null,null,null,null,null,null,null],[null,null,null,null,null,null,null,1163771000.0,null,null,null,null,null,null,null,null],[null,null,null,null,1140062000.0,null,null,null,null,null,null,null,null,null,null,null],[null,null,null,null,null,null,null,null,null,1159312000.0,null,null,null,null,null,null],[null,null,null,null,null,null,null,null,1159627000.0,null,null,null,null,null,null,null],[null,1159613000.0,null,null,null,null,null,null,null,null,null,null,null,null,null,null],[null,null,null,null,null,null,null,null,null,null,null,null,null,null,null,null]],\"type\":\"contour\"},{\"marker\":{\"color\":\"black\",\"line\":{\"color\":\"Gray\",\"width\":2.0}},\"mode\":\"markers\",\"name\":\"Feasible Trial\",\"showlegend\":false,\"x\":[1802,1146,1940,1360,1742,925,846,1364,1998,1065,1433,1465,559,1515],\"y\":[625,271,340,718,478,230,354,858,496,901,985,921,1000,27],\"type\":\"scatter\"},{\"marker\":{\"color\":\"#cccccc\",\"line\":{\"color\":\"Gray\",\"width\":2.0}},\"mode\":\"markers\",\"name\":\"Infeasible Trial\",\"showlegend\":false,\"x\":[],\"y\":[],\"type\":\"scatter\"}],                        {\"title\":{\"text\":\"Contour Plot\"},\"template\":{\"data\":{\"histogram2dcontour\":[{\"type\":\"histogram2dcontour\",\"colorbar\":{\"outlinewidth\":0,\"ticks\":\"\"},\"colorscale\":[[0.0,\"#0d0887\"],[0.1111111111111111,\"#46039f\"],[0.2222222222222222,\"#7201a8\"],[0.3333333333333333,\"#9c179e\"],[0.4444444444444444,\"#bd3786\"],[0.5555555555555556,\"#d8576b\"],[0.6666666666666666,\"#ed7953\"],[0.7777777777777778,\"#fb9f3a\"],[0.8888888888888888,\"#fdca26\"],[1.0,\"#f0f921\"]]}],\"choropleth\":[{\"type\":\"choropleth\",\"colorbar\":{\"outlinewidth\":0,\"ticks\":\"\"}}],\"histogram2d\":[{\"type\":\"histogram2d\",\"colorbar\":{\"outlinewidth\":0,\"ticks\":\"\"},\"colorscale\":[[0.0,\"#0d0887\"],[0.1111111111111111,\"#46039f\"],[0.2222222222222222,\"#7201a8\"],[0.3333333333333333,\"#9c179e\"],[0.4444444444444444,\"#bd3786\"],[0.5555555555555556,\"#d8576b\"],[0.6666666666666666,\"#ed7953\"],[0.7777777777777778,\"#fb9f3a\"],[0.8888888888888888,\"#fdca26\"],[1.0,\"#f0f921\"]]}],\"heatmap\":[{\"type\":\"heatmap\",\"colorbar\":{\"outlinewidth\":0,\"ticks\":\"\"},\"colorscale\":[[0.0,\"#0d0887\"],[0.1111111111111111,\"#46039f\"],[0.2222222222222222,\"#7201a8\"],[0.3333333333333333,\"#9c179e\"],[0.4444444444444444,\"#bd3786\"],[0.5555555555555556,\"#d8576b\"],[0.6666666666666666,\"#ed7953\"],[0.7777777777777778,\"#fb9f3a\"],[0.8888888888888888,\"#fdca26\"],[1.0,\"#f0f921\"]]}],\"heatmapgl\":[{\"type\":\"heatmapgl\",\"colorbar\":{\"outlinewidth\":0,\"ticks\":\"\"},\"colorscale\":[[0.0,\"#0d0887\"],[0.1111111111111111,\"#46039f\"],[0.2222222222222222,\"#7201a8\"],[0.3333333333333333,\"#9c179e\"],[0.4444444444444444,\"#bd3786\"],[0.5555555555555556,\"#d8576b\"],[0.6666666666666666,\"#ed7953\"],[0.7777777777777778,\"#fb9f3a\"],[0.8888888888888888,\"#fdca26\"],[1.0,\"#f0f921\"]]}],\"contourcarpet\":[{\"type\":\"contourcarpet\",\"colorbar\":{\"outlinewidth\":0,\"ticks\":\"\"}}],\"contour\":[{\"type\":\"contour\",\"colorbar\":{\"outlinewidth\":0,\"ticks\":\"\"},\"colorscale\":[[0.0,\"#0d0887\"],[0.1111111111111111,\"#46039f\"],[0.2222222222222222,\"#7201a8\"],[0.3333333333333333,\"#9c179e\"],[0.4444444444444444,\"#bd3786\"],[0.5555555555555556,\"#d8576b\"],[0.6666666666666666,\"#ed7953\"],[0.7777777777777778,\"#fb9f3a\"],[0.8888888888888888,\"#fdca26\"],[1.0,\"#f0f921\"]]}],\"surface\":[{\"type\":\"surface\",\"colorbar\":{\"outlinewidth\":0,\"ticks\":\"\"},\"colorscale\":[[0.0,\"#0d0887\"],[0.1111111111111111,\"#46039f\"],[0.2222222222222222,\"#7201a8\"],[0.3333333333333333,\"#9c179e\"],[0.4444444444444444,\"#bd3786\"],[0.5555555555555556,\"#d8576b\"],[0.6666666666666666,\"#ed7953\"],[0.7777777777777778,\"#fb9f3a\"],[0.8888888888888888,\"#fdca26\"],[1.0,\"#f0f921\"]]}],\"mesh3d\":[{\"type\":\"mesh3d\",\"colorbar\":{\"outlinewidth\":0,\"ticks\":\"\"}}],\"scatter\":[{\"fillpattern\":{\"fillmode\":\"overlay\",\"size\":10,\"solidity\":0.2},\"type\":\"scatter\"}],\"parcoords\":[{\"type\":\"parcoords\",\"line\":{\"colorbar\":{\"outlinewidth\":0,\"ticks\":\"\"}}}],\"scatterpolargl\":[{\"type\":\"scatterpolargl\",\"marker\":{\"colorbar\":{\"outlinewidth\":0,\"ticks\":\"\"}}}],\"bar\":[{\"error_x\":{\"color\":\"#2a3f5f\"},\"error_y\":{\"color\":\"#2a3f5f\"},\"marker\":{\"line\":{\"color\":\"#E5ECF6\",\"width\":0.5},\"pattern\":{\"fillmode\":\"overlay\",\"size\":10,\"solidity\":0.2}},\"type\":\"bar\"}],\"scattergeo\":[{\"type\":\"scattergeo\",\"marker\":{\"colorbar\":{\"outlinewidth\":0,\"ticks\":\"\"}}}],\"scatterpolar\":[{\"type\":\"scatterpolar\",\"marker\":{\"colorbar\":{\"outlinewidth\":0,\"ticks\":\"\"}}}],\"histogram\":[{\"marker\":{\"pattern\":{\"fillmode\":\"overlay\",\"size\":10,\"solidity\":0.2}},\"type\":\"histogram\"}],\"scattergl\":[{\"type\":\"scattergl\",\"marker\":{\"colorbar\":{\"outlinewidth\":0,\"ticks\":\"\"}}}],\"scatter3d\":[{\"type\":\"scatter3d\",\"line\":{\"colorbar\":{\"outlinewidth\":0,\"ticks\":\"\"}},\"marker\":{\"colorbar\":{\"outlinewidth\":0,\"ticks\":\"\"}}}],\"scattermapbox\":[{\"type\":\"scattermapbox\",\"marker\":{\"colorbar\":{\"outlinewidth\":0,\"ticks\":\"\"}}}],\"scatterternary\":[{\"type\":\"scatterternary\",\"marker\":{\"colorbar\":{\"outlinewidth\":0,\"ticks\":\"\"}}}],\"scattercarpet\":[{\"type\":\"scattercarpet\",\"marker\":{\"colorbar\":{\"outlinewidth\":0,\"ticks\":\"\"}}}],\"carpet\":[{\"aaxis\":{\"endlinecolor\":\"#2a3f5f\",\"gridcolor\":\"white\",\"linecolor\":\"white\",\"minorgridcolor\":\"white\",\"startlinecolor\":\"#2a3f5f\"},\"baxis\":{\"endlinecolor\":\"#2a3f5f\",\"gridcolor\":\"white\",\"linecolor\":\"white\",\"minorgridcolor\":\"white\",\"startlinecolor\":\"#2a3f5f\"},\"type\":\"carpet\"}],\"table\":[{\"cells\":{\"fill\":{\"color\":\"#EBF0F8\"},\"line\":{\"color\":\"white\"}},\"header\":{\"fill\":{\"color\":\"#C8D4E3\"},\"line\":{\"color\":\"white\"}},\"type\":\"table\"}],\"barpolar\":[{\"marker\":{\"line\":{\"color\":\"#E5ECF6\",\"width\":0.5},\"pattern\":{\"fillmode\":\"overlay\",\"size\":10,\"solidity\":0.2}},\"type\":\"barpolar\"}],\"pie\":[{\"automargin\":true,\"type\":\"pie\"}]},\"layout\":{\"autotypenumbers\":\"strict\",\"colorway\":[\"#636efa\",\"#EF553B\",\"#00cc96\",\"#ab63fa\",\"#FFA15A\",\"#19d3f3\",\"#FF6692\",\"#B6E880\",\"#FF97FF\",\"#FECB52\"],\"font\":{\"color\":\"#2a3f5f\"},\"hovermode\":\"closest\",\"hoverlabel\":{\"align\":\"left\"},\"paper_bgcolor\":\"white\",\"plot_bgcolor\":\"#E5ECF6\",\"polar\":{\"bgcolor\":\"#E5ECF6\",\"angularaxis\":{\"gridcolor\":\"white\",\"linecolor\":\"white\",\"ticks\":\"\"},\"radialaxis\":{\"gridcolor\":\"white\",\"linecolor\":\"white\",\"ticks\":\"\"}},\"ternary\":{\"bgcolor\":\"#E5ECF6\",\"aaxis\":{\"gridcolor\":\"white\",\"linecolor\":\"white\",\"ticks\":\"\"},\"baxis\":{\"gridcolor\":\"white\",\"linecolor\":\"white\",\"ticks\":\"\"},\"caxis\":{\"gridcolor\":\"white\",\"linecolor\":\"white\",\"ticks\":\"\"}},\"coloraxis\":{\"colorbar\":{\"outlinewidth\":0,\"ticks\":\"\"}},\"colorscale\":{\"sequential\":[[0.0,\"#0d0887\"],[0.1111111111111111,\"#46039f\"],[0.2222222222222222,\"#7201a8\"],[0.3333333333333333,\"#9c179e\"],[0.4444444444444444,\"#bd3786\"],[0.5555555555555556,\"#d8576b\"],[0.6666666666666666,\"#ed7953\"],[0.7777777777777778,\"#fb9f3a\"],[0.8888888888888888,\"#fdca26\"],[1.0,\"#f0f921\"]],\"sequentialminus\":[[0.0,\"#0d0887\"],[0.1111111111111111,\"#46039f\"],[0.2222222222222222,\"#7201a8\"],[0.3333333333333333,\"#9c179e\"],[0.4444444444444444,\"#bd3786\"],[0.5555555555555556,\"#d8576b\"],[0.6666666666666666,\"#ed7953\"],[0.7777777777777778,\"#fb9f3a\"],[0.8888888888888888,\"#fdca26\"],[1.0,\"#f0f921\"]],\"diverging\":[[0,\"#8e0152\"],[0.1,\"#c51b7d\"],[0.2,\"#de77ae\"],[0.3,\"#f1b6da\"],[0.4,\"#fde0ef\"],[0.5,\"#f7f7f7\"],[0.6,\"#e6f5d0\"],[0.7,\"#b8e186\"],[0.8,\"#7fbc41\"],[0.9,\"#4d9221\"],[1,\"#276419\"]]},\"xaxis\":{\"gridcolor\":\"white\",\"linecolor\":\"white\",\"ticks\":\"\",\"title\":{\"standoff\":15},\"zerolinecolor\":\"white\",\"automargin\":true,\"zerolinewidth\":2},\"yaxis\":{\"gridcolor\":\"white\",\"linecolor\":\"white\",\"ticks\":\"\",\"title\":{\"standoff\":15},\"zerolinecolor\":\"white\",\"automargin\":true,\"zerolinewidth\":2},\"scene\":{\"xaxis\":{\"backgroundcolor\":\"#E5ECF6\",\"gridcolor\":\"white\",\"linecolor\":\"white\",\"showbackground\":true,\"ticks\":\"\",\"zerolinecolor\":\"white\",\"gridwidth\":2},\"yaxis\":{\"backgroundcolor\":\"#E5ECF6\",\"gridcolor\":\"white\",\"linecolor\":\"white\",\"showbackground\":true,\"ticks\":\"\",\"zerolinecolor\":\"white\",\"gridwidth\":2},\"zaxis\":{\"backgroundcolor\":\"#E5ECF6\",\"gridcolor\":\"white\",\"linecolor\":\"white\",\"showbackground\":true,\"ticks\":\"\",\"zerolinecolor\":\"white\",\"gridwidth\":2}},\"shapedefaults\":{\"line\":{\"color\":\"#2a3f5f\"}},\"annotationdefaults\":{\"arrowcolor\":\"#2a3f5f\",\"arrowhead\":0,\"arrowwidth\":1},\"geo\":{\"bgcolor\":\"white\",\"landcolor\":\"#E5ECF6\",\"subunitcolor\":\"white\",\"showland\":true,\"showlakes\":true,\"lakecolor\":\"white\"},\"title\":{\"x\":0.05},\"mapbox\":{\"style\":\"light\"}}},\"xaxis\":{\"title\":{\"text\":\"min_data_in_leaf\"},\"range\":[487.05,2069.95]},\"yaxis\":{\"title\":{\"text\":\"num_leaves\"},\"range\":[-21.650000000000006,1048.65]}},                        {\"responsive\": true}                    ).then(function(){\n",
       "                            \n",
       "var gd = document.getElementById('68cb07a5-2ab9-45fb-b48a-20328d974e49');\n",
       "var x = new MutationObserver(function (mutations, observer) {{\n",
       "        var display = window.getComputedStyle(gd).display;\n",
       "        if (!display || display === 'none') {{\n",
       "            console.log([gd, 'removed!']);\n",
       "            Plotly.purge(gd);\n",
       "            observer.disconnect();\n",
       "        }}\n",
       "}});\n",
       "\n",
       "// Listen for the removal of the full notebook cells\n",
       "var notebookContainer = gd.closest('#notebook-container');\n",
       "if (notebookContainer) {{\n",
       "    x.observe(notebookContainer, {childList: true});\n",
       "}}\n",
       "\n",
       "// Listen for the clearing of the current output cell\n",
       "var outputEl = gd.closest('.output');\n",
       "if (outputEl) {{\n",
       "    x.observe(outputEl, {childList: true});\n",
       "}}\n",
       "\n",
       "                        })                };                });            </script>        </div>"
      ]
     },
     "metadata": {},
     "output_type": "display_data"
    }
   ],
   "source": [
    "plot_contour(study, params=['num_leaves','min_data_in_leaf'] )"
   ]
  },
  {
   "cell_type": "markdown",
   "metadata": {
    "id": "HjgD6raVE6am"
   },
   "source": [
    "Y finalmente tomamos el mejor modelo y lo entrenamos con la totalidad de los datos"
   ]
  },
  {
   "cell_type": "markdown",
   "metadata": {},
   "source": [
    "###  Best iter y División Train, validation (mes de validación 202406)\n",
    "Defino las Best iteretion basado en Optuna. Luego divido el Train balanceado en Train y Validación para analizar las métricas."
   ]
  },
  {
   "cell_type": "code",
   "execution_count": null,
   "metadata": {
    "colab": {
     "base_uri": "https://localhost:8080/"
    },
    "id": "bwyUriQksZAM",
    "outputId": "c4b54b3e-75b0-4076-8a31-7096bd94382b"
   },
   "outputs": [],
   "source": [
    "from sklearn.model_selection import train_test_split\n",
    "\n",
    "best_iter = study.best_trial.user_attrs[\"best_iter\"]\n",
    "print(f\"Mejor cantidad de árboles para el mejor model {best_iter}\")\n",
    "params = {\n",
    "    'objective': 'binary',\n",
    "    'boosting_type': 'gbdt',\n",
    "    'first_metric_only': True,\n",
    "    'boost_from_average': True,\n",
    "    'feature_pre_filter': False,\n",
    "    'max_bin': 31,\n",
    "    'num_leaves': study.best_trial.params['num_leaves'],\n",
    "    'learning_rate': study.best_trial.params['learning_rate'],\n",
    "    'min_data_in_leaf': study.best_trial.params['min_data_in_leaf'],\n",
    "    'feature_fraction': study.best_trial.params['feature_fraction'],\n",
    "    'bagging_fraction': study.best_trial.params['bagging_fraction'],\n",
    "    'seed': semillas[0],\n",
    "    'verbose': 0\n",
    "}\n",
    "\n"
   ]
  },
  {
   "cell_type": "markdown",
   "metadata": {},
   "source": [
    "### Hacemos un train validation usando 202106 como Validation month"
   ]
  },
  {
   "cell_type": "code",
   "execution_count": 114,
   "metadata": {},
   "outputs": [],
   "source": [
    "train_data = lgb.Dataset(X_train,\n",
    "                          label=y_train_binaria2,\n",
    "                          weight=w_train)\n",
    "\n",
    "model = lgb.train(params,\n",
    "                  train_data,\n",
    "                  num_boost_round=best_iter)\n",
    "\n",
    "\n",
    "\n",
    "X_train = train_data_balanced.drop(['clase_ternaria', 'clase_peso', 'clase_binaria1','clase_binaria2'], axis=1)\n",
    "y_train_binaria2 = train_data_balanced['clase_binaria2']\n",
    "w_train = train_data_balanced['clase_peso']\n",
    "\n",
    "\n",
    "\n",
    "\n",
    "\n",
    "# Separar el conjunto de validación basado en un mes específico\n",
    "X_val_month = X_train[X_train['foto_mes'] == 202106]\n",
    "y_val_month = train_data_balanced[train_data_balanced['foto_mes'] == 202106]['clase_binaria2'].values\n",
    "w_val_month = train_data_balanced[train_data_balanced['foto_mes'] == 202106]['clase_peso'].values\n",
    "\n",
    "# El conjunto de entrenamiento será el resto de los datos\n",
    "\n",
    "X_train_month = X_train[X_train['foto_mes'] != 202106]\n",
    "y_train_month = train_data_balanced[train_data_balanced['foto_mes'] != 202106]['clase_binaria2'].values\n",
    "w_train_month = train_data_balanced[train_data_balanced['foto_mes'] != 202106]['clase_peso'].values\n",
    "\n",
    "# Crear datasets de LightGBM\n",
    "train_data_month = lgb.Dataset(X_train_month, label=y_train_month, weight=w_train_month)\n",
    "val_data_month = lgb.Dataset(X_val_month, label=y_val_month, weight=w_val_month, reference=train_data_month)\n",
    "\n",
    "# Entrenar el modelo con validación\n",
    "model_month = lgb.train(\n",
    "    params,\n",
    "    train_data,\n",
    "    num_boost_round=best_iter,\n",
    "    valid_sets=[train_data_month, val_data_month],\n",
    "    valid_names=['train', 'valid'],\n",
    "    feval=lgb_gan_eval\n",
    ")\n"
   ]
  },
  {
   "cell_type": "markdown",
   "metadata": {
    "id": "iOyqa5mbFySM"
   },
   "source": [
    "Observamos la variables más importantes para el modelo:"
   ]
  },
  {
   "cell_type": "markdown",
   "metadata": {
    "id": "LkTH9daXF5tp"
   },
   "source": [
    "importances = model.feature_importance()\n",
    "used_features = model.feature_name()  # Obtiene las características usadas realmente\n",
    "importance_df = pd.DataFrame({'feature': used_features, 'importance': importances})\n",
    "importance_df = importance_df.sort_values('importance', ascending=False)\n",
    "importance_df = importance_df[importance_df['importance'] > 0]\n",
    "print(importance_df)\n",
    "\n"
   ]
  },
  {
   "cell_type": "code",
   "execution_count": 87,
   "metadata": {
    "colab": {
     "base_uri": "https://localhost:8080/",
     "height": 424
    },
    "id": "l7ZObpkHtnUl",
    "outputId": "eb0fe3a2-9e41-4886-ebd7-257dd1cf9829",
    "scrolled": true
   },
   "outputs": [
    {
     "data": {
      "image/png": "[encoded data removed]",
      "text/plain": [
       "<Figure size 1000x600 with 1 Axes>"
      ]
     },
     "metadata": {},
     "output_type": "display_data"
    }
   ],
   "source": [
    "import matplotlib.pyplot as plt\n",
    "import lightgbm as lgb\n",
    "\n",
    "# Graficar solo las 10 características más importantes\n",
    "lgb.plot_importance(model, figsize=(10, 6), max_num_features=10)\n",
    "plt.title(\"Top 10 características más importantes\")\n",
    "plt.show()\n"
   ]
  },
  {
   "cell_type": "code",
   "execution_count": 89,
   "metadata": {},
   "outputs": [
    {
     "name": "stdout",
     "output_type": "stream",
     "text": [
      "Recall (Validación): 0.850151362260343\n",
      "Precision (Validación): 0.5481457384515289\n",
      "Recall (Entrenamiento): 0.8597008637033916\n",
      "Precision (Entrenamiento): 0.5621599283697224\n"
     ]
    }
   ],
   "source": [
    "from sklearn.metrics import recall_score, precision_score\n",
    "\n",
    "# Predicciones en el conjunto de validación y entrenamiento\n",
    "y_pred_val = (model.predict(X_val_month) > 0.2).astype(int)  # Umbral de 0.5\n",
    "y_pred_train = (model.predict(X_train_month) > 0.2).astype(int)\n",
    "\n",
    "# Recall y Precision en el conjunto de validación\n",
    "recall_val = recall_score(y_val_month, y_pred_val)\n",
    "precision_val = precision_score(y_val_month, y_pred_val)\n",
    "\n",
    "# Recall y Precision en el conjunto de entrenamiento\n",
    "recall_train = recall_score(y_train_month, y_pred_train)\n",
    "precision_train = precision_score(y_train_month, y_pred_train)\n",
    "\n",
    "print(\"Recall (Validación):\", recall_val)\n",
    "print(\"Precision (Validación):\", precision_val)\n",
    "print(\"Recall (Entrenamiento):\", recall_train)\n",
    "print(\"Precision (Entrenamiento):\", precision_train)"
   ]
  },
  {
   "cell_type": "markdown",
   "metadata": {
    "id": "pwvqxqc_GB-C"
   },
   "source": [
    "Para guardar el modelo para poder utilizarlo más adelante, no es necesario guardarlo como *pickle*, la librería nos permite guardarlo en formato texto"
   ]
  },
  {
   "cell_type": "markdown",
   "metadata": {},
   "source": [
    "### Probamos una nueva división entre train y validation con Cross validation"
   ]
  },
  {
   "cell_type": "code",
   "execution_count": 23,
   "metadata": {},
   "outputs": [],
   "source": [
    "X_full = X_train\n",
    "y_full = y_train_binaria2\n",
    "w_full = w_train"
   ]
  },
  {
   "cell_type": "code",
   "execution_count": 104,
   "metadata": {
    "scrolled": true
   },
   "outputs": [
    {
     "name": "stdout",
     "output_type": "stream",
     "text": [
      "Recall promedio en cross-validation: 0.3440\n",
      "Precision promedio en cross-validation: 0.7371\n"
     ]
    }
   ],
   "source": [
    "from sklearn.model_selection import StratifiedKFold\n",
    "from sklearn.metrics import recall_score, precision_score, roc_curve, auc\n",
    "import lightgbm as lgb\n",
    "import numpy as np\n",
    "import matplotlib.pyplot as plt\n",
    "\n",
    "# Parámetros de cross-validation\n",
    "n_splits = 5\n",
    "kf = StratifiedKFold(n_splits=n_splits, shuffle=True, random_state=42)\n",
    "\n",
    "# Almacenar métricas y resultados para la curva ROC\n",
    "recall_scores_cv = []\n",
    "precision_scores_cv = []\n",
    "y_val_all = []\n",
    "y_prob_all = []\n",
    "\n",
    "# Validación cruzada manual\n",
    "for train_idx, val_idx in kf.split(X_full, y_full):\n",
    "    # Dividir en entrenamiento y validación\n",
    "    X_train_cv = X_full.iloc[train_idx]\n",
    "    y_train_cv = y_full.iloc[train_idx]\n",
    "    w_train_cv = w_full.iloc[train_idx]\n",
    "\n",
    "    X_val_cv = X_full.iloc[val_idx]\n",
    "    y_val_cv = y_full.iloc[val_idx]\n",
    "    w_val_cv = w_full.iloc[val_idx]\n",
    "\n",
    "    # Crear datasets de LightGBM\n",
    "    train_data_cv = lgb.Dataset(X_train_cv, label=y_train_cv, weight=w_train_cv)\n",
    "    val_data_cv = lgb.Dataset(X_val_cv, label=y_val_cv, weight=w_val_cv)\n",
    "\n",
    "    # Entrenar modelo\n",
    "    model_cv = lgb.train(\n",
    "        params,\n",
    "        train_data_cv,\n",
    "        num_boost_round=best_iter,\n",
    "        valid_sets=[train_data_cv, val_data_cv],\n",
    "        valid_names=['train', 'valid'],\n",
    "        feval=lgb_gan_eval,\n",
    "    )\n",
    "\n",
    "    # Obtener probabilidades para el conjunto de validación\n",
    "    y_prob_cv = model_cv.predict(X_val_cv, num_iteration=model_cv.best_iteration)\n",
    "\n",
    "    # Almacenar los valores reales y las probabilidades\n",
    "    y_val_all.extend(y_val_cv)\n",
    "    y_prob_all.extend(y_prob_cv)\n",
    "\n",
    "    # Predicciones binarias con umbral por defecto (0.5)\n",
    "    y_pred_cv = (y_prob_cv > 0.5).astype(int)\n",
    "\n",
    "    # Calcular Recall y Precision\n",
    "    recall_cv = recall_score(y_val_cv, y_pred_cv)\n",
    "    precision_cv = precision_score(y_val_cv, y_pred_cv)\n",
    "\n",
    "    # Guardar métricas por fold\n",
    "    recall_scores_cv.append(recall_cv)\n",
    "    precision_scores_cv.append(precision_cv)\n",
    "\n",
    "# Promedio de métricas en cross-validation\n",
    "mean_recall_cv = np.mean(recall_scores_cv)\n",
    "mean_precision_cv = np.mean(precision_scores_cv)\n",
    "\n",
    "print(f\"Recall promedio en cross-validation: {mean_recall_cv:.4f}\")\n",
    "print(f\"Precision promedio en cross-validation: {mean_precision_cv:.4f}\")\n",
    "\n",
    "\n"
   ]
  },
  {
   "cell_type": "code",
   "execution_count": 105,
   "metadata": {},
   "outputs": [
    {
     "name": "stdout",
     "output_type": "stream",
     "text": [
      "Recall en validación por mes: 0.7185\n",
      "Precision en validación por mes: 0.6485\n"
     ]
    }
   ],
   "source": [
    "# Métricas del modelo con el mes 202106 separado\n",
    "y_pred_val_month = (model.predict(X_val_month, num_iteration=model.best_iteration) > 0.3\n",
    "                   ).astype(int)\n",
    "\n",
    "recall_val_month = recall_score(y_val_month, y_pred_val_month)\n",
    "precision_val_month = precision_score(y_val_month, y_pred_val_month)\n",
    "\n",
    "print(f\"Recall en validación por mes: {recall_val_month:.4f}\")\n",
    "print(f\"Precision en validación por mes: {precision_val_month:.4f}\")\n"
   ]
  },
  {
   "cell_type": "code",
   "execution_count": 109,
   "metadata": {
    "scrolled": true
   },
   "outputs": [
    {
     "name": "stdout",
     "output_type": "stream",
     "text": [
      "                    Cross-Validation  Mes Separado (202106)\n",
      "Recall Promedio             0.344023               0.718466\n",
      "Precision Promedio          0.737069               0.648452\n"
     ]
    }
   ],
   "source": [
    "import pandas as pd\n",
    "\n",
    "# Métricas del training con cross-validation\n",
    "metrics_cross_val = {\n",
    "    \"Recall Promedio\": mean_recall_cv,\n",
    "    \"Precision Promedio\": mean_precision_cv\n",
    "}\n",
    "\n",
    "# Métricas del training con el mes separado\n",
    "metrics_month_separated = {\n",
    "    \"Recall Promedio\": recall_val_month,\n",
    "    \"Precision Promedio\": precision_val_month\n",
    "}\n",
    "\n",
    "# Crear un DataFrame comparativo\n",
    "comparison_df = pd.DataFrame({\n",
    "    \"Cross-Validation\": metrics_cross_val,\n",
    "    \"Mes Separado (202106)\": metrics_month_separated\n",
    "})\n",
    "\n",
    "# Mostrar el DataFrame\n",
    "print(comparison_df)\n"
   ]
  },
  {
   "cell_type": "code",
   "execution_count": 107,
   "metadata": {},
   "outputs": [
    {
     "data": {
      "text/html": [
       "<div>\n",
       "<style scoped>\n",
       "    .dataframe tbody tr th:only-of-type {\n",
       "        vertical-align: middle;\n",
       "    }\n",
       "\n",
       "    .dataframe tbody tr th {\n",
       "        vertical-align: top;\n",
       "    }\n",
       "\n",
       "    .dataframe thead tr th {\n",
       "        text-align: left;\n",
       "    }\n",
       "</style>\n",
       "<table border=\"1\" class=\"dataframe\">\n",
       "  <thead>\n",
       "    <tr>\n",
       "      <th></th>\n",
       "      <th colspan=\"4\" halign=\"left\">Cross-Validation</th>\n",
       "      <th colspan=\"4\" halign=\"left\">Mes Separado (202106)</th>\n",
       "    </tr>\n",
       "    <tr>\n",
       "      <th></th>\n",
       "      <th>Threshold</th>\n",
       "      <th>Recall</th>\n",
       "      <th>Precision</th>\n",
       "      <th>F1</th>\n",
       "      <th>Threshold</th>\n",
       "      <th>Recall</th>\n",
       "      <th>Precision</th>\n",
       "      <th>F1</th>\n",
       "    </tr>\n",
       "  </thead>\n",
       "  <tbody>\n",
       "    <tr>\n",
       "      <th>0</th>\n",
       "      <td>0.1</td>\n",
       "      <td>0.957114</td>\n",
       "      <td>0.406210</td>\n",
       "      <td>0.570355</td>\n",
       "      <td>0.1</td>\n",
       "      <td>0.957114</td>\n",
       "      <td>0.406210</td>\n",
       "      <td>0.570355</td>\n",
       "    </tr>\n",
       "    <tr>\n",
       "      <th>1</th>\n",
       "      <td>0.2</td>\n",
       "      <td>0.850151</td>\n",
       "      <td>0.548146</td>\n",
       "      <td>0.666535</td>\n",
       "      <td>0.2</td>\n",
       "      <td>0.850151</td>\n",
       "      <td>0.548146</td>\n",
       "      <td>0.666535</td>\n",
       "    </tr>\n",
       "    <tr>\n",
       "      <th>2</th>\n",
       "      <td>0.3</td>\n",
       "      <td>0.718466</td>\n",
       "      <td>0.648452</td>\n",
       "      <td>0.681666</td>\n",
       "      <td>0.3</td>\n",
       "      <td>0.718466</td>\n",
       "      <td>0.648452</td>\n",
       "      <td>0.681666</td>\n",
       "    </tr>\n",
       "    <tr>\n",
       "      <th>3</th>\n",
       "      <td>0.4</td>\n",
       "      <td>0.576186</td>\n",
       "      <td>0.725540</td>\n",
       "      <td>0.642295</td>\n",
       "      <td>0.4</td>\n",
       "      <td>0.576186</td>\n",
       "      <td>0.725540</td>\n",
       "      <td>0.642295</td>\n",
       "    </tr>\n",
       "    <tr>\n",
       "      <th>4</th>\n",
       "      <td>0.5</td>\n",
       "      <td>0.438951</td>\n",
       "      <td>0.770593</td>\n",
       "      <td>0.559306</td>\n",
       "      <td>0.5</td>\n",
       "      <td>0.438951</td>\n",
       "      <td>0.770593</td>\n",
       "      <td>0.559306</td>\n",
       "    </tr>\n",
       "    <tr>\n",
       "      <th>5</th>\n",
       "      <td>0.6</td>\n",
       "      <td>0.285066</td>\n",
       "      <td>0.780387</td>\n",
       "      <td>0.417591</td>\n",
       "      <td>0.6</td>\n",
       "      <td>0.285066</td>\n",
       "      <td>0.780387</td>\n",
       "      <td>0.417591</td>\n",
       "    </tr>\n",
       "    <tr>\n",
       "      <th>6</th>\n",
       "      <td>0.7</td>\n",
       "      <td>0.169021</td>\n",
       "      <td>0.829208</td>\n",
       "      <td>0.280805</td>\n",
       "      <td>0.7</td>\n",
       "      <td>0.169021</td>\n",
       "      <td>0.829208</td>\n",
       "      <td>0.280805</td>\n",
       "    </tr>\n",
       "    <tr>\n",
       "      <th>7</th>\n",
       "      <td>0.8</td>\n",
       "      <td>0.086276</td>\n",
       "      <td>0.859296</td>\n",
       "      <td>0.156809</td>\n",
       "      <td>0.8</td>\n",
       "      <td>0.086276</td>\n",
       "      <td>0.859296</td>\n",
       "      <td>0.156809</td>\n",
       "    </tr>\n",
       "    <tr>\n",
       "      <th>8</th>\n",
       "      <td>0.9</td>\n",
       "      <td>0.024218</td>\n",
       "      <td>0.888889</td>\n",
       "      <td>0.047151</td>\n",
       "      <td>0.9</td>\n",
       "      <td>0.024218</td>\n",
       "      <td>0.888889</td>\n",
       "      <td>0.047151</td>\n",
       "    </tr>\n",
       "  </tbody>\n",
       "</table>\n",
       "</div>"
      ],
      "text/plain": [
       "  Cross-Validation                               Mes Separado (202106)  \\\n",
       "         Threshold    Recall Precision        F1             Threshold   \n",
       "0              0.1  0.957114  0.406210  0.570355                   0.1   \n",
       "1              0.2  0.850151  0.548146  0.666535                   0.2   \n",
       "2              0.3  0.718466  0.648452  0.681666                   0.3   \n",
       "3              0.4  0.576186  0.725540  0.642295                   0.4   \n",
       "4              0.5  0.438951  0.770593  0.559306                   0.5   \n",
       "5              0.6  0.285066  0.780387  0.417591                   0.6   \n",
       "6              0.7  0.169021  0.829208  0.280805                   0.7   \n",
       "7              0.8  0.086276  0.859296  0.156809                   0.8   \n",
       "8              0.9  0.024218  0.888889  0.047151                   0.9   \n",
       "\n",
       "                                 \n",
       "     Recall Precision        F1  \n",
       "0  0.957114  0.406210  0.570355  \n",
       "1  0.850151  0.548146  0.666535  \n",
       "2  0.718466  0.648452  0.681666  \n",
       "3  0.576186  0.725540  0.642295  \n",
       "4  0.438951  0.770593  0.559306  \n",
       "5  0.285066  0.780387  0.417591  \n",
       "6  0.169021  0.829208  0.280805  \n",
       "7  0.086276  0.859296  0.156809  \n",
       "8  0.024218  0.888889  0.047151  "
      ]
     },
     "execution_count": 107,
     "metadata": {},
     "output_type": "execute_result"
    }
   ],
   "source": [
    "import numpy as np\n",
    "import pandas as pd\n",
    "from sklearn.metrics import f1_score, precision_score, recall_score\n",
    "\n",
    "# Define un rango de thresholds\n",
    "thresholds = np.linspace(0.1, 0.9, 9)\n",
    "\n",
    "# Resultados para cross-validation y mes separado\n",
    "metrics_cross_val = []\n",
    "metrics_month_separated = []\n",
    "\n",
    "# Calcular métricas para cada threshold\n",
    "for threshold in thresholds:\n",
    "    # Predicciones binarias para cross-validation (simulando)\n",
    "    y_pred_cross_val = (model.predict(X_val_month, num_iteration=model.best_iteration) > threshold).astype(int)\n",
    "    recall_cv = recall_score(y_val_month, y_pred_cross_val)\n",
    "    precision_cv = precision_score(y_val_month, y_pred_cross_val)\n",
    "    f1_cv = f1_score(y_val_month, y_pred_cross_val)\n",
    "\n",
    "    metrics_cross_val.append({\"Threshold\": threshold, \"Recall\": recall_cv, \"Precision\": precision_cv, \"F1\": f1_cv})\n",
    "\n",
    "    # Predicciones binarias para el mes separado\n",
    "    y_pred_month = (model.predict(X_val_month, num_iteration=model.best_iteration) > threshold).astype(int)\n",
    "    recall_month = recall_score(y_val_month, y_pred_month)\n",
    "    precision_month = precision_score(y_val_month, y_pred_month)\n",
    "    f1_month = f1_score(y_val_month, y_pred_month)\n",
    "\n",
    "    metrics_month_separated.append({\"Threshold\": threshold, \"Recall\": recall_month, \"Precision\": precision_month, \"F1\": f1_month})\n",
    "\n",
    "# Convertir a DataFrames\n",
    "df_cross_val = pd.DataFrame(metrics_cross_val)\n",
    "df_month_separated = pd.DataFrame(metrics_month_separated)\n",
    "\n",
    "# Combinar ambas tablas para comparar\n",
    "comparison_df = pd.concat([df_cross_val, df_month_separated], axis=1, keys=[\"Cross-Validation\", \"Mes Separado (202106)\"])\n",
    "\n",
    "comparison_df\n"
   ]
  },
  {
   "cell_type": "code",
   "execution_count": 70,
   "metadata": {
    "id": "0lWWxwHhs2gp"
   },
   "outputs": [
    {
     "data": {
      "text/plain": [
       "<lightgbm.basic.Booster at 0x709562fbc770>"
      ]
     },
     "execution_count": 70,
     "metadata": {},
     "output_type": "execute_result"
    }
   ],
   "source": [
    "model_cv.save_model(modelos_path + 'lgb_second9.txt')"
   ]
  },
  {
   "cell_type": "markdown",
   "metadata": {
    "id": "iHIUeAdsGOWv"
   },
   "source": [
    "Y recuperar el mismo desde ese formato"
   ]
  },
  {
   "cell_type": "code",
   "execution_count": 73,
   "metadata": {
    "id": "H12h5wP2s645"
   },
   "outputs": [],
   "source": [
    "model = lgb.Booster(model_file=modelos_path + 'lgb_second9.txt')"
   ]
  },
  {
   "cell_type": "markdown",
   "metadata": {
    "id": "y_-xspdWGSwT"
   },
   "source": [
    "Para realizar nuestra habitual comparación de modelos, partiremos desde el mejor que obtuvimos hasta ahora, el **rf**. Para este fin cargaremos el *binario* que ajustamos un par de clases atrás:"
   ]
  },
  {
   "cell_type": "markdown",
   "metadata": {
    "id": "28TQpPlIGi6a"
   },
   "source": [
    "Y sobre ambos modelos obtenemos la predicción de **Septiembre**"
   ]
  },
  {
   "cell_type": "markdown",
   "metadata": {},
   "source": [
    "### Predicción de X_test"
   ]
  },
  {
   "cell_type": "code",
   "execution_count": null,
   "metadata": {},
   "outputs": [
    {
     "name": "stdout",
     "output_type": "stream",
     "text": [
      "Accuracy: 0.9347458840372226\n",
      "Precision: 0.27521679598356913\n",
      "Recall: 0.4659969088098918\n",
      "F1 Score: 0.3460545193687231\n"
     ]
    }
   ],
   "source": [
    "from sklearn.metrics import precision_recall_curve\n",
    "\n",
    "# Calcular las probabilidades para el conjunto de prueba\n",
    "y_test_prob = model.predict(X_test)\n",
    "\n",
    "\n",
    "# Convertir probabilidades en predicciones binarias\n",
    "threshold = 0.3  # Puedes ajustar este umbral si es necesario\n",
    "y_test_pred = (y_test_prob >= threshold).astype(int)\n",
    "\n",
    "\n",
    "from sklearn.metrics import accuracy_score, precision_score, recall_score, f1_score, confusion_matrix\n",
    "\n",
    "# Calcular métricas\n",
    "accuracy = accuracy_score(y_test_binaria1, y_test_pred)\n",
    "precision = precision_score(y_test_binaria1, y_test_pred)\n",
    "recall = recall_score(y_test_binaria1, y_test_pred)\n",
    "f1 = f1_score(y_test_binaria1, y_test_pred)\n",
    "\n",
    "# Imprimir métricas\n",
    "print(\"Accuracy:\", accuracy)\n",
    "print(\"Precision:\", precision)\n",
    "print(\"Recall:\", recall)\n",
    "print(\"F1 Score:\", f1)\n",
    "\n",
    "from sklearn.metrics import confusion_matrix, ConfusionMatrixDisplay\n",
    "\n",
    "# Calcular la matriz de confusión\n",
    "conf_matrix = confusion_matrix(y_test_binaria1, y_test_pred)\n",
    "\n",
    "# Etiquetas de las clases (puedes personalizarlas según corresponda)\n",
    "class_labels = [\"Clase Negativa\", \"Clase Positiva\"]\n",
    "\n",
    "# Mostrar la matriz de confusión con etiquetas\n",
    "disp = ConfusionMatrixDisplay(confusion_matrix=conf_matrix, display_labels=class_labels)\n",
    "disp.plot(cmap=\"Blues\", values_format=\"d\")  # `values_format=\"d\"` muestra valores enteros\n",
    "plt.title(\"Matriz de Confusión\")\n",
    "plt.show()\n",
    "\n"
   ]
  },
  {
   "cell_type": "code",
   "execution_count": 40,
   "metadata": {},
   "outputs": [
    {
     "data": {
      "text/html": [
       "<div>\n",
       "<style scoped>\n",
       "    .dataframe tbody tr th:only-of-type {\n",
       "        vertical-align: middle;\n",
       "    }\n",
       "\n",
       "    .dataframe tbody tr th {\n",
       "        vertical-align: top;\n",
       "    }\n",
       "\n",
       "    .dataframe thead th {\n",
       "        text-align: right;\n",
       "    }\n",
       "</style>\n",
       "<table border=\"1\" class=\"dataframe\">\n",
       "  <thead>\n",
       "    <tr style=\"text-align: right;\">\n",
       "      <th></th>\n",
       "      <th>numero_de_cliente</th>\n",
       "      <th>foto_mes</th>\n",
       "      <th>y_test_prob</th>\n",
       "      <th>y_test_pred</th>\n",
       "      <th>y_test_real</th>\n",
       "    </tr>\n",
       "  </thead>\n",
       "  <tbody>\n",
       "    <tr>\n",
       "      <th>0</th>\n",
       "      <td>946449350</td>\n",
       "      <td>202107</td>\n",
       "      <td>0.001290</td>\n",
       "      <td>0</td>\n",
       "      <td>0</td>\n",
       "    </tr>\n",
       "    <tr>\n",
       "      <th>1</th>\n",
       "      <td>549625262</td>\n",
       "      <td>202107</td>\n",
       "      <td>0.000199</td>\n",
       "      <td>0</td>\n",
       "      <td>0</td>\n",
       "    </tr>\n",
       "    <tr>\n",
       "      <th>3</th>\n",
       "      <td>336314255</td>\n",
       "      <td>202107</td>\n",
       "      <td>0.568580</td>\n",
       "      <td>1</td>\n",
       "      <td>0</td>\n",
       "    </tr>\n",
       "    <tr>\n",
       "      <th>4</th>\n",
       "      <td>571072377</td>\n",
       "      <td>202107</td>\n",
       "      <td>0.002347</td>\n",
       "      <td>0</td>\n",
       "      <td>0</td>\n",
       "    </tr>\n",
       "    <tr>\n",
       "      <th>5</th>\n",
       "      <td>872241468</td>\n",
       "      <td>202107</td>\n",
       "      <td>0.033334</td>\n",
       "      <td>0</td>\n",
       "      <td>0</td>\n",
       "    </tr>\n",
       "    <tr>\n",
       "      <th>...</th>\n",
       "      <td>...</td>\n",
       "      <td>...</td>\n",
       "      <td>...</td>\n",
       "      <td>...</td>\n",
       "      <td>...</td>\n",
       "    </tr>\n",
       "    <tr>\n",
       "      <th>34920</th>\n",
       "      <td>848749393</td>\n",
       "      <td>202107</td>\n",
       "      <td>0.093030</td>\n",
       "      <td>1</td>\n",
       "      <td>0</td>\n",
       "    </tr>\n",
       "    <tr>\n",
       "      <th>34921</th>\n",
       "      <td>1075880661</td>\n",
       "      <td>202107</td>\n",
       "      <td>0.005419</td>\n",
       "      <td>0</td>\n",
       "      <td>0</td>\n",
       "    </tr>\n",
       "    <tr>\n",
       "      <th>34922</th>\n",
       "      <td>1038952511</td>\n",
       "      <td>202107</td>\n",
       "      <td>0.001309</td>\n",
       "      <td>0</td>\n",
       "      <td>0</td>\n",
       "    </tr>\n",
       "    <tr>\n",
       "      <th>34923</th>\n",
       "      <td>950661761</td>\n",
       "      <td>202107</td>\n",
       "      <td>0.006911</td>\n",
       "      <td>0</td>\n",
       "      <td>0</td>\n",
       "    </tr>\n",
       "    <tr>\n",
       "      <th>34924</th>\n",
       "      <td>883441022</td>\n",
       "      <td>202107</td>\n",
       "      <td>0.019639</td>\n",
       "      <td>0</td>\n",
       "      <td>0</td>\n",
       "    </tr>\n",
       "  </tbody>\n",
       "</table>\n",
       "<p>33631 rows × 5 columns</p>\n",
       "</div>"
      ],
      "text/plain": [
       "       numero_de_cliente  foto_mes  y_test_prob  y_test_pred  y_test_real\n",
       "0              946449350    202107     0.001290            0            0\n",
       "1              549625262    202107     0.000199            0            0\n",
       "3              336314255    202107     0.568580            1            0\n",
       "4              571072377    202107     0.002347            0            0\n",
       "5              872241468    202107     0.033334            0            0\n",
       "...                  ...       ...          ...          ...          ...\n",
       "34920          848749393    202107     0.093030            1            0\n",
       "34921         1075880661    202107     0.005419            0            0\n",
       "34922         1038952511    202107     0.001309            0            0\n",
       "34923          950661761    202107     0.006911            0            0\n",
       "34924          883441022    202107     0.019639            0            0\n",
       "\n",
       "[33631 rows x 5 columns]"
      ]
     },
     "execution_count": 40,
     "metadata": {},
     "output_type": "execute_result"
    }
   ],
   "source": [
    "# Crear un DataFrame con las columnas seleccionadas\n",
    "filtered_results_df = X_test[['numero_de_cliente', 'foto_mes']].copy()\n",
    "\n",
    "# Agregar las columnas de resultados\n",
    "filtered_results_df['y_test_prob'] = y_test_prob\n",
    "filtered_results_df['y_test_pred'] = y_test_pred\n",
    "filtered_results_df['y_test_real'] = y_test_binaria1.values\n",
    "\n",
    "# Aplicar filtro para dejar solo los y_test_real = 1\n",
    "filtered_results_df = filtered_results_df[filtered_results_df['y_test_real'] == 0]\n",
    "\n",
    "# Mostrar las primeras filas del DataFrame\n",
    "filtered_results_df\n",
    "\n",
    "\n"
   ]
  },
  {
   "cell_type": "code",
   "execution_count": 47,
   "metadata": {},
   "outputs": [
    {
     "data": {
      "text/plain": [
       "y_test_pred\n",
       "0    27959\n",
       "1     5672\n",
       "Name: count, dtype: int64"
      ]
     },
     "execution_count": 47,
     "metadata": {},
     "output_type": "execute_result"
    }
   ],
   "source": [
    "filtered_results_df.y_test_pred.value_counts()"
   ]
  },
  {
   "cell_type": "markdown",
   "metadata": {},
   "source": [
    "### Predicción Objetivo"
   ]
  },
  {
   "cell_type": "code",
   "execution_count": 170,
   "metadata": {},
   "outputs": [],
   "source": [
    "from sklearn.metrics import precision_recall_curve\n",
    "\n",
    "# Realizar predicciones para 202109\n",
    "# y_Septiembre_prob = model.predict(Septiembre_pre)\n",
    "\n",
    "\n",
    "# Convertir probabilidades en predicciones binarias\n",
    "threshold = 0.021  # Puedes ajustar este umbral si es necesario (Threshold optimo 0.47)\n",
    "y_Septiembre_pred = (y_Septiembre_prob >= threshold).astype(int)\n",
    "\n",
    "\n",
    "\n",
    "\n"
   ]
  },
  {
   "cell_type": "code",
   "execution_count": 171,
   "metadata": {},
   "outputs": [
    {
     "name": "stderr",
     "output_type": "stream",
     "text": [
      "/tmp/ipykernel_2083/1169103488.py:8: SettingWithCopyWarning:\n",
      "\n",
      "\n",
      "A value is trying to be set on a copy of a slice from a DataFrame\n",
      "\n",
      "See the caveats in the documentation: https://pandas.pydata.org/pandas-docs/stable/user_guide/indexing.html#returning-a-view-versus-a-copy\n",
      "\n"
     ]
    },
    {
     "data": {
      "text/html": [
       "<div>\n",
       "<style scoped>\n",
       "    .dataframe tbody tr th:only-of-type {\n",
       "        vertical-align: middle;\n",
       "    }\n",
       "\n",
       "    .dataframe tbody tr th {\n",
       "        vertical-align: top;\n",
       "    }\n",
       "\n",
       "    .dataframe thead th {\n",
       "        text-align: right;\n",
       "    }\n",
       "</style>\n",
       "<table border=\"1\" class=\"dataframe\">\n",
       "  <thead>\n",
       "    <tr style=\"text-align: right;\">\n",
       "      <th></th>\n",
       "      <th>numero_de_cliente</th>\n",
       "      <th>Predicted</th>\n",
       "    </tr>\n",
       "  </thead>\n",
       "  <tbody>\n",
       "    <tr>\n",
       "      <th>8</th>\n",
       "      <td>249221109</td>\n",
       "      <td>0</td>\n",
       "    </tr>\n",
       "    <tr>\n",
       "      <th>17</th>\n",
       "      <td>249221468</td>\n",
       "      <td>0</td>\n",
       "    </tr>\n",
       "    <tr>\n",
       "      <th>26</th>\n",
       "      <td>249223005</td>\n",
       "      <td>0</td>\n",
       "    </tr>\n",
       "    <tr>\n",
       "      <th>43</th>\n",
       "      <td>249232117</td>\n",
       "      <td>0</td>\n",
       "    </tr>\n",
       "    <tr>\n",
       "      <th>52</th>\n",
       "      <td>249236712</td>\n",
       "      <td>0</td>\n",
       "    </tr>\n",
       "    <tr>\n",
       "      <th>...</th>\n",
       "      <td>...</td>\n",
       "      <td>...</td>\n",
       "    </tr>\n",
       "    <tr>\n",
       "      <th>1478179</th>\n",
       "      <td>1606470344</td>\n",
       "      <td>0</td>\n",
       "    </tr>\n",
       "    <tr>\n",
       "      <th>1478180</th>\n",
       "      <td>1606478730</td>\n",
       "      <td>0</td>\n",
       "    </tr>\n",
       "    <tr>\n",
       "      <th>1478181</th>\n",
       "      <td>1606600592</td>\n",
       "      <td>0</td>\n",
       "    </tr>\n",
       "    <tr>\n",
       "      <th>1478182</th>\n",
       "      <td>1606610942</td>\n",
       "      <td>1</td>\n",
       "    </tr>\n",
       "    <tr>\n",
       "      <th>1478183</th>\n",
       "      <td>1606636903</td>\n",
       "      <td>0</td>\n",
       "    </tr>\n",
       "  </tbody>\n",
       "</table>\n",
       "<p>165644 rows × 2 columns</p>\n",
       "</div>"
      ],
      "text/plain": [
       "         numero_de_cliente  Predicted\n",
       "8                249221109          0\n",
       "17               249221468          0\n",
       "26               249223005          0\n",
       "43               249232117          0\n",
       "52               249236712          0\n",
       "...                    ...        ...\n",
       "1478179         1606470344          0\n",
       "1478180         1606478730          0\n",
       "1478181         1606600592          0\n",
       "1478182         1606610942          1\n",
       "1478183         1606636903          0\n",
       "\n",
       "[165644 rows x 2 columns]"
      ]
     },
     "execution_count": 171,
     "metadata": {},
     "output_type": "execute_result"
    }
   ],
   "source": [
    "Septiembre_pre['Prediction'] = y_Septiembre_pred\n",
    "\n",
    "\n",
    "# Filtrar el DataFrame para quedarte solo con 'numero_de_cliente' y 'prediccion'\n",
    "result_septiembre = Septiembre_pre[['numero_de_cliente', 'Prediction']]\n",
    "\n",
    "# Renombrar la columna 'prediccion' a 'Predicted' si es necesario\n",
    "result_septiembre.rename(columns={'Prediction': 'Predicted'}, inplace=True)\n",
    "\n",
    "# Ver las primeras filas del DataFrame resultante\n",
    "result_septiembre\n"
   ]
  },
  {
   "cell_type": "code",
   "execution_count": 172,
   "metadata": {},
   "outputs": [
    {
     "name": "stdout",
     "output_type": "stream",
     "text": [
      "Conteo agrupado por predicción:\n",
      "Predicted\n",
      "0    155439\n",
      "1     10205\n",
      "dtype: int64\n"
     ]
    }
   ],
   "source": [
    "grouped_counts = result_septiembre.groupby('Predicted').size()\n",
    "print(\"Conteo agrupado por predicción:\")\n",
    "print(grouped_counts)\n"
   ]
  },
  {
   "cell_type": "code",
   "execution_count": 173,
   "metadata": {},
   "outputs": [],
   "source": [
    "# Especificar la ruta completa del archivo donde deseas guardar el DataFrame\n",
    "output_file = dataset_path + \"predicciones_Septiembre5.csv\"\n",
    "\n",
    "# Guardar el DataFrame como un archivo CSV en la ruta \n",
    "result_septiembre.to_csv('predicciones_septiembre5.csv', index=False)"
   ]
  },
  {
   "cell_type": "code",
   "execution_count": null,
   "metadata": {
    "scrolled": true
   },
   "outputs": [],
   "source": [
    "import matplotlib.pyplot as plt\n",
    "\n",
    "plt.hist(predict_data['probabilidad'], bins=50, alpha=0.7, color='blue')\n",
    "plt.title(\"Distribución de probabilidades predichas\")\n",
    "plt.xlabel(\"Probabilidad\")\n",
    "plt.ylabel(\"Frecuencia\")\n",
    "plt.grid(alpha=0.3)\n",
    "plt.show()\n"
   ]
  },
  {
   "cell_type": "code",
   "execution_count": null,
   "metadata": {},
   "outputs": [],
   "source": [
    "import seaborn as sns\n",
    "\n",
    "for column in X_train.columns[:5]:  # Analiza las primeras 5 características\n",
    "    plt.figure(figsize=(8, 4))\n",
    "    sns.kdeplot(train_data[column], label=\"Train\", shade=True)\n",
    "    sns.kdeplot(predict_data[column], label=\"Predict\", shade=True)\n",
    "    plt.title(f\"Distribución de {column}\")\n",
    "    plt.legend()\n",
    "    plt.show()\n"
   ]
  },
  {
   "cell_type": "code",
   "execution_count": null,
   "metadata": {},
   "outputs": [],
   "source": []
  },
  {
   "cell_type": "code",
   "execution_count": null,
   "metadata": {},
   "outputs": [],
   "source": []
  }
 ],
 "metadata": {
  "colab": {
   "provenance": []
  },
  "kernelspec": {
   "display_name": "Python 3 (ipykernel)",
   "language": "python",
   "name": "python3"
  },
  "language_info": {
   "codemirror_mode": {
    "name": "ipython",
    "version": 3
   },
   "file_extension": ".py",
   "mimetype": "text/x-python",
   "name": "python",
   "nbconvert_exporter": "python",
   "pygments_lexer": "ipython3",
   "version": "3.12.3"
  }
 },
 "nbformat": 4,
 "nbformat_minor": 4
}
